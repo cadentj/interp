{
 "cells": [
  {
   "cell_type": "code",
   "execution_count": 3,
   "metadata": {},
   "outputs": [
    {
     "data": {
      "text/plain": [
       "<torch.autograd.grad_mode.set_grad_enabled at 0x7fcf9da94650>"
      ]
     },
     "execution_count": 3,
     "metadata": {},
     "output_type": "execute_result"
    }
   ],
   "source": [
    "import sys\n",
    "import torch\n",
    "from nnsight import LanguageModel\n",
    "\n",
    "sys.path.append(\"../../autointerp/mats_sae_training\")\n",
    "\n",
    "from sae_training.sparse_autoencoder import SparseAutoencoder\n",
    "\n",
    "torch.set_grad_enabled(False)"
   ]
  },
  {
   "cell_type": "code",
   "execution_count": 4,
   "metadata": {},
   "outputs": [
    {
     "name": "stdout",
     "output_type": "stream",
     "text": [
      "Loaded dictionaries\n"
     ]
    }
   ],
   "source": [
    "from huggingface_hub import hf_hub_download\n",
    "\n",
    "REPO_ID = \"jbloom/GPT2-Small-SAEs\"\n",
    "\n",
    "sae_list = []\n",
    "n_layers = 12\n",
    "\n",
    "\n",
    "for layer in range(n_layers):\n",
    "    filename =  f\"final_sparse_autoencoder_gpt2-small_blocks.{layer}.hook_resid_pre_24576.pt\"\n",
    "\n",
    "    save_path = f\"../../autointerp/jbloom_dictionaries/{filename}\"\n",
    "    sae = SparseAutoencoder.load_from_pretrained(save_path)\n",
    "    sae.to(\"cuda:0\")\n",
    "    \n",
    "    sae_list.append(sae)\n",
    "\n",
    "print(\"Loaded dictionaries\")"
   ]
  },
  {
   "cell_type": "code",
   "execution_count": 5,
   "metadata": {},
   "outputs": [],
   "source": [
    "model = LanguageModel(\"openai-community/gpt2\", device_map=\"cuda:0\", dispatch=True)"
   ]
  },
  {
   "cell_type": "code",
   "execution_count": 7,
   "metadata": {},
   "outputs": [
    {
     "data": {
      "text/plain": [
       "SparseAutoencoder(\n",
       "  (hook_sae_in): HookPoint()\n",
       "  (hook_hidden_pre): HookPoint()\n",
       "  (hook_hidden_post): HookPoint()\n",
       "  (hook_sae_out): HookPoint()\n",
       ")"
      ]
     },
     "execution_count": 7,
     "metadata": {},
     "output_type": "execute_result"
    }
   ],
   "source": [
    "sae_list[8]"
   ]
  },
  {
   "cell_type": "code",
   "execution_count": null,
   "metadata": {},
   "outputs": [],
   "source": [
    "prompt = \" to firearms. LEGISLATIVE COUNSEL'S DIGEST AB\"\n",
    "\n",
    "with model.trace(prompt):\n",
    "    activations = model.transformer.h[8].input[0][0]\n",
    "    middle = sae_list[8](activations)\n",
    "\n",
    "    acts = middle[1][:,:,7504]\n",
    "    acts.save()"
   ]
  },
  {
   "cell_type": "code",
   "execution_count": null,
   "metadata": {},
   "outputs": [],
   "source": [
    "with model.trace(\" \"):\n",
    "    activations = model.transformer.h[8].input[0][0]\n",
    "    middle = sae_list[8](activations)\n",
    "    middle \n",
    "\n",
    "    acts = middle[1][:,:,7504]\n",
    "    acts.save()"
   ]
  }
 ],
 "metadata": {
  "kernelspec": {
   "display_name": "interp",
   "language": "python",
   "name": "python3"
  },
  "language_info": {
   "codemirror_mode": {
    "name": "ipython",
    "version": 3
   },
   "file_extension": ".py",
   "mimetype": "text/x-python",
   "name": "python",
   "nbconvert_exporter": "python",
   "pygments_lexer": "ipython3",
   "version": "3.11.7"
  }
 },
 "nbformat": 4,
 "nbformat_minor": 2
}
