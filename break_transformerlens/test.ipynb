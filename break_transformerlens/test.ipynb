{
 "cells": [
  {
   "cell_type": "code",
   "execution_count": 1,
   "metadata": {},
   "outputs": [
    {
     "name": "stderr",
     "output_type": "stream",
     "text": [
      "/share/u/caden/.conda/envs/interp/lib/python3.8/site-packages/tqdm/auto.py:21: TqdmWarning: IProgress not found. Please update jupyter and ipywidgets. See https://ipywidgets.readthedocs.io/en/stable/user_install.html\n",
      "  from .autonotebook import tqdm as notebook_tqdm\n"
     ]
    }
   ],
   "source": [
    "import loading_from_pretrained as loading\n",
    "import torch as t"
   ]
  },
  {
   "cell_type": "code",
   "execution_count": 2,
   "metadata": {},
   "outputs": [],
   "source": [
    "checkpoint_index = None\n",
    "checkpoint_value = None\n",
    "fold_ln = False\n",
    "device = \"cuda:0\"\n",
    "n_devices = 1\n",
    "dtype = t.float32\n",
    "default_prepend_bos = False\n",
    "\n",
    "official_model_name = \"gpt2\"\n",
    "\n",
    "cfg = loading.get_pretrained_model_config(\n",
    "        official_model_name,\n",
    "        checkpoint_index=checkpoint_index,\n",
    "        checkpoint_value=checkpoint_value,\n",
    "        fold_ln=fold_ln,\n",
    "        device=device,\n",
    "        n_devices=n_devices,\n",
    "        default_prepend_bos=default_prepend_bos,\n",
    "        dtype=dtype,\n",
    "        # **from_pretrained_kwargs,\n",
    "    )"
   ]
  },
  {
   "cell_type": "code",
   "execution_count": 3,
   "metadata": {},
   "outputs": [],
   "source": [
    "hf_model = None\n",
    "\n",
    "state_dict = loading.get_pretrained_state_dict(\n",
    "    official_model_name, cfg, hf_model, dtype=dtype, \n",
    "    # **from_pretrained_kwargs\n",
    ")"
   ]
  },
  {
   "cell_type": "code",
   "execution_count": 4,
   "metadata": {},
   "outputs": [],
   "source": [
    "import nnsight\n",
    "\n",
    "nnmodel = nnsight.LanguageModel(\"gpt2\", device_map=\"cuda:0\")\n",
    "tokenizer = nnmodel.tokenizer"
   ]
  },
  {
   "cell_type": "code",
   "execution_count": 5,
   "metadata": {},
   "outputs": [],
   "source": [
    "import UnifiedTransformer\n",
    "\n",
    "default_padding_side = \"right\"\n",
    "\n",
    "model = UnifiedTransformer.UnifiedTransformer(\n",
    "    cfg,\n",
    "    tokenizer,\n",
    "    move_to_device=True,\n",
    "    default_padding_side=default_padding_side,\n",
    ")"
   ]
  },
  {
   "cell_type": "code",
   "execution_count": 6,
   "metadata": {},
   "outputs": [],
   "source": [
    "center_writing_weights = True\n",
    "center_unembed = True\n",
    "fold_value_biases = True\n",
    "refactor_factored_attn_matrices = False\n",
    "\n",
    "model.load_and_process_state_dict(\n",
    "    state_dict,\n",
    "    fold_ln=False,\n",
    "    center_writing_weights=center_writing_weights,\n",
    "    center_unembed=center_unembed,\n",
    "    fold_value_biases=fold_value_biases,\n",
    "    refactor_factored_attn_matrices=True,\n",
    ")"
   ]
  },
  {
   "cell_type": "code",
   "execution_count": 7,
   "metadata": {},
   "outputs": [],
   "source": [
    "model.device = t.device(\"cuda:0\")"
   ]
  },
  {
   "cell_type": "code",
   "execution_count": 8,
   "metadata": {},
   "outputs": [
    {
     "data": {
      "text/plain": [
       "UnifiedTransformer(\n",
       "  (embed): Embed()\n",
       "  (pos_embed): PosEmbed()\n",
       "  (blocks): ModuleList(\n",
       "    (0-11): 12 x TransformerBlock(\n",
       "      (ln1): LayerNorm(\n",
       "        (scale_factor): Nneuron(param_shape=None)\n",
       "        (normalized): Nneuron(param_shape=None)\n",
       "      )\n",
       "      (ln2): LayerNorm(\n",
       "        (scale_factor): Nneuron(param_shape=None)\n",
       "        (normalized): Nneuron(param_shape=None)\n",
       "      )\n",
       "      (attn): Attention(\n",
       "        (k): Nneuron(param_shape=None)\n",
       "        (q): Nneuron(param_shape=None)\n",
       "        (v): Nneuron(param_shape=None)\n",
       "        (z): Nneuron(param_shape=None)\n",
       "        (attn_scores): Nneuron(param_shape=None)\n",
       "        (pattern): Nneuron(param_shape=None)\n",
       "        (result): Nneuron(param_shape=None)\n",
       "      )\n",
       "      (mlp): MLP()\n",
       "    )\n",
       "  )\n",
       "  (ln_final): LayerNorm(\n",
       "    (scale_factor): Nneuron(param_shape=None)\n",
       "    (normalized): Nneuron(param_shape=None)\n",
       "  )\n",
       "  (unembed): Unembed()\n",
       ")"
      ]
     },
     "execution_count": 8,
     "metadata": {},
     "output_type": "execute_result"
    }
   ],
   "source": [
    "model"
   ]
  },
  {
   "cell_type": "code",
   "execution_count": 9,
   "metadata": {},
   "outputs": [
    {
     "name": "stdout",
     "output_type": "stream",
     "text": [
      "Moving model to device:  meta\n"
     ]
    },
    {
     "name": "stderr",
     "output_type": "stream",
     "text": [
      "You're using a GPT2TokenizerFast tokenizer. Please note that with a fast tokenizer, using the `__call__` method is faster than using a method to encode the text followed by a call to the `pad` method to get a padded encoding.\n"
     ]
    },
    {
     "name": "stdout",
     "output_type": "stream",
     "text": [
      "tensor([[  198, 35143,   293,   198,   257,   262,  3504,   286,  2986]],\n",
      "       device='cuda:0')\n",
      "\n",
      " Shuttlele\n",
      " a the middle of San\n"
     ]
    }
   ],
   "source": [
    "nnsight_model = nnsight.LanguageModel(model, tokenizer=tokenizer, device_map=\"cuda:0\")\n",
    "\n",
    "with nnsight_model.invoke(\"The Space Needle is in the city of\") as invoker:\n",
    "    pass\n",
    "\n",
    "print(invoker.output.softmax(-1).argmax(-1))\n",
    "for t in invoker.output.softmax(-1).argmax(-1):\n",
    "    out = tokenizer.decode(t)\n",
    "    print(out)"
   ]
  },
  {
   "cell_type": "code",
   "execution_count": 10,
   "metadata": {},
   "outputs": [
    {
     "data": {
      "text/plain": [
       "UnifiedTransformer(\n",
       "  (embed): Embed()\n",
       "  (pos_embed): PosEmbed()\n",
       "  (blocks): ModuleList(\n",
       "    (0-11): 12 x TransformerBlock(\n",
       "      (ln1): LayerNorm(\n",
       "        (scale_factor): Nneuron(param_shape=(1, 9, 1))\n",
       "        (normalized): Nneuron(param_shape=(1, 9, 768))\n",
       "      )\n",
       "      (ln2): LayerNorm(\n",
       "        (scale_factor): Nneuron(param_shape=(1, 9, 1))\n",
       "        (normalized): Nneuron(param_shape=(1, 9, 768))\n",
       "      )\n",
       "      (attn): Attention(\n",
       "        (k): Nneuron(param_shape=(1, 9, 12, 64))\n",
       "        (q): Nneuron(param_shape=(1, 9, 12, 64))\n",
       "        (v): Nneuron(param_shape=(1, 9, 12, 64))\n",
       "        (z): Nneuron(param_shape=(1, 9, 12, 64))\n",
       "        (attn_scores): Nneuron(param_shape=(1, 12, 9, 9))\n",
       "        (pattern): Nneuron(param_shape=(1, 12, 9, 9))\n",
       "        (result): Nneuron(param_shape=None)\n",
       "      )\n",
       "      (mlp): MLP()\n",
       "    )\n",
       "  )\n",
       "  (ln_final): LayerNorm(\n",
       "    (scale_factor): Nneuron(param_shape=(1, 9, 1))\n",
       "    (normalized): Nneuron(param_shape=(1, 9, 768))\n",
       "  )\n",
       "  (unembed): Unembed()\n",
       ")"
      ]
     },
     "execution_count": 10,
     "metadata": {},
     "output_type": "execute_result"
    }
   ],
   "source": [
    "model"
   ]
  },
  {
   "cell_type": "code",
   "execution_count": 11,
   "metadata": {},
   "outputs": [
    {
     "name": "stderr",
     "output_type": "stream",
     "text": [
      "You're using a GPT2TokenizerFast tokenizer. Please note that with a fast tokenizer, using the `__call__` method is faster than using a method to encode the text followed by a call to the `pad` method to get a padded encoding.\n"
     ]
    },
    {
     "name": "stdout",
     "output_type": "stream",
     "text": [
      "tensor([[  198, 35143,   293,   198,   257,   262,  3504,   286,  2986]],\n",
      "       device='cuda:0')\n",
      "\n",
      " Shuttlele\n",
      " a the middle of San\n"
     ]
    }
   ],
   "source": [
    "ground_truth = nnsight.LanguageModel(\"gpt2\", device_map=\"cuda:0\")\n",
    "\n",
    "with ground_truth.invoke(\"The Space Needle is in the city of\") as invoker:\n",
    "    pass\n",
    "\n",
    "print(invoker.output[0].softmax(-1).argmax(-1))\n",
    "for t in invoker.output[0].softmax(-1).argmax(-1):\n",
    "    out = tokenizer.decode(t)\n",
    "    print(out)"
   ]
  },
  {
   "cell_type": "code",
   "execution_count": 12,
   "metadata": {},
   "outputs": [
    {
     "data": {
      "text/plain": [
       "GPT2LMHeadModel(\n",
       "  (transformer): GPT2Model(\n",
       "    (wte): Embedding(50257, 768)\n",
       "    (wpe): Embedding(1024, 768)\n",
       "    (drop): Dropout(p=0.1, inplace=False)\n",
       "    (h): ModuleList(\n",
       "      (0-11): 12 x GPT2Block(\n",
       "        (ln_1): LayerNorm((768,), eps=1e-05, elementwise_affine=True)\n",
       "        (attn): GPT2AttentionAltered(\n",
       "          (c_attn): Conv1D()\n",
       "          (c_proj): Conv1D()\n",
       "          (attn_dropout): Dropout(p=0.1, inplace=False)\n",
       "          (resid_dropout): Dropout(p=0.1, inplace=False)\n",
       "          (query): WrapperModule()\n",
       "          (key): WrapperModule()\n",
       "          (value): WrapperModule()\n",
       "        )\n",
       "        (ln_2): LayerNorm((768,), eps=1e-05, elementwise_affine=True)\n",
       "        (mlp): GPT2MLP(\n",
       "          (c_fc): Conv1D()\n",
       "          (c_proj): Conv1D()\n",
       "          (act): NewGELUActivation()\n",
       "          (dropout): Dropout(p=0.1, inplace=False)\n",
       "        )\n",
       "      )\n",
       "    )\n",
       "    (ln_f): LayerNorm((768,), eps=1e-05, elementwise_affine=True)\n",
       "  )\n",
       "  (lm_head): Linear(in_features=768, out_features=50257, bias=False)\n",
       ")"
      ]
     },
     "execution_count": 12,
     "metadata": {},
     "output_type": "execute_result"
    }
   ],
   "source": [
    "ground_truth"
   ]
  }
 ],
 "metadata": {
  "kernelspec": {
   "display_name": "interp",
   "language": "python",
   "name": "python3"
  },
  "language_info": {
   "codemirror_mode": {
    "name": "ipython",
    "version": 3
   },
   "file_extension": ".py",
   "mimetype": "text/x-python",
   "name": "python",
   "nbconvert_exporter": "python",
   "pygments_lexer": "ipython3",
   "version": "3.8.18"
  }
 },
 "nbformat": 4,
 "nbformat_minor": 2
}
