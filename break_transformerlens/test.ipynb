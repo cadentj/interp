{
 "cells": [
  {
   "cell_type": "code",
   "execution_count": 1,
   "metadata": {},
   "outputs": [
    {
     "name": "stderr",
     "output_type": "stream",
     "text": [
      "/share/u/caden/.conda/envs/interp/lib/python3.8/site-packages/tqdm/auto.py:21: TqdmWarning: IProgress not found. Please update jupyter and ipywidgets. See https://ipywidgets.readthedocs.io/en/stable/user_install.html\n",
      "  from .autonotebook import tqdm as notebook_tqdm\n"
     ]
    }
   ],
   "source": [
    "import loading_from_pretrained as loading\n",
    "import torch as t"
   ]
  },
  {
   "cell_type": "code",
   "execution_count": 2,
   "metadata": {},
   "outputs": [],
   "source": [
    "checkpoint_index = None\n",
    "checkpoint_value = None\n",
    "fold_ln = False\n",
    "device = \"cuda:0\"\n",
    "n_devices = 1\n",
    "dtype = t.float32\n",
    "default_prepend_bos = True\n",
    "\n",
    "official_model_name = \"gpt2\"\n",
    "\n",
    "cfg = loading.get_pretrained_model_config(\n",
    "        official_model_name,\n",
    "        checkpoint_index=checkpoint_index,\n",
    "        checkpoint_value=checkpoint_value,\n",
    "        fold_ln=fold_ln,\n",
    "        device=device,\n",
    "        n_devices=n_devices,\n",
    "        default_prepend_bos=default_prepend_bos,\n",
    "        dtype=dtype,\n",
    "        # **from_pretrained_kwargs,\n",
    "    )"
   ]
  },
  {
   "cell_type": "code",
   "execution_count": 3,
   "metadata": {},
   "outputs": [],
   "source": [
    "hf_model = None\n",
    "\n",
    "state_dict = loading.get_pretrained_state_dict(\n",
    "    official_model_name, cfg, hf_model, dtype=dtype, \n",
    "    # **from_pretrained_kwargs\n",
    ")"
   ]
  },
  {
   "cell_type": "code",
   "execution_count": 4,
   "metadata": {},
   "outputs": [],
   "source": [
    "import nnsight\n",
    "\n",
    "nnmodel = nnsight.LanguageModel(\"gpt2\", device_map=\"cuda:0\")\n",
    "tokenizer = nnmodel.tokenizer"
   ]
  },
  {
   "cell_type": "code",
   "execution_count": 5,
   "metadata": {},
   "outputs": [],
   "source": [
    "from UnifiedTransformer import UnifiedTransformer\n",
    "\n",
    "default_padding_side = \"right\"\n",
    "\n",
    "model = UnifiedTransformer(\n",
    "    cfg,\n",
    "    tokenizer,\n",
    "    move_to_device=False,\n",
    "    default_padding_side=default_padding_side,\n",
    ")"
   ]
  },
  {
   "cell_type": "code",
   "execution_count": 6,
   "metadata": {},
   "outputs": [],
   "source": [
    "center_writing_weights = True\n",
    "center_unembed = True\n",
    "fold_value_biases = True\n",
    "refactor_factored_attn_matrices = False\n",
    "\n",
    "model.load_and_process_state_dict(\n",
    "    state_dict,\n",
    "    fold_ln=False,\n",
    "    center_writing_weights=center_writing_weights,\n",
    "    center_unembed=center_unembed,\n",
    "    fold_value_biases=fold_value_biases,\n",
    "    refactor_factored_attn_matrices=True,\n",
    ")"
   ]
  },
  {
   "cell_type": "code",
   "execution_count": 7,
   "metadata": {},
   "outputs": [
    {
     "data": {
      "text/plain": [
       "UnifiedTransformer(\n",
       "  (embed): Embed()\n",
       "  (pos_embed): PosEmbed()\n",
       "  (hook_pos_embed): Nneuron()\n",
       "  (blocks): ModuleList(\n",
       "    (0-11): 12 x TransformerBlock(\n",
       "      (ln1): LayerNorm(\n",
       "        (hook_scale): Nneuron()\n",
       "        (hook_normalized): Nneuron()\n",
       "      )\n",
       "      (ln2): LayerNorm(\n",
       "        (hook_scale): Nneuron()\n",
       "        (hook_normalized): Nneuron()\n",
       "      )\n",
       "      (attn): Attention(\n",
       "        (hook_k): Nneuron()\n",
       "        (hook_q): Nneuron()\n",
       "        (hook_v): Nneuron()\n",
       "        (hook_z): Nneuron()\n",
       "        (hook_attn_scores): Nneuron()\n",
       "        (hook_pattern): Nneuron()\n",
       "        (hook_result): Nneuron()\n",
       "      )\n",
       "      (mlp): MLP(\n",
       "        (hook_pre): Nneuron()\n",
       "        (hook_post): Nneuron()\n",
       "      )\n",
       "      (hook_attn_in): Nneuron()\n",
       "      (hook_q_input): Nneuron()\n",
       "      (hook_k_input): Nneuron()\n",
       "      (hook_v_input): Nneuron()\n",
       "      (hook_mlp_in): Nneuron()\n",
       "      (hook_attn_out): Nneuron()\n",
       "      (hook_mlp_out): Nneuron()\n",
       "      (hook_resid_pre): Nneuron()\n",
       "      (hook_resid_mid): Nneuron()\n",
       "      (hook_resid_post): Nneuron()\n",
       "    )\n",
       "  )\n",
       "  (ln_final): LayerNorm(\n",
       "    (hook_scale): Nneuron()\n",
       "    (hook_normalized): Nneuron()\n",
       "  )\n",
       "  (unembed): Unembed()\n",
       ")"
      ]
     },
     "execution_count": 7,
     "metadata": {},
     "output_type": "execute_result"
    }
   ],
   "source": [
    "model"
   ]
  }
 ],
 "metadata": {
  "kernelspec": {
   "display_name": "interp",
   "language": "python",
   "name": "python3"
  },
  "language_info": {
   "codemirror_mode": {
    "name": "ipython",
    "version": 3
   },
   "file_extension": ".py",
   "mimetype": "text/x-python",
   "name": "python",
   "nbconvert_exporter": "python",
   "pygments_lexer": "ipython3",
   "version": "3.8.18"
  }
 },
 "nbformat": 4,
 "nbformat_minor": 2
}
