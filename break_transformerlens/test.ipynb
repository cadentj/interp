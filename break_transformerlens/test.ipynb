{
 "cells": [
  {
   "cell_type": "code",
   "execution_count": 1,
   "metadata": {},
   "outputs": [
    {
     "name": "stderr",
     "output_type": "stream",
     "text": [
      "/share/u/caden/.conda/envs/interp/lib/python3.8/site-packages/tqdm/auto.py:21: TqdmWarning: IProgress not found. Please update jupyter and ipywidgets. See https://ipywidgets.readthedocs.io/en/stable/user_install.html\n",
      "  from .autonotebook import tqdm as notebook_tqdm\n"
     ]
    }
   ],
   "source": [
    "import loading_from_pretrained as loading\n",
    "import torch as t"
   ]
  },
  {
   "cell_type": "code",
   "execution_count": 2,
   "metadata": {},
   "outputs": [],
   "source": [
    "checkpoint_index = None\n",
    "checkpoint_value = None\n",
    "fold_ln = True\n",
    "device = \"cuda:0\"\n",
    "n_devices = 1\n",
    "dtype = t.float16\n",
    "default_prepend_bos = True\n",
    "\n",
    "official_model_name = \"gpt2\"\n",
    "\n",
    "cfg = loading.get_pretrained_model_config(\n",
    "        official_model_name,\n",
    "        checkpoint_index=checkpoint_index,\n",
    "        checkpoint_value=checkpoint_value,\n",
    "        fold_ln=fold_ln,\n",
    "        device=device,\n",
    "        n_devices=n_devices,\n",
    "        default_prepend_bos=default_prepend_bos,\n",
    "        dtype=dtype,\n",
    "        # **from_pretrained_kwargs,\n",
    "    )"
   ]
  },
  {
   "cell_type": "code",
   "execution_count": 3,
   "metadata": {},
   "outputs": [],
   "source": [
    "hf_model = None\n",
    "\n",
    "state_dict = loading.get_pretrained_state_dict(\n",
    "    official_model_name, cfg, hf_model, dtype=dtype, \n",
    "    # **from_pretrained_kwargs\n",
    ")"
   ]
  },
  {
   "cell_type": "code",
   "execution_count": 4,
   "metadata": {},
   "outputs": [],
   "source": [
    "import nnsight\n",
    "\n",
    "nnmodel = nnsight.LanguageModel(\"gpt2\", device_map=\"cuda:0\")\n",
    "tokenizer = nnmodel.tokenizer"
   ]
  },
  {
   "cell_type": "code",
   "execution_count": 5,
   "metadata": {},
   "outputs": [],
   "source": [
    "from HookedTransformer import HookedTransformer\n",
    "\n",
    "default_padding_side = \"right\"\n",
    "\n",
    "model = HookedTransformer(\n",
    "    cfg,\n",
    "    tokenizer,\n",
    "    move_to_device=False,\n",
    "    default_padding_side=default_padding_side,\n",
    ")"
   ]
  },
  {
   "cell_type": "code",
   "execution_count": 14,
   "metadata": {},
   "outputs": [
    {
     "data": {
      "text/plain": [
       "TransformerBlock(\n",
       "  (ln1): LayerNormPre(\n",
       "    (hook_scale): HookPoint()\n",
       "    (hook_normalized): HookPoint()\n",
       "  )\n",
       "  (ln2): LayerNormPre(\n",
       "    (hook_scale): HookPoint()\n",
       "    (hook_normalized): HookPoint()\n",
       "  )\n",
       "  (attn): Attention(\n",
       "    (hook_k): HookPoint()\n",
       "    (hook_q): HookPoint()\n",
       "    (hook_v): HookPoint()\n",
       "    (hook_z): HookPoint()\n",
       "    (hook_attn_scores): HookPoint()\n",
       "    (hook_pattern): HookPoint()\n",
       "    (hook_result): HookPoint()\n",
       "  )\n",
       "  (mlp): MLP(\n",
       "    (hook_pre): HookPoint()\n",
       "    (hook_post): HookPoint()\n",
       "  )\n",
       "  (hook_attn_in): HookPoint()\n",
       "  (hook_q_input): HookPoint()\n",
       "  (hook_k_input): HookPoint()\n",
       "  (hook_v_input): HookPoint()\n",
       "  (hook_mlp_in): HookPoint()\n",
       "  (hook_attn_out): HookPoint()\n",
       "  (hook_mlp_out): HookPoint()\n",
       "  (hook_resid_pre): HookPoint()\n",
       "  (hook_resid_mid): HookPoint()\n",
       "  (hook_resid_post): HookPoint()\n",
       ")"
      ]
     },
     "execution_count": 14,
     "metadata": {},
     "output_type": "execute_result"
    }
   ],
   "source": [
    "model.blocks[0]"
   ]
  }
 ],
 "metadata": {
  "kernelspec": {
   "display_name": "interp",
   "language": "python",
   "name": "python3"
  },
  "language_info": {
   "codemirror_mode": {
    "name": "ipython",
    "version": 3
   },
   "file_extension": ".py",
   "mimetype": "text/x-python",
   "name": "python",
   "nbconvert_exporter": "python",
   "pygments_lexer": "ipython3",
   "version": "3.8.18"
  }
 },
 "nbformat": 4,
 "nbformat_minor": 2
}
