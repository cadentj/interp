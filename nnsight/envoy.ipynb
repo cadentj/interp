{
 "cells": [
  {
   "cell_type": "code",
   "execution_count": 50,
   "metadata": {},
   "outputs": [],
   "source": [
    "from nnsight.envoy import Envoy\n",
    "from nnsight import LanguageModel"
   ]
  },
  {
   "cell_type": "code",
   "execution_count": 51,
   "metadata": {},
   "outputs": [],
   "source": [
    "model = LanguageModel(\"openai-community/gpt2\", device_map=\"auto\")"
   ]
  },
  {
   "cell_type": "code",
   "execution_count": 52,
   "metadata": {},
   "outputs": [],
   "source": [
    "class EnvoyWrapper:\n",
    "    def __init__(self, envoy, name):\n",
    "        self.envoy = envoy  # Store the original Envoy instance\n",
    "        self._name = name   # Add a new attribute\n",
    "\n",
    "    def __getattr__(self, attr):\n",
    "        \"\"\"Delegate attribute access to the Envoy instance.\"\"\"\n",
    "        return getattr(self.envoy, attr)\n",
    "\n",
    "    def __str__(self):\n",
    "        \"\"\"Override the string representation.\"\"\"\n",
    "        return \"poop\""
   ]
  },
  {
   "cell_type": "code",
   "execution_count": 53,
   "metadata": {},
   "outputs": [],
   "source": [
    "mapping = {\n",
    "    \"wte\" : \"token_embedding\",\n",
    "    \"wpe\" : \"position_embedding\",\n",
    "    \"drop\" : \"dropout\",\n",
    "    \"h\" : \"blocks\" ,\n",
    "}"
   ]
  },
  {
   "cell_type": "code",
   "execution_count": 54,
   "metadata": {},
   "outputs": [],
   "source": [
    "def edit_envoy(envoy, name):\n",
    "    mapped_name = mapping.get(name, name)\n",
    "    envoy._name = mapped_name  # Add or modify the _name attribute\n",
    "\n",
    "    envoy = EnvoyWrapper(envoy, name)  # Wrap the Envoy instance\n",
    "    return envoy"
   ]
  },
  {
   "cell_type": "code",
   "execution_count": 55,
   "metadata": {},
   "outputs": [],
   "source": [
    "start_envoy = model._envoy.transformer.h\n",
    "test = edit_envoy(start_envoy, \"h\")"
   ]
  },
  {
   "cell_type": "code",
   "execution_count": 57,
   "metadata": {},
   "outputs": [
    {
     "name": "stdout",
     "output_type": "stream",
     "text": [
      "poop\n"
     ]
    }
   ],
   "source": [
    "print(test)"
   ]
  }
 ],
 "metadata": {
  "kernelspec": {
   "display_name": "interp",
   "language": "python",
   "name": "python3"
  },
  "language_info": {
   "codemirror_mode": {
    "name": "ipython",
    "version": 3
   },
   "file_extension": ".py",
   "mimetype": "text/x-python",
   "name": "python",
   "nbconvert_exporter": "python",
   "pygments_lexer": "ipython3",
   "version": "3.11.7"
  }
 },
 "nbformat": 4,
 "nbformat_minor": 2
}
