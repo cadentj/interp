{
 "cells": [
  {
   "cell_type": "code",
   "execution_count": 2,
   "metadata": {},
   "outputs": [
    {
     "name": "stderr",
     "output_type": "stream",
     "text": [
      "/share/u/caden/.conda/envs/interp/lib/python3.11/site-packages/tqdm/auto.py:21: TqdmWarning: IProgress not found. Please update jupyter and ipywidgets. See https://ipywidgets.readthedocs.io/en/stable/user_install.html\n",
      "  from .autonotebook import tqdm as notebook_tqdm\n"
     ]
    }
   ],
   "source": [
    "from nnsight import LanguageModel\n",
    "from nnsight.envoy import Envoy\n",
    "from nnsight.patching import Patch, Patcher"
   ]
  },
  {
   "cell_type": "code",
   "execution_count": 3,
   "metadata": {},
   "outputs": [],
   "source": [
    "from transformers.models import gpt2\n",
    "from nnsight import util\n",
    "from __future__ import annotations\n",
    "from typing import Optional, Tuple, Union\n",
    "import torch\n",
    "\n",
    "class GPT2AttentionAltered(gpt2.modeling_gpt2.GPT2Attention):\n",
    "    def __init__(self, config, is_cross_attention=False, layer_idx=None):\n",
    "        super().__init__(config, is_cross_attention, layer_idx)\n",
    "\n",
    "        self.query = util.WrapperModule()\n",
    "        self.key = util.WrapperModule()\n",
    "        self.value = util.WrapperModule()\n",
    "\n",
    "    def forward(\n",
    "        self,\n",
    "        hidden_states: Optional[Tuple[torch.FloatTensor]],\n",
    "        layer_past: Optional[Tuple[torch.Tensor]] = None,\n",
    "        attention_mask: Optional[torch.FloatTensor] = None,\n",
    "        head_mask: Optional[torch.FloatTensor] = None,\n",
    "        encoder_hidden_states: Optional[torch.Tensor] = None,\n",
    "        encoder_attention_mask: Optional[torch.FloatTensor] = None,\n",
    "        use_cache: Optional[bool] = False,\n",
    "        output_attentions: Optional[bool] = False,\n",
    "    ) -> Tuple[Union[torch.Tensor, Tuple[torch.Tensor]], ...]:\n",
    "        if encoder_hidden_states is not None:\n",
    "            if not hasattr(self, \"q_attn\"):\n",
    "                raise ValueError(\n",
    "                    \"If class is used as cross attention, the weights `q_attn` have to be defined. \"\n",
    "                    \"Please make sure to instantiate class with `GPT2Attention(..., is_cross_attention=True)`.\"\n",
    "                )\n",
    "\n",
    "            query = self.q_attn(hidden_states)\n",
    "            key, value = self.c_attn(encoder_hidden_states).split(\n",
    "                self.split_size, dim=2\n",
    "            )\n",
    "            attention_mask = encoder_attention_mask\n",
    "        else:\n",
    "            query, key, value = self.c_attn(hidden_states).split(self.split_size, dim=2)\n",
    "\n",
    "        query = self._split_heads(query, self.num_heads, self.head_dim)\n",
    "        key = self._split_heads(key, self.num_heads, self.head_dim)\n",
    "        value = self._split_heads(value, self.num_heads, self.head_dim)\n",
    "\n",
    "        # Altered -------------\n",
    "\n",
    "        query = self.query(query)\n",
    "        key = self.key(key)\n",
    "        value = self.value(value)\n",
    "\n",
    "        # ---------------------\n",
    "\n",
    "        if layer_past is not None:\n",
    "            past_key, past_value = layer_past\n",
    "            key = torch.cat((past_key, key), dim=-2)\n",
    "            value = torch.cat((past_value, value), dim=-2)\n",
    "\n",
    "        if use_cache is True:\n",
    "            present = (key, value)\n",
    "        else:\n",
    "            present = None\n",
    "\n",
    "        if self.reorder_and_upcast_attn:\n",
    "            attn_output, attn_weights = self._upcast_and_reordered_attn(\n",
    "                query, key, value, attention_mask, head_mask\n",
    "            )\n",
    "        else:\n",
    "            attn_output, attn_weights = self._attn(\n",
    "                query, key, value, attention_mask, head_mask\n",
    "            )\n",
    "\n",
    "        attn_output = self._merge_heads(attn_output, self.num_heads, self.head_dim)\n",
    "        attn_output = self.c_proj(attn_output)\n",
    "        attn_output = self.resid_dropout(attn_output)\n",
    "\n",
    "        outputs = (attn_output, present)\n",
    "        if output_attentions:\n",
    "            outputs += (attn_weights,)\n",
    "\n",
    "        return outputs  # a, present, (attentions)"
   ]
  },
  {
   "cell_type": "code",
   "execution_count": 6,
   "metadata": {},
   "outputs": [
    {
     "name": "stdout",
     "output_type": "stream",
     "text": [
      "GPT2AttentionAltered(\n",
      "  (c_attn): Conv1D()\n",
      "  (c_proj): Conv1D()\n",
      "  (attn_dropout): Dropout(p=0.1, inplace=False)\n",
      "  (resid_dropout): Dropout(p=0.1, inplace=False)\n",
      "  (query): WrapperModule()\n",
      "  (key): WrapperModule()\n",
      "  (value): WrapperModule()\n",
      ")\n",
      "GPT2AttentionAltered(\n",
      "  (c_attn): Conv1D()\n",
      "  (c_proj): Conv1D()\n",
      "  (attn_dropout): Dropout(p=0.1, inplace=False)\n",
      "  (resid_dropout): Dropout(p=0.1, inplace=False)\n",
      "  (query): WrapperModule()\n",
      "  (key): WrapperModule()\n",
      "  (value): WrapperModule()\n",
      ")\n"
     ]
    }
   ],
   "source": [
    "GPT2Patcher = Patcher(\n",
    "    [Patch(gpt2.modeling_gpt2, GPT2AttentionAltered, \"GPT2Attention\")]\n",
    ")\n",
    "\n",
    "GPT2Patcher.__enter__()\n",
    "\n",
    "model = LanguageModel(\"openai-community/gpt2\", unified=False, device_map=\"auto\")\n",
    "\n",
    "print(model._model.transformer.h[0].attn)\n",
    "\n",
    "GPT2Patcher.__exit__(None, None, None)\n",
    "\n",
    "print(model._model.transformer.h[0].attn)"
   ]
  },
  {
   "cell_type": "code",
   "execution_count": 12,
   "metadata": {},
   "outputs": [
    {
     "ename": "AttributeError",
     "evalue": "type object 'GPT2AttentionAltered' has no attribute 'weight'",
     "output_type": "error",
     "traceback": [
      "\u001b[0;31m---------------------------------------------------------------------------\u001b[0m",
      "\u001b[0;31mAttributeError\u001b[0m                            Traceback (most recent call last)",
      "Cell \u001b[0;32mIn[12], line 4\u001b[0m\n\u001b[1;32m      1\u001b[0m original_component \u001b[38;5;241m=\u001b[39m gpt2\u001b[38;5;241m.\u001b[39mmodeling_gpt2\u001b[38;5;241m.\u001b[39mGPT2Attention\n\u001b[1;32m      3\u001b[0m patched_component \u001b[38;5;241m=\u001b[39m model\u001b[38;5;241m.\u001b[39m_model\u001b[38;5;241m.\u001b[39mtransformer\u001b[38;5;241m.\u001b[39mh[\u001b[38;5;241m0\u001b[39m]\u001b[38;5;241m.\u001b[39mattn\n\u001b[0;32m----> 4\u001b[0m \u001b[43moriginal_component\u001b[49m\u001b[38;5;241;43m.\u001b[39;49m\u001b[43mweight\u001b[49m\u001b[38;5;241m.\u001b[39mdata\u001b[38;5;241m.\u001b[39mcopy_(patched_component\u001b[38;5;241m.\u001b[39mweight\u001b[38;5;241m.\u001b[39mdata)\n\u001b[1;32m      5\u001b[0m original_component\u001b[38;5;241m.\u001b[39mbias\u001b[38;5;241m.\u001b[39mdata\u001b[38;5;241m.\u001b[39mcopy_(patched_component\u001b[38;5;241m.\u001b[39mbias\u001b[38;5;241m.\u001b[39mdata)\n\u001b[1;32m      7\u001b[0m model\u001b[38;5;241m.\u001b[39m_model\u001b[38;5;241m.\u001b[39mtransformer\u001b[38;5;241m.\u001b[39mh[\u001b[38;5;241m0\u001b[39m]\u001b[38;5;241m.\u001b[39mattn \u001b[38;5;241m=\u001b[39m original_component\n",
      "\u001b[0;31mAttributeError\u001b[0m: type object 'GPT2AttentionAltered' has no attribute 'weight'"
     ]
    }
   ],
   "source": [
    "original_component = gpt2.modeling_gpt2.GPT2Attention\n",
    "\n",
    "patched_component = model._model.transformer.h[0].attn\n",
    "original_component.weight.data.copy_(patched_component.weight.data)\n",
    "original_component.bias.data.copy_(patched_component.bias.data)\n",
    "\n",
    "model._model.transformer.h[0].attn = original_component"
   ]
  },
  {
   "cell_type": "code",
   "execution_count": null,
   "metadata": {},
   "outputs": [],
   "source": [
    "patched_component = original_model.submodule.patched_layer\n",
    "original_component.weight.data.copy_(patched_component.weight.data)\n",
    "original_component.bias.data.copy_(patched_component.bias.data)\n",
    "\n",
    "original_model.submodule.patched_layer = original_component"
   ]
  },
  {
   "cell_type": "code",
   "execution_count": null,
   "metadata": {},
   "outputs": [],
   "source": [
    "with model.trace(\"Hello world\"):\n",
    "    query_output = model.transformer.h[0].attn.query.output.save()"
   ]
  },
  {
   "cell_type": "code",
   "execution_count": null,
   "metadata": {},
   "outputs": [],
   "source": [
    "GPT2Patcher.patches[0].restore()"
   ]
  },
  {
   "cell_type": "code",
   "execution_count": null,
   "metadata": {},
   "outputs": [],
   "source": [
    "query_output"
   ]
  },
  {
   "cell_type": "code",
   "execution_count": null,
   "metadata": {},
   "outputs": [],
   "source": [
    "gpt2.modeling_gpt2.GPT2Attention"
   ]
  },
  {
   "cell_type": "code",
   "execution_count": null,
   "metadata": {},
   "outputs": [],
   "source": [
    "model._model.transformer.h[0].__dict__"
   ]
  },
  {
   "cell_type": "code",
   "execution_count": null,
   "metadata": {},
   "outputs": [],
   "source": [
    "model._model."
   ]
  }
 ],
 "metadata": {
  "kernelspec": {
   "display_name": "interp",
   "language": "python",
   "name": "python3"
  },
  "language_info": {
   "codemirror_mode": {
    "name": "ipython",
    "version": 3
   },
   "file_extension": ".py",
   "mimetype": "text/x-python",
   "name": "python",
   "nbconvert_exporter": "python",
   "pygments_lexer": "ipython3",
   "version": "3.11.7"
  }
 },
 "nbformat": 4,
 "nbformat_minor": 2
}
