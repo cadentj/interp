{
 "cells": [
  {
   "cell_type": "code",
   "execution_count": 2,
   "metadata": {},
   "outputs": [
    {
     "name": "stdout",
     "output_type": "stream",
     "text": [
      "Loaded pretrained model gpt2-small into HookedTransformer\n"
     ]
    }
   ],
   "source": [
    "from nnsight import LanguageModel\n",
    "from nnsight.models.UnifiedTransformer import UnifiedTransformer\n",
    "\n",
    "import sys\n",
    "\n",
    "sys.path.append(\"../..\")\n",
    "\n",
    "from nngine import alter\n",
    "\n",
    "import torch \n",
    "import einops\n",
    "\n",
    "tl_model = UnifiedTransformer(\n",
    "    'gpt2-small',\n",
    "    processing=False,\n",
    "    center_writing_weights=False,\n",
    "    center_unembed=False,\n",
    "    fold_ln=False,\n",
    "    device=\"cuda\",\n",
    ")\n",
    "\n",
    "tl_model.set_use_hook_mlp_in(True)\n",
    "tl_model.set_use_split_qkv_input(True)\n",
    "tl_model.set_use_attn_result(True)\n",
    "\n",
    "tokenizer = tl_model.tokenizer\n",
    "\n",
    "model = LanguageModel(\"openai-community/gpt2\", device_map=\"auto\", dispatch=True)\n",
    "\n",
    "def test_resolution(ground_truth, sample):\n",
    "    for resolution in [1e-12, 1e-10, 1e-6, 1e-4, 1e-3, 1e-2, 1.0]:\n",
    "        pct = (sample - ground_truth > resolution).float().mean().item()\n",
    "        print(f'pct out of range {resolution:.1e} = {pct:.2%}')"
   ]
  },
  {
   "cell_type": "code",
   "execution_count": 53,
   "metadata": {},
   "outputs": [],
   "source": [
    "clean = tokenizer.encode(\"When Alan and Alex got a drink at the store, Alex decided to give it to\")\n",
    "\n",
    "with model.trace(clean):\n",
    "\n",
    "    resid_pre = model.transformer.h[0].input[0][0].grad.save()\n",
    "\n",
    "    attn_out = model.transformer.h[0].attn.output[0].grad.save()\n",
    "\n",
    "    attn_out_act = model.transformer.h[0].attn.output[0].save()\n",
    "\n",
    "    resid_mid = model.transformer.h[0].ln_2.input[0][0].clone()\n",
    "    \n",
    "    resid_mid.grad.save()\n",
    "\n",
    "    logits = model.output.logits.save()\n",
    "    value = logits[:,-1,:].sum()\n",
    "    value.backward()\n",
    "\n",
    "with tl_model.trace(clean):\n",
    "\n",
    "    tl_resid_pre = tl_model.blocks[0].hook_resid_pre.input[0][0].grad.save()\n",
    "\n",
    "    tl_attn_out = tl_model.blocks[0].hook_attn_out.output.grad.save()\n",
    "\n",
    "    tl_resid_mid = tl_model.blocks[0].hook_resid_mid.output.grad.save()\n",
    "\n",
    "    tl_mlp_in = tl_model.blocks[0].hook_mlp_in.output.grad.save()\n",
    "\n",
    "    tl_logits = tl_model.output.save()\n",
    "    tl_value = tl_logits[:,-1,:].sum()\n",
    "    tl_value.backward()"
   ]
  },
  {
   "cell_type": "code",
   "execution_count": 32,
   "metadata": {},
   "outputs": [],
   "source": [
    "clean = tokenizer.encode(\"When Alan and Alex got a drink at the store, Alex decided to give it to\")\n",
    "\n",
    "resid_pre = model.transformer.h[0]\n",
    "attn_out = model.transformer.h[0].attn\n",
    "mlp = model.transformer.h[0].mlp\n",
    "ln_2 = model.transformer.h[0].ln_2\n",
    "\n",
    "with model.trace(clean):\n",
    "\n",
    "    resid_mid = resid_pre.input[0][0] + attn_out.output[0]\n",
    "\n",
    "    mlp.input[0][0][:] = ln_2(resid_mid)\n",
    "\n",
    "    # Save mlp grad here\n",
    "    mlp_in = resid_mid.grad.save()\n",
    "\n",
    "    logits = model.output.logits.save()\n",
    "    value = logits[:,-1,:].sum()\n",
    "    value.backward()\n",
    "\n",
    "with model.trace(clean):\n",
    "\n",
    "    # This should be equivalent to mlp in\n",
    "    ln_2_grad = ln_2.input[0][0].grad.save()\n",
    "\n",
    "    logits = model.output.logits.save()\n",
    "    value = logits[:,-1,:].sum()\n",
    "    value.backward()\n",
    "\n",
    "with tl_model.trace(clean):\n",
    "\n",
    "    tl_resid_mid = tl_model.blocks[0].hook_resid_mid.output.save()\n",
    "\n",
    "    tl_mlp_in = tl_model.blocks[0].hook_mlp_in.output.grad.save()\n",
    "\n",
    "    tl_logits = tl_model.output.save()\n",
    "    tl_value = tl_logits[:,-1,:].sum()\n",
    "    tl_value.backward()"
   ]
  }
 ],
 "metadata": {
  "kernelspec": {
   "display_name": "interp",
   "language": "python",
   "name": "python3"
  },
  "language_info": {
   "codemirror_mode": {
    "name": "ipython",
    "version": 3
   },
   "file_extension": ".py",
   "mimetype": "text/x-python",
   "name": "python",
   "nbconvert_exporter": "python",
   "pygments_lexer": "ipython3",
   "version": "3.11.7"
  }
 },
 "nbformat": 4,
 "nbformat_minor": 2
}
