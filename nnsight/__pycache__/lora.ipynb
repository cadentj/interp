{
 "cells": [
  {
   "cell_type": "code",
   "execution_count": 1,
   "metadata": {},
   "outputs": [
    {
     "name": "stderr",
     "output_type": "stream",
     "text": [
      "/share/u/caden/.conda/envs/interp/lib/python3.11/site-packages/tqdm/auto.py:21: TqdmWarning: IProgress not found. Please update jupyter and ipywidgets. See https://ipywidgets.readthedocs.io/en/stable/user_install.html\n",
      "  from .autonotebook import tqdm as notebook_tqdm\n"
     ]
    }
   ],
   "source": [
    "from typing import Any\n",
    "import torch\n",
    "\n",
    "import torch.nn.functional as F\n",
    "\n",
    "from nnsight import LanguageModel, util\n",
    "from torch.utils.data import DataLoader, Dataset"
   ]
  },
  {
   "cell_type": "code",
   "execution_count": 2,
   "metadata": {},
   "outputs": [],
   "source": [
    "class LORA(torch.nn.Module):\n",
    "    def __init__(self, r: int) -> None:\n",
    "        super(LORA, self).__init__()\n",
    "        self.r = r\n",
    "\n",
    "        self.WA = torch.nn.Parameter(torch.empty(768, self.r), requires_grad=True)\n",
    "        self.WB = torch.nn.Parameter(torch.empty(self.r, 768), requires_grad=True)\n",
    "\n",
    "    def __call__(self, module_input, module_output, alpha:float=1.0) -> Any:\n",
    "\n",
    "        inp = module_input[0][0]\n",
    "        out = module_output\n",
    "\n",
    "        return (torch.matmul(torch.matmul(inp, self.WA), self.WB) + out) * alpha"
   ]
  },
  {
   "cell_type": "code",
   "execution_count": 3,
   "metadata": {},
   "outputs": [],
   "source": [
    "model = LanguageModel(\"gpt2\", device_map=\"cuda:0\")\n",
    "\n",
    "n_tokens = 10\n",
    "epochs = 3\n",
    "answer = \"Paris\"\n",
    "answer_tokens = model.tokenizer(answer)\n",
    "answer_token = answer_tokens[\"input_ids\"][0]\n",
    "\n",
    "lora = LORA(10)\n",
    "lora.to(\"cuda:0\")\n",
    "\n",
    "optimizer = torch.optim.AdamW(lora.parameters(), lr=.1)\n",
    "dataset = [[\" \".join([\"_\"] * n_tokens), answer_token]] * 100\n",
    "dataloader = DataLoader(dataset, batch_size=10)"
   ]
  },
  {
   "cell_type": "code",
   "execution_count": 4,
   "metadata": {},
   "outputs": [
    {
     "name": "stdout",
     "output_type": "stream",
     "text": [
      "0\n",
      "  0\n"
     ]
    },
    {
     "name": "stderr",
     "output_type": "stream",
     "text": [
      "You're using a GPT2TokenizerFast tokenizer. Please note that with a fast tokenizer, using the `__call__` method is faster than using a method to encode the text followed by a call to the `pad` method to get a padded encoding.\n"
     ]
    },
    {
     "name": "stdout",
     "output_type": "stream",
     "text": [
      "tensor(20.6252, device='cuda:0', grad_fn=<NllLossBackward0>)\n",
      "  1\n",
      "tensor(20.6252, device='cuda:0', grad_fn=<NllLossBackward0>)\n",
      "  2\n",
      "tensor(20.6252, device='cuda:0', grad_fn=<NllLossBackward0>)\n",
      "  3\n",
      "tensor(20.6252, device='cuda:0', grad_fn=<NllLossBackward0>)\n",
      "  4\n",
      "tensor(20.5754, device='cuda:0', grad_fn=<NllLossBackward0>)\n",
      "  5\n",
      "tensor(12.2831, device='cuda:0', grad_fn=<NllLossBackward0>)\n",
      "  6\n",
      "tensor(5.1909, device='cuda:0', grad_fn=<NllLossBackward0>)\n",
      "  7\n",
      "tensor(4.9941, device='cuda:0', grad_fn=<NllLossBackward0>)\n",
      "  8\n",
      "tensor(1.0922, device='cuda:0', grad_fn=<NllLossBackward0>)\n",
      "  9\n",
      "tensor(0.0077, device='cuda:0', grad_fn=<NllLossBackward0>)\n",
      "1\n",
      "  0\n",
      "tensor(0.0002, device='cuda:0', grad_fn=<NllLossBackward0>)\n",
      "  1\n",
      "tensor(1.5223e-05, device='cuda:0', grad_fn=<NllLossBackward0>)\n",
      "  2\n",
      "tensor(1.7881e-06, device='cuda:0', grad_fn=<NllLossBackward0>)\n",
      "  3\n",
      "tensor(2.3842e-07, device='cuda:0', grad_fn=<NllLossBackward0>)\n",
      "  4\n",
      "tensor(0., device='cuda:0', grad_fn=<NllLossBackward0>)\n",
      "  5\n",
      "tensor(0., device='cuda:0', grad_fn=<NllLossBackward0>)\n",
      "  6\n",
      "tensor(0., device='cuda:0', grad_fn=<NllLossBackward0>)\n",
      "  7\n",
      "tensor(0., device='cuda:0', grad_fn=<NllLossBackward0>)\n",
      "  8\n",
      "tensor(0., device='cuda:0', grad_fn=<NllLossBackward0>)\n",
      "  9\n",
      "tensor(0., device='cuda:0', grad_fn=<NllLossBackward0>)\n",
      "2\n",
      "  0\n",
      "tensor(0., device='cuda:0', grad_fn=<NllLossBackward0>)\n",
      "  1\n",
      "tensor(0., device='cuda:0', grad_fn=<NllLossBackward0>)\n",
      "  2\n",
      "tensor(0., device='cuda:0', grad_fn=<NllLossBackward0>)\n",
      "  3\n",
      "tensor(0., device='cuda:0', grad_fn=<NllLossBackward0>)\n",
      "  4\n",
      "tensor(0., device='cuda:0', grad_fn=<NllLossBackward0>)\n",
      "  5\n",
      "tensor(0., device='cuda:0', grad_fn=<NllLossBackward0>)\n",
      "  6\n",
      "tensor(0., device='cuda:0', grad_fn=<NllLossBackward0>)\n",
      "  7\n",
      "tensor(0., device='cuda:0', grad_fn=<NllLossBackward0>)\n",
      "  8\n",
      "tensor(0., device='cuda:0', grad_fn=<NllLossBackward0>)\n",
      "  9\n",
      "tensor(0., device='cuda:0', grad_fn=<NllLossBackward0>)\n"
     ]
    }
   ],
   "source": [
    "for epoch in range(epochs):\n",
    "    print(epoch)\n",
    "\n",
    "    for i, (inputs, targets) in enumerate(dataloader):\n",
    "        print(f\"  {i}\")\n",
    "\n",
    "        optimizer.zero_grad()\n",
    "\n",
    "        with model.trace(inputs) as tracer:\n",
    "\n",
    "            model.transformer.h[0].mlp.output = lora(model.transformer.h[0].mlp.input, model.transformer.h[0].mlp.output)\n",
    "\n",
    "            logits = model.lm_head.output.save()\n",
    "\n",
    "        loss = F.cross_entropy(logits.value[:, -1], targets.to(\"cuda:0\"))\n",
    "\n",
    "        print(loss)\n",
    "\n",
    "        loss.backward()\n",
    "\n",
    "        optimizer.step()"
   ]
  },
  {
   "cell_type": "code",
   "execution_count": 5,
   "metadata": {},
   "outputs": [
    {
     "name": "stderr",
     "output_type": "stream",
     "text": [
      "Setting `pad_token_id` to `eos_token_id`:50256 for open-end generation.\n",
      "A decoder-only architecture is being used, but right-padding was detected! For correct generation results, please set `padding_side='left'` when initializing the tokenizer.\n",
      "Setting `pad_token_id` to `eos_token_id`:50256 for open-end generation.\n"
     ]
    },
    {
     "ename": "AttributeError",
     "evalue": "'GPT2LMHeadModel' object has no attribute 'output'",
     "output_type": "error",
     "traceback": [
      "\u001b[0;31m---------------------------------------------------------------------------\u001b[0m",
      "\u001b[0;31mAttributeError\u001b[0m                            Traceback (most recent call last)",
      "Cell \u001b[0;32mIn[5], line 5\u001b[0m\n\u001b[1;32m      2\u001b[0m     \u001b[38;5;28;01mwith\u001b[39;00m generator\u001b[38;5;241m.\u001b[39minvoke(dataset[\u001b[38;5;241m0\u001b[39m][\u001b[38;5;241m0\u001b[39m]) \u001b[38;5;28;01mas\u001b[39;00m invoker:\n\u001b[1;32m      3\u001b[0m         \u001b[38;5;28;01mpass\u001b[39;00m\n\u001b[0;32m----> 5\u001b[0m \u001b[38;5;28mprint\u001b[39m(model\u001b[38;5;241m.\u001b[39mtokenizer\u001b[38;5;241m.\u001b[39mdecode(\u001b[43mgenerator\u001b[49m\u001b[38;5;241;43m.\u001b[39;49m\u001b[43moutput\u001b[49m[\u001b[38;5;241m0\u001b[39m]))\n\u001b[1;32m      8\u001b[0m \u001b[38;5;28;01mwith\u001b[39;00m model\u001b[38;5;241m.\u001b[39mgenerate() \u001b[38;5;28;01mas\u001b[39;00m generator:\n\u001b[1;32m      9\u001b[0m     \u001b[38;5;28;01mwith\u001b[39;00m generator\u001b[38;5;241m.\u001b[39minvoke(dataset[\u001b[38;5;241m0\u001b[39m][\u001b[38;5;241m0\u001b[39m]) \u001b[38;5;28;01mas\u001b[39;00m invoker:\n",
      "File \u001b[0;32m~/nnsight/src/nnsight/contexts/Tracer.py:58\u001b[0m, in \u001b[0;36mTracer.__getattr__\u001b[0;34m(self, key)\u001b[0m\n\u001b[1;32m     52\u001b[0m \u001b[38;5;28;01mdef\u001b[39;00m \u001b[38;5;21m__getattr__\u001b[39m(\u001b[38;5;28mself\u001b[39m, key: Any) \u001b[38;5;241m-\u001b[39m\u001b[38;5;241m>\u001b[39m Any:\n\u001b[1;32m     53\u001b[0m \u001b[38;5;250m    \u001b[39m\u001b[38;5;124;03m\"\"\"Wrapper of .model._envoy's attributes to access module Envoy inputs and outputs.\u001b[39;00m\n\u001b[1;32m     54\u001b[0m \n\u001b[1;32m     55\u001b[0m \u001b[38;5;124;03m    Returns:\u001b[39;00m\n\u001b[1;32m     56\u001b[0m \u001b[38;5;124;03m        Any: Attribute.\u001b[39;00m\n\u001b[1;32m     57\u001b[0m \u001b[38;5;124;03m    \"\"\"\u001b[39;00m\n\u001b[0;32m---> 58\u001b[0m     \u001b[38;5;28;01mreturn\u001b[39;00m \u001b[38;5;28;43mgetattr\u001b[39;49m\u001b[43m(\u001b[49m\u001b[38;5;28;43mself\u001b[39;49m\u001b[38;5;241;43m.\u001b[39;49m\u001b[43m_model\u001b[49m\u001b[38;5;241;43m.\u001b[39;49m\u001b[43m_envoy\u001b[49m\u001b[43m,\u001b[49m\u001b[43m \u001b[49m\u001b[43mkey\u001b[49m\u001b[43m)\u001b[49m\n",
      "File \u001b[0;32m~/nnsight/src/nnsight/envoy.py:298\u001b[0m, in \u001b[0;36mEnvoy.__getattr__\u001b[0;34m(self, key)\u001b[0m\n\u001b[1;32m    288\u001b[0m \u001b[38;5;28;01mdef\u001b[39;00m \u001b[38;5;21m__getattr__\u001b[39m(\u001b[38;5;28mself\u001b[39m, key: \u001b[38;5;28mstr\u001b[39m) \u001b[38;5;241m-\u001b[39m\u001b[38;5;241m>\u001b[39m Union[Envoy, Any]:\n\u001b[1;32m    289\u001b[0m \u001b[38;5;250m    \u001b[39m\u001b[38;5;124;03m\"\"\"Wrapper method for underlying module's attributes.\u001b[39;00m\n\u001b[1;32m    290\u001b[0m \n\u001b[1;32m    291\u001b[0m \u001b[38;5;124;03m    Args:\u001b[39;00m\n\u001b[0;32m   (...)\u001b[0m\n\u001b[1;32m    295\u001b[0m \u001b[38;5;124;03m        Any: Attribute.\u001b[39;00m\n\u001b[1;32m    296\u001b[0m \u001b[38;5;124;03m    \"\"\"\u001b[39;00m\n\u001b[0;32m--> 298\u001b[0m     \u001b[38;5;28;01mreturn\u001b[39;00m \u001b[38;5;28;43mgetattr\u001b[39;49m\u001b[43m(\u001b[49m\u001b[38;5;28;43mself\u001b[39;49m\u001b[38;5;241;43m.\u001b[39;49m\u001b[43m_module\u001b[49m\u001b[43m,\u001b[49m\u001b[43m \u001b[49m\u001b[43mkey\u001b[49m\u001b[43m)\u001b[49m\n",
      "File \u001b[0;32m~/.local/lib/python3.11/site-packages/torch/nn/modules/module.py:1688\u001b[0m, in \u001b[0;36mModule.__getattr__\u001b[0;34m(self, name)\u001b[0m\n\u001b[1;32m   1686\u001b[0m     \u001b[38;5;28;01mif\u001b[39;00m name \u001b[38;5;129;01min\u001b[39;00m modules:\n\u001b[1;32m   1687\u001b[0m         \u001b[38;5;28;01mreturn\u001b[39;00m modules[name]\n\u001b[0;32m-> 1688\u001b[0m \u001b[38;5;28;01mraise\u001b[39;00m \u001b[38;5;167;01mAttributeError\u001b[39;00m(\u001b[38;5;124mf\u001b[39m\u001b[38;5;124m\"\u001b[39m\u001b[38;5;124m'\u001b[39m\u001b[38;5;132;01m{\u001b[39;00m\u001b[38;5;28mtype\u001b[39m(\u001b[38;5;28mself\u001b[39m)\u001b[38;5;241m.\u001b[39m\u001b[38;5;18m__name__\u001b[39m\u001b[38;5;132;01m}\u001b[39;00m\u001b[38;5;124m'\u001b[39m\u001b[38;5;124m object has no attribute \u001b[39m\u001b[38;5;124m'\u001b[39m\u001b[38;5;132;01m{\u001b[39;00mname\u001b[38;5;132;01m}\u001b[39;00m\u001b[38;5;124m'\u001b[39m\u001b[38;5;124m\"\u001b[39m)\n",
      "\u001b[0;31mAttributeError\u001b[0m: 'GPT2LMHeadModel' object has no attribute 'output'"
     ]
    }
   ],
   "source": [
    "with model.generate() as generator:\n",
    "    with generator.invoke(dataset[0][0]) as invoker:\n",
    "        pass\n",
    "\n",
    "print(model.tokenizer.decode(generator.output[0]))\n",
    "\n",
    "\n",
    "with model.generate() as generator:\n",
    "    with generator.invoke(dataset[0][0]) as invoker:\n",
    "        lora()\n",
    "\n",
    "print(model.tokenizer.decode(generator.output[0]))"
   ]
  }
 ],
 "metadata": {
  "kernelspec": {
   "display_name": "interp",
   "language": "python",
   "name": "python3"
  },
  "language_info": {
   "codemirror_mode": {
    "name": "ipython",
    "version": 3
   },
   "file_extension": ".py",
   "mimetype": "text/x-python",
   "name": "python",
   "nbconvert_exporter": "python",
   "pygments_lexer": "ipython3",
   "version": "3.11.7"
  }
 },
 "nbformat": 4,
 "nbformat_minor": 2
}
