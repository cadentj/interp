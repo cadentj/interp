{
 "cells": [
  {
   "cell_type": "code",
   "execution_count": 1,
   "metadata": {},
   "outputs": [],
   "source": [
    "import threading\n",
    "import pandas as pd\n",
    "import ipywidgets as widgets\n",
    "from IPython.display import display, clear_output\n",
    "import socketio\n",
    "import time"
   ]
  },
  {
   "cell_type": "code",
   "execution_count": 2,
   "metadata": {},
   "outputs": [
    {
     "data": {
      "application/vnd.jupyter.widget-view+json": {
       "model_id": "19a07b401ce445208c06226fe32fc1e6",
       "version_major": 2,
       "version_minor": 0
      },
      "text/plain": [
       "FloatProgress(value=0.0, max=1.0)"
      ]
     },
     "metadata": {},
     "output_type": "display_data"
    }
   ],
   "source": [
    "import threading\n",
    "from IPython.display import display\n",
    "import ipywidgets as widgets\n",
    "import time\n",
    "progress = widgets.FloatProgress(value=0.0, min=0.0, max=1.0)\n",
    "\n",
    "def work(progress):\n",
    "    total = 100\n",
    "    for i in range(total):\n",
    "        time.sleep(0.2)\n",
    "        progress.value = float(i+1)/total\n",
    "\n",
    "thread = threading.Thread(target=work, args=(progress,))\n",
    "display(progress)\n",
    "thread.start()"
   ]
  },
  {
   "cell_type": "code",
   "execution_count": 5,
   "metadata": {},
   "outputs": [
    {
     "name": "stdout",
     "output_type": "stream",
     "text": [
      "Connected to the server.\n",
      "{'loss': 235, 'accuracy': 23.5}\n"
     ]
    }
   ],
   "source": [
    "# Set up a client socket\n",
    "sio = socketio.Client()\n",
    "\n",
    "# Define the event handler for new data\n",
    "@sio.event\n",
    "def connect():\n",
    "    print(\"Connected to the server.\")\n",
    "\n",
    "@sio.event\n",
    "def disconnect():\n",
    "    print(\"Disconnected from server.\")\n",
    "\n",
    "@sio.event\n",
    "def training_update(data):\n",
    "    print(data)\n",
    "\n",
    "# Start the WebSocket connection in a background thread\n",
    "def start_socket():\n",
    "    sio.connect('http://127.0.0.1:5000')  # Replace with your server address\n",
    "\n",
    "server_thread = threading.Thread(target=start_socket)\n",
    "server_thread.start()\n",
    "\n",
    "\n"
   ]
  },
  {
   "cell_type": "code",
   "execution_count": 3,
   "metadata": {},
   "outputs": [
    {
     "data": {
      "application/vnd.jupyter.widget-view+json": {
       "model_id": "63b8cfa2ba2547b58af1d3c07646ea50",
       "version_major": 2,
       "version_minor": 0
      },
      "text/plain": [
       "HBox(children=(VBox(children=(Label(value='0'), Label(value='1'))), VBox(children=(FloatProgress(value=0.0, ma…"
      ]
     },
     "execution_count": 3,
     "metadata": {},
     "output_type": "execute_result"
    },
    {
     "name": "stdout",
     "output_type": "stream",
     "text": [
      "Connected to the server.\n"
     ]
    }
   ],
   "source": [
    "import threading\n",
    "from IPython.display import display\n",
    "import ipywidgets as widgets\n",
    "import time\n",
    "\n",
    "# Set up a client socket\n",
    "sio = socketio.Client()\n",
    "\n",
    "# Define the event handler for new data\n",
    "@sio.event\n",
    "def connect():\n",
    "    print(\"Connected to the server.\")\n",
    "\n",
    "@sio.event\n",
    "def disconnect():\n",
    "    print(\"Disconnected from server.\")\n",
    "\n",
    "@sio.event\n",
    "def training_update(data):\n",
    "    progress_one.value += data['one']/100\n",
    "    progress_two.value += data['two']/100\n",
    "\n",
    "# Start the WebSocket connection in a background thread\n",
    "def start_socket():\n",
    "    sio.connect('http://127.0.0.1:5000')  # Replace with your server address\n",
    "\n",
    "server_thread = threading.Thread(target=start_socket)\n",
    "server_thread.start()\n",
    "\n",
    "\n",
    "\n",
    "items = [widgets.Label(str(i)) for i in range(4)]\n",
    "\n",
    "progress_one = widgets.FloatProgress(value=0.0, min=0.0, max=1.0)\n",
    "\n",
    "progress_two = widgets.FloatProgress(value=0.0, min=0.0, max=1.0)\n",
    "\n",
    "left_box = widgets.VBox([items[0], items[1]])\n",
    "right_box = widgets.VBox([progress_one, progress_two])\n",
    "widgets.HBox([left_box, right_box])\n",
    "\n",
    "\n"
   ]
  }
 ],
 "metadata": {
  "kernelspec": {
   "display_name": "docs",
   "language": "python",
   "name": "python3"
  },
  "language_info": {
   "codemirror_mode": {
    "name": "ipython",
    "version": 3
   },
   "file_extension": ".py",
   "mimetype": "text/x-python",
   "name": "python",
   "nbconvert_exporter": "python",
   "pygments_lexer": "ipython3",
   "version": "3.8.18"
  }
 },
 "nbformat": 4,
 "nbformat_minor": 2
}
