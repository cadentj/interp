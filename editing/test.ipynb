{
 "cells": [
  {
   "cell_type": "code",
   "execution_count": 1,
   "metadata": {},
   "outputs": [
    {
     "name": "stderr",
     "output_type": "stream",
     "text": [
      "/share/u/caden/.conda/envs/work/lib/python3.10/site-packages/tqdm/auto.py:21: TqdmWarning: IProgress not found. Please update jupyter and ipywidgets. See https://ipywidgets.readthedocs.io/en/stable/user_install.html\n",
      "  from .autonotebook import tqdm as notebook_tqdm\n"
     ]
    }
   ],
   "source": [
    "from nnsight import LanguageModel\n",
    "from torch.nn import Module\n",
    "from nnsight.util import WrapperModule\n",
    "# import torch"
   ]
  },
  {
   "cell_type": "code",
   "execution_count": 2,
   "metadata": {},
   "outputs": [
    {
     "name": "stderr",
     "output_type": "stream",
     "text": [
      "/share/u/caden/.conda/envs/work/lib/python3.10/site-packages/huggingface_hub/file_download.py:1132: FutureWarning: `resume_download` is deprecated and will be removed in version 1.0.0. Downloads always resume when possible. If you want to force a new download, use `force_download=True`.\n",
      "  warnings.warn(\n",
      "Special tokens have been added in the vocabulary, make sure the associated word embeddings are fine-tuned or trained.\n"
     ]
    }
   ],
   "source": [
    "model = LanguageModel(\"EleutherAI/pythia-70m\", dispatch=True, device_map=\"auto\")"
   ]
  },
  {
   "cell_type": "code",
   "execution_count": 3,
   "metadata": {},
   "outputs": [
    {
     "name": "stderr",
     "output_type": "stream",
     "text": [
      "You're using a GPTNeoXTokenizerFast tokenizer. Please note that with a fast tokenizer, using the `__call__` method is faster than using a method to encode the text followed by a call to the `pad` method to get a padded encoding.\n"
     ]
    },
    {
     "name": "stdout",
     "output_type": "stream",
     "text": [
      "<nnsight.contexts.backends.LocalBackend.LocalBackend object at 0x7f5d588079a0>\n"
     ]
    }
   ],
   "source": [
    "with model.trace(\"test\") as tracer:\n",
    "    print(tracer._backend)"
   ]
  },
  {
   "cell_type": "code",
   "execution_count": 3,
   "metadata": {},
   "outputs": [],
   "source": [
    "from sae import AutoEncoder\n",
    "\n",
    "sae = AutoEncoder.from_pretrained(\"./ae.pt\", device=\"cuda:0\")"
   ]
  },
  {
   "cell_type": "code",
   "execution_count": 4,
   "metadata": {},
   "outputs": [],
   "source": [
    "class Edit(Module):\n",
    "\n",
    "    def __init__(self):\n",
    "        super().__init__()\n",
    "\n",
    "        self.one = WrapperModule()\n",
    "        self.two = WrapperModule()\n",
    "\n",
    "    def forward(self, x):\n",
    "        return self.two(self.one(x))\n",
    "    \n",
    "edit = Edit()"
   ]
  },
  {
   "cell_type": "code",
   "execution_count": 5,
   "metadata": {},
   "outputs": [],
   "source": [
    "l0 = model.gpt_neox.layers[0]\n",
    "l0._add_envoy(sae, \"edit\")\n",
    "\n",
    "setattr(model._model.gpt_neox.layers[0], \"edit\", sae)"
   ]
  },
  {
   "cell_type": "code",
   "execution_count": 40,
   "metadata": {},
   "outputs": [
    {
     "data": {
      "text/plain": [
       "torch.Size([1, 1, 50304])"
      ]
     },
     "execution_count": 40,
     "metadata": {},
     "output_type": "execute_result"
    }
   ],
   "source": [
    "with model.trace(\"words\", validate=False, scan=False):\n",
    "    acts = l0.output[0]\n",
    "    l0.output[0][:] = sae(acts)\n",
    "\n",
    "    before = model.embed_out.output.save()\n",
    "\n",
    "before.shape"
   ]
  },
  {
   "cell_type": "code",
   "execution_count": 41,
   "metadata": {},
   "outputs": [],
   "source": [
    "with model.trace(validate=False) as tracer:\n",
    "\n",
    "    with tracer.invoke(\"test\"):\n",
    "\n",
    "        acts = l0.output[0]\n",
    "\n",
    "        l0.output[0][:] = l0.edit(acts)\n",
    "\n",
    "        before = model.embed_out.output.save()\n",
    "\n",
    "    with tracer.invoke(\"test\"):\n",
    "\n",
    "        acts = l0.output[0]\n",
    "\n",
    "        l0.output[0][:] = l0.edit(acts)\n",
    "\n",
    "        l0.edit.encoder.output *= 100\n",
    "\n",
    "        after = model.embed_out.output.save()"
   ]
  }
 ],
 "metadata": {
  "kernelspec": {
   "display_name": "interp",
   "language": "python",
   "name": "python3"
  },
  "language_info": {
   "codemirror_mode": {
    "name": "ipython",
    "version": 3
   },
   "file_extension": ".py",
   "mimetype": "text/x-python",
   "name": "python",
   "nbconvert_exporter": "python",
   "pygments_lexer": "ipython3",
   "version": "3.10.14"
  }
 },
 "nbformat": 4,
 "nbformat_minor": 2
}
