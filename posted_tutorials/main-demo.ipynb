{
 "cells": [
  {
   "cell_type": "markdown",
   "id": "9c950075-6a9e-4709-a609-77d0b6762333",
   "metadata": {
    "jp-MarkdownHeadingCollapsed": true
   },
   "source": [
    "# NDIF Main Demo Notebook"
   ]
  },
  {
   "cell_type": "markdown",
   "id": "97292f90-5c2e-444d-88e4-41265e8ad0d9",
   "metadata": {},
   "source": [
    "# Setup"
   ]
  },
  {
   "cell_type": "markdown",
   "id": "726c3b65-422a-4f9f-b1cc-6a198a49c77a",
   "metadata": {},
   "source": [
    "(No need to read)"
   ]
  },
  {
   "cell_type": "code",
   "execution_count": 66,
   "id": "85a08a13-337b-458b-8b6c-e92cd072e846",
   "metadata": {},
   "outputs": [
    {
     "name": "stdout",
     "output_type": "stream",
     "text": [
      "Running as a Jupyter notebook\n"
     ]
    }
   ],
   "source": [
    "try:\n",
    "    import google.colab\n",
    "    IN_COLAB = True\n",
    "    print(\"Running as a Colab notebook\")\n",
    "\n",
    "    # Get and unzip NDIF engine\n",
    "    !wget -O ndif-dev.zip https://drive.google.com/uc?id=1jS0ydba19uPXCC786_Sx1Bylqx-p0hEc&export=download\n",
    "    !unzip ndif-dev.zip\n",
    "\n",
    "    # Install necessary libraries\n",
    "    %pip install -e ndif-dev\n",
    "    %pip install circuitsvis\n",
    "    %pip install einops\n",
    "    %pip install jaxtyping\n",
    "    %pip install transformer_lens\n",
    "\n",
    "    # Upgrade pydantic 1.10.13 -> 2.4.2\n",
    "    # Without it, @field_serializer isn't available Colab\n",
    "    %pip install --upgrade pydantic\n",
    "    \n",
    "except:\n",
    "    IN_COLAB = False\n",
    "    print(\"Running as a Jupyter notebook\")"
   ]
  },
  {
   "cell_type": "code",
   "execution_count": 22,
   "id": "44201da1-198f-4dbd-be01-3720f6a8c692",
   "metadata": {},
   "outputs": [],
   "source": [
    "import sys\n",
    "sys.path.append('ndif-dev')\n",
    "from engine import LanguageModel"
   ]
  },
  {
   "cell_type": "code",
   "execution_count": 2,
   "id": "ac8fde60-ab27-4850-8c10-8ac823433b11",
   "metadata": {},
   "outputs": [],
   "source": [
    "import torch\n",
    "import engine\n",
    "import einops\n",
    "import circuitsvis as cv\n",
    "import plotly.express as px\n",
    "from torch import Tensor\n",
    "import torch.nn as nn\n",
    "import torch.nn.functional as F\n",
    "import transformers\n",
    "from pathlib import Path\n",
    "import numpy as np\n",
    "from jaxtyping import Int, Float\n",
    "from typing import List, Optional, Tuple, Union\n",
    "from tqdm import tqdm\n",
    "from IPython.display import display\n",
    "import transformer_lens.utils as utils\n",
    "import webbrowser\n",
    "\n",
    "device = torch.device(\"cuda\" if torch.cuda.is_available() else \"cpu\")"
   ]
  },
  {
   "cell_type": "markdown",
   "id": "96db88f1-b447-4eae-b40b-ec9f34320b21",
   "metadata": {},
   "source": [
    "We turn automatic differentiation off, to save GPU memory, as this notebook focuses on model inference not model training."
   ]
  },
  {
   "cell_type": "code",
   "execution_count": 3,
   "id": "396ae4df-7344-46ce-8b8a-919fe9353df4",
   "metadata": {},
   "outputs": [
    {
     "data": {
      "text/plain": [
       "<torch.autograd.grad_mode.set_grad_enabled at 0x2b10f4ca1f40>"
      ]
     },
     "execution_count": 3,
     "metadata": {},
     "output_type": "execute_result"
    }
   ],
   "source": [
    "torch.set_grad_enabled(False)"
   ]
  },
  {
   "cell_type": "markdown",
   "id": "21dd1f86-517c-4077-9ebd-e85fc8da43b1",
   "metadata": {},
   "source": [
    "Plotting helper functions:"
   ]
  },
  {
   "cell_type": "code",
   "execution_count": 4,
   "id": "400f59d8-4d03-4ce2-be07-d5474dba40c9",
   "metadata": {},
   "outputs": [],
   "source": [
    "def imshow(tensor, renderer=None, xaxis=\"\", yaxis=\"\", **kwargs):\n",
    "    px.imshow(utils.to_numpy(tensor), color_continuous_midpoint=0.0, color_continuous_scale=\"RdBu\", labels={\"x\":xaxis, \"y\":yaxis}, **kwargs).show(renderer)\n",
    "\n",
    "def line(tensor, renderer=None, xaxis=\"\", yaxis=\"\", **kwargs):\n",
    "    px.line(utils.to_numpy(tensor), labels={\"x\":xaxis, \"y\":yaxis}, **kwargs).show(renderer)\n",
    "\n",
    "def scatter(x, y, xaxis=\"\", yaxis=\"\", caxis=\"\", renderer=None, **kwargs):\n",
    "    x = utils.to_numpy(x)\n",
    "    y = utils.to_numpy(y)\n",
    "    px.scatter(y=y, x=x, labels={\"x\":xaxis, \"y\":yaxis, \"color\":caxis}, **kwargs).show(renderer)"
   ]
  },
  {
   "cell_type": "markdown",
   "id": "34db6233-c618-4c68-89d1-02b694dd65b6",
   "metadata": {},
   "source": [
    "While we're at it, lets import a couple helper functions."
   ]
  },
  {
   "cell_type": "code",
   "execution_count": 23,
   "id": "a1d426a1-784c-4efd-957a-d314d185ed33",
   "metadata": {},
   "outputs": [],
   "source": [
    "from engine.util import cross_entropy_loss\n",
    "from engine.util import apply"
   ]
  },
  {
   "cell_type": "markdown",
   "id": "7d1ce490-f8dd-4c01-8995-2abcec96a532",
   "metadata": {},
   "source": [
    "# Introduction\n",
    "\n",
    "This is a demo notebook for the Engine API, a service of the National Deep Inferencing Framework that provides access to the internal activations, parmeters, and gradients of open LLMs. We believe that understanding AI cognition is one of the greatest scientific questions of the age, but training itself does not yield understanding. Progress will be made through a massive public undertaking that bridges accessibility in research and experimentation, a platform democratizing transparent access to big models. \n",
    "\n",
    "The Engine API is a package for doing mechanistic interpretability of large models. The goal of mechanistic interpretability is to take a trained model and reverse engineer the algorithms the model learned during training from its weights. It is a fact about the world today that we have computer programs that can essentially speak English at a human level (GPT-3, PaLM, etc), yet we have no idea how they work nor how to write one ourselves. "
   ]
  },
  {
   "cell_type": "markdown",
   "id": "1fcd44d0-c3f9-42c6-9dde-410557fb098b",
   "metadata": {},
   "source": [
    "## Loading Models\n",
    "\n",
    "The engine API allows you to access open source LLMs by referencing a Hugging Face repo ID. You can load any of them in with `LanguageModel(REPO_ID)`. For this demo notebook we'll look at GPT-2 Small, an 80M parameter model."
   ]
  },
  {
   "cell_type": "code",
   "execution_count": 5,
   "id": "f48687ce-f959-420b-bc19-948ae597886b",
   "metadata": {},
   "outputs": [],
   "source": [
    "model = LanguageModel('gpt2',device_map=device)"
   ]
  },
  {
   "cell_type": "markdown",
   "id": "d138cc86-e87b-4f8e-b196-f2b10400ecee",
   "metadata": {},
   "source": [
    "To try the model out, let's generate some text!"
   ]
  },
  {
   "cell_type": "code",
   "execution_count": 6,
   "id": "2fd980e9-a06e-4585-9013-393d74288cf9",
   "metadata": {},
   "outputs": [
    {
     "name": "stderr",
     "output_type": "stream",
     "text": [
      "Setting `pad_token_id` to `eos_token_id`:50256 for open-end generation.\n"
     ]
    },
    {
     "name": "stdout",
     "output_type": "stream",
     "text": [
      "['The Eiffel Tower is in the city of Paris']\n"
     ]
    }
   ],
   "source": [
    "with model.generate(max_new_tokens=1) as generator:\n",
    "    with generator.invoke('The Eiffel Tower is in the city of') as invoker:\n",
    "        hidden_states = model.transformer.h[-1].output[0].save()\n",
    "\n",
    "output = generator.output\n",
    "print([model.tokenizer.decode(t) for t in output])"
   ]
  },
  {
   "cell_type": "markdown",
   "id": "28a06fca-66e8-4c42-abe1-0e3c09d65c27",
   "metadata": {},
   "source": [
    "Lets go over this piece by piece.\n",
    "\n",
    "**First, we create a generation context block** by calling `.generate(...)` on the model object. This denotes that we wish to generate tokens given some prompts.\n",
    "```\n",
    "with model.generate(max_new_tokens=1) as generator:\n",
    "```\n",
    "Calling `.generate(...)` does not actually initialize or run the model. Only after the `with...generator:` block is exited is the model actually loaded and run. All operations in the block are \"proxies\" which essentially creates a graph of operations we wish to carry out later.\n",
    "\n",
    "**Within the generation context,** we create invocation contexts to specify the actual prompts we want to run.\n",
    "```\n",
    "with generator.invoke(PROMPT) as invoker:\n",
    "```\n",
    "**Within an invoke context**, all operations/interventions will be applied to the processing of the prompt. Models can be run on a variety of input formats: strings, lists of tokens, tensors of tokens, etc.\n",
    "\n",
    "Finally, we can access raw tensors and activations at any point in the model. ***But what can we do with these activations?***"
   ]
  },
  {
   "cell_type": "markdown",
   "id": "fb66922a-af78-40ae-951d-c18418294af0",
   "metadata": {},
   "source": [
    "## Accessing Activations\n",
    "\n",
    "The first basic operation when doing mechanistic interpretability is to break open the black box and look at all of the internal activations of the model. Let's try this out on the first line of the GPT-2 paper."
   ]
  },
  {
   "cell_type": "code",
   "execution_count": 7,
   "id": "866aede2-f09a-4d75-a1c3-4b8ff2983d0d",
   "metadata": {},
   "outputs": [
    {
     "name": "stderr",
     "output_type": "stream",
     "text": [
      "Setting `pad_token_id` to `eos_token_id`:50256 for open-end generation.\n"
     ]
    }
   ],
   "source": [
    "gpt2_text = \"Natural language processing tasks, such as question answering, machine translation, reading comprehension, and summarization, are typically approached with supervised learning on taskspecific datasets.\"\n",
    "gpt2_tokens = model.tokenizer.encode(gpt2_text)\n",
    "\n",
    "with model.generate(max_new_tokens=1) as generator:\n",
    "    with generator.invoke(gpt2_tokens) as invoker:\n",
    "        hidden_states = model.transformer.h[-1].output[0].save()"
   ]
  },
  {
   "cell_type": "markdown",
   "id": "74e61592-f51c-4691-bd7b-8c62092b738b",
   "metadata": {},
   "source": [
    "Once again, we create a generate context and invoke a prompt, this time a list of tokens:\n",
    "```\n",
    "hidden_states = model.transformer.h[-1].output[0].save()\n",
    "```\n",
    "On this line we're saying: access the last layer of the transformer `model.transformer.h[-1]`, access its output `.output`, index it at 0 `.output[0]`, and save it `.save()`. To break this statement down: \n",
    "\n",
    "- `model.transformer.h[-1]` accesses a module in the computation graph. `.transformer.h[-1]` specifically accesses the last transformer layer.\n",
    "- `.output` returns a proxy for the output of this module. In other words, when we get to the output of this module during inference, grab it and perform any operations we define on it (which also become proxies). There are two operational proxies here, one for getting the 0th index of the output, and one for saving the output. We take the 0th index because *the output of gpt2 transformer layers are a tuple* where the first index are the actual hidden states (last two indicies are from attention). \n",
    "  - `.shape` can be called on any proxy to get what shape the value will eventually be. Running `print(model.transformer.h[-1].output.shape)` returns `(torch.Size([1, 10, 768]), (torch.Size([1, 12, 10, 64]), torch.Size([1, 12, 10, 64])))`\n",
    "  - ***Note:*** `.input` similarly returns a proxy for the inputs to this module. \n",
    "- `.save()` informs the computation graph to clone the value of a proxy, allowing us to access the value of a proxy after generation. During processing of the intervention computational graph we are building, when the value of a proxy is no longer ever needed, its value is dereferenced and destroyed.\n",
    "\n",
    "After exiting the generator context, the model is ran with the specified arguments and intervention graph. `generator.output` is populated with the actual output and `hidden_states.value` will contain the value."
   ]
  },
  {
   "cell_type": "code",
   "execution_count": 8,
   "id": "5cab2ba9-8218-4dfa-b1a3-3b5e68ef733f",
   "metadata": {},
   "outputs": [
    {
     "name": "stdout",
     "output_type": "stream",
     "text": [
      "tensor([[35364,  3303,  7587,  8861,    11,   884,   355,  1808, 18877,    11,\n",
      "          4572, 11059,    11,  3555, 35915,    11,   290, 15676,  1634,    11,\n",
      "           389,  6032, 10448,   351, 28679,  4673,   319,  8861,   431,  7790,\n",
      "         40522,    13,  2102]], device='cuda:0')\n",
      "tensor([[[ -0.2059,   0.1688,  -2.0503,  ...,  -0.3703,  -0.2015,  -1.6594],\n",
      "         [ -3.9412,  -0.2137,  -8.5667,  ...,   6.3562,   4.1276,   3.6006],\n",
      "         [ -2.0798,  -1.5781,  -6.1944,  ...,   4.8023,   5.6864,  -2.6289],\n",
      "         ...,\n",
      "         [ -2.1180,  -6.4320, -20.7147,  ...,   8.7145,   2.3738,   3.4004],\n",
      "         [ -1.1358,  -3.9569, -20.3060,  ...,   7.1600,   1.6868,   0.9850],\n",
      "         [ -1.7206,  -4.7800,  -1.1185,  ...,   3.1680,   3.7024,   0.2865]]],\n",
      "       device='cuda:0')\n"
     ]
    }
   ],
   "source": [
    "output = generator.output\n",
    "hidden_states = hidden_states.value\n",
    "\n",
    "print(output)\n",
    "print(hidden_states)"
   ]
  },
  {
   "cell_type": "markdown",
   "id": "1c72636f-6412-4f62-8b2d-7e84a8fcc268",
   "metadata": {},
   "source": [
    "We can see the module tree by printing the model. This lets us know what attributes access the modules we need. Run `print(model)` below to see the results."
   ]
  },
  {
   "cell_type": "code",
   "execution_count": null,
   "id": "5e984e87-88d8-41df-b076-40421bacfb58",
   "metadata": {},
   "outputs": [],
   "source": [
    "print(model)"
   ]
  },
  {
   "cell_type": "markdown",
   "id": "63b041eb-d0b3-43d7-bf61-0a3e7a88c4f6",
   "metadata": {},
   "source": [
    "### Visualizing Attention Heads"
   ]
  },
  {
   "cell_type": "markdown",
   "id": "f4234f7a-2f53-482f-885d-5b32ed682989",
   "metadata": {},
   "source": [
    "That was a lot, so lets put it into practice."
   ]
  },
  {
   "cell_type": "code",
   "execution_count": 9,
   "id": "ce5d0647-442f-4072-8667-d710c1f49047",
   "metadata": {},
   "outputs": [
    {
     "name": "stderr",
     "output_type": "stream",
     "text": [
      "Setting `pad_token_id` to `eos_token_id`:50256 for open-end generation.\n"
     ]
    }
   ],
   "source": [
    "with model.generate(max_new_tokens=1) as generator:\n",
    "    with generator.invoke(gpt2_tokens) as invoker:\n",
    "        q  = model.transformer.h[0].attn.query.output.save()\n",
    "        k  = model.transformer.h[0].attn.key.output.save()\n",
    "        # Note how we save the .input to this module.\n",
    "        attn_patterns = model.transformer.h[0].attn.attn_dropout.input.save()"
   ]
  },
  {
   "cell_type": "markdown",
   "id": "d33d0e68-d509-4a17-b2b7-b8d671613f04",
   "metadata": {},
   "source": [
    "Above, we save the the query and key values for the first layer of the model. We also save the input to the attention dropout which are the attention patterns shape `[batch head_idx seq_q seq_k]`.\n",
    "\n",
    "Lets use q and k to create an attention pattern and verify the saved input to attention dropout."
   ]
  },
  {
   "cell_type": "code",
   "execution_count": 10,
   "id": "ec6a1cc2-2494-47c4-897d-8f11be1b2003",
   "metadata": {},
   "outputs": [],
   "source": [
    "q, k = q.value[0], k.value[0]\n",
    "head_idx, seq_len, dim = q.shape\n",
    "layer0_attn_scores = einops.einsum(\n",
    "        q,k,\n",
    "        \"head_idx seq_q head_dim, head_idx seq_k head_dim-> head_idx seq_q seq_k\"\n",
    "    )\n",
    "\n",
    "# Mask where Q > K\n",
    "mask = torch.triu(torch.ones((12, seq_len, seq_len), dtype=bool), diagonal=1).to(device)\n",
    "layer0_attn_scores.masked_fill_(mask, -1e9)\n",
    "\n",
    "# Scale and softmax\n",
    "layer0_pattern_from_q_and_k = (layer0_attn_scores / dim**0.5).softmax(-1)"
   ]
  },
  {
   "cell_type": "markdown",
   "id": "71e3bccf-aad2-4d3f-a8ab-ab6279de6de0",
   "metadata": {},
   "source": [
    "We create a simple comparison between our calculated attention pattern and the one we saved from inference. It checks for equality between individual tensor values and returns the percentage of true values."
   ]
  },
  {
   "cell_type": "code",
   "execution_count": 11,
   "id": "d80f7766-f871-4d67-ab41-48eb90d0c0bd",
   "metadata": {},
   "outputs": [
    {
     "name": "stdout",
     "output_type": "stream",
     "text": [
      "100.0\n"
     ]
    }
   ],
   "source": [
    "bool_matrix = layer0_pattern_from_q_and_k == attn_patterns.value[0]\n",
    "num_true = bool_matrix.sum().item()\n",
    "\n",
    "# Calculate the total number of values in the matrix\n",
    "total_values = bool_matrix.numel()\n",
    "\n",
    "# Calculate the percentage of True values\n",
    "percent_true = (num_true / total_values) * 100\n",
    "print(percent_true)"
   ]
  },
  {
   "cell_type": "markdown",
   "id": "77b4ff71-ae04-440a-97ff-75df2c2e0c22",
   "metadata": {},
   "source": [
    "Nice! Now lets visualize the attention pattern of all the heads in layer 0, using [Alan Cooney's CircuitsVis library](https://github.com/alan-cooney/CircuitsVis) (based on [Anthropic's PySvelte library](https://github.com/anthropics/PySvelte)). \n",
    "\n",
    "This visualization is interactive! Try hovering over a token or head, and click to lock. The grid on the top left and for each head is the attention pattern as a destination position by source position grid. It's lower triangular because GPT-2 has **causal attention**, attention can only look backwards, so information can only move forwards in the network."
   ]
  },
  {
   "cell_type": "code",
   "execution_count": 12,
   "id": "1c7c3f97-e2b9-4f63-9f24-c94a064c70eb",
   "metadata": {
    "scrolled": true
   },
   "outputs": [
    {
     "name": "stdout",
     "output_type": "stream",
     "text": [
      "Layer 0 Head Attention Patterns:\n"
     ]
    },
    {
     "data": {
      "text/html": [
       "<div id=\"circuits-vis-92e9cbc1-a6af\" style=\"margin: 15px 0;\"/>\n",
       "    <script crossorigin type=\"module\">\n",
       "    import { render, AttentionPatterns } from \"https://unpkg.com/circuitsvis@1.41.0/dist/cdn/esm.js\";\n",
       "    render(\n",
       "      \"circuits-vis-92e9cbc1-a6af\",\n",
       "      AttentionPatterns,\n",
       "      {\"tokens\": [\"Natural\", \" language\", \" processing\", \" tasks\", \",\", \" such\", \" as\", \" question\", \" answering\", \",\", \" machine\", \" translation\", \",\", \" reading\", \" comprehension\", \",\", \" and\", \" summar\", \"ization\", \",\", \" are\", \" typically\", \" approached\", \" with\", \" supervised\", \" learning\", \" on\", \" tasks\", \"pe\", \"cific\", \" datasets\", \".\"], \"attention\": [[[1.0, 0.0, 0.0, 0.0, 0.0, 0.0, 0.0, 0.0, 0.0, 0.0, 0.0, 0.0, 0.0, 0.0, 0.0, 0.0, 0.0, 0.0, 0.0, 0.0, 0.0, 0.0, 0.0, 0.0, 0.0, 0.0, 0.0, 0.0, 0.0, 0.0, 0.0, 0.0], [0.8947708010673523, 0.1052291989326477, 0.0, 0.0, 0.0, 0.0, 0.0, 0.0, 0.0, 0.0, 0.0, 0.0, 0.0, 0.0, 0.0, 0.0, 0.0, 0.0, 0.0, 0.0, 0.0, 0.0, 0.0, 0.0, 0.0, 0.0, 0.0, 0.0, 0.0, 0.0, 0.0, 0.0], [0.4638715088367462, 0.3965386152267456, 0.13958987593650818, 0.0, 0.0, 0.0, 0.0, 0.0, 0.0, 0.0, 0.0, 0.0, 0.0, 0.0, 0.0, 0.0, 0.0, 0.0, 0.0, 0.0, 0.0, 0.0, 0.0, 0.0, 0.0, 0.0, 0.0, 0.0, 0.0, 0.0, 0.0, 0.0], [0.280465304851532, 0.30271804332733154, 0.27353477478027344, 0.14328189194202423, 0.0, 0.0, 0.0, 0.0, 0.0, 0.0, 0.0, 0.0, 0.0, 0.0, 0.0, 0.0, 0.0, 0.0, 0.0, 0.0, 0.0, 0.0, 0.0, 0.0, 0.0, 0.0, 0.0, 0.0, 0.0, 0.0, 0.0, 0.0], [0.6027261018753052, 0.11659800261259079, 0.08869695663452148, 0.15994814038276672, 0.03203072398900986, 0.0, 0.0, 0.0, 0.0, 0.0, 0.0, 0.0, 0.0, 0.0, 0.0, 0.0, 0.0, 0.0, 0.0, 0.0, 0.0, 0.0, 0.0, 0.0, 0.0, 0.0, 0.0, 0.0, 0.0, 0.0, 0.0, 0.0], [0.5287160873413086, 0.11364146322011948, 0.08680488169193268, 0.10193290561437607, 0.058210693299770355, 0.11069394648075104, 0.0, 0.0, 0.0, 0.0, 0.0, 0.0, 0.0, 0.0, 0.0, 0.0, 0.0, 0.0, 0.0, 0.0, 0.0, 0.0, 0.0, 0.0, 0.0, 0.0, 0.0, 0.0, 0.0, 0.0, 0.0, 0.0], [0.3648110032081604, 0.17183703184127808, 0.13245050609111786, 0.09663380682468414, 0.05225350335240364, 0.1362438201904297, 0.04577029123902321, 0.0, 0.0, 0.0, 0.0, 0.0, 0.0, 0.0, 0.0, 0.0, 0.0, 0.0, 0.0, 0.0, 0.0, 0.0, 0.0, 0.0, 0.0, 0.0, 0.0, 0.0, 0.0, 0.0, 0.0, 0.0], [0.27058351039886475, 0.1299377679824829, 0.14074145257472992, 0.2641817331314087, 0.04840688779950142, 0.041128601878881454, 0.02746286801993847, 0.07755719870328903, 0.0, 0.0, 0.0, 0.0, 0.0, 0.0, 0.0, 0.0, 0.0, 0.0, 0.0, 0.0, 0.0, 0.0, 0.0, 0.0, 0.0, 0.0, 0.0, 0.0, 0.0, 0.0, 0.0, 0.0], [0.14362773299217224, 0.17939341068267822, 0.13054192066192627, 0.20060375332832336, 0.05274626985192299, 0.03403114154934883, 0.04159019887447357, 0.12459317594766617, 0.09287244081497192, 0.0, 0.0, 0.0, 0.0, 0.0, 0.0, 0.0, 0.0, 0.0, 0.0, 0.0, 0.0, 0.0, 0.0, 0.0, 0.0, 0.0, 0.0, 0.0, 0.0, 0.0, 0.0, 0.0], [0.23814329504966736, 0.04598075523972511, 0.037527646869421005, 0.05862237885594368, 0.010478093288838863, 0.12177403271198273, 0.02039419487118721, 0.10621678084135056, 0.3489741384983063, 0.011888695880770683, 0.0, 0.0, 0.0, 0.0, 0.0, 0.0, 0.0, 0.0, 0.0, 0.0, 0.0, 0.0, 0.0, 0.0, 0.0, 0.0, 0.0, 0.0, 0.0, 0.0, 0.0, 0.0], [0.28720223903656006, 0.11305303126573563, 0.10804665833711624, 0.15102674067020416, 0.07290948927402496, 0.03665423393249512, 0.035754282027482986, 0.03315800055861473, 0.042721137404441833, 0.07693551480770111, 0.04253867641091347, 0.0, 0.0, 0.0, 0.0, 0.0, 0.0, 0.0, 0.0, 0.0, 0.0, 0.0, 0.0, 0.0, 0.0, 0.0, 0.0, 0.0, 0.0, 0.0, 0.0, 0.0], [0.24332953989505768, 0.09851902723312378, 0.09317801892757416, 0.025887662544846535, 0.03992948681116104, 0.060013722628355026, 0.02244582585990429, 0.03726512938737869, 0.0456794872879982, 0.04418482258915901, 0.2426438182592392, 0.046923454850912094, 0.0, 0.0, 0.0, 0.0, 0.0, 0.0, 0.0, 0.0, 0.0, 0.0, 0.0, 0.0, 0.0, 0.0, 0.0, 0.0, 0.0, 0.0, 0.0, 0.0], [0.2061278074979782, 0.03783148154616356, 0.03208908811211586, 0.04838676378130913, 0.00835223775357008, 0.10470917075872421, 0.016470344737172127, 0.09064894914627075, 0.3204038739204407, 0.009491998702287674, 0.04367129132151604, 0.07095673680305481, 0.010860194452106953, 0.0, 0.0, 0.0, 0.0, 0.0, 0.0, 0.0, 0.0, 0.0, 0.0, 0.0, 0.0, 0.0, 0.0, 0.0, 0.0, 0.0, 0.0, 0.0], [0.12090997397899628, 0.056922029703855515, 0.16340528428554535, 0.06451068073511124, 0.029872393235564232, 0.03287224471569061, 0.025501927360892296, 0.05761009082198143, 0.07151802629232407, 0.03242459148168564, 0.2606915831565857, 0.0231601782143116, 0.036351390182971954, 0.024249644950032234, 0.0, 0.0, 0.0, 0.0, 0.0, 0.0, 0.0, 0.0, 0.0, 0.0, 0.0, 0.0, 0.0, 0.0, 0.0, 0.0, 0.0, 0.0], [0.056261781603097916, 0.17248620092868805, 0.07925261557102203, 0.05349601060152054, 0.026604557409882545, 0.03080616146326065, 0.020728714764118195, 0.029077325016260147, 0.07549787312746048, 0.02797817811369896, 0.043827854096889496, 0.059818901121616364, 0.030994348227977753, 0.19744621217250824, 0.09572328627109528, 0.0, 0.0, 0.0, 0.0, 0.0, 0.0, 0.0, 0.0, 0.0, 0.0, 0.0, 0.0, 0.0, 0.0, 0.0, 0.0, 0.0], [0.1386192888021469, 0.0249526035040617, 0.021577047184109688, 0.03174813091754913, 0.005243528634309769, 0.07124897092580795, 0.010595917701721191, 0.06122242286801338, 0.22082309424877167, 0.0058972518891096115, 0.028767552226781845, 0.047012921422719955, 0.0067553771659731865, 0.12442948669195175, 0.1933177262544632, 0.007788660936057568, 0.0, 0.0, 0.0, 0.0, 0.0, 0.0, 0.0, 0.0, 0.0, 0.0, 0.0, 0.0, 0.0, 0.0, 0.0, 0.0], [0.11756303161382675, 0.043286506086587906, 0.03630613535642624, 0.035126667469739914, 0.010649537667632103, 0.05082651972770691, 0.014266087673604488, 0.06323344260454178, 0.18347664177417755, 0.012274122796952724, 0.04290877282619476, 0.05436437577009201, 0.013979515060782433, 0.12072280049324036, 0.16745278239250183, 0.01595451310276985, 0.01760850101709366, 0.0, 0.0, 0.0, 0.0, 0.0, 0.0, 0.0, 0.0, 0.0, 0.0, 0.0, 0.0, 0.0, 0.0, 0.0], [0.09845145046710968, 0.10459549725055695, 0.09946481138467789, 0.037117850035429, 0.03971602022647858, 0.027276189997792244, 0.03656626492738724, 0.028135506436228752, 0.02214459888637066, 0.041167132556438446, 0.02382742241024971, 0.048227693885564804, 0.044053081423044205, 0.06950207054615021, 0.11594418436288834, 0.04871165007352829, 0.05595603957772255, 0.05914261192083359, 0.0, 0.0, 0.0, 0.0, 0.0, 0.0, 0.0, 0.0, 0.0, 0.0, 0.0, 0.0, 0.0, 0.0], [0.18644391000270844, 0.07265208661556244, 0.09186165034770966, 0.03581523895263672, 0.019908012822270393, 0.03679388761520386, 0.016468089073896408, 0.024776561185717583, 0.02901177667081356, 0.020739378407597542, 0.029593506827950478, 0.042792487889528275, 0.022976549342274666, 0.047721169888973236, 0.08746689558029175, 0.025382498279213905, 0.025259120389819145, 0.17369121313095093, 0.010645924136042595, 0.0, 0.0, 0.0, 0.0, 0.0, 0.0, 0.0, 0.0, 0.0, 0.0, 0.0, 0.0, 0.0], [0.10633368790149689, 0.018641162663698196, 0.016110271215438843, 0.023172931745648384, 0.0036835619248449802, 0.05228624865412712, 0.00739651545882225, 0.04513618350028992, 0.16218169033527374, 0.004053499083966017, 0.020429454743862152, 0.03352737054228783, 0.004622436594218016, 0.0916001945734024, 0.1431972086429596, 0.0053344424813985825, 0.00896791834384203, 0.22344215214252472, 0.02351073920726776, 0.006372347008436918, 0.0, 0.0, 0.0, 0.0, 0.0, 0.0, 0.0, 0.0, 0.0, 0.0, 0.0, 0.0], [0.08622719347476959, 0.028210895135998726, 0.0247214175760746, 0.020181091502308846, 0.008595955558121204, 0.025279970839619637, 0.006866292096674442, 0.03993526101112366, 0.0814429298043251, 0.009852398186922073, 0.02088647335767746, 0.03127694129943848, 0.011286323890089989, 0.08349018543958664, 0.19631578028202057, 0.012908286415040493, 0.011519502848386765, 0.23041944205760956, 0.030317438766360283, 0.01552369724959135, 0.02474251389503479, 0.0, 0.0, 0.0, 0.0, 0.0, 0.0, 0.0, 0.0, 0.0, 0.0, 0.0], [0.056178394705057144, 0.036591459065675735, 0.02288801223039627, 0.04078763350844383, 0.01473832968622446, 0.019399292767047882, 0.01087681669741869, 0.028549132868647575, 0.0640118420124054, 0.016430921852588654, 0.016699695959687233, 0.05817621573805809, 0.01780538633465767, 0.04896681383252144, 0.1468801200389862, 0.02029174566268921, 0.01767195202410221, 0.19504299759864807, 0.0173666849732399, 0.02365746721625328, 0.01730021834373474, 0.10968892276287079, 0.0, 0.0, 0.0, 0.0, 0.0, 0.0, 0.0, 0.0, 0.0, 0.0], [0.08477141708135605, 0.0206947959959507, 0.02184952050447464, 0.07242890447378159, 0.017595818266272545, 0.02255530282855034, 0.01555976364761591, 0.028210097923874855, 0.049886271357536316, 0.018639015033841133, 0.04243520274758339, 0.015493345446884632, 0.019565289840102196, 0.04210681840777397, 0.06266257911920547, 0.020894819870591164, 0.027948809787631035, 0.04253695532679558, 0.022964615374803543, 0.024664906784892082, 0.08553306758403778, 0.052998609840869904, 0.18800410628318787, 0.0, 0.0, 0.0, 0.0, 0.0, 0.0, 0.0, 0.0, 0.0], [0.0690595880150795, 0.01417512446641922, 0.012740702368319035, 0.022885942831635475, 0.006143203005194664, 0.017966952174901962, 0.005827541928738356, 0.02783065475523472, 0.06822778284549713, 0.006834464147686958, 0.019929764792323112, 0.023093072697520256, 0.007509269285947084, 0.0404374822974205, 0.14798510074615479, 0.008691199123859406, 0.009851011447608471, 0.12482666969299316, 0.014864543452858925, 0.010483067482709885, 0.02764701098203659, 0.09852699190378189, 0.20250283181667328, 0.011959945783019066, 0.0, 0.0, 0.0, 0.0, 0.0, 0.0, 0.0, 0.0], [0.08981441706418991, 0.04873562976717949, 0.07645688951015472, 0.06100897490978241, 0.016663631424307823, 0.008107243105769157, 0.01479430217295885, 0.010796143673360348, 0.012939868494868279, 0.014674384146928787, 0.04106883704662323, 0.043576303869485855, 0.015707707032561302, 0.0385432131588459, 0.14146924018859863, 0.01643764041364193, 0.03407691791653633, 0.06043137237429619, 0.01651337742805481, 0.01801951602101326, 0.047343671321868896, 0.01728430576622486, 0.027064315974712372, 0.03970206901431084, 0.08876997232437134, 0.0, 0.0, 0.0, 0.0, 0.0, 0.0, 0.0], [0.05493716895580292, 0.030110634863376617, 0.034344155341386795, 0.019656268879771233, 0.005571966525167227, 0.012234846130013466, 0.0063987295143306255, 0.006393178831785917, 0.011841895990073681, 0.005273087881505489, 0.019020238891243935, 0.004860854707658291, 0.005742461886256933, 0.03248235210776329, 0.033787403255701065, 0.0056581199169158936, 0.008031869307160378, 0.03630438074469566, 0.011258939281105995, 0.0063301739282906055, 0.007992666214704514, 0.03320443630218506, 0.011407340876758099, 0.009522729553282261, 0.5729650259017944, 0.014669043011963367, 0.0, 0.0, 0.0, 0.0, 0.0, 0.0], [0.062246330082416534, 0.01751961186528206, 0.011048627085983753, 0.029089977964758873, 0.006602406967431307, 0.015405279584228992, 0.005127970594912767, 0.029861919581890106, 0.028206849470734596, 0.00707470765337348, 0.015390484593808651, 0.027910370379686356, 0.007772482465952635, 0.0661381259560585, 0.05969398468732834, 0.008633032441139221, 0.00863054022192955, 0.08921484649181366, 0.019090579822659492, 0.010293356142938137, 0.021470727398991585, 0.1421060711145401, 0.14063343405723572, 0.01216300018131733, 0.1009744331240654, 0.04946933314204216, 0.00823149923235178, 0.0, 0.0, 0.0, 0.0, 0.0], [0.046262308955192566, 0.061228588223457336, 0.06195025518536568, 0.023088818415999413, 0.007220469880849123, 0.006461483426392078, 0.004877639003098011, 0.0036041720304638147, 0.0186066422611475, 0.006773468106985092, 0.08989827334880829, 0.013086885213851929, 0.006907141301780939, 0.01885194703936577, 0.15122252702713013, 0.007553401403129101, 0.008087233640253544, 0.03303951397538185, 0.014343428425490856, 0.00800939928740263, 0.007961786352097988, 0.023412786424160004, 0.012803466990590096, 0.012711900286376476, 0.09320998191833496, 0.2121778279542923, 0.013955317437648773, 0.0326932929456234, 0.0, 0.0, 0.0, 0.0], [0.045580800622701645, 0.020685900002717972, 0.021674059331417084, 0.026536667719483376, 0.033071279525756836, 0.04756363853812218, 0.02184353396296501, 0.04307793825864792, 0.05414129048585892, 0.0350327305495739, 0.018323656171560287, 0.023187151178717613, 0.0378948338329792, 0.0341283343732357, 0.024916183203458786, 0.04096364229917526, 0.03592611104249954, 0.038592368364334106, 0.020747704431414604, 0.043840568512678146, 0.02549181878566742, 0.07363410294055939, 0.045511212199926376, 0.03183060139417648, 0.041360851377248764, 0.021062038838863373, 0.03662727028131485, 0.042198680341243744, 0.01455505657941103, 0.0, 0.0, 0.0], [0.11559610813856125, 0.02160409651696682, 0.015598444268107414, 0.01776379533112049, 0.02009468339383602, 0.020989159122109413, 0.022409945726394653, 0.014403204433619976, 0.0359155647456646, 0.019344856962561607, 0.05206071957945824, 0.019623907282948494, 0.020549431443214417, 0.021469086408615112, 0.046955406665802, 0.021138375625014305, 0.03730235993862152, 0.024750595912337303, 0.0038410192355513573, 0.023668203502893448, 0.009042628109455109, 0.026512032374739647, 0.029087932780385017, 0.03499584272503853, 0.023228853940963745, 0.10702608525753021, 0.07000310719013214, 0.025424949824810028, 0.06901221722364426, 0.030587300658226013, 0.0, 0.0], [0.07573969662189484, 0.04267064109444618, 0.06227657198905945, 0.017304686829447746, 0.008459500037133694, 0.011075870133936405, 0.006877944804728031, 0.0027231378480792046, 0.025641238316893578, 0.008412173949182034, 0.030688218772411346, 0.03951731696724892, 0.009086306206882, 0.010757510550320148, 0.051344502717256546, 0.009772512130439281, 0.014126896858215332, 0.052897363901138306, 0.03203786909580231, 0.011194836348295212, 0.007258533965796232, 0.006367822643369436, 0.014004489406943321, 0.022340165451169014, 0.16751880943775177, 0.08927815407514572, 0.019198689609766006, 0.030070092529058456, 0.03380536660552025, 0.05408340319991112, 0.03346967697143555, 0.0], [0.03756857290863991, 0.011252086609601974, 0.00832483172416687, 0.013775055296719074, 0.0019000803586095572, 0.023268841207027435, 0.0026694817934185266, 0.024478700011968613, 0.052601635456085205, 0.0019316900288686156, 0.006808814126998186, 0.013933418318629265, 0.0021182571072131395, 0.04855494573712349, 0.06274676322937012, 0.002439286094158888, 0.0027826970908790827, 0.1056763082742691, 0.006659257225692272, 0.0029246918857097626, 0.00798043143004179, 0.10061273723840714, 0.12783987820148468, 0.005569756496697664, 0.04175230488181114, 0.029624279588460922, 0.0041465749964118, 0.036628272384405136, 0.01931477151811123, 0.10475227236747742, 0.08545408397912979, 0.003909270279109478]], [[1.0, 0.0, 0.0, 0.0, 0.0, 0.0, 0.0, 0.0, 0.0, 0.0, 0.0, 0.0, 0.0, 0.0, 0.0, 0.0, 0.0, 0.0, 0.0, 0.0, 0.0, 0.0, 0.0, 0.0, 0.0, 0.0, 0.0, 0.0, 0.0, 0.0, 0.0, 0.0], [0.0049498435109853745, 0.9950501322746277, 0.0, 0.0, 0.0, 0.0, 0.0, 0.0, 0.0, 0.0, 0.0, 0.0, 0.0, 0.0, 0.0, 0.0, 0.0, 0.0, 0.0, 0.0, 0.0, 0.0, 0.0, 0.0, 0.0, 0.0, 0.0, 0.0, 0.0, 0.0, 0.0, 0.0], [0.003119104541838169, 0.005939062684774399, 0.9909418225288391, 0.0, 0.0, 0.0, 0.0, 0.0, 0.0, 0.0, 0.0, 0.0, 0.0, 0.0, 0.0, 0.0, 0.0, 0.0, 0.0, 0.0, 0.0, 0.0, 0.0, 0.0, 0.0, 0.0, 0.0, 0.0, 0.0, 0.0, 0.0, 0.0], [4.929895294480957e-05, 0.00044397395686246455, 0.003557802177965641, 0.9959489107131958, 0.0, 0.0, 0.0, 0.0, 0.0, 0.0, 0.0, 0.0, 0.0, 0.0, 0.0, 0.0, 0.0, 0.0, 0.0, 0.0, 0.0, 0.0, 0.0, 0.0, 0.0, 0.0, 0.0, 0.0, 0.0, 0.0, 0.0, 0.0], [0.0010007129749283195, 0.00017241541354451329, 0.0001107441567000933, 0.0002694993163459003, 0.9984466433525085, 0.0, 0.0, 0.0, 0.0, 0.0, 0.0, 0.0, 0.0, 0.0, 0.0, 0.0, 0.0, 0.0, 0.0, 0.0, 0.0, 0.0, 0.0, 0.0, 0.0, 0.0, 0.0, 0.0, 0.0, 0.0, 0.0, 0.0], [0.0032964288257062435, 0.003341574454680085, 0.0006960537866689265, 0.000880478648468852, 0.001343234209343791, 0.9904422163963318, 0.0, 0.0, 0.0, 0.0, 0.0, 0.0, 0.0, 0.0, 0.0, 0.0, 0.0, 0.0, 0.0, 0.0, 0.0, 0.0, 0.0, 0.0, 0.0, 0.0, 0.0, 0.0, 0.0, 0.0, 0.0, 0.0], [0.0007112906314432621, 0.0009563444764353335, 0.0002106549945892766, 0.0004354052944108844, 0.0018204766092821956, 0.003933465573936701, 0.9919324517250061, 0.0, 0.0, 0.0, 0.0, 0.0, 0.0, 0.0, 0.0, 0.0, 0.0, 0.0, 0.0, 0.0, 0.0, 0.0, 0.0, 0.0, 0.0, 0.0, 0.0, 0.0, 0.0, 0.0, 0.0, 0.0], [0.0008483607671223581, 0.004826487507671118, 0.0020022678654640913, 0.010598475113511086, 0.0003970866382587701, 0.0002957472752314061, 0.0004874072619713843, 0.9805441498756409, 0.0, 0.0, 0.0, 0.0, 0.0, 0.0, 0.0, 0.0, 0.0, 0.0, 0.0, 0.0, 0.0, 0.0, 0.0, 0.0, 0.0, 0.0, 0.0, 0.0, 0.0, 0.0, 0.0, 0.0], [7.932465086923912e-05, 0.00023933168267831206, 0.00036451846244744956, 0.0014217958087101579, 0.00010445870429975912, 0.0003597889153752476, 0.0006098155281506479, 0.0064883483573794365, 0.9903325438499451, 0.0, 0.0, 0.0, 0.0, 0.0, 0.0, 0.0, 0.0, 0.0, 0.0, 0.0, 0.0, 0.0, 0.0, 0.0, 0.0, 0.0, 0.0, 0.0, 0.0, 0.0, 0.0, 0.0], [0.0003647990815807134, 3.245507468818687e-05, 2.5022480258485302e-05, 5.839557707076892e-05, 0.49230411648750305, 0.00014855792687740177, 0.000975011324044317, 3.523415216477588e-05, 2.7899530323338695e-05, 0.5060284733772278, 0.0, 0.0, 0.0, 0.0, 0.0, 0.0, 0.0, 0.0, 0.0, 0.0, 0.0, 0.0, 0.0, 0.0, 0.0, 0.0, 0.0, 0.0, 0.0, 0.0, 0.0, 0.0], [0.00031123534427024424, 0.002016073325648904, 0.003051216248422861, 0.005293253809213638, 0.0006146817468106747, 0.0001461017964174971, 0.00019621505634859204, 3.163852306897752e-05, 0.0001453559088986367, 0.0003624495875556022, 0.9878317713737488, 0.0, 0.0, 0.0, 0.0, 0.0, 0.0, 0.0, 0.0, 0.0, 0.0, 0.0, 0.0, 0.0, 0.0, 0.0, 0.0, 0.0, 0.0, 0.0, 0.0, 0.0], [0.00046454434050247073, 0.04248979315161705, 0.0037340077105909586, 0.0047204033471643925, 0.00013363473408389837, 0.00015881643048487604, 0.0002631259267218411, 0.00011981109128100798, 0.0008450204040855169, 7.045453821774572e-05, 0.000354639021679759, 0.9466456770896912, 0.0, 0.0, 0.0, 0.0, 0.0, 0.0, 0.0, 0.0, 0.0, 0.0, 0.0, 0.0, 0.0, 0.0, 0.0, 0.0, 0.0, 0.0, 0.0, 0.0], [0.0002085850719595328, 1.4194987670634873e-05, 1.2007718396489508e-05, 2.573612982814666e-05, 0.2975025773048401, 8.419677760684863e-05, 0.0005244078347459435, 2.0921232135151513e-05, 1.7059182937373407e-05, 0.33894458413124084, 4.3227351852692664e-05, 6.947765086806612e-06, 0.36259549856185913, 0.0, 0.0, 0.0, 0.0, 0.0, 0.0, 0.0, 0.0, 0.0, 0.0, 0.0, 0.0, 0.0, 0.0, 0.0, 0.0, 0.0, 0.0, 0.0], [9.516897989669815e-05, 0.0005633982364088297, 0.0002803624083753675, 0.00024591016699559987, 5.144597525941208e-05, 3.764355642488226e-05, 9.362197306472808e-05, 0.001024011755362153, 0.011286674067378044, 3.121998815913685e-05, 2.083294566546101e-05, 0.00036987903877161443, 2.7348296498530544e-05, 0.9858725070953369, 0.0, 0.0, 0.0, 0.0, 0.0, 0.0, 0.0, 0.0, 0.0, 0.0, 0.0, 0.0, 0.0, 0.0, 0.0, 0.0, 0.0, 0.0], [0.0005459784879349172, 0.002321397652849555, 0.005710499361157417, 0.008193490095436573, 3.1206716812448576e-05, 0.0008479994721710682, 0.0006578209577128291, 0.0030931346118450165, 0.034565020352602005, 1.800633799575735e-05, 0.0009524853667244315, 0.0015197357861325145, 1.582066215632949e-05, 0.006235543638467789, 0.9352919459342957, 0.0, 0.0, 0.0, 0.0, 0.0, 0.0, 0.0, 0.0, 0.0, 0.0, 0.0, 0.0, 0.0, 0.0, 0.0, 0.0, 0.0], [0.00014239494339562953, 7.896723218436819e-06, 6.994414434302598e-06, 1.406220326316543e-05, 0.19458997249603271, 5.613038592855446e-05, 0.000335291784722358, 1.3615524039778393e-05, 1.1121752322651446e-05, 0.23873358964920044, 2.8289961846894585e-05, 4.885967427981086e-06, 0.2623981237411499, 9.087079888558947e-06, 4.937262474413728e-06, 0.30364367365837097, 0.0, 0.0, 0.0, 0.0, 0.0, 0.0, 0.0, 0.0, 0.0, 0.0, 0.0, 0.0, 0.0, 0.0, 0.0, 0.0], [0.0003053953987546265, 7.222038402687758e-05, 7.894208101788536e-05, 0.00013863926869817078, 0.0137535585090518, 0.0007363389013335109, 0.034684669226408005, 2.873216180887539e-05, 0.00011486696166684851, 0.012219097465276718, 4.3366151658119634e-05, 5.9650239563779905e-05, 0.012360762804746628, 0.00010938094783341512, 5.495028381119482e-05, 0.013148818165063858, 0.9120906591415405, 0.0, 0.0, 0.0, 0.0, 0.0, 0.0, 0.0, 0.0, 0.0, 0.0, 0.0, 0.0, 0.0, 0.0, 0.0], [8.713113857083954e-06, 5.6235356169054285e-05, 9.137619781540707e-05, 6.868823402328417e-05, 1.0074510328195174e-06, 1.1040141544071957e-05, 8.545564924133942e-06, 9.440004214411601e-05, 0.0001317278656642884, 5.7759547189562e-07, 1.7980493112190743e-06, 3.897234273608774e-05, 4.971312250745541e-07, 0.00013643948477692902, 0.00034429761581122875, 4.394944426167058e-07, 4.124773568037199e-06, 0.9990012049674988, 0.0, 0.0, 0.0, 0.0, 0.0, 0.0, 0.0, 0.0, 0.0, 0.0, 0.0, 0.0, 0.0, 0.0], [0.0005118285771459341, 0.002659470308572054, 0.019232841208577156, 0.0032376833260059357, 0.0003009258070960641, 5.452688492368907e-05, 0.00045669235987588763, 0.00015427191101480275, 0.001046858262270689, 0.00021910112991463393, 0.0010407065274193883, 0.0019463435746729374, 0.00020234441035427153, 0.0010871690465137362, 0.0017220266163349152, 0.0001862225471995771, 0.0009906714549288154, 0.00045707993558607996, 0.9644933938980103, 0.0, 0.0, 0.0, 0.0, 0.0, 0.0, 0.0, 0.0, 0.0, 0.0, 0.0, 0.0, 0.0], [0.00010053719597635791, 4.404159426485421e-06, 4.089938556717243e-06, 7.91999809734989e-06, 0.12889909744262695, 3.762824053410441e-05, 0.00020819398923777044, 9.288957699027378e-06, 7.124896001187153e-06, 0.1704811006784439, 1.9082055587205105e-05, 3.294664793429547e-06, 0.19314637780189514, 6.63445507598226e-06, 3.5301245588925667e-06, 0.23048093914985657, 0.002398506738245487, 3.842292244371492e-06, 3.468708018772304e-05, 0.2741437256336212, 0.0, 0.0, 0.0, 0.0, 0.0, 0.0, 0.0, 0.0, 0.0, 0.0, 0.0, 0.0], [0.00028267508605495095, 0.00020186297479085624, 5.0901100621558726e-05, 0.00021547875076066703, 0.0020229690708220005, 0.0006155366427265108, 0.0005561050493270159, 9.634895104682073e-05, 0.00014119641855359077, 0.0018343435367569327, 3.462791573838331e-05, 2.509398473193869e-05, 0.0018674375023692846, 6.830606434959918e-05, 2.4667764591868035e-05, 0.001899209339171648, 0.001637089648284018, 4.0515922592021525e-05, 0.00015994691057130694, 0.001986222807317972, 0.9862393736839294, 0.0, 0.0, 0.0, 0.0, 0.0, 0.0, 0.0, 0.0, 0.0, 0.0, 0.0], [0.00036653305869549513, 0.00010687069880077615, 0.00014788322732783854, 0.00019743158190976828, 4.18829267800902e-06, 0.002475178334861994, 0.00025568288401700556, 5.488650276674889e-05, 5.449012678582221e-05, 2.486242692611995e-06, 1.7566702808835544e-05, 4.550583071250003e-06, 2.2524784526467556e-06, 6.283973561949097e-06, 5.277205491438508e-05, 2.0822246824536705e-06, 3.516469951136969e-05, 0.0013782085152342916, 2.0378511180751957e-05, 1.9171434360032436e-06, 0.0006095857243053615, 0.9942037463188171, 0.0, 0.0, 0.0, 0.0, 0.0, 0.0, 0.0, 0.0, 0.0, 0.0], [0.00023719004821032286, 0.0009643607772886753, 0.0010364819318056107, 0.0031496204901486635, 1.3625375686387997e-05, 0.00022283518046606332, 0.00019262406567577273, 0.0022449521347880363, 0.006319934036582708, 9.174369552056305e-06, 8.82694948813878e-05, 0.0008190470398403704, 8.190610060410108e-06, 0.0011278224410489202, 0.0025273323990404606, 7.407903012790484e-06, 0.0001257639960385859, 0.0006417628610506654, 9.348017920274287e-05, 6.997947821218986e-06, 6.836887041572481e-05, 6.528526864713058e-05, 0.9800294041633606, 0.0, 0.0, 0.0, 0.0, 0.0, 0.0, 0.0, 0.0, 0.0], [0.0002468475722707808, 1.6004580174922012e-05, 8.316234016092494e-05, 0.00012381903070490807, 0.0008612684323452413, 0.00032599311089143157, 0.018975090235471725, 9.946173122443724e-06, 5.004893318982795e-05, 0.000758322945330292, 4.356889985501766e-05, 9.783085261005908e-06, 0.0007662286516278982, 2.108263288391754e-05, 1.1652520697680302e-05, 0.0008152662194333971, 0.00855980347841978, 3.498239311738871e-05, 3.27490342897363e-05, 0.0008545113960281014, 0.0010605651186779141, 0.0003460175357758999, 0.00010108512651640922, 0.9658922553062439, 0.0, 0.0, 0.0, 0.0, 0.0, 0.0, 0.0, 0.0], [4.521579830907285e-05, 5.7730881962925196e-05, 0.00012819498078897595, 0.00289831031113863, 1.2233328561706003e-05, 3.683155955513939e-05, 4.167548831901513e-05, 0.00013930076966062188, 5.694197170669213e-05, 9.012320333567914e-06, 9.874918032437563e-05, 3.353376087034121e-05, 8.294821782328654e-06, 1.0976692465192173e-05, 6.633513839915395e-05, 7.892173016443849e-06, 2.9220424039522186e-05, 1.999373489525169e-05, 3.139328782708617e-06, 7.535189979535062e-06, 4.544862349575851e-06, 0.00045825185952708125, 0.00018473104864824563, 9.883246821118519e-05, 0.995542585849762, 0.0, 0.0, 0.0, 0.0, 0.0, 0.0, 0.0], [7.34045315766707e-05, 0.00021239112538751215, 0.0003807064495049417, 0.00043507778900675476, 5.5752709158696234e-05, 3.058243964915164e-05, 5.600818985840306e-05, 0.00030625154613517225, 0.00042440605466254056, 4.3592113797785714e-05, 0.0002481967385392636, 6.008676064084284e-05, 4.093514507985674e-05, 0.0015544217312708497, 0.0013308328343555331, 3.8713948015356436e-05, 2.439952004351653e-05, 0.00018990472017321736, 0.00012819108087569475, 3.765164001379162e-05, 7.344858022406697e-05, 0.00011567212641239166, 0.0008760963683016598, 0.00014582679432351142, 0.0002418969088466838, 0.9928755760192871, 0.0, 0.0, 0.0, 0.0, 0.0, 0.0], [0.00014140451094135642, 6.626595222769538e-06, 1.0776489034469705e-05, 2.381254489591811e-05, 0.0008989593479782343, 5.592222078121267e-05, 0.0014838750939816236, 3.921676761819981e-05, 0.0001550553279230371, 0.0007775220437906682, 1.2075737686245702e-05, 3.2590364753559697e-06, 0.0007661808631382883, 0.0001016197056742385, 3.3173337214975618e-06, 0.0008275960572063923, 0.0012493790127336979, 1.484917629568372e-05, 1.0158274562854785e-05, 0.000911868060939014, 9.367139136884362e-05, 3.53237301169429e-05, 0.0001017292815959081, 0.00842256285250187, 4.216161323711276e-05, 3.55642464455741e-06, 0.9838075041770935, 0.0, 0.0, 0.0, 0.0, 0.0], [2.497599234629888e-05, 6.781348929507658e-05, 0.0010380223393440247, 0.3635379672050476, 8.841244380164426e-06, 1.902199801406823e-05, 4.759762668982148e-05, 0.00025477525196038187, 0.00014634098624810576, 5.87537351748324e-06, 0.00024219165788963437, 1.4041628674021922e-05, 5.343566044757608e-06, 2.5978501071222126e-05, 8.454661292489618e-05, 4.955223630531691e-06, 2.158803545171395e-05, 0.00022208865266293287, 1.1520856787683442e-05, 4.868305950367358e-06, 1.567677827551961e-05, 4.1263199818786234e-05, 0.00012564593635033816, 4.299533611629158e-05, 0.0008717228774912655, 0.00045099889393895864, 1.1818711755040567e-05, 0.6326515078544617, 0.0, 0.0, 0.0, 0.0], [4.231473576510325e-05, 0.00022863376943860203, 0.00034817098639905453, 8.83270040503703e-05, 2.317440703336615e-05, 0.00014658972213510424, 3.145389200653881e-05, 7.720791472820565e-06, 3.743997513083741e-05, 1.8336711946176365e-05, 6.729786400683224e-05, 0.0006932932301424444, 1.717597660899628e-05, 0.00015749805606901646, 0.0001477812766097486, 1.671287463977933e-05, 9.394159860676154e-05, 8.855101623339579e-05, 4.963106675859308e-06, 1.646714190428611e-05, 5.5442407756345347e-05, 0.0005441721295937896, 0.0005445508286356926, 6.207289698068053e-05, 6.690635927952826e-05, 0.00029596322565339506, 1.0049269803857896e-05, 7.079907663865015e-05, 0.9960741996765137, 0.0, 0.0, 0.0], [0.00012550631072372198, 0.0005953120999038219, 0.00012879986024927348, 0.0004356241843197495, 6.883184596517822e-06, 0.0012960341991856694, 0.0006114458665251732, 0.000692579138558358, 0.0006060248124413192, 4.509838618105277e-06, 9.623236110201105e-06, 9.64431746979244e-05, 3.900941464962671e-06, 1.4539942640112713e-05, 0.00030714418971911073, 3.559382548701251e-06, 8.276747394120321e-05, 0.003249203087761998, 4.95596168548218e-06, 3.2901082249736646e-06, 1.4621412447013427e-05, 0.00016505393432453275, 0.0003429391945246607, 0.0001829695247579366, 0.0013009764952585101, 0.0002317716571269557, 2.60470224020537e-05, 0.0002829285804182291, 1.3323551684152335e-05, 0.9891613125801086, 0.0, 0.0], [6.498050061054528e-05, 0.00010616779036354274, 0.0014685350470244884, 0.0008701363112777472, 3.384055844435352e-06, 3.249157089157961e-05, 8.3528129835031e-06, 0.00015510413504671305, 3.1088082323549315e-05, 2.1014022877352545e-06, 0.0003389805497135967, 5.408982906374149e-05, 1.9051116169066518e-06, 0.00012556918954942375, 0.0001501823280705139, 1.7471668343205238e-06, 2.3618156774318777e-05, 0.00024169748940039426, 4.357512079877779e-05, 1.7121028577093966e-06, 2.787329322018195e-05, 0.00023925758432596922, 0.0001970586454262957, 1.009937022899976e-05, 0.0004459769115783274, 0.00021965982159599662, 5.731138571718475e-06, 0.0007210182375274599, 0.0001525524421595037, 0.00026259716833010316, 0.9939927458763123, 0.0], [0.0007875643204897642, 1.2552936823340133e-05, 2.6630305001162924e-05, 7.291280780918896e-05, 0.0075479415245354176, 2.3713444534223527e-05, 0.0002818576176650822, 7.01865428709425e-05, 2.254833816550672e-05, 0.008445106446743011, 5.957989560556598e-05, 1.1332524081808515e-05, 0.009051010012626648, 7.844807987567037e-05, 7.3180631261493545e-06, 0.01064214762300253, 0.0014380860375240445, 3.9895014197099954e-05, 8.372731826966628e-05, 0.013012757524847984, 4.413697752170265e-05, 4.016462298750412e-06, 3.671009835670702e-05, 0.000562549801543355, 9.404804586665705e-05, 3.188431219314225e-05, 0.001294831046834588, 9.109331585932523e-05, 0.00019816109852399677, 0.00013474201841745526, 7.107418059604242e-05, 0.945721447467804]], [[1.0, 0.0, 0.0, 0.0, 0.0, 0.0, 0.0, 0.0, 0.0, 0.0, 0.0, 0.0, 0.0, 0.0, 0.0, 0.0, 0.0, 0.0, 0.0, 0.0, 0.0, 0.0, 0.0, 0.0, 0.0, 0.0, 0.0, 0.0, 0.0, 0.0, 0.0, 0.0], [0.8035197257995605, 0.19648022949695587, 0.0, 0.0, 0.0, 0.0, 0.0, 0.0, 0.0, 0.0, 0.0, 0.0, 0.0, 0.0, 0.0, 0.0, 0.0, 0.0, 0.0, 0.0, 0.0, 0.0, 0.0, 0.0, 0.0, 0.0, 0.0, 0.0, 0.0, 0.0, 0.0, 0.0], [0.721367359161377, 0.19115108251571655, 0.08748158812522888, 0.0, 0.0, 0.0, 0.0, 0.0, 0.0, 0.0, 0.0, 0.0, 0.0, 0.0, 0.0, 0.0, 0.0, 0.0, 0.0, 0.0, 0.0, 0.0, 0.0, 0.0, 0.0, 0.0, 0.0, 0.0, 0.0, 0.0, 0.0, 0.0], [0.3720826506614685, 0.3012677729129791, 0.2036808878183365, 0.12296866625547409, 0.0, 0.0, 0.0, 0.0, 0.0, 0.0, 0.0, 0.0, 0.0, 0.0, 0.0, 0.0, 0.0, 0.0, 0.0, 0.0, 0.0, 0.0, 0.0, 0.0, 0.0, 0.0, 0.0, 0.0, 0.0, 0.0, 0.0, 0.0], [0.17340542376041412, 0.06050346419215202, 0.037463556975126266, 0.05517090857028961, 0.673456609249115, 0.0, 0.0, 0.0, 0.0, 0.0, 0.0, 0.0, 0.0, 0.0, 0.0, 0.0, 0.0, 0.0, 0.0, 0.0, 0.0, 0.0, 0.0, 0.0, 0.0, 0.0, 0.0, 0.0, 0.0, 0.0, 0.0, 0.0], [0.18441779911518097, 0.21820494532585144, 0.1708584874868393, 0.1468154937028885, 0.19779232144355774, 0.08191096037626266, 0.0, 0.0, 0.0, 0.0, 0.0, 0.0, 0.0, 0.0, 0.0, 0.0, 0.0, 0.0, 0.0, 0.0, 0.0, 0.0, 0.0, 0.0, 0.0, 0.0, 0.0, 0.0, 0.0, 0.0, 0.0, 0.0], [0.18949629366397858, 0.12848474085330963, 0.11732408404350281, 0.14502733945846558, 0.14087624847888947, 0.09912183880805969, 0.17966948449611664, 0.0, 0.0, 0.0, 0.0, 0.0, 0.0, 0.0, 0.0, 0.0, 0.0, 0.0, 0.0, 0.0, 0.0, 0.0, 0.0, 0.0, 0.0, 0.0, 0.0, 0.0, 0.0, 0.0, 0.0, 0.0], [0.3830970227718353, 0.07725068926811218, 0.10518471896648407, 0.07503561675548553, 0.07000447809696198, 0.09485016763210297, 0.09696654975414276, 0.09761077910661697, 0.0, 0.0, 0.0, 0.0, 0.0, 0.0, 0.0, 0.0, 0.0, 0.0, 0.0, 0.0, 0.0, 0.0, 0.0, 0.0, 0.0, 0.0, 0.0, 0.0, 0.0, 0.0, 0.0, 0.0], [0.2170284539461136, 0.08235403150320053, 0.08422362059354782, 0.14647264778614044, 0.08780279010534286, 0.08737990260124207, 0.10183443129062653, 0.14800718426704407, 0.04489703103899956, 0.0, 0.0, 0.0, 0.0, 0.0, 0.0, 0.0, 0.0, 0.0, 0.0, 0.0, 0.0, 0.0, 0.0, 0.0, 0.0, 0.0, 0.0, 0.0, 0.0, 0.0, 0.0, 0.0], [0.07740958780050278, 0.02748468704521656, 0.01732323132455349, 0.029159022495150566, 0.3506086766719818, 0.01944592222571373, 0.0630355030298233, 0.02285238727927208, 0.01746434159576893, 0.37521660327911377, 0.0, 0.0, 0.0, 0.0, 0.0, 0.0, 0.0, 0.0, 0.0, 0.0, 0.0, 0.0, 0.0, 0.0, 0.0, 0.0, 0.0, 0.0, 0.0, 0.0, 0.0, 0.0], [0.13086555898189545, 0.08689382672309875, 0.1569397747516632, 0.16364848613739014, 0.041048742830753326, 0.055937543511390686, 0.0812421515583992, 0.08171851187944412, 0.09159711003303528, 0.036817457526922226, 0.07329083979129791, 0.0, 0.0, 0.0, 0.0, 0.0, 0.0, 0.0, 0.0, 0.0, 0.0, 0.0, 0.0, 0.0, 0.0, 0.0, 0.0, 0.0, 0.0, 0.0, 0.0, 0.0], [0.14408990740776062, 0.19015343487262726, 0.04978807270526886, 0.08442094177007675, 0.04033469408750534, 0.04014448821544647, 0.04479169100522995, 0.08205007761716843, 0.04362773150205612, 0.03349769487977028, 0.10136145353317261, 0.14573977887630463, 0.0, 0.0, 0.0, 0.0, 0.0, 0.0, 0.0, 0.0, 0.0, 0.0, 0.0, 0.0, 0.0, 0.0, 0.0, 0.0, 0.0, 0.0, 0.0, 0.0], [0.054261185228824615, 0.017818227410316467, 0.011791490018367767, 0.020939476788043976, 0.2384786754846573, 0.013811493292450905, 0.04328177869319916, 0.015932315960526466, 0.013296986930072308, 0.25869882106781006, 0.006882370449602604, 0.02899634651839733, 0.2758108079433441, 0.0, 0.0, 0.0, 0.0, 0.0, 0.0, 0.0, 0.0, 0.0, 0.0, 0.0, 0.0, 0.0, 0.0, 0.0, 0.0, 0.0, 0.0, 0.0], [0.09991635382175446, 0.14254696667194366, 0.05069560185074806, 0.11913854628801346, 0.01887788437306881, 0.04142456501722336, 0.03631521016359329, 0.14802153408527374, 0.0660623088479042, 0.016390463337302208, 0.009198705665767193, 0.1580163985490799, 0.0154873076826334, 0.07790813595056534, 0.0, 0.0, 0.0, 0.0, 0.0, 0.0, 0.0, 0.0, 0.0, 0.0, 0.0, 0.0, 0.0, 0.0, 0.0, 0.0, 0.0, 0.0], [0.09321516752243042, 0.0727500170469284, 0.02517024055123329, 0.041449178010225296, 0.0627741813659668, 0.06072051078081131, 0.0616350956261158, 0.09070419520139694, 0.06578683853149414, 0.05738275498151779, 0.02621269039809704, 0.05891331285238266, 0.05807819217443466, 0.20762193202972412, 0.01758570782840252, 0.0, 0.0, 0.0, 0.0, 0.0, 0.0, 0.0, 0.0, 0.0, 0.0, 0.0, 0.0, 0.0, 0.0, 0.0, 0.0, 0.0], [0.03948793187737465, 0.012524763122200966, 0.008338343352079391, 0.015093541704118252, 0.17560653388500214, 0.01023139338940382, 0.03137696906924248, 0.01149364560842514, 0.009955747053027153, 0.19262580573558807, 0.005067109130322933, 0.022451626136898994, 0.20654067397117615, 0.02356223575770855, 0.007416869513690472, 0.22822676599025726, 0.0, 0.0, 0.0, 0.0, 0.0, 0.0, 0.0, 0.0, 0.0, 0.0, 0.0, 0.0, 0.0, 0.0, 0.0, 0.0], [0.06220311298966408, 0.02255157381296158, 0.01223263330757618, 0.02006152644753456, 0.05028242990374565, 0.02523122914135456, 0.05907686799764633, 0.031140707433223724, 0.01979830674827099, 0.0511782132089138, 0.01585620641708374, 0.031935833394527435, 0.053795233368873596, 0.03948768600821495, 0.02224707044661045, 0.05892271548509598, 0.42399856448173523, 0.0, 0.0, 0.0, 0.0, 0.0, 0.0, 0.0, 0.0, 0.0, 0.0, 0.0, 0.0, 0.0, 0.0, 0.0], [0.05659055709838867, 0.05617239326238632, 0.10347656905651093, 0.06297045201063156, 0.0237505491822958, 0.04177967831492424, 0.048841360956430435, 0.0921088233590126, 0.0720629096031189, 0.021951159462332726, 0.050909049808979034, 0.07437898218631744, 0.021902991458773613, 0.13543660938739777, 0.05849556252360344, 0.022569473832845688, 0.031163683161139488, 0.025439171120524406, 0.0, 0.0, 0.0, 0.0, 0.0, 0.0, 0.0, 0.0, 0.0, 0.0, 0.0, 0.0, 0.0, 0.0], [0.12439082562923431, 0.06654167920351028, 0.029188459739089012, 0.030212203040719032, 0.04845046252012253, 0.05707351490855217, 0.054673951119184494, 0.03892360255122185, 0.030865004286170006, 0.0444951169192791, 0.03169102966785431, 0.09412726014852524, 0.04476359859108925, 0.08190139383077621, 0.04090571030974388, 0.046596743166446686, 0.06132087856531143, 0.04433837905526161, 0.029540080577135086, 0.0, 0.0, 0.0, 0.0, 0.0, 0.0, 0.0, 0.0, 0.0, 0.0, 0.0, 0.0, 0.0], [0.029548943042755127, 0.00864828284829855, 0.0058893547393381596, 0.011145382188260555, 0.12789268791675568, 0.007614310830831528, 0.02258176915347576, 0.008497274480760098, 0.0075554633513092995, 0.14173449575901031, 0.003679456887766719, 0.016542119905352592, 0.15231239795684814, 0.017301885411143303, 0.005834362469613552, 0.16906246542930603, 0.03892454504966736, 0.026015479117631912, 0.007601399905979633, 0.1916179209947586, 0.0, 0.0, 0.0, 0.0, 0.0, 0.0, 0.0, 0.0, 0.0, 0.0, 0.0, 0.0], [0.08244749158620834, 0.019173871725797653, 0.03894922882318497, 0.03834735229611397, 0.027818674221634865, 0.03852035477757454, 0.0720067024230957, 0.06592214852571487, 0.05817775800824165, 0.02850192040205002, 0.019136697053909302, 0.031583916395902634, 0.029828261584043503, 0.06975805759429932, 0.04021429643034935, 0.0323856845498085, 0.06372952461242676, 0.07368635386228561, 0.025638530030846596, 0.035053033381700516, 0.10912018269300461, 0.0, 0.0, 0.0, 0.0, 0.0, 0.0, 0.0, 0.0, 0.0, 0.0, 0.0], [0.08467473834753036, 0.06574223935604095, 0.021288542076945305, 0.0488765574991703, 0.030096586793661118, 0.05391146242618561, 0.037010129541158676, 0.05273617058992386, 0.04250936582684517, 0.02747899666428566, 0.04985281452536583, 0.08961152285337448, 0.02868581749498844, 0.06328216195106506, 0.039819326251745224, 0.028800109401345253, 0.054926928132772446, 0.03698212653398514, 0.02727813459932804, 0.03082452341914177, 0.06811565160751343, 0.01749611087143421, 0.0, 0.0, 0.0, 0.0, 0.0, 0.0, 0.0, 0.0, 0.0, 0.0], [0.061395082622766495, 0.05657996982336044, 0.03820217773318291, 0.045156631618738174, 0.020121881738305092, 0.050198331475257874, 0.03490434214472771, 0.05812867358326912, 0.04786575958132744, 0.01778576709330082, 0.047098398208618164, 0.0825045183300972, 0.018041884526610374, 0.06907236576080322, 0.029364267364144325, 0.018495233729481697, 0.03251409903168678, 0.09264037758111954, 0.048999715596437454, 0.01909213699400425, 0.057908233255147934, 0.03515182435512543, 0.01877833902835846, 0.0, 0.0, 0.0, 0.0, 0.0, 0.0, 0.0, 0.0, 0.0], [0.03510462865233421, 0.019931208342313766, 0.023197166621685028, 0.03848888352513313, 0.03560870513319969, 0.034022364765405655, 0.06661994010210037, 0.03351624310016632, 0.033334821462631226, 0.03737238049507141, 0.01165380235761404, 0.04757458716630936, 0.03934823349118233, 0.03771528601646423, 0.021893640980124474, 0.04321884736418724, 0.06886458396911621, 0.05196236073970795, 0.036825742572546005, 0.048299577087163925, 0.06498400866985321, 0.03694098815321922, 0.05217815935611725, 0.08134382963180542, 0.0, 0.0, 0.0, 0.0, 0.0, 0.0, 0.0, 0.0], [0.1024072989821434, 0.05503980815410614, 0.0486784502863884, 0.033611662685871124, 0.02459143102169037, 0.040074001997709274, 0.025552643463015556, 0.047450125217437744, 0.025345833972096443, 0.023522214964032173, 0.018442921340465546, 0.05669572204351425, 0.02376229502260685, 0.06227140873670578, 0.04096302017569542, 0.024875380098819733, 0.045326851308345795, 0.05514179542660713, 0.03406377136707306, 0.0268436037003994, 0.0580952987074852, 0.01605241931974888, 0.032487284392118454, 0.036369070410728455, 0.04233577102422714, 0.0, 0.0, 0.0, 0.0, 0.0, 0.0, 0.0], [0.08168117702007294, 0.0630951002240181, 0.014686471782624722, 0.045565325766801834, 0.024584798142313957, 0.032049357891082764, 0.033565592020750046, 0.03442935645580292, 0.02935357764363289, 0.02238292619585991, 0.018400659784674644, 0.061433207243680954, 0.021585671231150627, 0.11119132488965988, 0.06567897647619247, 0.022291410714387894, 0.02645200490951538, 0.038363851606845856, 0.013317069970071316, 0.02321905829012394, 0.024672631174325943, 0.014737134799361229, 0.06557124853134155, 0.044733792543411255, 0.05042966827750206, 0.01652871072292328, 0.0, 0.0, 0.0, 0.0, 0.0, 0.0], [0.03664732724428177, 0.015614327043294907, 0.03346792981028557, 0.03057963028550148, 0.02436477690935135, 0.023722512647509575, 0.04300975799560547, 0.03957432880997658, 0.04030312970280647, 0.024748265743255615, 0.01680169068276882, 0.03338867798447609, 0.02575763873755932, 0.033011727035045624, 0.01627005636692047, 0.027903536334633827, 0.04388054087758064, 0.04280738905072212, 0.03998120501637459, 0.030545977875590324, 0.0725049376487732, 0.0447356179356575, 0.06216283142566681, 0.07338136434555054, 0.034565575420856476, 0.026779713109135628, 0.06348951905965805, 0.0, 0.0, 0.0, 0.0, 0.0], [0.043180227279663086, 0.033491771668195724, 0.024382608011364937, 0.017264539375901222, 0.02188863232731819, 0.04841926693916321, 0.028077280148863792, 0.05086055397987366, 0.0402643121778965, 0.020734278485178947, 0.022353122010827065, 0.10544047504663467, 0.020771199837327003, 0.0651211217045784, 0.043581437319517136, 0.02128303237259388, 0.033006563782691956, 0.06766730546951294, 0.03120187111198902, 0.022157365456223488, 0.03957957401871681, 0.01939496025443077, 0.05544503033161163, 0.03575488179922104, 0.01946239359676838, 0.016281889751553535, 0.034737590700387955, 0.01819675974547863, 0.0, 0.0, 0.0, 0.0], [0.061182644218206406, 0.020219914615154266, 0.03340280055999756, 0.04010451212525368, 0.0234510600566864, 0.02850170060992241, 0.01812155172228813, 0.03293467313051224, 0.02427629753947258, 0.022559693083167076, 0.03233979642391205, 0.04911859706044197, 0.022654084488749504, 0.024369165301322937, 0.04557836055755615, 0.02359769120812416, 0.03708133473992348, 0.09311016649007797, 0.043299999088048935, 0.02449893020093441, 0.027778051793575287, 0.02123231440782547, 0.06777795404195786, 0.028376514092087746, 0.04452373459935188, 0.025789229199290276, 0.02399095706641674, 0.050093408674001694, 0.010034855455160141, 0.0, 0.0, 0.0], [0.043192993849515915, 0.03687317669391632, 0.023238196969032288, 0.06522022187709808, 0.029941054061055183, 0.025501716881990433, 0.03810979425907135, 0.020491478964686394, 0.03552890941500664, 0.027743125334382057, 0.025456076487898827, 0.04229399934411049, 0.02723930962383747, 0.03299831598997116, 0.03129223361611366, 0.0282698143273592, 0.02870061993598938, 0.021391212940216064, 0.02612343803048134, 0.030396029353141785, 0.02849680371582508, 0.01905769668519497, 0.027088947594165802, 0.05699344351887703, 0.012199940159916878, 0.03164607286453247, 0.07294764369726181, 0.07925432175397873, 0.02101793885231018, 0.011295495554804802, 0.0, 0.0], [0.1182396337389946, 0.05530286207795143, 0.046511441469192505, 0.028137946501374245, 0.011555221863090992, 0.030273444950580597, 0.0190172977745533, 0.03396382927894592, 0.04202209785580635, 0.009622723795473576, 0.014581811614334583, 0.06512507051229477, 0.009425347670912743, 0.0554230697453022, 0.02325146459043026, 0.009235485456883907, 0.016396047547459602, 0.04945183917880058, 0.01927097886800766, 0.00926222838461399, 0.025698861107230186, 0.014024468138813972, 0.029695242643356323, 0.021364087238907814, 0.010330269113183022, 0.046994999051094055, 0.018350208178162575, 0.025218026712536812, 0.014228396117687225, 0.0437651202082634, 0.0842605009675026, 0.0], [0.04212377592921257, 0.009409952908754349, 0.012342083267867565, 0.030797608196735382, 0.015776565298438072, 0.030365485697984695, 0.020264392718672752, 0.019114868715405464, 0.03864074498414993, 0.016046345233917236, 0.008356102742254734, 0.018985791131854057, 0.017025241628289223, 0.02191108837723732, 0.015289696864783764, 0.018022960051894188, 0.016471534967422485, 0.06732845306396484, 0.025100979954004288, 0.019612213596701622, 0.12185792624950409, 0.08066426217556, 0.09708552807569504, 0.029132312163710594, 0.041447896510362625, 0.019493846222758293, 0.02832331880927086, 0.048811133950948715, 0.005109064746648073, 0.01649807207286358, 0.022046776488423347, 0.02654392458498478]], [[1.0, 0.0, 0.0, 0.0, 0.0, 0.0, 0.0, 0.0, 0.0, 0.0, 0.0, 0.0, 0.0, 0.0, 0.0, 0.0, 0.0, 0.0, 0.0, 0.0, 0.0, 0.0, 0.0, 0.0, 0.0, 0.0, 0.0, 0.0, 0.0, 0.0, 0.0, 0.0], [0.45492690801620483, 0.5450731515884399, 0.0, 0.0, 0.0, 0.0, 0.0, 0.0, 0.0, 0.0, 0.0, 0.0, 0.0, 0.0, 0.0, 0.0, 0.0, 0.0, 0.0, 0.0, 0.0, 0.0, 0.0, 0.0, 0.0, 0.0, 0.0, 0.0, 0.0, 0.0, 0.0, 0.0], [0.2983822226524353, 0.01405548769980669, 0.6875622868537903, 0.0, 0.0, 0.0, 0.0, 0.0, 0.0, 0.0, 0.0, 0.0, 0.0, 0.0, 0.0, 0.0, 0.0, 0.0, 0.0, 0.0, 0.0, 0.0, 0.0, 0.0, 0.0, 0.0, 0.0, 0.0, 0.0, 0.0, 0.0, 0.0], [0.06892994046211243, 0.002995250280946493, 0.025378260761499405, 0.9026966094970703, 0.0, 0.0, 0.0, 0.0, 0.0, 0.0, 0.0, 0.0, 0.0, 0.0, 0.0, 0.0, 0.0, 0.0, 0.0, 0.0, 0.0, 0.0, 0.0, 0.0, 0.0, 0.0, 0.0, 0.0, 0.0, 0.0, 0.0, 0.0], [0.06695353984832764, 0.03479519858956337, 0.05785304680466652, 0.11946377158164978, 0.7209344506263733, 0.0, 0.0, 0.0, 0.0, 0.0, 0.0, 0.0, 0.0, 0.0, 0.0, 0.0, 0.0, 0.0, 0.0, 0.0, 0.0, 0.0, 0.0, 0.0, 0.0, 0.0, 0.0, 0.0, 0.0, 0.0, 0.0, 0.0], [0.013883626088500023, 0.0003625856770668179, 0.0006605043890886009, 0.00155437714420259, 0.004019930027425289, 0.9795189499855042, 0.0, 0.0, 0.0, 0.0, 0.0, 0.0, 0.0, 0.0, 0.0, 0.0, 0.0, 0.0, 0.0, 0.0, 0.0, 0.0, 0.0, 0.0, 0.0, 0.0, 0.0, 0.0, 0.0, 0.0, 0.0, 0.0], [0.0012492452515289187, 0.00036707185790874064, 9.712069731904194e-05, 0.00047695415560156107, 0.005201300606131554, 0.8917840123176575, 0.10082436352968216, 0.0, 0.0, 0.0, 0.0, 0.0, 0.0, 0.0, 0.0, 0.0, 0.0, 0.0, 0.0, 0.0, 0.0, 0.0, 0.0, 0.0, 0.0, 0.0, 0.0, 0.0, 0.0, 0.0, 0.0, 0.0], [0.004687560722231865, 0.0004250042256899178, 0.0002554015372879803, 0.00022319921117741615, 0.00011037472722819075, 0.0006411359645426273, 0.0004585034039337188, 0.993198812007904, 0.0, 0.0, 0.0, 0.0, 0.0, 0.0, 0.0, 0.0, 0.0, 0.0, 0.0, 0.0, 0.0, 0.0, 0.0, 0.0, 0.0, 0.0, 0.0, 0.0, 0.0, 0.0, 0.0, 0.0], [0.0009266698616556823, 4.591817287291633e-06, 0.0002611046948004514, 1.0516168003960047e-05, 1.0299674613634124e-05, 0.00016033384599722922, 8.084065484581515e-05, 0.0037408622447401285, 0.9948047995567322, 0.0, 0.0, 0.0, 0.0, 0.0, 0.0, 0.0, 0.0, 0.0, 0.0, 0.0, 0.0, 0.0, 0.0, 0.0, 0.0, 0.0, 0.0, 0.0, 0.0, 0.0, 0.0, 0.0], [0.007591150235384703, 0.0009112273692153394, 0.0011343149235472083, 0.002225027419626713, 0.017122196033596992, 0.046493083238601685, 0.06604637205600739, 0.061408258974552155, 0.28671228885650635, 0.5103561282157898, 0.0, 0.0, 0.0, 0.0, 0.0, 0.0, 0.0, 0.0, 0.0, 0.0, 0.0, 0.0, 0.0, 0.0, 0.0, 0.0, 0.0, 0.0, 0.0, 0.0, 0.0, 0.0], [0.009336414746940136, 4.5491568016586825e-05, 0.0012185111409053206, 0.0004955744952894747, 4.451134736882523e-05, 0.00036753324093297124, 0.0003072337422054261, 0.004526617005467415, 0.006222807336598635, 0.0007768804207444191, 0.9766584038734436, 0.0, 0.0, 0.0, 0.0, 0.0, 0.0, 0.0, 0.0, 0.0, 0.0, 0.0, 0.0, 0.0, 0.0, 0.0, 0.0, 0.0, 0.0, 0.0, 0.0, 0.0], [0.0017585075693205, 0.00015846677706576884, 5.727230018237606e-05, 6.995059811742976e-05, 1.0908959666267037e-05, 1.9086714019067585e-05, 1.4150373317534104e-05, 0.002112034009769559, 0.000277613551588729, 0.00015767564764246345, 0.004093078430742025, 0.9912712574005127, 0.0, 0.0, 0.0, 0.0, 0.0, 0.0, 0.0, 0.0, 0.0, 0.0, 0.0, 0.0, 0.0, 0.0, 0.0, 0.0, 0.0, 0.0, 0.0, 0.0], [0.00472490256652236, 0.00029813527362421155, 0.0003356554952915758, 0.0005916676600463688, 0.004159949254244566, 0.009109891019761562, 0.011747817508876324, 0.01278502307832241, 0.05820486694574356, 0.10303858667612076, 0.024808751419186592, 0.0775822177529335, 0.6926124691963196, 0.0, 0.0, 0.0, 0.0, 0.0, 0.0, 0.0, 0.0, 0.0, 0.0, 0.0, 0.0, 0.0, 0.0, 0.0, 0.0, 0.0, 0.0, 0.0], [0.001174761331640184, 2.661155849636998e-05, 0.0001885260280687362, 4.081972747371765e-06, 4.289627668185858e-06, 1.1963285032834392e-05, 5.238967332843458e-06, 0.0006066966452635825, 0.0029713597614318132, 3.895329427905381e-05, 0.0008363472297787666, 0.010210022330284119, 0.00017218779248651117, 0.9837489128112793, 0.0, 0.0, 0.0, 0.0, 0.0, 0.0, 0.0, 0.0, 0.0, 0.0, 0.0, 0.0, 0.0, 0.0, 0.0, 0.0, 0.0, 0.0], [0.00027859697001986206, 4.6456143536488526e-06, 2.93685825454304e-05, 1.94136500795139e-05, 8.201325840673235e-07, 3.6186327179166256e-06, 6.689933798043057e-06, 0.0007231840281747282, 0.0017619587015360594, 7.737564374110661e-06, 0.00030917790718376637, 0.00710058119148016, 3.4420358133502305e-05, 0.030165689066052437, 0.9595540761947632, 0.0, 0.0, 0.0, 0.0, 0.0, 0.0, 0.0, 0.0, 0.0, 0.0, 0.0, 0.0, 0.0, 0.0, 0.0, 0.0, 0.0], [0.0023533280473202467, 9.348077583126724e-05, 9.72346679191105e-05, 0.00014520096010528505, 0.0009396988316439092, 0.0016797735588625073, 0.0018348594894632697, 0.002066635526716709, 0.010128766298294067, 0.015888772904872894, 0.0038713777903467417, 0.012676863931119442, 0.10549940913915634, 0.07856153696775436, 0.10650448501110077, 0.6576586365699768, 0.0, 0.0, 0.0, 0.0, 0.0, 0.0, 0.0, 0.0, 0.0, 0.0, 0.0, 0.0, 0.0, 0.0, 0.0, 0.0], [0.0005435769562609494, 3.3124437322840095e-05, 2.7884423616342247e-05, 2.4800823666737415e-05, 0.0008668358204886317, 0.0009191172430291772, 0.0005870721070095897, 0.00016290110943373293, 0.0020253080874681473, 0.011144460178911686, 0.00041605994920246303, 0.0015341254184022546, 0.07436858862638474, 0.004190267529338598, 0.003994766157120466, 0.4784945249557495, 0.42066654562950134, 0.0, 0.0, 0.0, 0.0, 0.0, 0.0, 0.0, 0.0, 0.0, 0.0, 0.0, 0.0, 0.0, 0.0, 0.0], [8.977718971436843e-05, 1.2660441583989268e-08, 1.3487891692420817e-07, 5.746202091927444e-08, 1.1607597549811999e-08, 6.064249191695126e-07, 3.930411196506611e-08, 4.6205291255319025e-06, 1.4069263670535292e-05, 1.732462919790123e-07, 1.168503331427928e-06, 7.717323569522705e-06, 1.0040184861281887e-06, 3.049183032999281e-05, 0.0003684847033582628, 6.091128852858674e-06, 9.117406079894863e-06, 0.9994664788246155, 0.0, 0.0, 0.0, 0.0, 0.0, 0.0, 0.0, 0.0, 0.0, 0.0, 0.0, 0.0, 0.0, 0.0], [3.704704067786224e-05, 1.1050018429159536e-06, 3.581983492040308e-07, 3.2205446132138604e-07, 5.8623808030233704e-08, 2.5434228945186987e-08, 1.1277835199052788e-07, 3.306521466583945e-05, 5.689695399269112e-07, 5.696541620636708e-07, 0.00014716022997163236, 0.00013996734924148768, 3.062175210288842e-06, 5.609396976069547e-05, 0.0017271923134103417, 1.6393527403124608e-05, 3.2065363484434783e-05, 0.9270700216293335, 0.07073482871055603, 0.0, 0.0, 0.0, 0.0, 0.0, 0.0, 0.0, 0.0, 0.0, 0.0, 0.0, 0.0, 0.0], [0.0013394923880696297, 3.2093706977320835e-05, 3.391655991435982e-05, 4.3315449147485197e-05, 0.00021211097191553563, 0.0002834060287568718, 0.000252269150223583, 0.0002917064120993018, 0.0013753451639786363, 0.001748323324136436, 0.0004420015320647508, 0.0014320045011118054, 0.009947127662599087, 0.007769755087792873, 0.013063671998679638, 0.062181416898965836, 0.07136580348014832, 0.07183454930782318, 0.024867437779903412, 0.7314842343330383, 0.0, 0.0, 0.0, 0.0, 0.0, 0.0, 0.0, 0.0, 0.0, 0.0, 0.0, 0.0], [0.00033722762600518763, 2.1154617115826113e-06, 1.997594836211647e-06, 1.3002800187678076e-06, 9.118480193137657e-06, 1.4884663869452197e-05, 4.8993124437402e-06, 3.49547372024972e-05, 4.735631591756828e-05, 7.688433106523007e-05, 2.2521346181747504e-05, 5.878796582692303e-05, 0.0004976207274012268, 0.00035403945366851985, 0.0004003867506980896, 0.003720041597262025, 0.004434722941368818, 0.007077656686306, 0.004906889982521534, 0.056098707020282745, 0.9218978881835938, 0.0, 0.0, 0.0, 0.0, 0.0, 0.0, 0.0, 0.0, 0.0, 0.0, 0.0], [0.00047944654943421483, 4.192412234260701e-06, 1.865965259639779e-06, 2.6101331513928017e-06, 7.217631718958728e-07, 5.029225576436147e-06, 1.8467181917003472e-06, 2.4568291792093078e-06, 8.07186370366253e-05, 3.706260486069368e-06, 7.692326107644476e-06, 3.127579839201644e-05, 1.9835582861560397e-05, 0.0002617189893499017, 0.00019796096603386104, 0.0001293844688916579, 0.00018339765665587038, 0.00388539326377213, 0.000737158115953207, 0.0016403147019445896, 0.01230795867741108, 0.9800153374671936, 0.0, 0.0, 0.0, 0.0, 0.0, 0.0, 0.0, 0.0, 0.0, 0.0], [0.00021806295262649655, 1.5341736343543744e-06, 2.215576557773602e-07, 2.2930682064270513e-07, 4.29488657971433e-08, 5.184706992622523e-07, 5.943454084444966e-08, 1.4780508763578837e-06, 5.558372777159093e-06, 2.2325363602249126e-07, 1.5175644421105972e-06, 1.4870252925902605e-05, 1.1097423566752695e-06, 2.9001284929108806e-05, 5.6434524594806135e-05, 6.919683983142022e-06, 7.871432899264619e-06, 0.00015700778749305755, 0.0002124114689650014, 8.642180182505399e-05, 0.0001286418118979782, 0.011158224195241928, 0.9879117012023926, 0.0, 0.0, 0.0, 0.0, 0.0, 0.0, 0.0, 0.0, 0.0], [0.00012179902842035517, 1.0871794074773788e-05, 3.8091613532742485e-05, 6.583611684618518e-05, 1.112797690439038e-05, 1.0976433259202167e-05, 1.4155442841001786e-05, 1.6286414393107407e-05, 8.782096847426146e-05, 2.6113826606888324e-05, 1.6174997654161416e-05, 7.758411084068939e-05, 0.00011789338168455288, 0.0002757967449724674, 0.0003740588726941496, 0.0006526098004542291, 0.0013957119081169367, 0.003259544260799885, 0.0006246690754778683, 0.008781548589468002, 0.014342781156301498, 0.018131198361516, 0.1367882639169693, 0.8147590160369873, 0.0, 0.0, 0.0, 0.0, 0.0, 0.0, 0.0, 0.0], [5.4413845646195114e-05, 3.732452213967008e-08, 3.582522012379741e-08, 1.8521552647143835e-07, 1.7015322484326134e-09, 2.6950488063448574e-08, 5.603040253987501e-09, 1.3355696637518122e-07, 1.300435030771041e-07, 6.117480744194381e-09, 2.612002560908877e-07, 2.919478220064775e-06, 2.4764247541497753e-08, 7.096557510521961e-07, 7.794672455929685e-06, 1.3092368078559957e-07, 1.8471739338110638e-07, 0.0002785525284707546, 8.323519296027371e-07, 1.463447460992029e-06, 3.629314505815273e-06, 0.000728989252820611, 0.003591432236135006, 3.810385533142835e-05, 0.9952900409698486, 0.0, 0.0, 0.0, 0.0, 0.0, 0.0, 0.0], [0.0010375487618148327, 1.3406756806944031e-06, 9.558181773172691e-06, 6.737211151630618e-06, 1.8548043101418443e-07, 8.634038977106684e-07, 3.083471540321625e-07, 7.364369139395421e-06, 4.736941627925262e-05, 3.166589124248276e-07, 2.0259736629668623e-05, 1.907870864670258e-05, 8.8348377857983e-07, 0.00010857433517230675, 0.00012821078416891396, 3.500456386973383e-06, 8.718815479369368e-06, 7.256017124745995e-05, 0.00027298732311464846, 2.9349521355470642e-05, 0.0001270284119527787, 0.00013488708646036685, 0.007585267536342144, 0.0007473497535102069, 0.005770556163042784, 0.9838592410087585, 0.0, 0.0, 0.0, 0.0, 0.0, 0.0], [5.011486791772768e-05, 3.466725274847704e-06, 1.464712022425374e-05, 6.540017693623668e-06, 2.919971620940487e-06, 6.814789230702445e-07, 1.3149713140592212e-06, 3.6255862596590305e-06, 1.0900637789745815e-05, 4.944023203279357e-06, 1.4684220559502137e-06, 4.895640813629143e-06, 1.872613029263448e-05, 4.577341314870864e-05, 3.5977715015178546e-05, 0.00010497681796550751, 0.0002186874335166067, 0.00010251911589875817, 0.0002346413239138201, 0.0014019180089235306, 0.0014269755920395255, 0.0012294636107981205, 0.0034413961693644524, 0.06143660098314285, 0.006672179792076349, 0.09316080063581467, 0.8303638696670532, 0.0, 0.0, 0.0, 0.0, 0.0], [0.0005173091776669025, 4.300978275750822e-07, 3.381613623787416e-06, 7.306511542992666e-05, 5.953277693038217e-08, 7.38759922569443e-07, 1.0189662447146475e-07, 7.190250812527665e-07, 4.578553216560977e-06, 8.114181326845937e-08, 8.929640671340167e-07, 2.8129795737186214e-06, 2.2317777848002152e-07, 6.216406745807035e-06, 2.2244536012294702e-05, 9.175306558972807e-07, 1.008729441309697e-06, 3.0221564884413965e-05, 3.0241037620726274e-06, 8.23317895992659e-06, 2.595248406578321e-05, 0.00022504996741190553, 0.001354970270767808, 0.00022339871793519706, 0.006932123098522425, 0.017580615356564522, 0.0005255894502624869, 0.972456157207489, 0.0, 0.0, 0.0, 0.0], [4.1258439864577667e-07, 1.1995844317880255e-09, 7.788508504802394e-09, 1.702555785243476e-08, 1.0677835282635328e-09, 2.0481187856802308e-09, 1.9721901889369065e-09, 1.2595736897935694e-08, 6.065976521085759e-08, 4.098653860751256e-09, 1.134363714072606e-07, 2.4740309356729995e-08, 1.809663530139005e-08, 5.631682853390885e-08, 1.651482790521186e-07, 9.869931716366409e-08, 2.757627726168721e-07, 5.30079387317528e-06, 2.648554868756037e-07, 1.2212713045300916e-06, 2.8192282570671523e-06, 4.812941824638983e-06, 0.00023567219614051282, 5.9515419707167894e-05, 0.0004983060644008219, 0.00012785164290107787, 0.000252379453741014, 0.002150957239791751, 0.9966597557067871, 0.0, 0.0, 0.0], [0.0002594220859464258, 4.5623980327036406e-07, 9.131477440860181e-07, 5.304960950525128e-07, 5.958199711386669e-09, 1.1707410862982215e-07, 1.4520026958564358e-08, 7.497103382547721e-08, 6.690793270536233e-07, 6.115873585343934e-09, 2.0080784679521457e-07, 1.3808107723889407e-06, 1.376247471540637e-08, 1.6849126893703215e-07, 2.475943256285973e-05, 4.55779023411651e-08, 4.540653719686816e-08, 0.0013224792201071978, 1.941358959811623e-06, 2.934411611477117e-07, 2.0675670384662226e-06, 0.00014192562957759947, 0.0015925763873383403, 1.1075035217800178e-05, 0.0032785595394670963, 5.634680564980954e-05, 3.3116019039880484e-05, 0.0011422706302255392, 0.01414321269840002, 0.9779853820800781, 0.0, 0.0], [0.0015606163069605827, 8.50351796088944e-07, 4.089882622793084e-06, 1.3334323512026458e-06, 6.897212756484805e-08, 1.3552519817494613e-07, 3.7148247145069035e-08, 5.875492661289172e-07, 1.5408252238557907e-06, 4.4450374048210506e-08, 1.1685972367558861e-06, 2.0320399016782176e-06, 9.192807226554578e-08, 5.3203225434117485e-06, 7.088283382472582e-06, 2.952040460968419e-07, 2.9199750883890374e-07, 0.00012544718629214913, 1.2516796232375782e-05, 2.2802259991294704e-06, 3.6136643757345155e-05, 0.0007352381362579763, 0.0005795382312498987, 2.0389010387589224e-05, 0.003951962571591139, 0.000790052639786154, 0.00011003793042618781, 0.002046121982857585, 0.024822602048516273, 0.04495783522725105, 0.9202242493629456, 0.0], [0.0014685011701658368, 5.082659117761068e-05, 4.098944191355258e-05, 2.7843583666253835e-05, 2.9335209546843544e-05, 1.2352934390946757e-05, 6.046323505870532e-06, 1.5561665350105613e-05, 2.3445170882041566e-05, 1.7203639799845405e-05, 3.27086600009352e-05, 2.9467893909895793e-05, 3.5213266528444365e-05, 1.1488096788525581e-05, 5.5666747357463464e-05, 0.00011977311078226194, 0.00010607849253574386, 0.00027718927594833076, 0.00020464908448047936, 0.0009281128295697272, 0.0018430340569466352, 0.001114019425585866, 0.001840211683884263, 0.003842146834358573, 0.007860424928367138, 0.0105349225923419, 0.022593533620238304, 0.031464919447898865, 0.12344092130661011, 0.043842945247888565, 0.1730777621269226, 0.5750527381896973]], [[1.0, 0.0, 0.0, 0.0, 0.0, 0.0, 0.0, 0.0, 0.0, 0.0, 0.0, 0.0, 0.0, 0.0, 0.0, 0.0, 0.0, 0.0, 0.0, 0.0, 0.0, 0.0, 0.0, 0.0, 0.0, 0.0, 0.0, 0.0, 0.0, 0.0, 0.0, 0.0], [0.8898343443870544, 0.11016563326120377, 0.0, 0.0, 0.0, 0.0, 0.0, 0.0, 0.0, 0.0, 0.0, 0.0, 0.0, 0.0, 0.0, 0.0, 0.0, 0.0, 0.0, 0.0, 0.0, 0.0, 0.0, 0.0, 0.0, 0.0, 0.0, 0.0, 0.0, 0.0, 0.0, 0.0], [0.39518895745277405, 0.05856886878609657, 0.5462421774864197, 0.0, 0.0, 0.0, 0.0, 0.0, 0.0, 0.0, 0.0, 0.0, 0.0, 0.0, 0.0, 0.0, 0.0, 0.0, 0.0, 0.0, 0.0, 0.0, 0.0, 0.0, 0.0, 0.0, 0.0, 0.0, 0.0, 0.0, 0.0, 0.0], [0.22103016078472137, 0.04596089944243431, 0.20372676849365234, 0.5292821526527405, 0.0, 0.0, 0.0, 0.0, 0.0, 0.0, 0.0, 0.0, 0.0, 0.0, 0.0, 0.0, 0.0, 0.0, 0.0, 0.0, 0.0, 0.0, 0.0, 0.0, 0.0, 0.0, 0.0, 0.0, 0.0, 0.0, 0.0, 0.0], [0.3787192106246948, 0.0677231103181839, 0.10396336019039154, 0.24183939397335052, 0.20775489509105682, 0.0, 0.0, 0.0, 0.0, 0.0, 0.0, 0.0, 0.0, 0.0, 0.0, 0.0, 0.0, 0.0, 0.0, 0.0, 0.0, 0.0, 0.0, 0.0, 0.0, 0.0, 0.0, 0.0, 0.0, 0.0, 0.0, 0.0], [0.15946057438850403, 0.05212370678782463, 0.06075587496161461, 0.20074711740016937, 0.08170752972364426, 0.4452052116394043, 0.0, 0.0, 0.0, 0.0, 0.0, 0.0, 0.0, 0.0, 0.0, 0.0, 0.0, 0.0, 0.0, 0.0, 0.0, 0.0, 0.0, 0.0, 0.0, 0.0, 0.0, 0.0, 0.0, 0.0, 0.0, 0.0], [0.11421546339988708, 0.045343510806560516, 0.09402953088283539, 0.102573461830616, 0.069993756711483, 0.1390952616930008, 0.434749037027359, 0.0, 0.0, 0.0, 0.0, 0.0, 0.0, 0.0, 0.0, 0.0, 0.0, 0.0, 0.0, 0.0, 0.0, 0.0, 0.0, 0.0, 0.0, 0.0, 0.0, 0.0, 0.0, 0.0, 0.0, 0.0], [0.07986829429864883, 0.031609125435352325, 0.1130208969116211, 0.05591004341840744, 0.026899687945842743, 0.058168429881334305, 0.07727176696062088, 0.5572517514228821, 0.0, 0.0, 0.0, 0.0, 0.0, 0.0, 0.0, 0.0, 0.0, 0.0, 0.0, 0.0, 0.0, 0.0, 0.0, 0.0, 0.0, 0.0, 0.0, 0.0, 0.0, 0.0, 0.0, 0.0], [0.014430518262088299, 0.005226793698966503, 0.008060610853135586, 0.005269415210932493, 0.0033934381790459156, 0.008688618429005146, 0.017322968691587448, 0.0314212329685688, 0.9061863422393799, 0.0, 0.0, 0.0, 0.0, 0.0, 0.0, 0.0, 0.0, 0.0, 0.0, 0.0, 0.0, 0.0, 0.0, 0.0, 0.0, 0.0, 0.0, 0.0, 0.0, 0.0, 0.0, 0.0], [0.11827833205461502, 0.013830531388521194, 0.01708364486694336, 0.050980549305677414, 0.050686150789260864, 0.05350938066840172, 0.21086816489696503, 0.03380429744720459, 0.16545307636260986, 0.2855058014392853, 0.0, 0.0, 0.0, 0.0, 0.0, 0.0, 0.0, 0.0, 0.0, 0.0, 0.0, 0.0, 0.0, 0.0, 0.0, 0.0, 0.0, 0.0, 0.0, 0.0, 0.0, 0.0], [0.03552279993891716, 0.004259727895259857, 0.007335959002375603, 0.01969156600534916, 0.0036660965997725725, 0.009623469784855843, 0.007779303472489119, 0.0069092800840735435, 0.08100360631942749, 0.012442327104508877, 0.8117658495903015, 0.0, 0.0, 0.0, 0.0, 0.0, 0.0, 0.0, 0.0, 0.0, 0.0, 0.0, 0.0, 0.0, 0.0, 0.0, 0.0, 0.0, 0.0, 0.0, 0.0, 0.0], [0.0495147779583931, 0.004180398304015398, 0.0011793760349974036, 0.0037511265836656094, 0.001568556996062398, 0.007910152897238731, 0.0029473535250872374, 0.005112519487738609, 0.01254415512084961, 0.004100409802049398, 0.05191309005022049, 0.8552780151367188, 0.0, 0.0, 0.0, 0.0, 0.0, 0.0, 0.0, 0.0, 0.0, 0.0, 0.0, 0.0, 0.0, 0.0, 0.0, 0.0, 0.0, 0.0, 0.0, 0.0], [0.07822637259960175, 0.007255502510815859, 0.008573957718908787, 0.02494756318628788, 0.02449813112616539, 0.023239953443408012, 0.08729595690965652, 0.01537497527897358, 0.07264074683189392, 0.12192768603563309, 0.12933261692523956, 0.06174897775053978, 0.3449375629425049, 0.0, 0.0, 0.0, 0.0, 0.0, 0.0, 0.0, 0.0, 0.0, 0.0, 0.0, 0.0, 0.0, 0.0, 0.0, 0.0, 0.0, 0.0, 0.0], [0.14437416195869446, 0.005468660034239292, 0.012385477311909199, 0.004481748212128878, 0.00344845000654459, 0.0115202059969306, 0.009059058502316475, 0.013440834358334541, 0.06628039479255676, 0.010818373411893845, 0.048335809260606766, 0.18819743394851685, 0.025233549997210503, 0.4569558799266815, 0.0, 0.0, 0.0, 0.0, 0.0, 0.0, 0.0, 0.0, 0.0, 0.0, 0.0, 0.0, 0.0, 0.0, 0.0, 0.0, 0.0, 0.0], [0.01843186654150486, 0.0028452894184738398, 0.002104296814650297, 0.011551184579730034, 0.0015380732947960496, 0.0038300519809126854, 0.003166110720485449, 0.0055305385030806065, 0.021594373509287834, 0.004253334831446409, 0.07504837214946747, 0.21561235189437866, 0.009521150961518288, 0.028101610019803047, 0.5968713760375977, 0.0, 0.0, 0.0, 0.0, 0.0, 0.0, 0.0, 0.0, 0.0, 0.0, 0.0, 0.0, 0.0, 0.0, 0.0, 0.0, 0.0], [0.04711369052529335, 0.003745605703443289, 0.004150058142840862, 0.011645795777440071, 0.011247089132666588, 0.009747893549501896, 0.03441304340958595, 0.005848915781825781, 0.02645137347280979, 0.0435723140835762, 0.04458336904644966, 0.02157370001077652, 0.11942259222269058, 0.1610557734966278, 0.13325339555740356, 0.3221753239631653, 0.0, 0.0, 0.0, 0.0, 0.0, 0.0, 0.0, 0.0, 0.0, 0.0, 0.0, 0.0, 0.0, 0.0, 0.0, 0.0], [0.012697122991085052, 0.005527574103325605, 0.007037494331598282, 0.007728880736976862, 0.007383359596133232, 0.012225585989654064, 0.01686316542327404, 0.02008485235273838, 0.02143212966620922, 0.023371044546365738, 0.019618680700659752, 0.03987976163625717, 0.0630696713924408, 0.12106531858444214, 0.07946010679006577, 0.1669350564479828, 0.3756202459335327, 0.0, 0.0, 0.0, 0.0, 0.0, 0.0, 0.0, 0.0, 0.0, 0.0, 0.0, 0.0, 0.0, 0.0, 0.0], [0.0026137044187635183, 5.1170969527447596e-05, 0.0002206730132456869, 0.0002353889140067622, 0.00013669714098796248, 0.0003980593755841255, 0.000393430091207847, 0.0001441287895431742, 0.0005016544600948691, 0.00027595891151577234, 0.0036491421051323414, 0.0006317204679362476, 0.0005629472434520721, 0.0008937083184719086, 0.0016987218987196684, 0.0011888113804161549, 0.002787467557936907, 0.9836165904998779, 0.0, 0.0, 0.0, 0.0, 0.0, 0.0, 0.0, 0.0, 0.0, 0.0, 0.0, 0.0, 0.0, 0.0], [0.024087652564048767, 0.0005540791898965836, 0.00043449527584016323, 3.823009319603443e-05, 1.3676386515726335e-05, 4.353360054665245e-06, 1.5492827515117824e-05, 7.038259354885668e-05, 2.899452556448523e-05, 3.0291535949800164e-05, 0.0021941158920526505, 0.0014866080600768328, 7.379803719231859e-05, 0.00014909220044501126, 0.008950158022344112, 0.00018975610146299005, 0.000216333894059062, 0.9116023778915405, 0.04986004903912544, 0.0, 0.0, 0.0, 0.0, 0.0, 0.0, 0.0, 0.0, 0.0, 0.0, 0.0, 0.0, 0.0], [0.03448348864912987, 0.0023532933555543423, 0.0026287748478353024, 0.007058467250317335, 0.006289484445005655, 0.004461720585823059, 0.014206791296601295, 0.0024630140978842974, 0.009409806691110134, 0.01570316031575203, 0.015426239930093288, 0.006650705821812153, 0.03839118778705597, 0.04927742853760719, 0.04456036165356636, 0.10174766182899475, 0.08766982704401016, 0.0642949789762497, 0.10369789600372314, 0.3892257511615753, 0.0, 0.0, 0.0, 0.0, 0.0, 0.0, 0.0, 0.0, 0.0, 0.0, 0.0, 0.0], [0.017548538744449615, 0.0020724020432680845, 0.0035894836764782667, 0.005302310921251774, 0.0028277209494262934, 0.004421825986355543, 0.004894405137747526, 0.003918890375643969, 0.006636323407292366, 0.005848924163728952, 0.0038582768756896257, 0.009031840600073338, 0.01421733945608139, 0.029727784916758537, 0.020543230697512627, 0.037166643887758255, 0.0667729601264, 0.07906942814588547, 0.0377349816262722, 0.15251250565052032, 0.49230411648750305, 0.0, 0.0, 0.0, 0.0, 0.0, 0.0, 0.0, 0.0, 0.0, 0.0, 0.0], [0.0032680686563253403, 0.0003333865024615079, 0.001570385997183621, 0.0008139522396959364, 0.0002923498395830393, 0.0003052603278774768, 0.0005581348086707294, 0.00019445910584181547, 0.0013208611635491252, 0.0005963447038084269, 0.0004364407213870436, 0.00041584193240851164, 0.0013688080944120884, 0.0008065789006650448, 0.0024756654165685177, 0.003627955913543701, 0.0047287289053201675, 0.013108815997838974, 0.0035474838223308325, 0.014216132462024689, 0.06112537160515785, 0.8848890066146851, 0.0, 0.0, 0.0, 0.0, 0.0, 0.0, 0.0, 0.0, 0.0, 0.0], [0.006204346660524607, 0.0016241442644968629, 0.0018360087415203452, 0.0016855563735589385, 0.0005937893292866647, 0.000781864917371422, 0.0006092890980653465, 0.0006227334961295128, 0.0022118473425507545, 0.00089724559802562, 0.0011714566498994827, 0.0011747837997972965, 0.001742225605994463, 0.005196302197873592, 0.015146208927035332, 0.0038745617493987083, 0.0048011671751737595, 0.00856139324605465, 0.007009819149971008, 0.012661061249673367, 0.02953203395009041, 0.11069365590810776, 0.7813685536384583, 0.0, 0.0, 0.0, 0.0, 0.0, 0.0, 0.0, 0.0, 0.0], [0.0033019157126545906, 0.001578773488290608, 0.0034011167008429766, 0.0025541370268911123, 0.00046793464571237564, 0.0005908349994570017, 0.000642333528958261, 0.0010994200129061937, 0.002500056056305766, 0.0006026261253282428, 0.0016431690892204642, 0.003172300523146987, 0.001280737342312932, 0.005428879987448454, 0.006466828752309084, 0.003116755746304989, 0.005175695288926363, 0.02115420065820217, 0.006215986795723438, 0.012272949330508709, 0.07224810123443604, 0.12388385832309723, 0.5609762072563171, 0.1602252721786499, 0.0, 0.0, 0.0, 0.0, 0.0, 0.0, 0.0, 0.0], [0.0012642311630770564, 5.277140371617861e-05, 9.185003000311553e-05, 7.758520951028913e-05, 4.642262865672819e-05, 7.090983126545325e-05, 0.00016258968389593065, 6.586106792383362e-06, 7.601408287882805e-05, 3.867331543006003e-05, 5.175821206648834e-05, 0.001076992484740913, 6.043460234650411e-05, 7.630060281371698e-05, 0.0004003354115411639, 0.00011585436732275411, 0.00023300449538510293, 0.0005355184548534453, 0.00015718296344857663, 0.0003087694349233061, 0.0007161420653574169, 0.0009231691947206855, 0.0008247686782851815, 0.004607195034623146, 0.9880250096321106, 0.0, 0.0, 0.0, 0.0, 0.0, 0.0, 0.0], [0.00887263473123312, 0.0007795306737534702, 0.0007206940790638328, 0.0037313548382371664, 0.00042232783744111657, 0.0006305946153588593, 0.00048511705244891346, 0.00024303809914272279, 0.0007325412589125335, 0.00044037672341801226, 0.1594313085079193, 0.0022753369994461536, 0.000742523348890245, 0.0008793995948508382, 0.009312192909419537, 0.001515528536401689, 0.0013892205897718668, 0.006328604184091091, 0.008137217722833157, 0.004606329370290041, 0.003339062910526991, 0.014759092591702938, 0.05054125189781189, 0.023400476202368736, 0.21599359810352325, 0.4802907407283783, 0.0, 0.0, 0.0, 0.0, 0.0, 0.0], [0.007688888814300299, 0.0011535390513017774, 0.007021068595349789, 0.007325136102735996, 0.0007455514860339463, 0.0009872347582131624, 0.0005903430283069611, 0.0026449973229318857, 0.0062682474963366985, 0.0005860702367499471, 0.0009997382294386625, 0.0009685091790743172, 0.0009924671612679958, 0.008447975851595402, 0.0014138956321403384, 0.002100496320053935, 0.003730577416718006, 0.01744707301259041, 0.006274600978940725, 0.007242659572511911, 0.03978090360760689, 0.06808063387870789, 0.2557063400745392, 0.05044499784708023, 0.12415473163127899, 0.14049629867076874, 0.23670701682567596, 0.0, 0.0, 0.0, 0.0, 0.0], [0.01722324825823307, 0.0016558945644646883, 0.006008240394294262, 0.014826771803200245, 0.0005867652944289148, 0.002085016341879964, 0.0007212722557596862, 0.000932193361222744, 0.003572060028091073, 0.0004030510026495904, 0.0010849289828911424, 0.002175119472667575, 0.0005846792482770979, 0.0008060028776526451, 0.0016491871792823076, 0.0010848059318959713, 0.0009938152506947517, 0.005452669225633144, 0.0008074407815001905, 0.003029573941603303, 0.006458629854023457, 0.05089231953024864, 0.022675270214676857, 0.03064257837831974, 0.072052001953125, 0.03165198490023613, 0.06192651018500328, 0.6580179929733276, 0.0, 0.0, 0.0, 0.0], [0.0003547488013282418, 0.00013105555262882262, 0.00018550203822087497, 0.0005394935142248869, 0.00011175096733495593, 6.742739788023755e-05, 7.929024286568165e-05, 0.00012242696539033204, 7.473526056855917e-05, 0.00011802669177995995, 0.000633598247077316, 9.877856791717932e-05, 0.00022975404863245785, 0.0004120097728446126, 0.0005269635003060102, 0.0004892303259111941, 0.0005314811132848263, 0.0009126551449298859, 0.00024244701489806175, 0.0016506878891959786, 0.0014912496553733945, 0.0017258671578019857, 0.01009981706738472, 0.013341627083718777, 0.013734301552176476, 0.022374078631401062, 0.02951774001121521, 0.08700292557477951, 0.8132002949714661, 0.0, 0.0, 0.0], [0.0013337221462279558, 0.00036857102531939745, 0.0003022973833139986, 0.0004828443634323776, 2.7276815671939403e-05, 0.0001369851379422471, 2.193255022575613e-05, 9.720586240291595e-05, 0.00018361063848715276, 2.145613507309463e-05, 0.00018911990628112108, 0.002801120514050126, 3.26104745909106e-05, 6.229284190339968e-05, 0.0008844644762575626, 6.073770782677457e-05, 4.704658567789011e-05, 0.004918619524687529, 0.0001994051708607003, 0.00018191058188676834, 0.00022219514357857406, 0.0019530215067788959, 0.0032356565352529287, 0.0004879502230323851, 0.012033226899802685, 0.002489627106115222, 0.0011134047526866198, 0.027568336576223373, 0.1391158401966095, 0.7994275093078613, 0.0, 0.0], [0.013635960407555103, 9.467169002164155e-05, 0.0011423556134104729, 0.0007235504454001784, 0.00013635295908898115, 7.587926666019484e-05, 8.828613499645144e-05, 4.772527972818352e-05, 0.00024578667944297194, 7.01498138369061e-05, 0.00013958780618850142, 9.772747580427676e-05, 9.334982314612716e-05, 0.00013636233052238822, 0.0004263733862899244, 0.00016952869191300124, 0.00013245193986222148, 0.002373660448938608, 0.00020813761511817575, 0.00047725762124173343, 0.0001701589353615418, 0.0018461095169186592, 0.0017132442444562912, 0.0009710161248221993, 0.015152295120060444, 0.0033977210987359285, 0.003270419780164957, 0.019483394920825958, 0.010599521920084953, 0.008337054401636124, 0.9145441055297852, 0.0], [0.007026141509413719, 0.0018780877580866218, 0.0019309817580506206, 0.002585326787084341, 0.0029090167954564095, 0.001949084340594709, 0.002816158114001155, 0.0014984364388510585, 0.0013055948074907064, 0.001421489054337144, 0.001396344741806388, 0.0007887008250690997, 0.0018621595809236169, 0.0013689323095604777, 0.0016291897045448422, 0.0032165246084332466, 0.006207512691617012, 0.004086432047188282, 0.003033600514754653, 0.00900720339268446, 0.00931091420352459, 0.010379237122833729, 0.020711015909910202, 0.06098711118102074, 0.029830802232027054, 0.03416476771235466, 0.11758607625961304, 0.05094476044178009, 0.026539310812950134, 0.03236593306064606, 0.10559500008821487, 0.4436681568622589]], [[1.0, 0.0, 0.0, 0.0, 0.0, 0.0, 0.0, 0.0, 0.0, 0.0, 0.0, 0.0, 0.0, 0.0, 0.0, 0.0, 0.0, 0.0, 0.0, 0.0, 0.0, 0.0, 0.0, 0.0, 0.0, 0.0, 0.0, 0.0, 0.0, 0.0, 0.0, 0.0], [0.10153557360172272, 0.8984643816947937, 0.0, 0.0, 0.0, 0.0, 0.0, 0.0, 0.0, 0.0, 0.0, 0.0, 0.0, 0.0, 0.0, 0.0, 0.0, 0.0, 0.0, 0.0, 0.0, 0.0, 0.0, 0.0, 0.0, 0.0, 0.0, 0.0, 0.0, 0.0, 0.0, 0.0], [0.0704573392868042, 0.0014253100380301476, 0.9281173944473267, 0.0, 0.0, 0.0, 0.0, 0.0, 0.0, 0.0, 0.0, 0.0, 0.0, 0.0, 0.0, 0.0, 0.0, 0.0, 0.0, 0.0, 0.0, 0.0, 0.0, 0.0, 0.0, 0.0, 0.0, 0.0, 0.0, 0.0, 0.0, 0.0], [0.004147758707404137, 3.7652236642315984e-05, 0.0004194832290522754, 0.9953951239585876, 0.0, 0.0, 0.0, 0.0, 0.0, 0.0, 0.0, 0.0, 0.0, 0.0, 0.0, 0.0, 0.0, 0.0, 0.0, 0.0, 0.0, 0.0, 0.0, 0.0, 0.0, 0.0, 0.0, 0.0, 0.0, 0.0, 0.0, 0.0], [0.13993999361991882, 0.09439006447792053, 0.035134609788656235, 0.06469369679689407, 0.6658416986465454, 0.0, 0.0, 0.0, 0.0, 0.0, 0.0, 0.0, 0.0, 0.0, 0.0, 0.0, 0.0, 0.0, 0.0, 0.0, 0.0, 0.0, 0.0, 0.0, 0.0, 0.0, 0.0, 0.0, 0.0, 0.0, 0.0, 0.0], [0.03731745108962059, 0.0009298225631937385, 0.00037808934575878084, 0.0005629594088532031, 0.00035687859053723514, 0.9604547619819641, 0.0, 0.0, 0.0, 0.0, 0.0, 0.0, 0.0, 0.0, 0.0, 0.0, 0.0, 0.0, 0.0, 0.0, 0.0, 0.0, 0.0, 0.0, 0.0, 0.0, 0.0, 0.0, 0.0, 0.0, 0.0, 0.0], [0.021531758829951286, 0.010271702893078327, 0.0008313373546116054, 0.0022825286723673344, 0.00492432015016675, 0.0032004560343921185, 0.9569579362869263, 0.0, 0.0, 0.0, 0.0, 0.0, 0.0, 0.0, 0.0, 0.0, 0.0, 0.0, 0.0, 0.0, 0.0, 0.0, 0.0, 0.0, 0.0, 0.0, 0.0, 0.0, 0.0, 0.0, 0.0, 0.0], [0.0029084724374115467, 0.0007819929742254317, 2.8837903300882317e-05, 0.00039302537334151566, 1.4347247088153381e-05, 8.958922990132123e-06, 1.0088231192639796e-06, 0.9958631992340088, 0.0, 0.0, 0.0, 0.0, 0.0, 0.0, 0.0, 0.0, 0.0, 0.0, 0.0, 0.0, 0.0, 0.0, 0.0, 0.0, 0.0, 0.0, 0.0, 0.0, 0.0, 0.0, 0.0, 0.0], [0.023013129830360413, 0.0008174377726390958, 0.0018713637255132198, 0.0004554666520562023, 1.2568108331834082e-06, 2.172002314182464e-05, 3.497841589705786e-07, 0.0003562528290785849, 0.9734629988670349, 0.0, 0.0, 0.0, 0.0, 0.0, 0.0, 0.0, 0.0, 0.0, 0.0, 0.0, 0.0, 0.0, 0.0, 0.0, 0.0, 0.0, 0.0, 0.0, 0.0, 0.0, 0.0, 0.0], [0.05390506237745285, 0.05012611672282219, 0.021619604900479317, 0.03737716004252434, 0.3220698833465576, 0.12032632529735565, 0.0778530091047287, 0.043806519359350204, 0.018264589831233025, 0.2546516954898834, 0.0, 0.0, 0.0, 0.0, 0.0, 0.0, 0.0, 0.0, 0.0, 0.0, 0.0, 0.0, 0.0, 0.0, 0.0, 0.0, 0.0, 0.0, 0.0, 0.0, 0.0, 0.0], [0.0088444659486413, 0.0002974598028231412, 8.855843043420464e-05, 0.00016050622798502445, 1.4140722441879916e-06, 1.640507321098994e-06, 2.0981838133593556e-07, 2.2931149032956455e-06, 6.725178423039324e-07, 5.808856258227024e-07, 0.9906022548675537, 0.0, 0.0, 0.0, 0.0, 0.0, 0.0, 0.0, 0.0, 0.0, 0.0, 0.0, 0.0, 0.0, 0.0, 0.0, 0.0, 0.0, 0.0, 0.0, 0.0, 0.0], [0.0036257070023566484, 0.0010494398884475231, 0.0009918580763041973, 4.717023330158554e-06, 1.0139310688828118e-06, 1.6629689980618423e-07, 1.138837717462593e-07, 1.9850388071063207e-06, 3.055580964428373e-05, 4.846751266995852e-07, 1.4058539363759337e-06, 0.9942926168441772, 0.0, 0.0, 0.0, 0.0, 0.0, 0.0, 0.0, 0.0, 0.0, 0.0, 0.0, 0.0, 0.0, 0.0, 0.0, 0.0, 0.0, 0.0, 0.0, 0.0], [0.03566925227642059, 0.037335533648729324, 0.01682821847498417, 0.028078097850084305, 0.24968557059764862, 0.10734027624130249, 0.06499431282281876, 0.03614320233464241, 0.01609131693840027, 0.19698293507099152, 0.021848293021321297, 0.005135794170200825, 0.18386730551719666, 0.0, 0.0, 0.0, 0.0, 0.0, 0.0, 0.0, 0.0, 0.0, 0.0, 0.0, 0.0, 0.0, 0.0, 0.0, 0.0, 0.0, 0.0, 0.0], [0.003883396741002798, 0.0013061949284747243, 0.0008968441397882998, 3.3676973544061184e-05, 5.401091698331584e-07, 8.745702189116855e-07, 5.522009018932295e-07, 8.873957085597795e-06, 0.0014686040813103318, 1.9666396156026167e-07, 1.1897558351847692e-06, 0.0001778015575837344, 1.4718918350808963e-07, 0.9922210574150085, 0.0, 0.0, 0.0, 0.0, 0.0, 0.0, 0.0, 0.0, 0.0, 0.0, 0.0, 0.0, 0.0, 0.0, 0.0, 0.0, 0.0, 0.0], [0.016757061704993248, 0.0002448871382512152, 0.0009472455712966621, 0.00015183827781584114, 1.8244681143642083e-07, 3.4181354635620664e-07, 5.57369560283405e-07, 9.73236183199333e-06, 0.0008281380869448185, 5.7872451719731544e-08, 9.96774474515405e-07, 5.08856974192895e-05, 4.281620746837689e-08, 0.00012401994899846613, 0.9808840751647949, 0.0, 0.0, 0.0, 0.0, 0.0, 0.0, 0.0, 0.0, 0.0, 0.0, 0.0, 0.0, 0.0, 0.0, 0.0, 0.0, 0.0], [0.028749432414770126, 0.0312509648501873, 0.014594594947993755, 0.0245247483253479, 0.20247748494148254, 0.1029040515422821, 0.06317023932933807, 0.030924487859010696, 0.015183262526988983, 0.15802058577537537, 0.01780356839299202, 0.004650327377021313, 0.14653518795967102, 0.015788402408361435, 0.00550688523799181, 0.1379157453775406, 0.0, 0.0, 0.0, 0.0, 0.0, 0.0, 0.0, 0.0, 0.0, 0.0, 0.0, 0.0, 0.0, 0.0, 0.0, 0.0], [0.04456860572099686, 0.03020140342414379, 0.010774366557598114, 0.012691137380897999, 0.07604439556598663, 0.157221257686615, 0.09634323418140411, 0.011629754677414894, 0.00801521260291338, 0.04890736564993858, 0.007051424123346806, 0.0012260300572961569, 0.04307233914732933, 0.008249235339462757, 0.003196428995579481, 0.038838792592287064, 0.40196895599365234, 0.0, 0.0, 0.0, 0.0, 0.0, 0.0, 0.0, 0.0, 0.0, 0.0, 0.0, 0.0, 0.0, 0.0, 0.0], [0.00018817248928826302, 1.7943979457868409e-07, 2.344726090086624e-05, 5.026879989600275e-06, 1.997731313707618e-09, 3.8641573496533965e-08, 2.1862554433482728e-08, 1.0862358124086313e-07, 1.636451816011686e-05, 5.413567927270435e-10, 2.5840680706323838e-09, 6.454320811144498e-08, 3.56614487939666e-10, 4.86490876028256e-07, 8.126745342451613e-06, 2.836532675409842e-10, 1.7346594161082862e-09, 0.9997579455375671, 0.0, 0.0, 0.0, 0.0, 0.0, 0.0, 0.0, 0.0, 0.0, 0.0, 0.0, 0.0, 0.0, 0.0], [0.01735107973217964, 0.007446199655532837, 0.0060659111477434635, 0.00015389213513117284, 6.274856332311174e-06, 8.30581302579958e-06, 8.962975698523223e-05, 0.0002842135145328939, 0.00033987595816142857, 2.5140905108855804e-06, 5.168848656467162e-05, 0.00032479382934980094, 1.928668098116759e-06, 0.0002129062922904268, 0.001399964326992631, 1.4572144664271036e-06, 7.73823012423236e-06, 0.00020665657939389348, 0.9660449624061584, 0.0, 0.0, 0.0, 0.0, 0.0, 0.0, 0.0, 0.0, 0.0, 0.0, 0.0, 0.0, 0.0], [0.021858060732483864, 0.025627272203564644, 0.012257024645805359, 0.020287631079554558, 0.1645912081003189, 0.09839249402284622, 0.057663314044475555, 0.027645858004689217, 0.014507581479847431, 0.1275390088558197, 0.014666270464658737, 0.003920795861631632, 0.11793361604213715, 0.012977373786270618, 0.004774685483425856, 0.11084581911563873, 0.04949181526899338, 0.0052647036500275135, 0.004426438361406326, 0.10532908141613007, 0.0, 0.0, 0.0, 0.0, 0.0, 0.0, 0.0, 0.0, 0.0, 0.0, 0.0, 0.0], [0.019142037257552147, 0.0021585074719041586, 8.887956937542185e-05, 0.0001945807016454637, 0.0008818325004540384, 0.013711937703192234, 0.0004004830843769014, 0.0005505364388227463, 2.7124895495944656e-05, 0.00043767091119661927, 5.762758883065544e-05, 3.1639679946238175e-05, 0.0003353282227180898, 8.08401182439411e-06, 5.984887593513122e-06, 0.0002901036059483886, 0.00031384435715153813, 3.025853402505163e-05, 3.4603090171003714e-05, 0.0002310392155777663, 0.9610679149627686, 0.0, 0.0, 0.0, 0.0, 0.0, 0.0, 0.0, 0.0, 0.0, 0.0, 0.0], [0.007954702712595463, 0.00015181316121015698, 7.155310595408082e-05, 6.916526035638526e-05, 6.445447411351779e-07, 0.0001714477111818269, 3.23013482557144e-05, 2.220323494839249e-06, 1.9611077277659206e-06, 1.7779460392830515e-07, 5.304674687067745e-06, 4.829583488685785e-08, 1.220712420035852e-07, 9.705762522571604e-07, 6.860789198981365e-07, 9.184363847225541e-08, 7.936572643529871e-08, 6.876334373373538e-05, 1.8725730797086726e-06, 6.599067603474396e-08, 4.692251877713716e-06, 0.9914612770080566, 0.0, 0.0, 0.0, 0.0, 0.0, 0.0, 0.0, 0.0, 0.0, 0.0], [0.005747130140662193, 8.531034109182656e-05, 0.00029553615604527295, 6.963151827221736e-05, 4.2023845026051276e-07, 4.216770776110934e-06, 1.0078463219542755e-07, 0.0001589206513017416, 0.0005961144343018532, 1.4749831223070942e-07, 4.79380560136633e-06, 2.312365722900722e-06, 1.1210435957309528e-07, 0.00011350454587955028, 4.801160321221687e-05, 8.254012584529846e-08, 1.1112858544493065e-07, 3.486585046630353e-05, 1.699402491794899e-05, 6.865342072615022e-08, 7.689257586207532e-08, 1.0088609087688383e-05, 0.9928115010261536, 0.0, 0.0, 0.0, 0.0, 0.0, 0.0, 0.0, 0.0, 0.0], [0.03757407143712044, 0.010297548957169056, 0.002065748441964388, 0.001209121197462082, 0.011583776213228703, 0.01134943962097168, 0.05826304107904434, 0.0003129091637674719, 0.001050918479450047, 0.00608383072540164, 0.0008061399566940963, 0.0002193055988755077, 0.004922681953758001, 0.006544249597936869, 0.00039398286025971174, 0.0043495167046785355, 0.010463308542966843, 0.0012314853956922889, 0.0004050882998853922, 0.0036936302203685045, 0.0032761015463620424, 0.0059901038184762, 0.0003155390440952033, 0.8175985217094421, 0.0, 0.0, 0.0, 0.0, 0.0, 0.0, 0.0, 0.0], [0.0028877214062958956, 5.473175860970514e-06, 4.282714508008212e-05, 3.351726263645105e-05, 1.4147485849491659e-08, 5.47459364952374e-07, 2.0036564762904163e-07, 7.929109102633447e-08, 8.529345336683036e-07, 3.647136148643426e-09, 5.184563178772805e-06, 1.088566463636198e-07, 2.5098334521800325e-09, 2.4009554522308463e-07, 1.3684806390301674e-06, 1.7824289821888328e-09, 6.2306457770944235e-09, 9.031558874994516e-06, 1.58441616804339e-06, 1.3761778383525325e-09, 7.726375095273852e-10, 8.212191460188478e-06, 3.0236271868488984e-06, 8.860163269730492e-09, 0.9970000386238098, 0.0, 0.0, 0.0, 0.0, 0.0, 0.0, 0.0], [0.005350728984922171, 0.0006121255573816597, 0.0014644325710833073, 0.0001942438684636727, 2.57024225902569e-06, 5.836106083734194e-06, 3.951702183258021e-06, 5.480768322740914e-06, 0.00012845265155192465, 1.0171017947868677e-06, 1.0546527846599929e-05, 1.1486513358249795e-05, 7.997139164217515e-07, 0.003380576614290476, 0.00019323377637192607, 6.143636142041942e-07, 4.855295969719009e-07, 1.970739867829252e-05, 0.00010727227345341817, 4.88810087517777e-07, 3.294688895039144e-07, 4.3323584577592555e-06, 4.805847129318863e-05, 3.4170295748481294e-07, 1.2609944860741962e-05, 0.9884402751922607, 0.0, 0.0, 0.0, 0.0, 0.0, 0.0], [0.010854375548660755, 0.00783445779234171, 0.0014556589303538203, 0.0023879886139184237, 0.00506288418546319, 0.003616136033087969, 0.019795306026935577, 0.0016886729281395674, 0.005891614127904177, 0.0026987551245838404, 0.0007157567306421697, 0.0012065396877005696, 0.0021296152845025063, 0.0035986597649753094, 0.0002675420546438545, 0.0019600861705839634, 0.011174089275300503, 0.003388807410374284, 0.00024075763940345496, 0.001621456816792488, 0.007218212820589542, 0.0011837250785902143, 0.00015797615924384445, 0.01997721754014492, 0.0005030421307310462, 0.0003529989335220307, 0.8830176591873169, 0.0, 0.0, 0.0, 0.0, 0.0], [0.00047615167568437755, 5.4116676437843125e-06, 0.0001303304306929931, 0.6687979102134705, 2.2475170169400371e-07, 1.148113710769394e-06, 1.0363573892391287e-06, 1.954573417606298e-05, 4.179892857791856e-05, 7.713089189564926e-08, 1.0575119631539565e-05, 8.325358891170254e-08, 5.622936072313678e-08, 2.1216135337454034e-06, 7.723401722614653e-06, 4.346194870663567e-08, 3.057026631836379e-08, 3.307608130853623e-05, 4.6643060613860143e-07, 3.263219028326603e-08, 3.238435652974658e-08, 4.841231202590279e-06, 3.1064500944921747e-06, 1.5612304338219474e-08, 2.2875414288137108e-05, 9.64700029726373e-06, 3.201983034273326e-08, 0.3304316997528076, 0.0, 0.0, 0.0, 0.0], [0.014749418944120407, 0.00023992895148694515, 4.323505436332198e-06, 5.008578796150687e-07, 1.7575125355051568e-07, 2.9699791411985643e-05, 1.3094971507143782e-07, 2.879543785638816e-07, 3.739962266990915e-06, 4.806027575909866e-08, 1.676730335020693e-06, 1.8204232787866204e-07, 3.302942275240639e-08, 1.8134247170564777e-07, 4.964530120332711e-08, 2.387925768232435e-08, 2.960794631690078e-08, 7.105381882865913e-08, 1.5636015149311788e-08, 1.6657883961102016e-08, 8.176560584161052e-08, 2.5950669169105822e-06, 7.932785592856817e-07, 2.9186136174530475e-08, 2.8881575531158887e-07, 5.097111284158018e-07, 4.513430962305165e-09, 2.6504576311481287e-08, 0.9849652051925659, 0.0, 0.0, 0.0], [0.0019622333347797394, 5.5478644753748085e-06, 2.4674018277437426e-06, 2.6684841941460036e-05, 8.541178875276501e-10, 8.339967280335259e-06, 6.446707168095145e-09, 2.570522781297768e-07, 2.004937414312735e-06, 2.2611679195705392e-10, 2.1460456522959248e-08, 9.986194271505155e-08, 1.4666656777961862e-10, 8.866344991531605e-09, 4.60217815998476e-05, 1.0834685232330443e-10, 5.83953940758164e-10, 7.326761988224462e-05, 7.629114406881854e-08, 7.855198436157451e-11, 3.981024221388907e-08, 1.0897386346186977e-05, 2.1599728370347293e-06, 9.79665792932849e-10, 9.896299161482602e-06, 5.995471674680175e-09, 1.1233760449647079e-10, 3.37293067786959e-06, 3.869037357162597e-07, 0.9978461265563965, 0.0, 0.0], [0.001994233811274171, 2.850585588021204e-05, 1.9446908481768332e-05, 3.2585459848633036e-05, 4.326319924530253e-08, 4.813096165889874e-05, 2.2358716478265706e-07, 7.920347115941695e-07, 1.2924280099468888e-06, 1.4017777161257072e-08, 4.9640261750028e-06, 3.6433888794817904e-07, 1.0537227979057207e-08, 1.8932042848973651e-06, 5.194541245145956e-06, 8.042811749930934e-09, 1.1133034050203605e-08, 4.368416193756275e-05, 8.161734967870871e-07, 6.2123119981549735e-09, 1.1649069620034425e-07, 1.5263049135683104e-05, 9.390297236677725e-06, 6.472893332443164e-09, 1.669799894443713e-05, 3.2603131785435835e-06, 7.303227356203479e-09, 5.16514364790055e-06, 7.564336101495428e-06, 6.8278604885563254e-06, 0.9977534413337708, 0.0], [0.02431749366223812, 0.02205592952668667, 0.009196219965815544, 0.027800438925623894, 0.08242084830999374, 0.08386538922786713, 0.06097032129764557, 0.02948937937617302, 0.013491922058165073, 0.05891918018460274, 0.007306694984436035, 0.005683379713445902, 0.05318557843565941, 0.008596005849540234, 0.003090483136475086, 0.048965420573949814, 0.049413878470659256, 0.002854040591046214, 0.007022384088486433, 0.04532303288578987, 0.049238525331020355, 0.026747651398181915, 0.02705487236380577, 0.027863632887601852, 0.0118678268045187, 0.0061400700360536575, 0.03784319385886192, 0.010463780723512173, 0.00529193552210927, 0.0025459786411374807, 0.0025901789776980877, 0.14838430285453796]], [[1.0, 0.0, 0.0, 0.0, 0.0, 0.0, 0.0, 0.0, 0.0, 0.0, 0.0, 0.0, 0.0, 0.0, 0.0, 0.0, 0.0, 0.0, 0.0, 0.0, 0.0, 0.0, 0.0, 0.0, 0.0, 0.0, 0.0, 0.0, 0.0, 0.0, 0.0, 0.0], [0.9028652906417847, 0.09713470935821533, 0.0, 0.0, 0.0, 0.0, 0.0, 0.0, 0.0, 0.0, 0.0, 0.0, 0.0, 0.0, 0.0, 0.0, 0.0, 0.0, 0.0, 0.0, 0.0, 0.0, 0.0, 0.0, 0.0, 0.0, 0.0, 0.0, 0.0, 0.0, 0.0, 0.0], [0.6607019901275635, 0.19701066613197327, 0.14228729903697968, 0.0, 0.0, 0.0, 0.0, 0.0, 0.0, 0.0, 0.0, 0.0, 0.0, 0.0, 0.0, 0.0, 0.0, 0.0, 0.0, 0.0, 0.0, 0.0, 0.0, 0.0, 0.0, 0.0, 0.0, 0.0, 0.0, 0.0, 0.0, 0.0], [0.4298568367958069, 0.11026134341955185, 0.22706688940525055, 0.23281486332416534, 0.0, 0.0, 0.0, 0.0, 0.0, 0.0, 0.0, 0.0, 0.0, 0.0, 0.0, 0.0, 0.0, 0.0, 0.0, 0.0, 0.0, 0.0, 0.0, 0.0, 0.0, 0.0, 0.0, 0.0, 0.0, 0.0, 0.0, 0.0], [0.44854381680488586, 0.1681469827890396, 0.18003955483436584, 0.19693531095981598, 0.006334313191473484, 0.0, 0.0, 0.0, 0.0, 0.0, 0.0, 0.0, 0.0, 0.0, 0.0, 0.0, 0.0, 0.0, 0.0, 0.0, 0.0, 0.0, 0.0, 0.0, 0.0, 0.0, 0.0, 0.0, 0.0, 0.0, 0.0, 0.0], [0.259285032749176, 0.17154303193092346, 0.162279412150383, 0.321377158164978, 0.0235309936106205, 0.06198439002037048, 0.0, 0.0, 0.0, 0.0, 0.0, 0.0, 0.0, 0.0, 0.0, 0.0, 0.0, 0.0, 0.0, 0.0, 0.0, 0.0, 0.0, 0.0, 0.0, 0.0, 0.0, 0.0, 0.0, 0.0, 0.0, 0.0], [0.29037103056907654, 0.1803513616323471, 0.20835207402706146, 0.19834282994270325, 0.015792977064847946, 0.08225686103105545, 0.024532828480005264, 0.0, 0.0, 0.0, 0.0, 0.0, 0.0, 0.0, 0.0, 0.0, 0.0, 0.0, 0.0, 0.0, 0.0, 0.0, 0.0, 0.0, 0.0, 0.0, 0.0, 0.0, 0.0, 0.0, 0.0, 0.0], [0.2166474312543869, 0.14905188977718353, 0.11328838020563126, 0.26208215951919556, 0.021287381649017334, 0.10427941381931305, 0.03005349263548851, 0.10330986231565475, 0.0, 0.0, 0.0, 0.0, 0.0, 0.0, 0.0, 0.0, 0.0, 0.0, 0.0, 0.0, 0.0, 0.0, 0.0, 0.0, 0.0, 0.0, 0.0, 0.0, 0.0, 0.0, 0.0, 0.0], [0.119515061378479, 0.19570057094097137, 0.141482412815094, 0.19829200208187103, 0.042918890714645386, 0.09055446088314056, 0.025589045137166977, 0.12424636632204056, 0.0617012120783329, 0.0, 0.0, 0.0, 0.0, 0.0, 0.0, 0.0, 0.0, 0.0, 0.0, 0.0, 0.0, 0.0, 0.0, 0.0, 0.0, 0.0, 0.0, 0.0, 0.0, 0.0, 0.0, 0.0], [0.31677013635635376, 0.12125565111637115, 0.1592550128698349, 0.17360933125019073, 0.003986891359090805, 0.025357332080602646, 0.013020000420510769, 0.07285590469837189, 0.10963763296604156, 0.004252059850841761, 0.0, 0.0, 0.0, 0.0, 0.0, 0.0, 0.0, 0.0, 0.0, 0.0, 0.0, 0.0, 0.0, 0.0, 0.0, 0.0, 0.0, 0.0, 0.0, 0.0, 0.0, 0.0], [0.25696542859077454, 0.07692867517471313, 0.1945641189813614, 0.10585024207830429, 0.020154859870672226, 0.034926265478134155, 0.008691992610692978, 0.05688677728176117, 0.07970248907804489, 0.0187087319791317, 0.14662037789821625, 0.0, 0.0, 0.0, 0.0, 0.0, 0.0, 0.0, 0.0, 0.0, 0.0, 0.0, 0.0, 0.0, 0.0, 0.0, 0.0, 0.0, 0.0, 0.0, 0.0, 0.0], [0.26242777705192566, 0.09929648041725159, 0.07650233805179596, 0.10772964358329773, 0.024349089711904526, 0.02003924548625946, 0.015727229416370392, 0.03726544603705406, 0.06111255660653114, 0.023411590605974197, 0.1599331796169281, 0.11220546066761017, 0.0, 0.0, 0.0, 0.0, 0.0, 0.0, 0.0, 0.0, 0.0, 0.0, 0.0, 0.0, 0.0, 0.0, 0.0, 0.0, 0.0, 0.0, 0.0, 0.0], [0.23955892026424408, 0.08618912845849991, 0.11991651356220245, 0.13333100080490112, 0.00265756924636662, 0.018202275037765503, 0.009226866066455841, 0.05619027465581894, 0.08583300560712814, 0.0028566436376422644, 0.14897778630256653, 0.0938137024641037, 0.0032462046947330236, 0.0, 0.0, 0.0, 0.0, 0.0, 0.0, 0.0, 0.0, 0.0, 0.0, 0.0, 0.0, 0.0, 0.0, 0.0, 0.0, 0.0, 0.0, 0.0], [0.17526935040950775, 0.11344551295042038, 0.09143594652414322, 0.13344880938529968, 0.012487097643315792, 0.016550736501812935, 0.006108426954597235, 0.05385638773441315, 0.057260844856500626, 0.011606168001890182, 0.10008066147565842, 0.13929443061351776, 0.012105095200240612, 0.07705046981573105, 0.0, 0.0, 0.0, 0.0, 0.0, 0.0, 0.0, 0.0, 0.0, 0.0, 0.0, 0.0, 0.0, 0.0, 0.0, 0.0, 0.0, 0.0], [0.0772331953048706, 0.10177786648273468, 0.06414782255887985, 0.0899188295006752, 0.03526286780834198, 0.03281550854444504, 0.012356561608612537, 0.04363163560628891, 0.04609912261366844, 0.035032980144023895, 0.15403181314468384, 0.13108886778354645, 0.03935578092932701, 0.06211056560277939, 0.07513660937547684, 0.0, 0.0, 0.0, 0.0, 0.0, 0.0, 0.0, 0.0, 0.0, 0.0, 0.0, 0.0, 0.0, 0.0, 0.0, 0.0, 0.0], [0.17255251109600067, 0.061349619179964066, 0.08805522322654724, 0.09868476539850235, 0.0017798192566260695, 0.012629114091396332, 0.006358910817652941, 0.04140041396021843, 0.06374470889568329, 0.0019119017524644732, 0.11309582740068436, 0.07016882300376892, 0.00218384456820786, 0.07279743999242783, 0.19082805514335632, 0.0024590673856437206, 0.0, 0.0, 0.0, 0.0, 0.0, 0.0, 0.0, 0.0, 0.0, 0.0, 0.0, 0.0, 0.0, 0.0, 0.0, 0.0], [0.13998839259147644, 0.049196116626262665, 0.09320200234651566, 0.08832219243049622, 0.002205838914960623, 0.018100591376423836, 0.006262979470193386, 0.059882305562496185, 0.08995676040649414, 0.0023875206243246794, 0.10767767578363419, 0.06099855154752731, 0.0027295828331261873, 0.08010318130254745, 0.19141556322574615, 0.0031021623872220516, 0.0044686030596494675, 0.0, 0.0, 0.0, 0.0, 0.0, 0.0, 0.0, 0.0, 0.0, 0.0, 0.0, 0.0, 0.0, 0.0, 0.0], [0.07236301898956299, 0.05434810742735863, 0.04077586531639099, 0.0944402888417244, 0.06306443363428116, 0.048545822501182556, 0.02997940219938755, 0.03108917362987995, 0.043554432690143585, 0.06099651753902435, 0.053852979093790054, 0.07063284516334534, 0.06236185505986214, 0.06165813282132149, 0.05444730818271637, 0.06473446637392044, 0.05420663207769394, 0.038948673754930496, 0.0, 0.0, 0.0, 0.0, 0.0, 0.0, 0.0, 0.0, 0.0, 0.0, 0.0, 0.0, 0.0, 0.0], [0.1357058435678482, 0.04243840277194977, 0.07792430371046066, 0.057633329182863235, 0.009502224624156952, 0.023620741441845894, 0.008148218505084515, 0.033348094671964645, 0.0804339349269867, 0.009733441285789013, 0.055549219250679016, 0.04584715515375137, 0.010763909667730331, 0.047839079052209854, 0.15822309255599976, 0.011696845293045044, 0.008613294921815395, 0.1682903915643692, 0.014688462018966675, 0.0, 0.0, 0.0, 0.0, 0.0, 0.0, 0.0, 0.0, 0.0, 0.0, 0.0, 0.0, 0.0], [0.11752256006002426, 0.040801625698804855, 0.05999387800693512, 0.06930619478225708, 0.0011317447060719132, 0.008312921971082687, 0.004283738322556019, 0.028524674475193024, 0.044171661138534546, 0.0012112432159483433, 0.07804705202579498, 0.04938747361302376, 0.0013882977655157447, 0.049278438091278076, 0.1369563490152359, 0.0015745959244668484, 0.002599539700895548, 0.17281842231750488, 0.13084404170513153, 0.0018455774988979101, 0.0, 0.0, 0.0, 0.0, 0.0, 0.0, 0.0, 0.0, 0.0, 0.0, 0.0, 0.0], [0.07192625850439072, 0.035503681749105453, 0.06564772874116898, 0.07896314561367035, 0.0026137400418519974, 0.0210358165204525, 0.005098964553326368, 0.06585162878036499, 0.06994220614433289, 0.0028434505220502615, 0.058883778750896454, 0.057694122195243835, 0.0032715070992708206, 0.056302715092897415, 0.15067283809185028, 0.003761411877349019, 0.004944655112922192, 0.17005588114261627, 0.0603080689907074, 0.004404043313115835, 0.010274356231093407, 0.0, 0.0, 0.0, 0.0, 0.0, 0.0, 0.0, 0.0, 0.0, 0.0, 0.0], [0.07503455877304077, 0.029640354216098785, 0.04707290977239609, 0.06926099956035614, 0.01710028015077114, 0.030212508514523506, 0.014567269012331963, 0.03261028602719307, 0.05526703968644142, 0.016486477106809616, 0.033343035727739334, 0.03416949138045311, 0.017268676310777664, 0.028190840035676956, 0.10039449483156204, 0.018381113186478615, 0.017926350235939026, 0.09932610392570496, 0.04971550777554512, 0.01961257867515087, 0.01598796434700489, 0.1784311980009079, 0.0, 0.0, 0.0, 0.0, 0.0, 0.0, 0.0, 0.0, 0.0, 0.0], [0.06436781585216522, 0.04217777028679848, 0.0635533258318901, 0.07681843638420105, 0.013514530844986439, 0.023489924147725105, 0.00940375030040741, 0.028942707926034927, 0.03958861157298088, 0.012612296268343925, 0.08912887424230576, 0.05753019079566002, 0.013399438932538033, 0.037096284329891205, 0.09113211929798126, 0.0144085343927145, 0.011510401032865047, 0.06560744345188141, 0.06508156657218933, 0.015522130765020847, 0.006550771649926901, 0.10347680747509003, 0.05508625879883766, 0.0, 0.0, 0.0, 0.0, 0.0, 0.0, 0.0, 0.0, 0.0], [0.05367646738886833, 0.030399180948734283, 0.0572902113199234, 0.055913928896188736, 0.0017186233308166265, 0.012308333069086075, 0.003557576099410653, 0.05208510532975197, 0.054912060499191284, 0.0019038390601053834, 0.061971139162778854, 0.028635889291763306, 0.002191321924328804, 0.05306432396173477, 0.07880543917417526, 0.0025105117820203304, 0.0030188520904630423, 0.11412431299686432, 0.04731389507651329, 0.003012305125594139, 0.01195482537150383, 0.1246664896607399, 0.1382174789905548, 0.006747884210199118, 0.0, 0.0, 0.0, 0.0, 0.0, 0.0, 0.0, 0.0], [0.08731701225042343, 0.0629279837012291, 0.049099136143922806, 0.06438921391963959, 0.01874786615371704, 0.022943224757909775, 0.010465579107403755, 0.023965582251548767, 0.03186560422182083, 0.016416314989328384, 0.06624637544155121, 0.10867790132761002, 0.017067162320017815, 0.04737788811326027, 0.04481995478272438, 0.017384851351380348, 0.02180541679263115, 0.05911006033420563, 0.03794421628117561, 0.018613945692777634, 0.006895080208778381, 0.04380538687109947, 0.03321343660354614, 0.015105141326785088, 0.07379571348428726, 0.0, 0.0, 0.0, 0.0, 0.0, 0.0, 0.0], [0.0834483802318573, 0.06747139990329742, 0.03580806031823158, 0.05883262678980827, 0.0027521755546331406, 0.004583710804581642, 0.0022397199645638466, 0.01469925045967102, 0.025985004380345345, 0.0025101120118051767, 0.09970470517873764, 0.07823129743337631, 0.0026647208724170923, 0.0476965568959713, 0.05842793732881546, 0.002857683226466179, 0.003437299281358719, 0.047942809760570526, 0.028728153556585312, 0.003115429077297449, 0.004845090676099062, 0.03691243752837181, 0.022530704736709595, 0.004941168241202831, 0.22468183934688568, 0.03495170921087265, 0.0, 0.0, 0.0, 0.0, 0.0, 0.0], [0.04883323982357979, 0.018198078498244286, 0.03778039664030075, 0.0316276028752327, 0.0013257295358926058, 0.009000269696116447, 0.00253397598862648, 0.03432907909154892, 0.04743696376681328, 0.001450394163839519, 0.05321537330746651, 0.020651472732424736, 0.0016138397622853518, 0.038763273507356644, 0.04821181669831276, 0.0018444994930177927, 0.0026723849587142467, 0.06456312537193298, 0.041541699320077896, 0.002193630440160632, 0.009564734995365143, 0.08481551706790924, 0.08880263566970825, 0.005548447836190462, 0.23891369998455048, 0.058554645627737045, 0.006013469770550728, 0.0, 0.0, 0.0, 0.0, 0.0], [0.07736410200595856, 0.018644671887159348, 0.06033015251159668, 0.06546443700790405, 0.0075570037588477135, 0.011014268733561039, 0.0030996566638350487, 0.01622130163013935, 0.027406742796301842, 0.007168162148445845, 0.03553327918052673, 0.022108756005764008, 0.00755538372322917, 0.02086309716105461, 0.05550335720181465, 0.00800945982336998, 0.005354909226298332, 0.06816451996564865, 0.01963568851351738, 0.008767245337367058, 0.0046689449809491634, 0.027759522199630737, 0.05124272406101227, 0.004699008073657751, 0.20284008979797363, 0.040190689265728, 0.005589398555457592, 0.11724336445331573, 0.0, 0.0, 0.0, 0.0], [0.09543624520301819, 0.015903448686003685, 0.02425500378012657, 0.016573220491409302, 0.021287940442562103, 0.01809167116880417, 0.017895661294460297, 0.02164709009230137, 0.045904044061899185, 0.02316395379602909, 0.07501568645238876, 0.03139105066657066, 0.02491690404713154, 0.021064572036266327, 0.021797316148877144, 0.02764677256345749, 0.02481471188366413, 0.05836264789104462, 0.034129153937101364, 0.03235248476266861, 0.01686667837202549, 0.01573699712753296, 0.030439231544733047, 0.034196075052022934, 0.08272366225719452, 0.03557370603084564, 0.035479407757520676, 0.03268370404839516, 0.0646509900689125, 0.0, 0.0, 0.0], [0.05491040274500847, 0.023197785019874573, 0.02401695027947426, 0.03448660299181938, 0.019840091466903687, 0.024622060358524323, 0.023666860535740852, 0.014751991257071495, 0.029674874618649483, 0.019732914865016937, 0.016165021806955338, 0.02563907392323017, 0.020565327256917953, 0.01459058653563261, 0.039975568652153015, 0.021663745865225792, 0.019931884482502937, 0.05705568939447403, 0.02280283533036709, 0.023441648110747337, 0.024368276819586754, 0.06531350314617157, 0.07060585916042328, 0.035293515771627426, 0.04500085860490799, 0.030998680740594864, 0.03315693512558937, 0.054452743381261826, 0.06815344840288162, 0.04192426800727844, 0.0, 0.0], [0.07265335321426392, 0.03724312037229538, 0.0352192297577858, 0.050609152764081955, 0.022008880972862244, 0.012773965485394001, 0.009840643033385277, 0.018203020095825195, 0.025270992890000343, 0.0199855025857687, 0.043401554226875305, 0.04172307997941971, 0.020849954336881638, 0.02953239157795906, 0.04555976390838623, 0.021740425378084183, 0.014322818256914616, 0.058709777891635895, 0.02239801175892353, 0.02328876405954361, 0.003997491206973791, 0.02963969297707081, 0.020639201626181602, 0.013355331495404243, 0.038035888224840164, 0.03930005431175232, 0.013801774941384792, 0.06889761984348297, 0.009238229133188725, 0.04651700332760811, 0.09124332666397095, 0.0], [0.0365242063999176, 0.008873932994902134, 0.01690641976892948, 0.017150482162833214, 0.0002651046961545944, 0.0020585895981639624, 0.0007188630406744778, 0.0064070457592606544, 0.010837516747415066, 0.0002551622164901346, 0.014694465324282646, 0.0092178825289011, 0.00027910919743590057, 0.00942312739789486, 0.04186197742819786, 0.0003062888572458178, 0.0003851884976029396, 0.05495210736989975, 0.09413549304008484, 0.00034979605698026717, 0.0017667881911620498, 0.046474892646074295, 0.026408763602375984, 0.0010294561507180333, 0.1662241518497467, 0.014344778843224049, 0.0012953041587024927, 0.047719284892082214, 0.01136298943310976, 0.21696248650550842, 0.14035959541797638, 0.0004486681427806616]], [[1.0, 0.0, 0.0, 0.0, 0.0, 0.0, 0.0, 0.0, 0.0, 0.0, 0.0, 0.0, 0.0, 0.0, 0.0, 0.0, 0.0, 0.0, 0.0, 0.0, 0.0, 0.0, 0.0, 0.0, 0.0, 0.0, 0.0, 0.0, 0.0, 0.0, 0.0, 0.0], [0.9831889867782593, 0.016811024397611618, 0.0, 0.0, 0.0, 0.0, 0.0, 0.0, 0.0, 0.0, 0.0, 0.0, 0.0, 0.0, 0.0, 0.0, 0.0, 0.0, 0.0, 0.0, 0.0, 0.0, 0.0, 0.0, 0.0, 0.0, 0.0, 0.0, 0.0, 0.0, 0.0, 0.0], [0.5677627921104431, 0.34300556778907776, 0.08923163264989853, 0.0, 0.0, 0.0, 0.0, 0.0, 0.0, 0.0, 0.0, 0.0, 0.0, 0.0, 0.0, 0.0, 0.0, 0.0, 0.0, 0.0, 0.0, 0.0, 0.0, 0.0, 0.0, 0.0, 0.0, 0.0, 0.0, 0.0, 0.0, 0.0], [0.22981688380241394, 0.13033336400985718, 0.46659141778945923, 0.17325830459594727, 0.0, 0.0, 0.0, 0.0, 0.0, 0.0, 0.0, 0.0, 0.0, 0.0, 0.0, 0.0, 0.0, 0.0, 0.0, 0.0, 0.0, 0.0, 0.0, 0.0, 0.0, 0.0, 0.0, 0.0, 0.0, 0.0, 0.0, 0.0], [0.1593216359615326, 0.13751111924648285, 0.1573815494775772, 0.1248074322938919, 0.420978307723999, 0.0, 0.0, 0.0, 0.0, 0.0, 0.0, 0.0, 0.0, 0.0, 0.0, 0.0, 0.0, 0.0, 0.0, 0.0, 0.0, 0.0, 0.0, 0.0, 0.0, 0.0, 0.0, 0.0, 0.0, 0.0, 0.0, 0.0], [0.08203933387994766, 0.18850666284561157, 0.06267426162958145, 0.06878078728914261, 0.35666683316230774, 0.24133211374282837, 0.0, 0.0, 0.0, 0.0, 0.0, 0.0, 0.0, 0.0, 0.0, 0.0, 0.0, 0.0, 0.0, 0.0, 0.0, 0.0, 0.0, 0.0, 0.0, 0.0, 0.0, 0.0, 0.0, 0.0, 0.0, 0.0], [0.1010582372546196, 0.032014988362789154, 0.041695792227983475, 0.0635053738951683, 0.1747007668018341, 0.30848944187164307, 0.278535395860672, 0.0, 0.0, 0.0, 0.0, 0.0, 0.0, 0.0, 0.0, 0.0, 0.0, 0.0, 0.0, 0.0, 0.0, 0.0, 0.0, 0.0, 0.0, 0.0, 0.0, 0.0, 0.0, 0.0, 0.0, 0.0], [0.14415697753429413, 0.029504694044589996, 0.07107328623533249, 0.028563091531395912, 0.14822685718536377, 0.2161742001771927, 0.2664490044116974, 0.09585191309452057, 0.0, 0.0, 0.0, 0.0, 0.0, 0.0, 0.0, 0.0, 0.0, 0.0, 0.0, 0.0, 0.0, 0.0, 0.0, 0.0, 0.0, 0.0, 0.0, 0.0, 0.0, 0.0, 0.0, 0.0], [0.08977264165878296, 0.013381469994783401, 0.0033783086109906435, 0.014445353299379349, 0.05002176761627197, 0.05697673186659813, 0.10413860529661179, 0.6406530141830444, 0.027232099324464798, 0.0, 0.0, 0.0, 0.0, 0.0, 0.0, 0.0, 0.0, 0.0, 0.0, 0.0, 0.0, 0.0, 0.0, 0.0, 0.0, 0.0, 0.0, 0.0, 0.0, 0.0, 0.0, 0.0], [0.026419660076498985, 0.011531667783856392, 0.012129093520343304, 0.010102315805852413, 0.03990509361028671, 0.07487037777900696, 0.1409529149532318, 0.11880046874284744, 0.21552808582782745, 0.34976041316986084, 0.0, 0.0, 0.0, 0.0, 0.0, 0.0, 0.0, 0.0, 0.0, 0.0, 0.0, 0.0, 0.0, 0.0, 0.0, 0.0, 0.0, 0.0, 0.0, 0.0, 0.0, 0.0], [0.010994990356266499, 0.007577869109809399, 0.03277433291077614, 0.014895974658429623, 0.030109869316220284, 0.02471381612122059, 0.07053107768297195, 0.04340636730194092, 0.5499634742736816, 0.18686968088150024, 0.02816249057650566, 0.0, 0.0, 0.0, 0.0, 0.0, 0.0, 0.0, 0.0, 0.0, 0.0, 0.0, 0.0, 0.0, 0.0, 0.0, 0.0, 0.0, 0.0, 0.0, 0.0, 0.0], [0.027594277635216713, 0.006634567864239216, 0.003620653413236141, 0.02562432922422886, 0.02582577057182789, 0.026403559371829033, 0.05186343193054199, 0.04892225190997124, 0.05289532244205475, 0.13336460292339325, 0.5372265577316284, 0.06002466008067131, 0.0, 0.0, 0.0, 0.0, 0.0, 0.0, 0.0, 0.0, 0.0, 0.0, 0.0, 0.0, 0.0, 0.0, 0.0, 0.0, 0.0, 0.0, 0.0, 0.0], [0.016588034108281136, 0.004667202010750771, 0.005159070715308189, 0.004014395177364349, 0.014438140206038952, 0.024474166333675385, 0.04133453965187073, 0.03690185397863388, 0.07383646816015244, 0.10924270749092102, 0.058525264263153076, 0.20423957705497742, 0.40657854080200195, 0.0, 0.0, 0.0, 0.0, 0.0, 0.0, 0.0, 0.0, 0.0, 0.0, 0.0, 0.0, 0.0, 0.0, 0.0, 0.0, 0.0, 0.0, 0.0], [0.050421010702848434, 0.011938545852899551, 0.0027085391338914633, 0.005190666299313307, 0.025502756237983704, 0.03670700266957283, 0.029125867411494255, 0.051201675087213516, 0.04871252179145813, 0.1183617115020752, 0.06031852215528488, 0.07774469256401062, 0.3901554048061371, 0.09191108494997025, 0.0, 0.0, 0.0, 0.0, 0.0, 0.0, 0.0, 0.0, 0.0, 0.0, 0.0, 0.0, 0.0, 0.0, 0.0, 0.0, 0.0, 0.0], [0.0026016696356236935, 0.0012801537523046136, 0.001697745407000184, 0.003033429617062211, 0.0032090013846755028, 0.004378410987555981, 0.0041564288549125195, 0.005229538306593895, 0.011416672728955746, 0.012844735756516457, 0.005141871981322765, 0.02170593850314617, 0.03653823584318161, 0.8818676471710205, 0.0048985849134624004, 0.0, 0.0, 0.0, 0.0, 0.0, 0.0, 0.0, 0.0, 0.0, 0.0, 0.0, 0.0, 0.0, 0.0, 0.0, 0.0, 0.0], [0.010721419006586075, 0.002296255435794592, 0.0026192415971308947, 0.0018421849235892296, 0.006112472154200077, 0.009519373998045921, 0.013582160696387291, 0.012390573509037495, 0.025646787136793137, 0.03342219814658165, 0.018351303413510323, 0.06514284759759903, 0.11960111558437347, 0.12015851587057114, 0.13332535326480865, 0.42526817321777344, 0.0, 0.0, 0.0, 0.0, 0.0, 0.0, 0.0, 0.0, 0.0, 0.0, 0.0, 0.0, 0.0, 0.0, 0.0, 0.0], [0.012164680287241936, 0.0026264276821166277, 0.0022398517467081547, 0.0027302245143800974, 0.004996576812118292, 0.0054779984056949615, 0.007168873213231564, 0.007158400025218725, 0.015920214354991913, 0.02213151380419731, 0.02183895744383335, 0.038084808737039566, 0.07328122109174728, 0.07647841423749924, 0.0757233053445816, 0.25909388065338135, 0.37288469076156616, 0.0, 0.0, 0.0, 0.0, 0.0, 0.0, 0.0, 0.0, 0.0, 0.0, 0.0, 0.0, 0.0, 0.0, 0.0], [0.01692693494260311, 0.0026742001064121723, 0.0011262893676757812, 0.003091774182394147, 0.010198099538683891, 0.0076595633290708065, 0.011394153349101543, 0.01849638856947422, 0.007040833123028278, 0.029427047818899155, 0.008668400347232819, 0.02467093989253044, 0.08339226245880127, 0.04432335123419762, 0.05219198763370514, 0.233010932803154, 0.3971143960952759, 0.048592474311590195, 0.0, 0.0, 0.0, 0.0, 0.0, 0.0, 0.0, 0.0, 0.0, 0.0, 0.0, 0.0, 0.0, 0.0], [0.014238262549042702, 0.0004295275721233338, 0.0003352368366904557, 0.0001413138525094837, 0.0011564688757061958, 0.0009298647055402398, 0.001498520141467452, 0.0008171337540261447, 0.00030448942561633885, 0.0028004320338368416, 0.03230687975883484, 0.00378750660456717, 0.0067918561398983, 0.0016992801101878285, 0.016117064282298088, 0.019271790981292725, 0.021991420537233353, 0.8729007840156555, 0.002482268726453185, 0.0, 0.0, 0.0, 0.0, 0.0, 0.0, 0.0, 0.0, 0.0, 0.0, 0.0, 0.0, 0.0], [0.006389479152858257, 0.0010357610881328583, 0.001201125793159008, 0.0008279792964458466, 0.0022895478177815676, 0.002966424450278282, 0.0035120274405926466, 0.0032883258536458015, 0.006023258902132511, 0.007222673390060663, 0.0039525083266198635, 0.012685008347034454, 0.0223038662225008, 0.02073325775563717, 0.02708776667714119, 0.07756845653057098, 0.1616613119840622, 0.12485011667013168, 0.10337446630001068, 0.41102662682533264, 0.0, 0.0, 0.0, 0.0, 0.0, 0.0, 0.0, 0.0, 0.0, 0.0, 0.0, 0.0], [0.00621024752035737, 0.0012269220314919949, 0.000882392399944365, 0.001288224826566875, 0.0027193718124181032, 0.0020772770512849092, 0.0025944900698959827, 0.004269297234714031, 0.003946282900869846, 0.00657431548461318, 0.0024751389864832163, 0.007876349613070488, 0.019943544641137123, 0.014126211404800415, 0.01636808179318905, 0.06788057088851929, 0.103343665599823, 0.07547596096992493, 0.03902064636349678, 0.35815900564193726, 0.2635420560836792, 0.0, 0.0, 0.0, 0.0, 0.0, 0.0, 0.0, 0.0, 0.0, 0.0, 0.0], [0.01367034949362278, 0.00028264877619221807, 0.0006085182540118694, 0.0010007928358390927, 0.0023998343385756016, 0.001667052274569869, 0.0025720323901623487, 0.0011062215780839324, 0.002256471663713455, 0.005656559485942125, 0.0005858965450897813, 0.0053456975147128105, 0.014950794167816639, 0.009459106251597404, 0.0063598379492759705, 0.04941244423389435, 0.07315107434988022, 0.04495515674352646, 0.02319973334670067, 0.23442400991916656, 0.282936692237854, 0.22399906814098358, 0.0, 0.0, 0.0, 0.0, 0.0, 0.0, 0.0, 0.0, 0.0, 0.0], [0.004466566722840071, 0.0015465208562090993, 0.001670918078161776, 0.0016306935576722026, 0.0025300707202404737, 0.0019150786101818085, 0.0021901088766753674, 0.0010221172124147415, 0.0037240046076476574, 0.004945483990013599, 0.0011441936949267983, 0.0038810924161225557, 0.01211531087756157, 0.006869723554700613, 0.005801299121230841, 0.035574596375226974, 0.05425921455025673, 0.0740472823381424, 0.016444867476820946, 0.1555403470993042, 0.22545868158340454, 0.229112908244133, 0.1541088968515396, 0.0, 0.0, 0.0, 0.0, 0.0, 0.0, 0.0, 0.0, 0.0], [0.008497162722051144, 0.0010545519180595875, 0.001301865093410015, 0.0014817219926044345, 0.0017071828478947282, 0.001359793939627707, 0.001167676760815084, 0.001997607061639428, 0.0025705613661557436, 0.002409114269539714, 0.0029193770606070757, 0.0035399668850004673, 0.0055951913818717, 0.007761647924780846, 0.006712261121720076, 0.01706797443330288, 0.023463161662220955, 0.03437080606818199, 0.011904752813279629, 0.0861731618642807, 0.10794826596975327, 0.1286620944738388, 0.25899046659469604, 0.2813436985015869, 0.0, 0.0, 0.0, 0.0, 0.0, 0.0, 0.0, 0.0], [0.011584287509322166, 0.0013210356701165438, 0.0023960729595273733, 0.00198911945335567, 0.004510616417974234, 0.002065792214125395, 0.003549793269485235, 0.0014502810081467032, 0.00231798249296844, 0.005072716157883406, 0.0009322406258434057, 0.008608218282461166, 0.009912673383951187, 0.01207786425948143, 0.00590466009452939, 0.023901978507637978, 0.03304606303572655, 0.00997235719114542, 0.014167566783726215, 0.08832093328237534, 0.0914296880364418, 0.11010728031396866, 0.16414183378219604, 0.3697987496852875, 0.021420150995254517, 0.0, 0.0, 0.0, 0.0, 0.0, 0.0, 0.0], [0.0064543006010353565, 0.0032818522304296494, 0.0005623130709864199, 0.0009724061819724739, 0.002173093380406499, 0.0011367843253538013, 0.0010269074700772762, 0.00013008485257159919, 0.001043217140249908, 0.001895449124276638, 0.06605047732591629, 0.0016428473172709346, 0.0036400118842720985, 0.0013873368734493852, 0.002152821747586131, 0.008831069804728031, 0.009398764930665493, 0.00818429235368967, 0.005766510963439941, 0.0345359668135643, 0.03895930200815201, 0.05433640629053116, 0.037300944328308105, 0.12515480816364288, 0.5694879293441772, 0.014494006521999836, 0.0, 0.0, 0.0, 0.0, 0.0, 0.0], [0.007437202148139477, 0.001029376988299191, 0.001150977797806263, 0.0010874284198507667, 0.0014687516959384084, 0.0010362806497141719, 0.0007574104238301516, 0.001543625257909298, 0.0016437368467450142, 0.0011628881329670548, 0.0005822189850732684, 0.0020340303890407085, 0.0022452385164797306, 0.002957053715363145, 0.0027140872552990913, 0.0058128079399466515, 0.008086602203547955, 0.008354449644684792, 0.005711577367037535, 0.0268172025680542, 0.03253022953867912, 0.0325261652469635, 0.091779924929142, 0.1020863875746727, 0.17599673569202423, 0.2095506340265274, 0.27189692854881287, 0.0, 0.0, 0.0, 0.0, 0.0], [0.006412361282855272, 0.0007728398195467889, 0.003322137985378504, 0.000893605116289109, 0.0021694102324545383, 0.0010270957136526704, 0.0012234861496835947, 0.00046134513104334474, 0.002597334561869502, 0.001763223554007709, 0.0008485504076816142, 0.0016580239171162248, 0.002926178742200136, 0.0033379008527845144, 0.005238267593085766, 0.006798954214900732, 0.008924383670091629, 0.007315401919186115, 0.0065208300948143005, 0.026107236742973328, 0.041079871356487274, 0.031682804226875305, 0.024776838719844818, 0.1056598573923111, 0.154081329703331, 0.13895577192306519, 0.3204982280731201, 0.09294673055410385, 0.0, 0.0, 0.0, 0.0], [0.009261038154363632, 0.0021335454657673836, 0.0017120083793997765, 0.003844332182779908, 0.004171457607299089, 0.0013470831327140331, 0.0018193254945799708, 0.0004440037882886827, 0.0005201822496019304, 0.0030370408203452826, 0.0015283285174518824, 0.0018496074480935931, 0.004750633612275124, 0.0014041947433725, 0.0045461105182766914, 0.010193479247391224, 0.009206116199493408, 0.005322667770087719, 0.0021138645242899656, 0.03310561180114746, 0.020858440548181534, 0.03466812148690224, 0.0581669919192791, 0.1141422837972641, 0.012010314501821995, 0.03348521515727043, 0.28620097041130066, 0.2384161800146103, 0.09974077343940735, 0.0, 0.0, 0.0], [0.010530851781368256, 0.0038190444465726614, 0.0049238046631217, 0.004272765014320612, 0.006470505613833666, 0.0017776642926037312, 0.002948075532913208, 0.0009801445994526148, 0.0008302860660478473, 0.003925816155970097, 0.0005692975246347487, 0.012769489549100399, 0.0060117533430457115, 0.003093467326834798, 0.006270951591432095, 0.010978114791214466, 0.014287148602306843, 0.009324409067630768, 0.012168444693088531, 0.03100021928548813, 0.024925345554947853, 0.030117690563201904, 0.037318259477615356, 0.10488354414701462, 0.006249994970858097, 0.14543429017066956, 0.18493400514125824, 0.1293221265077591, 0.1893700361251831, 0.0004924593376927078, 0.0, 0.0], [0.03098030760884285, 0.001335526118054986, 0.0034735719673335552, 0.0007869969122111797, 0.0040589370764791965, 0.002931690774857998, 0.0016508304979652166, 0.0008176319533959031, 0.0021478815469890833, 0.002087828703224659, 0.00030746846459805965, 0.0012138308957219124, 0.0028987652622163296, 0.0015953498659655452, 0.0038380916230380535, 0.005711583886295557, 0.006732121109962463, 0.0139288529753685, 0.003534860908985138, 0.018945759162306786, 0.027013417333364487, 0.01966949552297592, 0.034265629947185516, 0.07123704254627228, 0.026676110923290253, 0.08456104248762131, 0.17458514869213104, 0.0276641882956028, 0.06379134953022003, 0.2010926753282547, 0.16046597063541412, 0.0], [0.0038856733590364456, 0.00032774193095974624, 0.0006330497562885284, 0.0003382607828825712, 0.0006035644328221679, 0.0004270193458069116, 0.000255121587542817, 0.00021943997126072645, 0.00029665633337572217, 0.0003050142840947956, 0.00016128740389831364, 0.00022720325796399266, 0.00043741686386056244, 0.0001880691124824807, 0.0004997191717848182, 0.0009621266508474946, 0.0011075267102569342, 0.002121801022440195, 0.0020415792241692543, 0.0036269512493163347, 0.0044955043122172356, 0.004480545409023762, 0.00709632458165288, 0.014067070558667183, 0.03614071384072304, 0.01993941329419613, 0.0433356836438179, 0.02133461833000183, 0.11162666976451874, 0.07253719866275787, 0.16512766480445862, 0.48115333914756775]], [[1.0, 0.0, 0.0, 0.0, 0.0, 0.0, 0.0, 0.0, 0.0, 0.0, 0.0, 0.0, 0.0, 0.0, 0.0, 0.0, 0.0, 0.0, 0.0, 0.0, 0.0, 0.0, 0.0, 0.0, 0.0, 0.0, 0.0, 0.0, 0.0, 0.0, 0.0, 0.0], [0.851176381111145, 0.14882363379001617, 0.0, 0.0, 0.0, 0.0, 0.0, 0.0, 0.0, 0.0, 0.0, 0.0, 0.0, 0.0, 0.0, 0.0, 0.0, 0.0, 0.0, 0.0, 0.0, 0.0, 0.0, 0.0, 0.0, 0.0, 0.0, 0.0, 0.0, 0.0, 0.0, 0.0], [0.715359091758728, 0.12129330635070801, 0.16334758698940277, 0.0, 0.0, 0.0, 0.0, 0.0, 0.0, 0.0, 0.0, 0.0, 0.0, 0.0, 0.0, 0.0, 0.0, 0.0, 0.0, 0.0, 0.0, 0.0, 0.0, 0.0, 0.0, 0.0, 0.0, 0.0, 0.0, 0.0, 0.0, 0.0], [0.3796807825565338, 0.2500612735748291, 0.2684231996536255, 0.10183478146791458, 0.0, 0.0, 0.0, 0.0, 0.0, 0.0, 0.0, 0.0, 0.0, 0.0, 0.0, 0.0, 0.0, 0.0, 0.0, 0.0, 0.0, 0.0, 0.0, 0.0, 0.0, 0.0, 0.0, 0.0, 0.0, 0.0, 0.0, 0.0], [0.05878483131527901, 0.028874842450022697, 0.026194028556346893, 0.032481737434864044, 0.8536645174026489, 0.0, 0.0, 0.0, 0.0, 0.0, 0.0, 0.0, 0.0, 0.0, 0.0, 0.0, 0.0, 0.0, 0.0, 0.0, 0.0, 0.0, 0.0, 0.0, 0.0, 0.0, 0.0, 0.0, 0.0, 0.0, 0.0, 0.0], [0.0993301272392273, 0.054127901792526245, 0.05172227695584297, 0.0664154440164566, 0.5566372275352478, 0.1717669814825058, 0.0, 0.0, 0.0, 0.0, 0.0, 0.0, 0.0, 0.0, 0.0, 0.0, 0.0, 0.0, 0.0, 0.0, 0.0, 0.0, 0.0, 0.0, 0.0, 0.0, 0.0, 0.0, 0.0, 0.0, 0.0, 0.0], [0.04564237594604492, 0.03653072193264961, 0.036258991807699203, 0.03755354508757591, 0.46037474274635315, 0.1288476139307022, 0.2547919452190399, 0.0, 0.0, 0.0, 0.0, 0.0, 0.0, 0.0, 0.0, 0.0, 0.0, 0.0, 0.0, 0.0, 0.0, 0.0, 0.0, 0.0, 0.0, 0.0, 0.0, 0.0, 0.0, 0.0, 0.0, 0.0], [0.13143110275268555, 0.10862243175506592, 0.1478571891784668, 0.11023274809122086, 0.10797019302845001, 0.1933957040309906, 0.13760700821876526, 0.0628836452960968, 0.0, 0.0, 0.0, 0.0, 0.0, 0.0, 0.0, 0.0, 0.0, 0.0, 0.0, 0.0, 0.0, 0.0, 0.0, 0.0, 0.0, 0.0, 0.0, 0.0, 0.0, 0.0, 0.0, 0.0], [0.19540731608867645, 0.08520777523517609, 0.08299766480922699, 0.17793014645576477, 0.10919084399938583, 0.15465980768203735, 0.11227293312549591, 0.04206135869026184, 0.04027215391397476, 0.0, 0.0, 0.0, 0.0, 0.0, 0.0, 0.0, 0.0, 0.0, 0.0, 0.0, 0.0, 0.0, 0.0, 0.0, 0.0, 0.0, 0.0, 0.0, 0.0, 0.0, 0.0, 0.0], [0.018935684114694595, 0.01160986628383398, 0.009982554242014885, 0.013384606689214706, 0.32730019092559814, 0.04001236334443092, 0.08813966065645218, 0.012927603907883167, 0.01482046116143465, 0.4628869593143463, 0.0, 0.0, 0.0, 0.0, 0.0, 0.0, 0.0, 0.0, 0.0, 0.0, 0.0, 0.0, 0.0, 0.0, 0.0, 0.0, 0.0, 0.0, 0.0, 0.0, 0.0, 0.0], [0.1098046526312828, 0.03060878813266754, 0.09464338421821594, 0.17927785217761993, 0.07724568247795105, 0.0865558534860611, 0.08019062131643295, 0.05890743061900139, 0.041652195155620575, 0.07735802978277206, 0.16375549137592316, 0.0, 0.0, 0.0, 0.0, 0.0, 0.0, 0.0, 0.0, 0.0, 0.0, 0.0, 0.0, 0.0, 0.0, 0.0, 0.0, 0.0, 0.0, 0.0, 0.0, 0.0], [0.10706134140491486, 0.09610414505004883, 0.09102480858564377, 0.14750124514102936, 0.09940396249294281, 0.07439646869897842, 0.055572256445884705, 0.04683961719274521, 0.0483090803027153, 0.1067197322845459, 0.07973486930131912, 0.04733245447278023, 0.0, 0.0, 0.0, 0.0, 0.0, 0.0, 0.0, 0.0, 0.0, 0.0, 0.0, 0.0, 0.0, 0.0, 0.0, 0.0, 0.0, 0.0, 0.0, 0.0], [0.012043377384543419, 0.007581109646707773, 0.006283114664256573, 0.008679484017193317, 0.206060528755188, 0.0242826696485281, 0.053920771926641464, 0.00853503867983818, 0.009939459152519703, 0.2921249568462372, 0.009002185426652431, 0.016815781593322754, 0.34473150968551636, 0.0, 0.0, 0.0, 0.0, 0.0, 0.0, 0.0, 0.0, 0.0, 0.0, 0.0, 0.0, 0.0, 0.0, 0.0, 0.0, 0.0, 0.0, 0.0], [0.08367977291345596, 0.05262015014886856, 0.11485446244478226, 0.16578218340873718, 0.052580785006284714, 0.06909361481666565, 0.04934791103005409, 0.020299477502703667, 0.035489533096551895, 0.05749192088842392, 0.07359478622674942, 0.10764243453741074, 0.0631471797823906, 0.054375819861888885, 0.0, 0.0, 0.0, 0.0, 0.0, 0.0, 0.0, 0.0, 0.0, 0.0, 0.0, 0.0, 0.0, 0.0, 0.0, 0.0, 0.0, 0.0], [0.174164816737175, 0.04162215441465378, 0.023280614987015724, 0.05334822088479996, 0.06859283894300461, 0.12402866035699844, 0.0749892145395279, 0.07094158977270126, 0.05842023342847824, 0.07424408197402954, 0.01984231173992157, 0.051687419414520264, 0.08212675154209137, 0.0389801561832428, 0.043730877339839935, 0.0, 0.0, 0.0, 0.0, 0.0, 0.0, 0.0, 0.0, 0.0, 0.0, 0.0, 0.0, 0.0, 0.0, 0.0, 0.0, 0.0], [0.008678868412971497, 0.005303123500198126, 0.0044304667972028255, 0.006009629927575588, 0.14391715824604034, 0.016477683559060097, 0.036278724670410156, 0.006073437165468931, 0.007132496684789658, 0.20356208086013794, 0.006208330858498812, 0.012379966676235199, 0.24049462378025055, 0.008225188590586185, 0.006072537042200565, 0.2887556552886963, 0.0, 0.0, 0.0, 0.0, 0.0, 0.0, 0.0, 0.0, 0.0, 0.0, 0.0, 0.0, 0.0, 0.0, 0.0, 0.0], [0.005111619830131531, 0.005828344263136387, 0.0054380386136472225, 0.006833977531641722, 0.10686872154474258, 0.013901428319513798, 0.03146064281463623, 0.008915161713957787, 0.006090529263019562, 0.15977507829666138, 0.006522831041365862, 0.014130325987935066, 0.19529135525226593, 0.009890730492770672, 0.008062578737735748, 0.23659849166870117, 0.17928020656108856, 0.0, 0.0, 0.0, 0.0, 0.0, 0.0, 0.0, 0.0, 0.0, 0.0, 0.0, 0.0, 0.0, 0.0, 0.0], [0.12616004049777985, 0.0359002947807312, 0.026834160089492798, 0.06278019398450851, 0.06111055985093117, 0.07536295801401138, 0.06961730867624283, 0.02857021801173687, 0.037011370062828064, 0.064475879073143, 0.04437533766031265, 0.019288040697574615, 0.0689118504524231, 0.026497231796383858, 0.03208991140127182, 0.07631215453147888, 0.13164730370044708, 0.013055200688540936, 0.0, 0.0, 0.0, 0.0, 0.0, 0.0, 0.0, 0.0, 0.0, 0.0, 0.0, 0.0, 0.0, 0.0], [0.06400185078382492, 0.03163071721792221, 0.03366159647703171, 0.07005967199802399, 0.05908183380961418, 0.06416572630405426, 0.04346592351794243, 0.031398940831422806, 0.039711616933345795, 0.06156754493713379, 0.029702452942728996, 0.055844996124506, 0.06745114177465439, 0.0404953695833683, 0.036038000136613846, 0.07479110360145569, 0.08808434754610062, 0.09653632342815399, 0.012310881167650223, 0.0, 0.0, 0.0, 0.0, 0.0, 0.0, 0.0, 0.0, 0.0, 0.0, 0.0, 0.0, 0.0], [0.005481140222400427, 0.0033329229336231947, 0.0027258526533842087, 0.003920467104762793, 0.09034766256809235, 0.01001068390905857, 0.022168191149830818, 0.0038546535652130842, 0.004730108194053173, 0.1267489790916443, 0.0039582643657922745, 0.007810556795448065, 0.14925916492938995, 0.005303530488163233, 0.003924589604139328, 0.1799793839454651, 0.14511045813560486, 0.0032333419658243656, 0.0038505480624735355, 0.2242494821548462, 0.0, 0.0, 0.0, 0.0, 0.0, 0.0, 0.0, 0.0, 0.0, 0.0, 0.0, 0.0], [0.006814482621848583, 0.007118863053619862, 0.0028712088242173195, 0.008718803524971008, 0.06218051537871361, 0.016479697078466415, 0.025071511045098305, 0.007855151779949665, 0.011280043981969357, 0.08682426065206528, 0.012560208328068256, 0.0223357155919075, 0.10304058343172073, 0.0149830998852849, 0.020166849717497826, 0.12317752838134766, 0.14256158471107483, 0.006782832555472851, 0.007049200590699911, 0.15363666415214539, 0.15849119424819946, 0.0, 0.0, 0.0, 0.0, 0.0, 0.0, 0.0, 0.0, 0.0, 0.0, 0.0], [0.03923368453979492, 0.011026890948414803, 0.006738182622939348, 0.013096979819238186, 0.04846702516078949, 0.052377182990312576, 0.05013039708137512, 0.0238349586725235, 0.02955835871398449, 0.056500669568777084, 0.014671978540718555, 0.040806129574775696, 0.0642290934920311, 0.016758611425757408, 0.031052932143211365, 0.07195669412612915, 0.10546459257602692, 0.028554825112223625, 0.019036438316106796, 0.08643992990255356, 0.15484245121479034, 0.035221997648477554, 0.0, 0.0, 0.0, 0.0, 0.0, 0.0, 0.0, 0.0, 0.0, 0.0], [0.0608360655605793, 0.0388188511133194, 0.018457313999533653, 0.05664574354887009, 0.037136510014534, 0.037996988743543625, 0.037169426679611206, 0.024774281308054924, 0.03828926756978035, 0.041461870074272156, 0.02969828061759472, 0.03370048478245735, 0.046109285205602646, 0.020802075043320656, 0.03639744222164154, 0.05100902169942856, 0.08936387300491333, 0.028246188536286354, 0.0200151726603508, 0.05866089090704918, 0.07573576271533966, 0.0806274265050888, 0.038047805428504944, 0.0, 0.0, 0.0, 0.0, 0.0, 0.0, 0.0, 0.0, 0.0], [0.005631781183183193, 0.007557674311101437, 0.0034299048129469156, 0.005689007230103016, 0.05792590230703354, 0.010316568426787853, 0.025799062103033066, 0.008548393845558167, 0.0059916917234659195, 0.08505131304264069, 0.007722740061581135, 0.014654741622507572, 0.1030220165848732, 0.011421485804021358, 0.008063104003667831, 0.1231698989868164, 0.1269979029893875, 0.006687641143798828, 0.0031519902404397726, 0.15532872080802917, 0.11030971258878708, 0.016113242134451866, 0.019681213423609734, 0.07773430645465851, 0.0, 0.0, 0.0, 0.0, 0.0, 0.0, 0.0, 0.0], [0.049780938774347305, 0.06472352147102356, 0.04979769140481949, 0.04497290030121803, 0.025486493483185768, 0.03554601967334747, 0.029359742999076843, 0.0467461533844471, 0.06205087527632713, 0.02384156920015812, 0.025705670937895775, 0.03412522003054619, 0.024639083072543144, 0.05931956693530083, 0.0725271925330162, 0.026895934715867043, 0.050933223217725754, 0.03910113871097565, 0.025140708312392235, 0.028965990990400314, 0.02227696031332016, 0.03684227913618088, 0.030663350597023964, 0.06400983035564423, 0.026547929272055626, 0.0, 0.0, 0.0, 0.0, 0.0, 0.0, 0.0], [0.06765610724687576, 0.08367006480693817, 0.019129665568470955, 0.023672593757510185, 0.02134581282734871, 0.025844769552350044, 0.020763598382472992, 0.023948807269334793, 0.013564788736402988, 0.022165466099977493, 0.03244071453809738, 0.08081776648759842, 0.023417241871356964, 0.041906148195266724, 0.06568975001573563, 0.026242798194289207, 0.04865920916199684, 0.04819358512759209, 0.022290173918008804, 0.030468937009572983, 0.048949360847473145, 0.0354481004178524, 0.04706469178199768, 0.05675322189927101, 0.042224492877721786, 0.02767215482890606, 0.0, 0.0, 0.0, 0.0, 0.0, 0.0], [0.008013148792088032, 0.005328195635229349, 0.0046730609610676765, 0.005700516048818827, 0.05014139413833618, 0.01599472016096115, 0.032101139426231384, 0.008369057439267635, 0.01132252998650074, 0.06792418658733368, 0.010691116563975811, 0.010992622934281826, 0.0789371207356453, 0.007501663640141487, 0.006459846626967192, 0.09250683337450027, 0.10970094799995422, 0.004094944801181555, 0.005660600960254669, 0.11344809085130692, 0.09411833435297012, 0.023134851828217506, 0.020142829045653343, 0.08944790810346603, 0.018751656636595726, 0.011747992597520351, 0.09309464693069458, 0.0, 0.0, 0.0, 0.0, 0.0], [0.06337393075227737, 0.05652083456516266, 0.05135501176118851, 0.02191889099776745, 0.01779901795089245, 0.02817660942673683, 0.016650550067424774, 0.030580395832657814, 0.01781131513416767, 0.018323633819818497, 0.02839100919663906, 0.03757064789533615, 0.01938055269420147, 0.025086965411901474, 0.04045474901795387, 0.02150941640138626, 0.037588752806186676, 0.05159256234765053, 0.033006101846694946, 0.02406892366707325, 0.04053753241896629, 0.04343242943286896, 0.04252365604043007, 0.046938952058553696, 0.07153918594121933, 0.027534853667020798, 0.04650304839015007, 0.039830464869737625, 0.0, 0.0, 0.0, 0.0], [0.06824181973934174, 0.00714888796210289, 0.011978101916611195, 0.015180367976427078, 0.04565132036805153, 0.02902969717979431, 0.033243779093027115, 0.014496291056275368, 0.019853057339787483, 0.049714673310518265, 0.028160404413938522, 0.017160993069410324, 0.05431104823946953, 0.01292983815073967, 0.012975183315575123, 0.05852280557155609, 0.054014649242162704, 0.02128232829272747, 0.01538323238492012, 0.0681464821100235, 0.03156270831823349, 0.018008440732955933, 0.028227025642991066, 0.05870741605758667, 0.04324191063642502, 0.04204988852143288, 0.05843498557806015, 0.02565748617053032, 0.05668520927429199, 0.0, 0.0, 0.0], [0.12032949179410934, 0.027012646198272705, 0.013667277991771698, 0.010650924406945705, 0.026046263054013252, 0.027549153193831444, 0.03088252618908882, 0.020921994000673294, 0.016501734033226967, 0.02624044194817543, 0.020225565880537033, 0.01366411428898573, 0.027806494385004044, 0.01109752431511879, 0.007779689040035009, 0.03018198162317276, 0.04375312104821205, 0.0248431246727705, 0.029912667348980904, 0.0336858406662941, 0.035770758986473083, 0.018110759556293488, 0.047701396048069, 0.059068236500024796, 0.06180267781019211, 0.021912042051553726, 0.05417909845709801, 0.015559123829007149, 0.08405528962612152, 0.039088066667318344, 0.0, 0.0], [0.04217088967561722, 0.030363822355866432, 0.04091634973883629, 0.03356700390577316, 0.014634563587605953, 0.026081988587975502, 0.014999017119407654, 0.029451271519064903, 0.018206290900707245, 0.013567331247031689, 0.02544117346405983, 0.026765020564198494, 0.014128902927041054, 0.06658497452735901, 0.046113379299640656, 0.015103913843631744, 0.024712534621357918, 0.03161736950278282, 0.018070094287395477, 0.016699086874723434, 0.014930126257240772, 0.03431496396660805, 0.04489186778664589, 0.027131395414471626, 0.05904632806777954, 0.052198376506567, 0.03684347867965698, 0.05366344377398491, 0.013125557452440262, 0.06026386469602585, 0.054395586252212524, 0.0], [0.002778643509373069, 0.0019022456835955381, 0.001939750392921269, 0.002587177325040102, 0.058898672461509705, 0.005352261010557413, 0.008968997746706009, 0.002633102238178253, 0.0030589941889047623, 0.07850375771522522, 0.002415786497294903, 0.003310251282528043, 0.09025309234857559, 0.0031319228000938892, 0.0016592924948781729, 0.10791520774364471, 0.06172154098749161, 0.0021788866724818945, 0.0021983636543154716, 0.13178400695323944, 0.025084782391786575, 0.0036247221287339926, 0.005158324725925922, 0.028019675984978676, 0.006003845017403364, 0.006441120989620686, 0.03662356734275818, 0.005664879456162453, 0.004198294598609209, 0.00461171381175518, 0.004566920455545187, 0.29681023955345154]], [[1.0, 0.0, 0.0, 0.0, 0.0, 0.0, 0.0, 0.0, 0.0, 0.0, 0.0, 0.0, 0.0, 0.0, 0.0, 0.0, 0.0, 0.0, 0.0, 0.0, 0.0, 0.0, 0.0, 0.0, 0.0, 0.0, 0.0, 0.0, 0.0, 0.0, 0.0, 0.0], [0.8504180908203125, 0.14958196878433228, 0.0, 0.0, 0.0, 0.0, 0.0, 0.0, 0.0, 0.0, 0.0, 0.0, 0.0, 0.0, 0.0, 0.0, 0.0, 0.0, 0.0, 0.0, 0.0, 0.0, 0.0, 0.0, 0.0, 0.0, 0.0, 0.0, 0.0, 0.0, 0.0, 0.0], [0.6219450235366821, 0.3218792676925659, 0.056175682693719864, 0.0, 0.0, 0.0, 0.0, 0.0, 0.0, 0.0, 0.0, 0.0, 0.0, 0.0, 0.0, 0.0, 0.0, 0.0, 0.0, 0.0, 0.0, 0.0, 0.0, 0.0, 0.0, 0.0, 0.0, 0.0, 0.0, 0.0, 0.0, 0.0], [0.46293070912361145, 0.2566477656364441, 0.16316717863082886, 0.11725443601608276, 0.0, 0.0, 0.0, 0.0, 0.0, 0.0, 0.0, 0.0, 0.0, 0.0, 0.0, 0.0, 0.0, 0.0, 0.0, 0.0, 0.0, 0.0, 0.0, 0.0, 0.0, 0.0, 0.0, 0.0, 0.0, 0.0, 0.0, 0.0], [0.33907565474510193, 0.1407245695590973, 0.12063712626695633, 0.15621235966682434, 0.24335028231143951, 0.0, 0.0, 0.0, 0.0, 0.0, 0.0, 0.0, 0.0, 0.0, 0.0, 0.0, 0.0, 0.0, 0.0, 0.0, 0.0, 0.0, 0.0, 0.0, 0.0, 0.0, 0.0, 0.0, 0.0, 0.0, 0.0, 0.0], [0.25408875942230225, 0.12684328854084015, 0.10037850588560104, 0.1386895775794983, 0.20352336764335632, 0.17647647857666016, 0.0, 0.0, 0.0, 0.0, 0.0, 0.0, 0.0, 0.0, 0.0, 0.0, 0.0, 0.0, 0.0, 0.0, 0.0, 0.0, 0.0, 0.0, 0.0, 0.0, 0.0, 0.0, 0.0, 0.0, 0.0, 0.0], [0.19155502319335938, 0.09948693215847015, 0.08506334573030472, 0.10563632845878601, 0.1647123545408249, 0.180391326546669, 0.17315475642681122, 0.0, 0.0, 0.0, 0.0, 0.0, 0.0, 0.0, 0.0, 0.0, 0.0, 0.0, 0.0, 0.0, 0.0, 0.0, 0.0, 0.0, 0.0, 0.0, 0.0, 0.0, 0.0, 0.0, 0.0, 0.0], [0.22753523290157318, 0.09119052439928055, 0.11082445830106735, 0.1237604022026062, 0.11846563220024109, 0.13612081110477448, 0.11631087213754654, 0.07579202950000763, 0.0, 0.0, 0.0, 0.0, 0.0, 0.0, 0.0, 0.0, 0.0, 0.0, 0.0, 0.0, 0.0, 0.0, 0.0, 0.0, 0.0, 0.0, 0.0, 0.0, 0.0, 0.0, 0.0, 0.0], [0.21056555211544037, 0.09543707221746445, 0.09763284772634506, 0.11965275555849075, 0.11466322094202042, 0.1248093917965889, 0.10795481503009796, 0.0908089280128479, 0.0384754054248333, 0.0, 0.0, 0.0, 0.0, 0.0, 0.0, 0.0, 0.0, 0.0, 0.0, 0.0, 0.0, 0.0, 0.0, 0.0, 0.0, 0.0, 0.0, 0.0, 0.0, 0.0, 0.0, 0.0], [0.14428234100341797, 0.06977564096450806, 0.060266997665166855, 0.07767115533351898, 0.11469901353120804, 0.12366440147161484, 0.13385221362113953, 0.07438145577907562, 0.08482613414525986, 0.11658070236444473, 0.0, 0.0, 0.0, 0.0, 0.0, 0.0, 0.0, 0.0, 0.0, 0.0, 0.0, 0.0, 0.0, 0.0, 0.0, 0.0, 0.0, 0.0, 0.0, 0.0, 0.0, 0.0], [0.18834954500198364, 0.10726531594991684, 0.1014355719089508, 0.10518728196620941, 0.09249211847782135, 0.08326724171638489, 0.07259248197078705, 0.07030647248029709, 0.06561418622732162, 0.09655902534723282, 0.01693081110715866, 0.0, 0.0, 0.0, 0.0, 0.0, 0.0, 0.0, 0.0, 0.0, 0.0, 0.0, 0.0, 0.0, 0.0, 0.0, 0.0, 0.0, 0.0, 0.0, 0.0, 0.0], [0.1569996029138565, 0.06492592394351959, 0.0721895694732666, 0.08684977889060974, 0.09476591646671295, 0.07717989385128021, 0.08081987500190735, 0.06557276844978333, 0.08816932141780853, 0.09494727104902267, 0.08334507048130035, 0.03423508256673813, 0.0, 0.0, 0.0, 0.0, 0.0, 0.0, 0.0, 0.0, 0.0, 0.0, 0.0, 0.0, 0.0, 0.0, 0.0, 0.0, 0.0, 0.0, 0.0, 0.0], [0.11449620872735977, 0.05566063150763512, 0.0484490841627121, 0.0625530481338501, 0.0895993635058403, 0.09648782014846802, 0.1028040200471878, 0.06156805902719498, 0.07034551352262497, 0.09182454645633698, 0.045572347939014435, 0.06254982948303223, 0.09808953106403351, 0.0, 0.0, 0.0, 0.0, 0.0, 0.0, 0.0, 0.0, 0.0, 0.0, 0.0, 0.0, 0.0, 0.0, 0.0, 0.0, 0.0, 0.0, 0.0], [0.13116872310638428, 0.06148727610707283, 0.0813845545053482, 0.0629110336303711, 0.07226381450891495, 0.05993145331740379, 0.06199442967772484, 0.082438625395298, 0.10065045207738876, 0.07338878512382507, 0.045155733823776245, 0.06417784839868546, 0.07758990675210953, 0.02545742504298687, 0.0, 0.0, 0.0, 0.0, 0.0, 0.0, 0.0, 0.0, 0.0, 0.0, 0.0, 0.0, 0.0, 0.0, 0.0, 0.0, 0.0, 0.0], [0.11087369173765182, 0.04062078520655632, 0.05330868437886238, 0.06023598462343216, 0.07052170485258102, 0.05803445354104042, 0.05968312919139862, 0.07392418384552002, 0.0873117670416832, 0.0731295719742775, 0.10693638026714325, 0.05585533007979393, 0.078142449259758, 0.05286269262433052, 0.018559152260422707, 0.0, 0.0, 0.0, 0.0, 0.0, 0.0, 0.0, 0.0, 0.0, 0.0, 0.0, 0.0, 0.0, 0.0, 0.0, 0.0, 0.0], [0.09085796028375626, 0.043999891728162766, 0.03905091807246208, 0.05015627294778824, 0.07029121369123459, 0.0748978853225708, 0.07862686365842819, 0.050061047077178955, 0.058041367679834366, 0.07199618965387344, 0.036985740065574646, 0.052137840539216995, 0.07724254578351974, 0.06445184350013733, 0.05740389600396156, 0.08379852026700974, 0.0, 0.0, 0.0, 0.0, 0.0, 0.0, 0.0, 0.0, 0.0, 0.0, 0.0, 0.0, 0.0, 0.0, 0.0, 0.0], [0.07583833485841751, 0.04001368209719658, 0.034705523401498795, 0.039913106709718704, 0.06553112715482712, 0.0645207017660141, 0.06959689408540726, 0.04872268810868263, 0.05079258605837822, 0.06785336136817932, 0.03676033392548561, 0.05144471302628517, 0.0731753334403038, 0.05950005352497101, 0.04871399328112602, 0.07966098934412003, 0.09325651079416275, 0.0, 0.0, 0.0, 0.0, 0.0, 0.0, 0.0, 0.0, 0.0, 0.0, 0.0, 0.0, 0.0, 0.0, 0.0], [0.10062295943498611, 0.060743723064661026, 0.04524056985974312, 0.04711388796567917, 0.0557124949991703, 0.0547516830265522, 0.04421968013048172, 0.05468496307730675, 0.04843877628445625, 0.0560506246984005, 0.030553553253412247, 0.07648579031229019, 0.05883975699543953, 0.05412425473332405, 0.06076228618621826, 0.06314416974782944, 0.0652458518743515, 0.023264896124601364, 0.0, 0.0, 0.0, 0.0, 0.0, 0.0, 0.0, 0.0, 0.0, 0.0, 0.0, 0.0, 0.0, 0.0], [0.08078691363334656, 0.03982992097735405, 0.038041818886995316, 0.041094958782196045, 0.05445418134331703, 0.05087669566273689, 0.03863302245736122, 0.0467248298227787, 0.05707479268312454, 0.056636467576026917, 0.04413357377052307, 0.05935567244887352, 0.06059057638049126, 0.055299390107393265, 0.044974733144044876, 0.0662572905421257, 0.06348684430122375, 0.06909167766571045, 0.03265668824315071, 0.0, 0.0, 0.0, 0.0, 0.0, 0.0, 0.0, 0.0, 0.0, 0.0, 0.0, 0.0, 0.0], [0.06988722831010818, 0.03356105089187622, 0.030439307913184166, 0.038582943379879, 0.052841342985630035, 0.056135982275009155, 0.057936251163482666, 0.039323437958955765, 0.04543294012546539, 0.05394401028752327, 0.02861095778644085, 0.04162859916687012, 0.0579460933804512, 0.0497848279774189, 0.04491325840353966, 0.06331390142440796, 0.07809794694185257, 0.049618951976299286, 0.037004098296165466, 0.07099686563014984, 0.0, 0.0, 0.0, 0.0, 0.0, 0.0, 0.0, 0.0, 0.0, 0.0, 0.0, 0.0], [0.055786047130823135, 0.029596379026770592, 0.03441797196865082, 0.041598282754421234, 0.04550808668136597, 0.053078845143318176, 0.04617903381586075, 0.04228134825825691, 0.043605986982584, 0.04795345291495323, 0.024679582566022873, 0.04874412342905998, 0.0519762858748436, 0.04428006708621979, 0.04515853524208069, 0.057422298938035965, 0.0691726952791214, 0.04882778972387314, 0.03414607420563698, 0.06505728513002396, 0.07052984088659286, 0.0, 0.0, 0.0, 0.0, 0.0, 0.0, 0.0, 0.0, 0.0, 0.0, 0.0], [0.06480544805526733, 0.0353969931602478, 0.025098832324147224, 0.032853901386260986, 0.04161174222826958, 0.04556716978549957, 0.03954965993762016, 0.04852605611085892, 0.046449512243270874, 0.04345584288239479, 0.03562485799193382, 0.04644365236163139, 0.046999722719192505, 0.05175263434648514, 0.04260619729757309, 0.05192999914288521, 0.0575648657977581, 0.0476762056350708, 0.03352898359298706, 0.05841207504272461, 0.06151199713349342, 0.04263358190655708, 0.0, 0.0, 0.0, 0.0, 0.0, 0.0, 0.0, 0.0, 0.0, 0.0], [0.06510051339864731, 0.0460725836455822, 0.04013298451900482, 0.0476258359849453, 0.03218851238489151, 0.03255567327141762, 0.02589660882949829, 0.044238947331905365, 0.045787639915943146, 0.03313719481229782, 0.03325236961245537, 0.06325627118349075, 0.035341061651706696, 0.041976287961006165, 0.06334160268306732, 0.038423314690589905, 0.04293409362435341, 0.05553295090794563, 0.03634481504559517, 0.04252450540661812, 0.04860437288880348, 0.048635344952344894, 0.03709648922085762, 0.0, 0.0, 0.0, 0.0, 0.0, 0.0, 0.0, 0.0, 0.0], [0.05048844590783119, 0.02562849409878254, 0.02574491873383522, 0.03208209574222565, 0.03968655690550804, 0.04363149777054787, 0.04411330446600914, 0.03171854466199875, 0.03465768322348595, 0.04125714302062988, 0.021614685654640198, 0.03928998485207558, 0.044573213905096054, 0.03846919164061546, 0.02949867770075798, 0.04885868355631828, 0.05983592942357063, 0.038372211158275604, 0.022496700286865234, 0.055322397500276566, 0.05620603263378143, 0.052143197506666183, 0.053082484751939774, 0.07122786343097687, 0.0, 0.0, 0.0, 0.0, 0.0, 0.0, 0.0, 0.0], [0.04125393182039261, 0.0328584648668766, 0.029818888753652573, 0.043647363781929016, 0.03326486051082611, 0.03035000152885914, 0.026040682569146156, 0.03126339614391327, 0.02827836014330387, 0.03282203897833824, 0.01987631805241108, 0.08996068686246872, 0.03512830659747124, 0.05603078752756119, 0.03343505784869194, 0.037587061524391174, 0.04210570454597473, 0.047104112803936005, 0.020067669451236725, 0.0413181409239769, 0.04053105413913727, 0.04911947250366211, 0.10606645792722702, 0.04749325290322304, 0.004577957559376955, 0.0, 0.0, 0.0, 0.0, 0.0, 0.0, 0.0], [0.0678522065281868, 0.030228616669774055, 0.033279258757829666, 0.03571854531764984, 0.037127118557691574, 0.03900887072086334, 0.027729766443371773, 0.03205051273107529, 0.026843678206205368, 0.036758068948984146, 0.02528037503361702, 0.0622866153717041, 0.03874126821756363, 0.03645015135407448, 0.029917210340499878, 0.04135088622570038, 0.04453739896416664, 0.033326320350170135, 0.030823417007923126, 0.04587022587656975, 0.04895743355154991, 0.04490305483341217, 0.061788421124219894, 0.04703615978360176, 0.030257688835263252, 0.011876732110977173, 0.0, 0.0, 0.0, 0.0, 0.0, 0.0], [0.04358603432774544, 0.022733034566044807, 0.022471537813544273, 0.02876422554254532, 0.03467152640223503, 0.035401687026023865, 0.03681989759206772, 0.02612938918173313, 0.02610420249402523, 0.03555995970964432, 0.01871722936630249, 0.0322108268737793, 0.038241639733314514, 0.03956696763634682, 0.02844945341348648, 0.041907213628292084, 0.05113855376839638, 0.032210156321525574, 0.01980084739625454, 0.04761669412255287, 0.04683912545442581, 0.04324978590011597, 0.04532729461789131, 0.06539161503314972, 0.03901281580328941, 0.034875232726335526, 0.06320302933454514, 0.0, 0.0, 0.0, 0.0, 0.0], [0.05033724755048752, 0.035781003534793854, 0.02303609997034073, 0.015083586797118187, 0.030049679800868034, 0.02572740986943245, 0.024945048615336418, 0.036420878022909164, 0.03147760033607483, 0.030331799760460854, 0.025720853358507156, 0.043180208653211594, 0.03237662836909294, 0.03331046551465988, 0.04138923063874245, 0.03521996736526489, 0.036473095417022705, 0.03904632106423378, 0.022998033091425896, 0.03962051868438721, 0.04035802185535431, 0.03486951068043709, 0.050238680094480515, 0.04313686117529869, 0.06609639525413513, 0.04415007308125496, 0.04645274952054024, 0.022172043099999428, 0.0, 0.0, 0.0, 0.0], [0.05730642005801201, 0.03287024796009064, 0.028254808858036995, 0.020097820088267326, 0.03583715856075287, 0.026464566588401794, 0.02506004087626934, 0.030638528987765312, 0.029096119105815887, 0.03644164651632309, 0.03190368786454201, 0.050367336720228195, 0.03872513025999069, 0.03514711558818817, 0.03220295161008835, 0.041554342955350876, 0.040100086480379105, 0.03395547345280647, 0.029773810878396034, 0.04665621742606163, 0.036455534398555756, 0.03348454087972641, 0.03624268248677254, 0.04205671325325966, 0.03808961808681488, 0.0254958625882864, 0.04094624146819115, 0.02876153588294983, 0.016013797372579575, 0.0, 0.0, 0.0], [0.054613642394542694, 0.03602438420057297, 0.03049299120903015, 0.030410174280405045, 0.029570244252681732, 0.02210405468940735, 0.021808912977576256, 0.033516108989715576, 0.034119509160518646, 0.02955283597111702, 0.03750966861844063, 0.029758917167782784, 0.03137386590242386, 0.036091148853302, 0.03796916827559471, 0.03366098552942276, 0.03447951003909111, 0.0314781628549099, 0.028558168560266495, 0.03710233420133591, 0.030492661520838737, 0.025103867053985596, 0.03611191734671593, 0.04264659807085991, 0.054577507078647614, 0.03243912756443024, 0.0398564450442791, 0.043612271547317505, 0.024889875203371048, 0.010074971243739128, 0.0, 0.0], [0.05281982570886612, 0.038223765790462494, 0.024077782407402992, 0.029219552874565125, 0.028234148398041725, 0.024234462529420853, 0.020065128803253174, 0.03521258756518364, 0.03309173882007599, 0.02774319238960743, 0.026509981602430344, 0.04878906160593033, 0.028960028663277626, 0.024519218131899834, 0.04421510174870491, 0.03126952424645424, 0.03194667398929596, 0.02286369539797306, 0.023456931114196777, 0.034771692007780075, 0.035400062799453735, 0.02996891364455223, 0.04739876464009285, 0.03899633511900902, 0.025557493790984154, 0.030518969520926476, 0.03627654165029526, 0.04274152219295502, 0.02254594676196575, 0.049284614622592926, 0.011086719110608101, 0.0], [0.040587086230516434, 0.01810843124985695, 0.017847955226898193, 0.02138221450150013, 0.027680091559886932, 0.02940012700855732, 0.02714141644537449, 0.024499503895640373, 0.029003120958805084, 0.02750352770090103, 0.01694096066057682, 0.02838374860584736, 0.029091129079461098, 0.02769080549478531, 0.027081618085503578, 0.0316348560154438, 0.036079611629247665, 0.030381808057427406, 0.02028810791671276, 0.0354989618062973, 0.03506995737552643, 0.03972908481955528, 0.03753415495157242, 0.040129344910383224, 0.03571590036153793, 0.02906019613146782, 0.04158202186226845, 0.032682597637176514, 0.019867436960339546, 0.03976640850305557, 0.03925852105021477, 0.06337926536798477]], [[1.0, 0.0, 0.0, 0.0, 0.0, 0.0, 0.0, 0.0, 0.0, 0.0, 0.0, 0.0, 0.0, 0.0, 0.0, 0.0, 0.0, 0.0, 0.0, 0.0, 0.0, 0.0, 0.0, 0.0, 0.0, 0.0, 0.0, 0.0, 0.0, 0.0, 0.0, 0.0], [0.6275688409805298, 0.3724311590194702, 0.0, 0.0, 0.0, 0.0, 0.0, 0.0, 0.0, 0.0, 0.0, 0.0, 0.0, 0.0, 0.0, 0.0, 0.0, 0.0, 0.0, 0.0, 0.0, 0.0, 0.0, 0.0, 0.0, 0.0, 0.0, 0.0, 0.0, 0.0, 0.0, 0.0], [0.5010626316070557, 0.14971235394477844, 0.3492250442504883, 0.0, 0.0, 0.0, 0.0, 0.0, 0.0, 0.0, 0.0, 0.0, 0.0, 0.0, 0.0, 0.0, 0.0, 0.0, 0.0, 0.0, 0.0, 0.0, 0.0, 0.0, 0.0, 0.0, 0.0, 0.0, 0.0, 0.0, 0.0, 0.0], [0.2701600193977356, 0.13749442994594574, 0.12295917421579361, 0.46938633918762207, 0.0, 0.0, 0.0, 0.0, 0.0, 0.0, 0.0, 0.0, 0.0, 0.0, 0.0, 0.0, 0.0, 0.0, 0.0, 0.0, 0.0, 0.0, 0.0, 0.0, 0.0, 0.0, 0.0, 0.0, 0.0, 0.0, 0.0, 0.0], [0.3927050828933716, 0.14347951114177704, 0.11206880211830139, 0.11509951204061508, 0.23664717376232147, 0.0, 0.0, 0.0, 0.0, 0.0, 0.0, 0.0, 0.0, 0.0, 0.0, 0.0, 0.0, 0.0, 0.0, 0.0, 0.0, 0.0, 0.0, 0.0, 0.0, 0.0, 0.0, 0.0, 0.0, 0.0, 0.0, 0.0], [0.2756459414958954, 0.10545890778303146, 0.07064448297023773, 0.0703485906124115, 0.11808784306049347, 0.35981428623199463, 0.0, 0.0, 0.0, 0.0, 0.0, 0.0, 0.0, 0.0, 0.0, 0.0, 0.0, 0.0, 0.0, 0.0, 0.0, 0.0, 0.0, 0.0, 0.0, 0.0, 0.0, 0.0, 0.0, 0.0, 0.0, 0.0], [0.1706102341413498, 0.09997396916151047, 0.05776470899581909, 0.08762483298778534, 0.1304338574409485, 0.1356852948665619, 0.3179071247577667, 0.0, 0.0, 0.0, 0.0, 0.0, 0.0, 0.0, 0.0, 0.0, 0.0, 0.0, 0.0, 0.0, 0.0, 0.0, 0.0, 0.0, 0.0, 0.0, 0.0, 0.0, 0.0, 0.0, 0.0, 0.0], [0.2004457712173462, 0.08533845841884613, 0.056161969900131226, 0.09496565163135529, 0.09582328796386719, 0.0926898717880249, 0.07196619361639023, 0.30260875821113586, 0.0, 0.0, 0.0, 0.0, 0.0, 0.0, 0.0, 0.0, 0.0, 0.0, 0.0, 0.0, 0.0, 0.0, 0.0, 0.0, 0.0, 0.0, 0.0, 0.0, 0.0, 0.0, 0.0, 0.0], [0.17589974403381348, 0.07983801513910294, 0.07376328855752945, 0.08733809739351273, 0.09874401986598969, 0.09055618196725845, 0.06929650902748108, 0.11120270937681198, 0.2133614420890808, 0.0, 0.0, 0.0, 0.0, 0.0, 0.0, 0.0, 0.0, 0.0, 0.0, 0.0, 0.0, 0.0, 0.0, 0.0, 0.0, 0.0, 0.0, 0.0, 0.0, 0.0, 0.0, 0.0], [0.1643368899822235, 0.07947775721549988, 0.06959012150764465, 0.07895277440547943, 0.15355877578258514, 0.09569904953241348, 0.12104953080415726, 0.05073941498994827, 0.05962366610765457, 0.1269719898700714, 0.0, 0.0, 0.0, 0.0, 0.0, 0.0, 0.0, 0.0, 0.0, 0.0, 0.0, 0.0, 0.0, 0.0, 0.0, 0.0, 0.0, 0.0, 0.0, 0.0, 0.0, 0.0], [0.16609573364257812, 0.06682062149047852, 0.08511018753051758, 0.08629416674375534, 0.07892454415559769, 0.05674012750387192, 0.04750337079167366, 0.021117540076375008, 0.040357548743486404, 0.06156179681420326, 0.2894743084907532, 0.0, 0.0, 0.0, 0.0, 0.0, 0.0, 0.0, 0.0, 0.0, 0.0, 0.0, 0.0, 0.0, 0.0, 0.0, 0.0, 0.0, 0.0, 0.0, 0.0, 0.0], [0.09490286558866501, 0.14702478051185608, 0.07449441403150558, 0.06426728516817093, 0.06627923250198364, 0.053017545491456985, 0.04571717232465744, 0.034050874412059784, 0.03721728175878525, 0.05205114930868149, 0.025824667885899544, 0.3051527142524719, 0.0, 0.0, 0.0, 0.0, 0.0, 0.0, 0.0, 0.0, 0.0, 0.0, 0.0, 0.0, 0.0, 0.0, 0.0, 0.0, 0.0, 0.0, 0.0, 0.0], [0.12042836844921112, 0.05945625528693199, 0.054475169628858566, 0.06274683773517609, 0.12054190784692764, 0.07729456573724747, 0.09835657477378845, 0.04513154551386833, 0.055015843361616135, 0.11080019921064377, 0.03668002784252167, 0.04971437528729439, 0.1093582883477211, 0.0, 0.0, 0.0, 0.0, 0.0, 0.0, 0.0, 0.0, 0.0, 0.0, 0.0, 0.0, 0.0, 0.0, 0.0, 0.0, 0.0, 0.0, 0.0], [0.07804922014474869, 0.06058371812105179, 0.05045701935887337, 0.048493970185518265, 0.06172606348991394, 0.05008234456181526, 0.04488983750343323, 0.06764218211174011, 0.0762709230184555, 0.05354250222444534, 0.021990163251757622, 0.06896787881851196, 0.05143462494015694, 0.26586952805519104, 0.0, 0.0, 0.0, 0.0, 0.0, 0.0, 0.0, 0.0, 0.0, 0.0, 0.0, 0.0, 0.0, 0.0, 0.0, 0.0, 0.0, 0.0], [0.0838724747300148, 0.06911254674196243, 0.04564772546291351, 0.051448430866003036, 0.05003660172224045, 0.043023087084293365, 0.03719630837440491, 0.04200383275747299, 0.07109025120735168, 0.04546760395169258, 0.028456956148147583, 0.07043863832950592, 0.043864376842975616, 0.08421587944030762, 0.2341252565383911, 0.0, 0.0, 0.0, 0.0, 0.0, 0.0, 0.0, 0.0, 0.0, 0.0, 0.0, 0.0, 0.0, 0.0, 0.0, 0.0, 0.0], [0.0898156687617302, 0.044787339866161346, 0.04227301850914955, 0.04972678795456886, 0.09397611767053604, 0.06138458102941513, 0.0784933939576149, 0.03860330581665039, 0.04853517562150955, 0.09319286793470383, 0.03260648250579834, 0.04607377573847771, 0.09529470652341843, 0.05372799560427666, 0.03507223352789879, 0.09643656760454178, 0.0, 0.0, 0.0, 0.0, 0.0, 0.0, 0.0, 0.0, 0.0, 0.0, 0.0, 0.0, 0.0, 0.0, 0.0, 0.0], [0.07550830394029617, 0.03721080347895622, 0.041152771562337875, 0.043940428644418716, 0.0799267441034317, 0.06752381473779678, 0.0767551138997078, 0.03124196268618107, 0.043000660836696625, 0.08083692193031311, 0.03283762186765671, 0.04446123167872429, 0.08412714302539825, 0.04365000128746033, 0.02950364165008068, 0.08575059473514557, 0.1025722324848175, 0.0, 0.0, 0.0, 0.0, 0.0, 0.0, 0.0, 0.0, 0.0, 0.0, 0.0, 0.0, 0.0, 0.0, 0.0], [0.059501610696315765, 0.03537866100668907, 0.049582429230213165, 0.04686218872666359, 0.0410950668156147, 0.04604553058743477, 0.03574841469526291, 0.04742525890469551, 0.05300726369023323, 0.037752676755189896, 0.017344163730740547, 0.05339019000530243, 0.03741089254617691, 0.06463243067264557, 0.037085942924022675, 0.0372280478477478, 0.0406486913561821, 0.2598605751991272, 0.0, 0.0, 0.0, 0.0, 0.0, 0.0, 0.0, 0.0, 0.0, 0.0, 0.0, 0.0, 0.0, 0.0], [0.07933909446001053, 0.060877732932567596, 0.06035998836159706, 0.03342188149690628, 0.053163737058639526, 0.03336328640580177, 0.04298222437500954, 0.023123303428292274, 0.03255772963166237, 0.048663150519132614, 0.028628278523683548, 0.04419036954641342, 0.048511993139982224, 0.03327736631035805, 0.04317342862486839, 0.04840340092778206, 0.04560915008187294, 0.030229996889829636, 0.21012386679649353, 0.0, 0.0, 0.0, 0.0, 0.0, 0.0, 0.0, 0.0, 0.0, 0.0, 0.0, 0.0, 0.0], [0.06318088620901108, 0.030606763437390327, 0.029671182855963707, 0.0356515571475029, 0.06655558198690414, 0.0441819466650486, 0.056450966745615005, 0.03043491765856743, 0.038874585181474686, 0.07090397924184799, 0.026348179206252098, 0.03871036320924759, 0.07519011199474335, 0.04432075470685959, 0.03066723234951496, 0.07884295284748077, 0.07991727441549301, 0.03884855657815933, 0.03744104132056236, 0.08320115506649017, 0.0, 0.0, 0.0, 0.0, 0.0, 0.0, 0.0, 0.0, 0.0, 0.0, 0.0, 0.0], [0.043085161596536636, 0.020100785419344902, 0.01803145557641983, 0.024516569450497627, 0.04541578143835068, 0.06358703970909119, 0.042520660907030106, 0.03249982371926308, 0.03700950741767883, 0.052034661173820496, 0.017500197514891624, 0.027094773948192596, 0.0569932758808136, 0.02211865223944187, 0.02173875831067562, 0.060920026153326035, 0.07051895558834076, 0.039966270327568054, 0.022512901574373245, 0.06609628349542618, 0.2157384604215622, 0.0, 0.0, 0.0, 0.0, 0.0, 0.0, 0.0, 0.0, 0.0, 0.0, 0.0], [0.05700698867440224, 0.026011954993009567, 0.030052686110138893, 0.029186636209487915, 0.042223863303661346, 0.07497386634349823, 0.04421032592654228, 0.019823690876364708, 0.03128652647137642, 0.041670456528663635, 0.020192425698041916, 0.02181350812315941, 0.04262130707502365, 0.025418870151042938, 0.02632751129567623, 0.043356411159038544, 0.05310780927538872, 0.048202257603406906, 0.018881501629948616, 0.044220615178346634, 0.056076984852552414, 0.20333385467529297, 0.0, 0.0, 0.0, 0.0, 0.0, 0.0, 0.0, 0.0, 0.0, 0.0], [0.040377069264650345, 0.027417466044425964, 0.030545299872756004, 0.02757570706307888, 0.03519406169652939, 0.03175974264740944, 0.027610622346401215, 0.036160197108983994, 0.0430174246430397, 0.036500584334135056, 0.017414119094610214, 0.03417520225048065, 0.03786059841513634, 0.030617965385317802, 0.03791427984833717, 0.03870920091867447, 0.04421374574303627, 0.03194337710738182, 0.02268177457153797, 0.03982323408126831, 0.04196649044752121, 0.03763899207115173, 0.24888288974761963, 0.0, 0.0, 0.0, 0.0, 0.0, 0.0, 0.0, 0.0, 0.0], [0.0440584160387516, 0.018947148695588112, 0.02075251191854477, 0.03196008875966072, 0.040645819157361984, 0.03316562622785568, 0.04626953601837158, 0.01559266448020935, 0.03274498134851456, 0.04379069432616234, 0.021641867235302925, 0.03211953490972519, 0.047668538987636566, 0.03238494694232941, 0.021891944110393524, 0.050712235271930695, 0.0591927208006382, 0.03045310266315937, 0.021288540214300156, 0.05519400164484978, 0.04359310120344162, 0.04473302140831947, 0.040402017533779144, 0.17079687118530273, 0.0, 0.0, 0.0, 0.0, 0.0, 0.0, 0.0, 0.0], [0.049543675035238266, 0.02170826494693756, 0.02922375313937664, 0.04817711561918259, 0.0292913056910038, 0.02781864069402218, 0.02317902073264122, 0.019200876355171204, 0.026845531538128853, 0.030125806108117104, 0.03275633230805397, 0.03649022802710533, 0.030992794781923294, 0.024253249168395996, 0.017277322709560394, 0.03175530582666397, 0.03511149063706398, 0.027094144374132156, 0.013830956071615219, 0.03309512883424759, 0.021370213478803635, 0.03976469114422798, 0.029191361740231514, 0.03876137360930443, 0.28314143419265747, 0.0, 0.0, 0.0, 0.0, 0.0, 0.0, 0.0], [0.05725652351975441, 0.02755238115787506, 0.02662239782512188, 0.040781330317258835, 0.03303150087594986, 0.023272814229130745, 0.019918203353881836, 0.024644171819090843, 0.030261775478720665, 0.03315470740199089, 0.022924046963453293, 0.030213288962841034, 0.03446288779377937, 0.04143109917640686, 0.03848903998732567, 0.03549495339393616, 0.03776112571358681, 0.02718343958258629, 0.01692715659737587, 0.03725346922874451, 0.02869275026023388, 0.028715282678604126, 0.04233121499419212, 0.04016686603426933, 0.03415161743760109, 0.18730588257312775, 0.0, 0.0, 0.0, 0.0, 0.0, 0.0], [0.029864054173231125, 0.011573156341910362, 0.01661958172917366, 0.02176198922097683, 0.03597090020775795, 0.024061208590865135, 0.031796302646398544, 0.017540475353598595, 0.024017157033085823, 0.039799127727746964, 0.018972022458910942, 0.023209400475025177, 0.04339626803994179, 0.03306876868009567, 0.011032209731638432, 0.04737114906311035, 0.054567836225032806, 0.03078828565776348, 0.01641315035521984, 0.05272997170686722, 0.03387416526675224, 0.032371729612350464, 0.04348770156502724, 0.06986406445503235, 0.040902066975831985, 0.02161232940852642, 0.17333491146564484, 0.0, 0.0, 0.0, 0.0, 0.0], [0.02561875805258751, 0.020220905542373657, 0.024326058104634285, 0.1300220638513565, 0.021435445174574852, 0.01905900612473488, 0.021729204803705215, 0.02003084309399128, 0.024410801008343697, 0.02246219851076603, 0.021315831691026688, 0.026436377316713333, 0.023390188813209534, 0.01806301809847355, 0.021706055849790573, 0.024349141865968704, 0.02773864008486271, 0.0322655625641346, 0.011888975277543068, 0.025742828845977783, 0.023453589528799057, 0.025750471279025078, 0.025296436622738838, 0.030076060444116592, 0.04814203828573227, 0.045665428042411804, 0.02106366865336895, 0.21834038197994232, 0.0, 0.0, 0.0, 0.0], [0.051280297338962555, 0.025413963943719864, 0.021466614678502083, 0.016850976273417473, 0.027285398915410042, 0.02325635962188244, 0.016221804544329643, 0.010509086772799492, 0.01651603728532791, 0.029078464955091476, 0.022105885669589043, 0.036520328372716904, 0.03111371025443077, 0.022378839552402496, 0.018933413550257683, 0.032928094267845154, 0.03572649136185646, 0.021121326833963394, 0.012902726419270039, 0.03561026230454445, 0.02602333016693592, 0.032519564032554626, 0.035145360976457596, 0.046344175934791565, 0.034370601177215576, 0.034783363342285156, 0.026690930128097534, 0.02333114668726921, 0.23357143998146057, 0.0, 0.0, 0.0], [0.06566714495420456, 0.028380315750837326, 0.021964656189084053, 0.030272016301751137, 0.03288756310939789, 0.04499591886997223, 0.023759685456752777, 0.018219424411654472, 0.02448900230228901, 0.03018837608397007, 0.014673996716737747, 0.029105020686984062, 0.03021387942135334, 0.01203027181327343, 0.025232722982764244, 0.030713630840182304, 0.03288605809211731, 0.02329322136938572, 0.018217436969280243, 0.031306516379117966, 0.028162775561213493, 0.03504107892513275, 0.02827787958085537, 0.03453580290079117, 0.02862096205353737, 0.01837993413209915, 0.019750459119677544, 0.029986102133989334, 0.01787494122982025, 0.19087326526641846, 0.0, 0.0], [0.0427524708211422, 0.017643989995121956, 0.023522278293967247, 0.026748770847916603, 0.023617077618837357, 0.025165682658553123, 0.016002265736460686, 0.016778457909822464, 0.016330035403370857, 0.02288157492876053, 0.023343760520219803, 0.027629917487502098, 0.02393997833132744, 0.023544861003756523, 0.01922772265970707, 0.024858182296156883, 0.02766740322113037, 0.027383040636777878, 0.011929686181247234, 0.02652330882847309, 0.024346817284822464, 0.03351330757141113, 0.031067416071891785, 0.025787314400076866, 0.03045804053544998, 0.027498183771967888, 0.018415842205286026, 0.03374825417995453, 0.012685569003224373, 0.02878154255449772, 0.266207218170166, 0.0], [0.027223575860261917, 0.012897541746497154, 0.012240540236234665, 0.015452940948307514, 0.02589733526110649, 0.01811535656452179, 0.02631853148341179, 0.017170991748571396, 0.015988385304808617, 0.03134261816740036, 0.014715125784277916, 0.02517220564186573, 0.03553108125925064, 0.022457579150795937, 0.01957491971552372, 0.040117714554071426, 0.04299755021929741, 0.024937829002738, 0.021557118743658066, 0.04637866094708443, 0.03962855786085129, 0.03073018416762352, 0.03305524215102196, 0.04770834743976593, 0.03694934397935867, 0.03190035745501518, 0.04727540910243988, 0.03322106972336769, 0.018302006646990776, 0.0329284630715847, 0.045978255569934845, 0.10623511672019958]], [[1.0, 0.0, 0.0, 0.0, 0.0, 0.0, 0.0, 0.0, 0.0, 0.0, 0.0, 0.0, 0.0, 0.0, 0.0, 0.0, 0.0, 0.0, 0.0, 0.0, 0.0, 0.0, 0.0, 0.0, 0.0, 0.0, 0.0, 0.0, 0.0, 0.0, 0.0, 0.0], [0.7276949286460876, 0.27230504155158997, 0.0, 0.0, 0.0, 0.0, 0.0, 0.0, 0.0, 0.0, 0.0, 0.0, 0.0, 0.0, 0.0, 0.0, 0.0, 0.0, 0.0, 0.0, 0.0, 0.0, 0.0, 0.0, 0.0, 0.0, 0.0, 0.0, 0.0, 0.0, 0.0, 0.0], [0.34783026576042175, 0.2973496615886688, 0.3548201322555542, 0.0, 0.0, 0.0, 0.0, 0.0, 0.0, 0.0, 0.0, 0.0, 0.0, 0.0, 0.0, 0.0, 0.0, 0.0, 0.0, 0.0, 0.0, 0.0, 0.0, 0.0, 0.0, 0.0, 0.0, 0.0, 0.0, 0.0, 0.0, 0.0], [0.3321352005004883, 0.1893027126789093, 0.1688627451658249, 0.30969932675361633, 0.0, 0.0, 0.0, 0.0, 0.0, 0.0, 0.0, 0.0, 0.0, 0.0, 0.0, 0.0, 0.0, 0.0, 0.0, 0.0, 0.0, 0.0, 0.0, 0.0, 0.0, 0.0, 0.0, 0.0, 0.0, 0.0, 0.0, 0.0], [0.26727020740509033, 0.12993770837783813, 0.15465231239795685, 0.23804092407226562, 0.21009889245033264, 0.0, 0.0, 0.0, 0.0, 0.0, 0.0, 0.0, 0.0, 0.0, 0.0, 0.0, 0.0, 0.0, 0.0, 0.0, 0.0, 0.0, 0.0, 0.0, 0.0, 0.0, 0.0, 0.0, 0.0, 0.0, 0.0, 0.0], [0.2302442342042923, 0.07728010416030884, 0.11177953332662582, 0.14784003794193268, 0.1796896606683731, 0.25316640734672546, 0.0, 0.0, 0.0, 0.0, 0.0, 0.0, 0.0, 0.0, 0.0, 0.0, 0.0, 0.0, 0.0, 0.0, 0.0, 0.0, 0.0, 0.0, 0.0, 0.0, 0.0, 0.0, 0.0, 0.0, 0.0, 0.0], [0.20977334678173065, 0.07072966545820236, 0.09855351597070694, 0.13096070289611816, 0.1337653249502182, 0.2022222876548767, 0.1539951115846634, 0.0, 0.0, 0.0, 0.0, 0.0, 0.0, 0.0, 0.0, 0.0, 0.0, 0.0, 0.0, 0.0, 0.0, 0.0, 0.0, 0.0, 0.0, 0.0, 0.0, 0.0, 0.0, 0.0, 0.0, 0.0], [0.20099066197872162, 0.07212423533201218, 0.08729517459869385, 0.11537855863571167, 0.13819871842861176, 0.19055093824863434, 0.12581416964530945, 0.06964761018753052, 0.0, 0.0, 0.0, 0.0, 0.0, 0.0, 0.0, 0.0, 0.0, 0.0, 0.0, 0.0, 0.0, 0.0, 0.0, 0.0, 0.0, 0.0, 0.0, 0.0, 0.0, 0.0, 0.0, 0.0], [0.15829618275165558, 0.05626659095287323, 0.10194407403469086, 0.07017908245325089, 0.1445067822933197, 0.1360776424407959, 0.1534380316734314, 0.08895163983106613, 0.09033998847007751, 0.0, 0.0, 0.0, 0.0, 0.0, 0.0, 0.0, 0.0, 0.0, 0.0, 0.0, 0.0, 0.0, 0.0, 0.0, 0.0, 0.0, 0.0, 0.0, 0.0, 0.0, 0.0, 0.0], [0.1313837319612503, 0.06116137281060219, 0.07356389611959457, 0.10753874480724335, 0.09172733128070831, 0.15450160205364227, 0.10576561838388443, 0.07946670800447464, 0.09363599866628647, 0.10125498473644257, 0.0, 0.0, 0.0, 0.0, 0.0, 0.0, 0.0, 0.0, 0.0, 0.0, 0.0, 0.0, 0.0, 0.0, 0.0, 0.0, 0.0, 0.0, 0.0, 0.0, 0.0, 0.0], [0.1257665604352951, 0.07891640067100525, 0.0818929597735405, 0.11098714172840118, 0.07378926873207092, 0.11184833943843842, 0.08558974415063858, 0.07313326746225357, 0.10493030399084091, 0.08223668485879898, 0.07090934365987778, 0.0, 0.0, 0.0, 0.0, 0.0, 0.0, 0.0, 0.0, 0.0, 0.0, 0.0, 0.0, 0.0, 0.0, 0.0, 0.0, 0.0, 0.0, 0.0, 0.0, 0.0], [0.09660658240318298, 0.04712191969156265, 0.04471850022673607, 0.06497402489185333, 0.10573916137218475, 0.14605015516281128, 0.1036284863948822, 0.047314658761024475, 0.07894419133663177, 0.12988559901714325, 0.04145015776157379, 0.09356658160686493, 0.0, 0.0, 0.0, 0.0, 0.0, 0.0, 0.0, 0.0, 0.0, 0.0, 0.0, 0.0, 0.0, 0.0, 0.0, 0.0, 0.0, 0.0, 0.0, 0.0], [0.11260910332202911, 0.04954087734222412, 0.061291735619306564, 0.08579239994287491, 0.07458139210939407, 0.12192671746015549, 0.08312531560659409, 0.06329035013914108, 0.07081576436758041, 0.07838079333305359, 0.048889584839344025, 0.06773138046264648, 0.08202456682920456, 0.0, 0.0, 0.0, 0.0, 0.0, 0.0, 0.0, 0.0, 0.0, 0.0, 0.0, 0.0, 0.0, 0.0, 0.0, 0.0, 0.0, 0.0, 0.0], [0.1344553530216217, 0.04755715653300285, 0.08685942739248276, 0.07697910070419312, 0.0675952285528183, 0.08708050847053528, 0.07220815867185593, 0.046015750616788864, 0.06114906817674637, 0.06624848395586014, 0.05507291853427887, 0.07083307951688766, 0.06797952950000763, 0.05996619537472725, 0.0, 0.0, 0.0, 0.0, 0.0, 0.0, 0.0, 0.0, 0.0, 0.0, 0.0, 0.0, 0.0, 0.0, 0.0, 0.0, 0.0, 0.0], [0.06913173943758011, 0.04387562721967697, 0.05050484836101532, 0.0557769276201725, 0.0885695219039917, 0.10258515179157257, 0.0836414098739624, 0.03768148645758629, 0.06290852278470993, 0.09884579479694366, 0.030705975368618965, 0.06616974622011185, 0.10768929123878479, 0.06389972567558289, 0.03801427409052849, 0.0, 0.0, 0.0, 0.0, 0.0, 0.0, 0.0, 0.0, 0.0, 0.0, 0.0, 0.0, 0.0, 0.0, 0.0, 0.0, 0.0], [0.09888884425163269, 0.04138622805476189, 0.052327439188957214, 0.07024745643138885, 0.06145770102739334, 0.09936165064573288, 0.06777108460664749, 0.05181415006518364, 0.05615174025297165, 0.061669930815696716, 0.04000355675816536, 0.052148204296827316, 0.06327314674854279, 0.05304787680506706, 0.06397753953933716, 0.06647353619337082, 0.0, 0.0, 0.0, 0.0, 0.0, 0.0, 0.0, 0.0, 0.0, 0.0, 0.0, 0.0, 0.0, 0.0, 0.0, 0.0], [0.08759582787752151, 0.037085164338350296, 0.053464196622371674, 0.06571376323699951, 0.06483693420886993, 0.07583246380090714, 0.06865500658750534, 0.05090676248073578, 0.04537266865372658, 0.06424520909786224, 0.03201153129339218, 0.04683009907603264, 0.0653415396809578, 0.05049127712845802, 0.05643372982740402, 0.06863396614789963, 0.06654983758926392, 0.0, 0.0, 0.0, 0.0, 0.0, 0.0, 0.0, 0.0, 0.0, 0.0, 0.0, 0.0, 0.0, 0.0, 0.0], [0.06511039286851883, 0.02191096916794777, 0.04434938728809357, 0.03495929390192032, 0.09349187463521957, 0.06398439407348633, 0.08816070109605789, 0.030346782878041267, 0.027804844081401825, 0.09373577684164047, 0.013152066618204117, 0.023236585780978203, 0.09996461868286133, 0.026288097724318504, 0.019862934947013855, 0.10592785477638245, 0.0965258777141571, 0.051187485456466675, 0.0, 0.0, 0.0, 0.0, 0.0, 0.0, 0.0, 0.0, 0.0, 0.0, 0.0, 0.0, 0.0, 0.0], [0.09402314573526382, 0.03358101844787598, 0.027172638103365898, 0.04576652869582176, 0.07272704690694809, 0.08101700246334076, 0.05539412796497345, 0.0283828005194664, 0.0328543521463871, 0.08185318112373352, 0.022343797609210014, 0.044629406183958054, 0.08685734868049622, 0.03576301783323288, 0.03286837413907051, 0.09599220007658005, 0.058096952736377716, 0.05471058934926987, 0.01596650294959545, 0.0, 0.0, 0.0, 0.0, 0.0, 0.0, 0.0, 0.0, 0.0, 0.0, 0.0, 0.0, 0.0], [0.08651959896087646, 0.03494167700409889, 0.044880304485559464, 0.05775390565395355, 0.050402939319610596, 0.0803123340010643, 0.05474323034286499, 0.042679354548454285, 0.04423252120614052, 0.048096392303705215, 0.033581480383872986, 0.041116341948509216, 0.0482090599834919, 0.04192498326301575, 0.05005338042974472, 0.04976573958992958, 0.04943706467747688, 0.06365897506475449, 0.026934226974844933, 0.050756487995386124, 0.0, 0.0, 0.0, 0.0, 0.0, 0.0, 0.0, 0.0, 0.0, 0.0, 0.0, 0.0], [0.1019086092710495, 0.030167244374752045, 0.04541999101638794, 0.051528409123420715, 0.06458953022956848, 0.07635493576526642, 0.04790639132261276, 0.034412186592817307, 0.03668534383177757, 0.057109519839286804, 0.022873802110552788, 0.029047884047031403, 0.05559520795941353, 0.033193450421094894, 0.03053586184978485, 0.0562695637345314, 0.05064365640282631, 0.05042285472154617, 0.019104626029729843, 0.05626799538731575, 0.04996296018362045, 0.0, 0.0, 0.0, 0.0, 0.0, 0.0, 0.0, 0.0, 0.0, 0.0, 0.0], [0.07756567746400833, 0.030402418226003647, 0.03704318404197693, 0.044623903930187225, 0.06311018019914627, 0.06103773042559624, 0.07084231078624725, 0.04331687092781067, 0.03579294681549072, 0.05526987463235855, 0.019272424280643463, 0.023867888376116753, 0.05494252219796181, 0.029040103778243065, 0.03762878105044365, 0.054886821657419205, 0.042994603514671326, 0.05647273361682892, 0.01631743088364601, 0.05565541610121727, 0.031602345407009125, 0.058313801884651184, 0.0, 0.0, 0.0, 0.0, 0.0, 0.0, 0.0, 0.0, 0.0, 0.0], [0.08440784364938736, 0.02927704155445099, 0.04575502872467041, 0.044245395809412, 0.06357134878635406, 0.07541055232286453, 0.07263708114624023, 0.032909516245126724, 0.033147722482681274, 0.054574862122535706, 0.016549350693821907, 0.023527629673480988, 0.053540315479040146, 0.019701037555933, 0.017228176817297935, 0.05323667451739311, 0.041457630693912506, 0.04797305911779404, 0.02031160704791546, 0.053047534078359604, 0.025123313069343567, 0.06433923542499542, 0.028028100728988647, 0.0, 0.0, 0.0, 0.0, 0.0, 0.0, 0.0, 0.0, 0.0], [0.09489478915929794, 0.023704640567302704, 0.04514583945274353, 0.04162204638123512, 0.055211469531059265, 0.06564562767744064, 0.04673052206635475, 0.02626488171517849, 0.028551287949085236, 0.048278000205755234, 0.018366871401667595, 0.025492344051599503, 0.04619806259870529, 0.030424222350120544, 0.0321943499147892, 0.04566319286823273, 0.043028827756643295, 0.048418156802654266, 0.024127578362822533, 0.04491515830159187, 0.04464542120695114, 0.050382379442453384, 0.026446430012583733, 0.043647825717926025, 0.0, 0.0, 0.0, 0.0, 0.0, 0.0, 0.0, 0.0], [0.04025242477655411, 0.030877772718667984, 0.026265127584338188, 0.025599366053938866, 0.05677354335784912, 0.0616714172065258, 0.07307957857847214, 0.038926221430301666, 0.03174591436982155, 0.0570833683013916, 0.01436549425125122, 0.03004535473883152, 0.058679960668087006, 0.031986188143491745, 0.017110329121351242, 0.06162036582827568, 0.04190090671181679, 0.03619092330336571, 0.013857681304216385, 0.06278007477521896, 0.016867181286215782, 0.030449505895376205, 0.02156832255423069, 0.08807948976755142, 0.03222351893782616, 0.0, 0.0, 0.0, 0.0, 0.0, 0.0, 0.0], [0.08249522000551224, 0.025069469586014748, 0.04671953618526459, 0.029362399131059647, 0.05420934408903122, 0.04699770733714104, 0.05880052223801613, 0.03470305725932121, 0.023074621334671974, 0.047317057847976685, 0.02071276120841503, 0.02104593813419342, 0.04659589007496834, 0.025078536942601204, 0.023416459560394287, 0.04683121293783188, 0.03136637806892395, 0.045163072645664215, 0.017220202833414078, 0.0467945896089077, 0.01940818876028061, 0.06603340804576874, 0.01782187446951866, 0.06120549142360687, 0.0444202721118927, 0.018136799335479736, 0.0, 0.0, 0.0, 0.0, 0.0, 0.0], [0.08052008599042892, 0.027522586286067963, 0.03674200549721718, 0.04336472600698471, 0.04369892552495003, 0.04764295369386673, 0.038709256798028946, 0.03244730457663536, 0.02797681652009487, 0.039555441588163376, 0.02421918325126171, 0.027024976909160614, 0.03796162083745003, 0.032448433339595795, 0.03905037045478821, 0.038108762353658676, 0.030142856761813164, 0.04777485504746437, 0.02094840072095394, 0.03746187314391136, 0.03080504760146141, 0.03674590215086937, 0.02636668086051941, 0.03791545704007149, 0.04392953962087631, 0.02409161813557148, 0.04682431370019913, 0.0, 0.0, 0.0, 0.0, 0.0], [0.07212033122777939, 0.03351782262325287, 0.03290538862347603, 0.04878617823123932, 0.04173963889479637, 0.044522032141685486, 0.03891272842884064, 0.02651997096836567, 0.0220473799854517, 0.03750545531511307, 0.016723455861210823, 0.03559364005923271, 0.03732123225927353, 0.029214823618531227, 0.021510150283575058, 0.03803274780511856, 0.01737169176340103, 0.03299802541732788, 0.022100217640399933, 0.03831791132688522, 0.03773362189531326, 0.03754967078566551, 0.03035268373787403, 0.04704400897026062, 0.0417613685131073, 0.019026385620236397, 0.04805076867341995, 0.05072065442800522, 0.0, 0.0, 0.0, 0.0], [0.06714124977588654, 0.03077014721930027, 0.03884117677807808, 0.03880026936531067, 0.03348802775144577, 0.045573532581329346, 0.025223717093467712, 0.02763473428785801, 0.03244246169924736, 0.03114512749016285, 0.020701857283711433, 0.025874827057123184, 0.030180910602211952, 0.03671107813715935, 0.043534547090530396, 0.0296210628002882, 0.02460925094783306, 0.04441952332854271, 0.04136340692639351, 0.029661549255251884, 0.03387068212032318, 0.03750899061560631, 0.035354431718587875, 0.031137390062212944, 0.04183853045105934, 0.023471171036362648, 0.04166485741734505, 0.036156099289655685, 0.021259397268295288, 0.0, 0.0, 0.0], [0.02980710007250309, 0.014257787726819515, 0.01550288125872612, 0.015199205838143826, 0.06014234945178032, 0.037219226360321045, 0.048095155507326126, 0.013732113875448704, 0.014004372991621494, 0.06235530599951744, 0.009584602899849415, 0.018015818670392036, 0.06455012410879135, 0.013276868499815464, 0.015645315870642662, 0.06809032708406448, 0.048440683633089066, 0.020266802981495857, 0.012911435216665268, 0.07250279933214188, 0.036754902452230453, 0.030629903078079224, 0.012724917382001877, 0.08260324597358704, 0.020016156136989594, 0.011428904719650745, 0.08784449100494385, 0.01815241202712059, 0.023071441799402237, 0.02317340113222599, 0.0, 0.0], [0.03935898095369339, 0.018881654366850853, 0.028285901993513107, 0.021590618416666985, 0.06879424303770065, 0.03193344175815582, 0.03718792647123337, 0.020041191950440407, 0.01320591475814581, 0.06621742248535156, 0.012327626347541809, 0.010188745334744453, 0.06720204651355743, 0.022384734824299812, 0.011711308732628822, 0.06933995336294174, 0.025340579450130463, 0.027714233845472336, 0.00658720126375556, 0.07199671119451523, 0.0393097847700119, 0.03095417656004429, 0.0225351694971323, 0.04620290547609329, 0.022139452397823334, 0.014515984803438187, 0.047625016421079636, 0.022273646667599678, 0.013670404441654682, 0.019352387636899948, 0.05113063007593155, 0.0], [0.07244456559419632, 0.02619309164583683, 0.041678350418806076, 0.044021185487508774, 0.0372590571641922, 0.0547722764313221, 0.034325893968343735, 0.02844903990626335, 0.027555840089917183, 0.031175293028354645, 0.024727363139390945, 0.027143113315105438, 0.028962427750229836, 0.025832567363977432, 0.027937619015574455, 0.027765626087784767, 0.02371375262737274, 0.03362395986914635, 0.01938798651099205, 0.02598932944238186, 0.023378511890769005, 0.037336673587560654, 0.02355148456990719, 0.02497331239283085, 0.03563044220209122, 0.015668177977204323, 0.02625969797372818, 0.02989707887172699, 0.01433584839105606, 0.040370795875787735, 0.0299008060246706, 0.03573879972100258]]]}\n",
       "    )\n",
       "    </script>"
      ],
      "text/plain": [
       "<circuitsvis.utils.render.RenderedHTML at 0x2b10f4ca1d00>"
      ]
     },
     "metadata": {},
     "output_type": "display_data"
    }
   ],
   "source": [
    "gpt2_str_tokens = [model.tokenizer.decode(i) for i in gpt2_tokens]\n",
    "\n",
    "print(\"Layer 0 Head Attention Patterns:\")\n",
    "display(cv.attention.attention_patterns(\n",
    "    tokens=gpt2_str_tokens,\n",
    "    attention=layer0_pattern_from_q_and_k\n",
    "))"
   ]
  },
  {
   "cell_type": "markdown",
   "id": "b89851e5-ba88-45a5-93f8-426009d2065c",
   "metadata": {},
   "source": [
    "## Intervening on Activations"
   ]
  },
  {
   "cell_type": "markdown",
   "id": "4435ee02-8fc9-4241-aede-3780736a43aa",
   "metadata": {},
   "source": [
    "One of the great things about interpreting neural networks is that we have *full control* over our system. From a computational perspective, we know exactly what operations are going on inside (even if we don't know what they mean!). And we can make precise, surgical edits and see how the model's behaviour and other internals change. This is an extremely powerful tool, because it can let us set up careful counterfactuals and causal intervention to easily understand model behaviour. \n",
    "\n",
    "Accordingly, being able to do this is a pretty core operation, and this is one of the main things the Engine API supports! The key features here are **operation** and **setting**. Within an invoke context, most basic operations and torch operations work on proxies and are added to the computation graph. We can also use the assignment `=` operator to edit and intervene on the flow of information."
   ]
  },
  {
   "cell_type": "markdown",
   "id": "2ddc20a9-b911-47a5-b62e-f56d255e6988",
   "metadata": {},
   "source": [
    "As a basic example, let's [ablate](https://dynalist.io/d/n2ZWtnoYHrU1s4vnFSAQ519J#z=fh-HJyz1CgUVrXuoiban6bYx) head 7 in layer 0 on the text above. \n",
    "\n",
    "We define a `.generate` context, note that this time with two invocations. Each invocation defines a separate context in which our interventions and operations do not affect other invocations. However, we can explicitly intervene cross prompt if we want to. See the [Cross Prompt Intervention](#Cross-Prompt-Intervention) in the [Features](#Features) section for more. \n",
    "\n",
    "Next, we intervene on the activation by accessing the attention pattern in layer 0 and setting the component with `head_index==7` to zero.\n",
    "\n",
    "Finally, we return the `model.lm_head` for both normal and abalated contexts. The output of the language model head is logits which we can use to calculate the loss as a metric for determining the effect of our ablation intervention. "
   ]
  },
  {
   "cell_type": "code",
   "execution_count": 74,
   "id": "2916e46a-0f5b-4d5d-a604-cecbf9177f3f",
   "metadata": {},
   "outputs": [
    {
     "name": "stderr",
     "output_type": "stream",
     "text": [
      "Setting `pad_token_id` to `eos_token_id`:50256 for open-end generation.\n"
     ]
    }
   ],
   "source": [
    "layer_to_ablate = 0\n",
    "head_index_to_ablate = 7\n",
    "\n",
    "with model.generate(max_new_tokens=1) as generator:\n",
    "    with generator.invoke(gpt2_tokens) as invoker:\n",
    "        normal_lm_head = model.lm_head.output.save()\n",
    "        \n",
    "    with generator.invoke(gpt2_tokens) as invoker:\n",
    "        attention_pattern = model.transformer.h[layer_to_ablate].attn.value.output\n",
    "        attention_pattern[:,head_index_to_ablate,:,:] = 0. \n",
    "        abalated_lm_head = model.lm_head.output.save()\n",
    "\n",
    "normal_lm_head = normal_lm_head.value\n",
    "abalated_lm_head = abalated_lm_head.value"
   ]
  },
  {
   "cell_type": "code",
   "execution_count": 73,
   "id": "714830a9-86be-4e5a-98e5-141c5b5bfa66",
   "metadata": {},
   "outputs": [
    {
     "name": "stdout",
     "output_type": "stream",
     "text": [
      "tensor(4.0187)\n",
      "tensor(4.2913)\n"
     ]
    }
   ],
   "source": [
    "tensor_tokens = torch.tensor([gpt2_tokens]).to(device)\n",
    "print(cross_entropy_loss(normal_lm_head, tensor_tokens, shift=True))\n",
    "print(cross_entropy_loss(abalated_lm_head, tensor_tokens, shift=True))"
   ]
  },
  {
   "cell_type": "markdown",
   "id": "6c334946-ec43-40e8-8af3-1c3d049b3d98",
   "metadata": {},
   "source": [
    "### Activation Patching on the Indirect Object Identification Task"
   ]
  },
  {
   "cell_type": "markdown",
   "id": "ad94adf4-bd74-466c-a076-1037b96c362f",
   "metadata": {},
   "source": [
    "For a somewhat more involved example, let's apply **[activation patching](https://dynalist.io/d/n2ZWtnoYHrU1s4vnFSAQ519J#z=qeWBvs-R-taFfcCq-S_hgMqx)** on the **[Indirect Object Identification](https://dynalist.io/d/n2ZWtnoYHrU1s4vnFSAQ519J#z=iWsV3s5Kdd2ca3zNgXr5UPHa)** (IOI) task. \n",
    "\n",
    "The IOI task is the task of identifying that a sentence like \"After John and Mary went to the store, Mary gave a bottle of milk to\" continues with \" John\" rather than \" Mary\" (ie, finding the indirect object), and Redwood Research have [an excellent paper studying the underlying circuit in GPT-2 Small](https://arxiv.org/abs/2211.00593).\n",
    "\n",
    "**[Activation patching](https://dynalist.io/d/n2ZWtnoYHrU1s4vnFSAQ519J#z=qeWBvs-R-taFfcCq-S_hgMqx)** is a technique from [Kevin Meng and David Bau's excellent ROME paper](https://rome.baulab.info/). The goal is to identify which model activations are important for completing a task. We do this by setting up a **clean prompt** and a **corrupted prompt** and a **metric** for performance on the task. We then pick a specific model activation, run the model on the corrupted prompt, but then *intervene* on that activation and patch in its value when run on the clean prompt. We then apply the metric, and see how much this patch has recovered the clean performance. "
   ]
  },
  {
   "cell_type": "markdown",
   "id": "1cc46152-15af-497c-927e-e48320eacbf7",
   "metadata": {},
   "source": [
    "Here, our clean prompt is \"After John and Mary went to the store, **Mary** gave a bottle of milk to\", our corrupted prompt is \"After John and Mary went to the store, **John** gave a bottle of milk to\", and our metric is the difference between the correct logit ( John) and the incorrect logit ( Mary) on the final token. "
   ]
  },
  {
   "cell_type": "code",
   "execution_count": 47,
   "id": "c78a30ba-8314-45b4-8565-d8a19c79f465",
   "metadata": {},
   "outputs": [
    {
     "name": "stderr",
     "output_type": "stream",
     "text": [
      "Setting `pad_token_id` to `eos_token_id`:50256 for open-end generation.\n"
     ]
    }
   ],
   "source": [
    "clean_prompt = \"After John and Mary went to the store, Mary gave a bottle of milk to\"\n",
    "corrupted_prompt = \"After John and Mary went to the store, John gave a bottle of milk to\"\n",
    "\n",
    "clean_tokens = model.tokenizer.encode(clean_prompt)\n",
    "corrupted_tokens = model.tokenizer.encode(corrupted_prompt)\n",
    "\n",
    "def logits_to_logit_diff(logits, correct_answer=\" John\", incorrect_answer=\" Mary\"):\n",
    "    correct_index = model.tokenizer.encode(correct_answer)\n",
    "    incorrect_index = model.tokenizer.encode(incorrect_answer)\n",
    "    return logits[0, -1, correct_index] - logits[0, -1, incorrect_index]\n",
    "\n",
    "clean_resid = []\n",
    "\n",
    "with model.generate(max_new_tokens=1) as generator:\n",
    "    with generator.invoke(clean_tokens) as invoker:\n",
    "        clean_logits = model.lm_head.output.save()\n",
    "        for layer in range(12):\n",
    "            clean_resid.append(model.transformer.h[layer].input.save())\n",
    "\n",
    "    with generator.invoke(corrupted_tokens) as invoker:\n",
    "        corrupted_logits = model.lm_head.output.save()"
   ]
  },
  {
   "cell_type": "markdown",
   "id": "bfb0192e-604f-44e1-8626-3be9d534a244",
   "metadata": {},
   "source": [
    "Note how we created a python list structure to store the residual stream input to each layer. Because we're accessing activations through **intervention proxies** within the generate context, we can't save these objects to a tensor or numpy array.\n",
    "\n",
    "Below, we see that the logit difference is significantly positive on the clean prompt, and significantly negative on the corrupted prompt, showing that the model is capable of doing the task!"
   ]
  },
  {
   "cell_type": "code",
   "execution_count": 48,
   "id": "6db3ef1f-3ff8-440f-9d37-1b035945018a",
   "metadata": {},
   "outputs": [
    {
     "name": "stdout",
     "output_type": "stream",
     "text": [
      "tensor([4.1235], device='cuda:0')\n",
      "tensor([-2.2725], device='cuda:0')\n"
     ]
    }
   ],
   "source": [
    "clean_logit_diff = logits_to_logit_diff(clean_logits.value)\n",
    "corrupted_logit_diff = logits_to_logit_diff(corrupted_logits.value)\n",
    "print(clean_logit_diff)\n",
    "print(corrupted_logit_diff)"
   ]
  },
  {
   "cell_type": "markdown",
   "id": "0736918e-d79c-410b-9257-0336b6d8be40",
   "metadata": {},
   "source": [
    "Here, we'll patch in the residual stream at the start of a specific layer and at a specific position. This will let us see how much the model is using the residual stream at that layer and position to represent the key information for the task.\n",
    "\n",
    "Note the design consideration made with respect to how the engine API performs interventions. \n",
    "\n",
    "We augment the tokens to a batch, shape `[seq_len, seq_len]`. By passing a batch of duplicate prompts into the model, the shape of the residual stream is now `[batch seq_len d_model]` rather than `[1 seq_len d_model]`. Within the context, we loop through the `batch` dimension and patch each respective position in the sequence. \n",
    "\n",
    "*Compare* this to a nested for loop that calls the generate context `layer × seq_len` times. Because the model is only run after the generate context is exited, a nested for loop would run 180 model calls versus 12."
   ]
  },
  {
   "cell_type": "code",
   "execution_count": 71,
   "id": "ebdfbfcf-b82f-4e3e-8788-817800a0779d",
   "metadata": {
    "scrolled": true
   },
   "outputs": [
    {
     "name": "stderr",
     "output_type": "stream",
     "text": [
      "  0%|          | 0/12 [00:00<?, ?it/s]Setting `pad_token_id` to `eos_token_id`:50256 for open-end generation.\n",
      "  8%|▊         | 1/12 [00:01<00:15,  1.40s/it]Setting `pad_token_id` to `eos_token_id`:50256 for open-end generation.\n",
      " 17%|█▋        | 2/12 [00:02<00:13,  1.40s/it]Setting `pad_token_id` to `eos_token_id`:50256 for open-end generation.\n",
      " 25%|██▌       | 3/12 [00:04<00:12,  1.35s/it]Setting `pad_token_id` to `eos_token_id`:50256 for open-end generation.\n",
      " 33%|███▎      | 4/12 [00:05<00:11,  1.49s/it]Setting `pad_token_id` to `eos_token_id`:50256 for open-end generation.\n",
      " 42%|████▏     | 5/12 [00:07<00:09,  1.42s/it]Setting `pad_token_id` to `eos_token_id`:50256 for open-end generation.\n",
      " 50%|█████     | 6/12 [00:08<00:08,  1.41s/it]Setting `pad_token_id` to `eos_token_id`:50256 for open-end generation.\n",
      " 58%|█████▊    | 7/12 [00:09<00:06,  1.36s/it]Setting `pad_token_id` to `eos_token_id`:50256 for open-end generation.\n",
      " 67%|██████▋   | 8/12 [00:11<00:05,  1.35s/it]Setting `pad_token_id` to `eos_token_id`:50256 for open-end generation.\n",
      " 75%|███████▌  | 9/12 [00:12<00:03,  1.30s/it]Setting `pad_token_id` to `eos_token_id`:50256 for open-end generation.\n",
      " 83%|████████▎ | 10/12 [00:13<00:02,  1.33s/it]Setting `pad_token_id` to `eos_token_id`:50256 for open-end generation.\n",
      " 92%|█████████▏| 11/12 [00:14<00:01,  1.30s/it]Setting `pad_token_id` to `eos_token_id`:50256 for open-end generation.\n",
      "100%|██████████| 12/12 [00:16<00:00,  1.35s/it]\n"
     ]
    }
   ],
   "source": [
    "seq_len = len(corrupted_tokens)\n",
    "n_layers = 12\n",
    "results = []\n",
    "corrupted_tokens_list = [corrupted_tokens for i in range(seq_len)]\n",
    "\n",
    "for layer in tqdm(range(n_layers)):\n",
    "    with model.generate(max_new_tokens=1) as generator:\n",
    "        with generator.invoke(corrupted_tokens_list) as invoker:\n",
    "            resid_pre = model.transformer.h[layer].input[0]\n",
    "            # Iterate through the batch dimension\n",
    "            for pos in range(seq_len):\n",
    "                # Get saved clean residuals\n",
    "                clean_resid_pre = clean_resid[layer].value[0][:,pos,:]\n",
    "                resid_pre[pos, pos, :] = clean_resid_pre\n",
    "    \n",
    "            patched_logits = model.lm_head.output\n",
    "            results.append(patched_logits.save())"
   ]
  },
  {
   "cell_type": "markdown",
   "id": "d7487925-b468-4787-86d0-204c2d5b0f68",
   "metadata": {},
   "source": [
    "We can now visualize the results, and see that this computation is extremely localised within the model. Initially, the second subject (Mary) token is all that matters (naturally, as it's the only different token), and all relevant information remains here until heads in layer 7 and 8 move this to the final token where it's used to predict the indirect object.\n",
    "(Note - the heads are in layer 7 and 8, not 8 and 9, because we patched in the residual stream at the *start* of each layer)"
   ]
  },
  {
   "cell_type": "code",
   "execution_count": 72,
   "id": "9fa0758e-f5fc-40e3-a1f4-e37fa4276fd3",
   "metadata": {},
   "outputs": [
    {
     "data": {
      "application/vnd.plotly.v1+json": {
       "config": {
        "plotlyServerURL": "https://plot.ly"
       },
       "data": [
        {
         "coloraxis": "coloraxis",
         "hovertemplate": "Position: %{x}<br>Layer: %{y}<br>color: %{z}<extra></extra>",
         "name": "0",
         "type": "heatmap",
         "x": [
          "After_0",
          " John_1",
          " and_2",
          " Mary_3",
          " went_4",
          " to_5",
          " the_6",
          " store_7",
          ",_8",
          " Mary_9",
          " gave_10",
          " a_11",
          " bottle_12",
          " of_13",
          " milk_14",
          " to_15"
         ],
         "xaxis": "x",
         "yaxis": "y",
         "z": [
          [
           -1.1928419780815602e-06,
           -1.1928419780815602e-06,
           -1.1928419780815602e-06,
           -1.1928419780815602e-06,
           -1.1928419780815602e-06,
           -1.1928419780815602e-06,
           -1.1928419780815602e-06,
           -1.1928419780815602e-06,
           -1.1928419780815602e-06,
           0.9999988079071045,
           -1.1928419780815602e-06,
           -1.1928419780815602e-06,
           -1.1928419780815602e-06,
           -1.1928419780815602e-06,
           -1.1928419780815602e-06,
           -1.1928419780815602e-06
          ],
          [
           -1.1928419780815602e-06,
           -2.3856839561631205e-06,
           -1.1928419780815602e-06,
           0,
           2.3856839561631205e-06,
           0,
           3.5785260479315184e-06,
           0,
           0,
           0.9974687695503235,
           0.0017737559974193573,
           -0.00018011913925874978,
           0.0008982100407592952,
           2.3856839106883854e-05,
           -0.001089064753614366,
           -0.00046759407268837094
          ],
          [
           -2.3856839561631205e-06,
           3.5785260479315184e-06,
           0,
           -2.3856839561631205e-06,
           -1.1928419780815602e-06,
           -2.3856839561631205e-06,
           0,
           0,
           1.1928419780815602e-06,
           0.9971288442611694,
           0.0026111311744898558,
           -0.00048548670019954443,
           0.0006274348706938326,
           -6.322062836261466e-05,
           -0.0004377730074338615,
           -0.0009208740084432065
          ],
          [
           0,
           0,
           0,
           -1.1928419780815602e-06,
           -1.1928419780815602e-06,
           -1.1928419780815602e-06,
           0,
           2.3856839561631205e-06,
           1.1928419780815602e-06,
           0.9950985908508301,
           0.004562620539218187,
           -0.00023856840562075377,
           0.0005892639164812863,
           6.083494008635171e-05,
           -0.0003292243927717209,
           -0.0021960220765322447
          ],
          [
           0,
           -1.1928419780815602e-06,
           1.1928419780815602e-06,
           0,
           -1.1928419780815602e-06,
           -1.1928419780815602e-06,
           1.1928419780815602e-06,
           0,
           -1.1928419780815602e-06,
           0.9868704080581665,
           0.020100580528378487,
           0.0006405561580322683,
           0.0011236571008339524,
           0.00015149093815125525,
           0.0006286277202889323,
           -0.0019157042261213064
          ],
          [
           -1.1928419780815602e-06,
           1.1928419780815602e-06,
           1.1928419780815602e-06,
           0,
           -1.1928419780815602e-06,
           -2.3856839561631205e-06,
           1.1928419780815602e-06,
           1.1928419780815602e-06,
           1.1928419780815602e-06,
           0.9520763754844666,
           0.07812518626451492,
           0.002582503017038107,
           0.0021328015718609095,
           0.00046282270341180265,
           0.000314910284942016,
           -0.001445724512450397
          ],
          [
           0,
           1.1928419780815602e-06,
           0,
           -1.1928419780815602e-06,
           0,
           0,
           0,
           2.3856839561631205e-06,
           0,
           0.9528278708457947,
           0.0788850262761116,
           0.0019860819447785616,
           0.00023021850211080164,
           0.0002111330395564437,
           0.00024333976034540683,
           -0.004969379864633083
          ],
          [
           -1.1928419780815602e-06,
           0,
           0,
           -2.3856839561631205e-06,
           0,
           -1.1928419780815602e-06,
           0,
           0,
           0,
           0.9087952971458435,
           0.10825876146554947,
           0.003998406231403351,
           -0.00037693805643357337,
           0.00021709724387619644,
           0.0005630214000120759,
           0.009814703837037086
          ],
          [
           -1.1928419780815602e-06,
           -1.1928419780815602e-06,
           1.1928419780815602e-06,
           0,
           0,
           0,
           1.1928419780815602e-06,
           1.1928419780815602e-06,
           0,
           0.6858435869216919,
           0.035843707621097565,
           0.0005153077654540539,
           -0.0008075540536083281,
           5.487073212862015e-05,
           0.0013097404735162854,
           0.4153654873371124
          ],
          [
           0,
           0,
           -1.1928419780815602e-06,
           -1.1928419780815602e-06,
           1.1928419780815602e-06,
           -1.1928419780815602e-06,
           -1.1928419780815602e-06,
           0,
           1.1928419780815602e-06,
           0.10977605730295181,
           0.024682287126779556,
           0.0002982105070259422,
           -0.0003590454289223999,
           0.00028151070000603795,
           0.001402782159857452,
           0.8544625639915466
          ],
          [
           0,
           -1.1928419780815602e-06,
           0,
           -2.3856839561631205e-06,
           0,
           -1.1928419780815602e-06,
           -1.1928419780815602e-06,
           2.3856839561631205e-06,
           0,
           0.01987036131322384,
           0.015400783158838749,
           -0.00018369767349213362,
           -9.423451410839334e-05,
           2.3856839106883854e-05,
           0.0006548702367581427,
           0.9079328775405884
          ],
          [
           -1.1928419780815602e-06,
           0,
           0,
           0,
           1.1928419780815602e-06,
           0,
           0,
           1.1928419780815602e-06,
           1.1928419780815602e-06,
           0.019981296733021736,
           0.0062970127910375595,
           0.000209940189961344,
           -0.0007371763349510729,
           -4.174947025603615e-05,
           0.0005689856479875743,
           0.9069046378135681
          ]
         ]
        }
       ],
       "layout": {
        "autosize": true,
        "coloraxis": {
         "cmid": 0,
         "colorscale": [
          [
           0,
           "rgb(103,0,31)"
          ],
          [
           0.1,
           "rgb(178,24,43)"
          ],
          [
           0.2,
           "rgb(214,96,77)"
          ],
          [
           0.3,
           "rgb(244,165,130)"
          ],
          [
           0.4,
           "rgb(253,219,199)"
          ],
          [
           0.5,
           "rgb(247,247,247)"
          ],
          [
           0.6,
           "rgb(209,229,240)"
          ],
          [
           0.7,
           "rgb(146,197,222)"
          ],
          [
           0.8,
           "rgb(67,147,195)"
          ],
          [
           0.9,
           "rgb(33,102,172)"
          ],
          [
           1,
           "rgb(5,48,97)"
          ]
         ]
        },
        "template": {
         "data": {
          "bar": [
           {
            "error_x": {
             "color": "#2a3f5f"
            },
            "error_y": {
             "color": "#2a3f5f"
            },
            "marker": {
             "line": {
              "color": "#E5ECF6",
              "width": 0.5
             },
             "pattern": {
              "fillmode": "overlay",
              "size": 10,
              "solidity": 0.2
             }
            },
            "type": "bar"
           }
          ],
          "barpolar": [
           {
            "marker": {
             "line": {
              "color": "#E5ECF6",
              "width": 0.5
             },
             "pattern": {
              "fillmode": "overlay",
              "size": 10,
              "solidity": 0.2
             }
            },
            "type": "barpolar"
           }
          ],
          "carpet": [
           {
            "aaxis": {
             "endlinecolor": "#2a3f5f",
             "gridcolor": "white",
             "linecolor": "white",
             "minorgridcolor": "white",
             "startlinecolor": "#2a3f5f"
            },
            "baxis": {
             "endlinecolor": "#2a3f5f",
             "gridcolor": "white",
             "linecolor": "white",
             "minorgridcolor": "white",
             "startlinecolor": "#2a3f5f"
            },
            "type": "carpet"
           }
          ],
          "choropleth": [
           {
            "colorbar": {
             "outlinewidth": 0,
             "ticks": ""
            },
            "type": "choropleth"
           }
          ],
          "contour": [
           {
            "colorbar": {
             "outlinewidth": 0,
             "ticks": ""
            },
            "colorscale": [
             [
              0,
              "#0d0887"
             ],
             [
              0.1111111111111111,
              "#46039f"
             ],
             [
              0.2222222222222222,
              "#7201a8"
             ],
             [
              0.3333333333333333,
              "#9c179e"
             ],
             [
              0.4444444444444444,
              "#bd3786"
             ],
             [
              0.5555555555555556,
              "#d8576b"
             ],
             [
              0.6666666666666666,
              "#ed7953"
             ],
             [
              0.7777777777777778,
              "#fb9f3a"
             ],
             [
              0.8888888888888888,
              "#fdca26"
             ],
             [
              1,
              "#f0f921"
             ]
            ],
            "type": "contour"
           }
          ],
          "contourcarpet": [
           {
            "colorbar": {
             "outlinewidth": 0,
             "ticks": ""
            },
            "type": "contourcarpet"
           }
          ],
          "heatmap": [
           {
            "colorbar": {
             "outlinewidth": 0,
             "ticks": ""
            },
            "colorscale": [
             [
              0,
              "#0d0887"
             ],
             [
              0.1111111111111111,
              "#46039f"
             ],
             [
              0.2222222222222222,
              "#7201a8"
             ],
             [
              0.3333333333333333,
              "#9c179e"
             ],
             [
              0.4444444444444444,
              "#bd3786"
             ],
             [
              0.5555555555555556,
              "#d8576b"
             ],
             [
              0.6666666666666666,
              "#ed7953"
             ],
             [
              0.7777777777777778,
              "#fb9f3a"
             ],
             [
              0.8888888888888888,
              "#fdca26"
             ],
             [
              1,
              "#f0f921"
             ]
            ],
            "type": "heatmap"
           }
          ],
          "heatmapgl": [
           {
            "colorbar": {
             "outlinewidth": 0,
             "ticks": ""
            },
            "colorscale": [
             [
              0,
              "#0d0887"
             ],
             [
              0.1111111111111111,
              "#46039f"
             ],
             [
              0.2222222222222222,
              "#7201a8"
             ],
             [
              0.3333333333333333,
              "#9c179e"
             ],
             [
              0.4444444444444444,
              "#bd3786"
             ],
             [
              0.5555555555555556,
              "#d8576b"
             ],
             [
              0.6666666666666666,
              "#ed7953"
             ],
             [
              0.7777777777777778,
              "#fb9f3a"
             ],
             [
              0.8888888888888888,
              "#fdca26"
             ],
             [
              1,
              "#f0f921"
             ]
            ],
            "type": "heatmapgl"
           }
          ],
          "histogram": [
           {
            "marker": {
             "pattern": {
              "fillmode": "overlay",
              "size": 10,
              "solidity": 0.2
             }
            },
            "type": "histogram"
           }
          ],
          "histogram2d": [
           {
            "colorbar": {
             "outlinewidth": 0,
             "ticks": ""
            },
            "colorscale": [
             [
              0,
              "#0d0887"
             ],
             [
              0.1111111111111111,
              "#46039f"
             ],
             [
              0.2222222222222222,
              "#7201a8"
             ],
             [
              0.3333333333333333,
              "#9c179e"
             ],
             [
              0.4444444444444444,
              "#bd3786"
             ],
             [
              0.5555555555555556,
              "#d8576b"
             ],
             [
              0.6666666666666666,
              "#ed7953"
             ],
             [
              0.7777777777777778,
              "#fb9f3a"
             ],
             [
              0.8888888888888888,
              "#fdca26"
             ],
             [
              1,
              "#f0f921"
             ]
            ],
            "type": "histogram2d"
           }
          ],
          "histogram2dcontour": [
           {
            "colorbar": {
             "outlinewidth": 0,
             "ticks": ""
            },
            "colorscale": [
             [
              0,
              "#0d0887"
             ],
             [
              0.1111111111111111,
              "#46039f"
             ],
             [
              0.2222222222222222,
              "#7201a8"
             ],
             [
              0.3333333333333333,
              "#9c179e"
             ],
             [
              0.4444444444444444,
              "#bd3786"
             ],
             [
              0.5555555555555556,
              "#d8576b"
             ],
             [
              0.6666666666666666,
              "#ed7953"
             ],
             [
              0.7777777777777778,
              "#fb9f3a"
             ],
             [
              0.8888888888888888,
              "#fdca26"
             ],
             [
              1,
              "#f0f921"
             ]
            ],
            "type": "histogram2dcontour"
           }
          ],
          "mesh3d": [
           {
            "colorbar": {
             "outlinewidth": 0,
             "ticks": ""
            },
            "type": "mesh3d"
           }
          ],
          "parcoords": [
           {
            "line": {
             "colorbar": {
              "outlinewidth": 0,
              "ticks": ""
             }
            },
            "type": "parcoords"
           }
          ],
          "pie": [
           {
            "automargin": true,
            "type": "pie"
           }
          ],
          "scatter": [
           {
            "fillpattern": {
             "fillmode": "overlay",
             "size": 10,
             "solidity": 0.2
            },
            "type": "scatter"
           }
          ],
          "scatter3d": [
           {
            "line": {
             "colorbar": {
              "outlinewidth": 0,
              "ticks": ""
             }
            },
            "marker": {
             "colorbar": {
              "outlinewidth": 0,
              "ticks": ""
             }
            },
            "type": "scatter3d"
           }
          ],
          "scattercarpet": [
           {
            "marker": {
             "colorbar": {
              "outlinewidth": 0,
              "ticks": ""
             }
            },
            "type": "scattercarpet"
           }
          ],
          "scattergeo": [
           {
            "marker": {
             "colorbar": {
              "outlinewidth": 0,
              "ticks": ""
             }
            },
            "type": "scattergeo"
           }
          ],
          "scattergl": [
           {
            "marker": {
             "colorbar": {
              "outlinewidth": 0,
              "ticks": ""
             }
            },
            "type": "scattergl"
           }
          ],
          "scattermapbox": [
           {
            "marker": {
             "colorbar": {
              "outlinewidth": 0,
              "ticks": ""
             }
            },
            "type": "scattermapbox"
           }
          ],
          "scatterpolar": [
           {
            "marker": {
             "colorbar": {
              "outlinewidth": 0,
              "ticks": ""
             }
            },
            "type": "scatterpolar"
           }
          ],
          "scatterpolargl": [
           {
            "marker": {
             "colorbar": {
              "outlinewidth": 0,
              "ticks": ""
             }
            },
            "type": "scatterpolargl"
           }
          ],
          "scatterternary": [
           {
            "marker": {
             "colorbar": {
              "outlinewidth": 0,
              "ticks": ""
             }
            },
            "type": "scatterternary"
           }
          ],
          "surface": [
           {
            "colorbar": {
             "outlinewidth": 0,
             "ticks": ""
            },
            "colorscale": [
             [
              0,
              "#0d0887"
             ],
             [
              0.1111111111111111,
              "#46039f"
             ],
             [
              0.2222222222222222,
              "#7201a8"
             ],
             [
              0.3333333333333333,
              "#9c179e"
             ],
             [
              0.4444444444444444,
              "#bd3786"
             ],
             [
              0.5555555555555556,
              "#d8576b"
             ],
             [
              0.6666666666666666,
              "#ed7953"
             ],
             [
              0.7777777777777778,
              "#fb9f3a"
             ],
             [
              0.8888888888888888,
              "#fdca26"
             ],
             [
              1,
              "#f0f921"
             ]
            ],
            "type": "surface"
           }
          ],
          "table": [
           {
            "cells": {
             "fill": {
              "color": "#EBF0F8"
             },
             "line": {
              "color": "white"
             }
            },
            "header": {
             "fill": {
              "color": "#C8D4E3"
             },
             "line": {
              "color": "white"
             }
            },
            "type": "table"
           }
          ]
         },
         "layout": {
          "annotationdefaults": {
           "arrowcolor": "#2a3f5f",
           "arrowhead": 0,
           "arrowwidth": 1
          },
          "autotypenumbers": "strict",
          "coloraxis": {
           "colorbar": {
            "outlinewidth": 0,
            "ticks": ""
           }
          },
          "colorscale": {
           "diverging": [
            [
             0,
             "#8e0152"
            ],
            [
             0.1,
             "#c51b7d"
            ],
            [
             0.2,
             "#de77ae"
            ],
            [
             0.3,
             "#f1b6da"
            ],
            [
             0.4,
             "#fde0ef"
            ],
            [
             0.5,
             "#f7f7f7"
            ],
            [
             0.6,
             "#e6f5d0"
            ],
            [
             0.7,
             "#b8e186"
            ],
            [
             0.8,
             "#7fbc41"
            ],
            [
             0.9,
             "#4d9221"
            ],
            [
             1,
             "#276419"
            ]
           ],
           "sequential": [
            [
             0,
             "#0d0887"
            ],
            [
             0.1111111111111111,
             "#46039f"
            ],
            [
             0.2222222222222222,
             "#7201a8"
            ],
            [
             0.3333333333333333,
             "#9c179e"
            ],
            [
             0.4444444444444444,
             "#bd3786"
            ],
            [
             0.5555555555555556,
             "#d8576b"
            ],
            [
             0.6666666666666666,
             "#ed7953"
            ],
            [
             0.7777777777777778,
             "#fb9f3a"
            ],
            [
             0.8888888888888888,
             "#fdca26"
            ],
            [
             1,
             "#f0f921"
            ]
           ],
           "sequentialminus": [
            [
             0,
             "#0d0887"
            ],
            [
             0.1111111111111111,
             "#46039f"
            ],
            [
             0.2222222222222222,
             "#7201a8"
            ],
            [
             0.3333333333333333,
             "#9c179e"
            ],
            [
             0.4444444444444444,
             "#bd3786"
            ],
            [
             0.5555555555555556,
             "#d8576b"
            ],
            [
             0.6666666666666666,
             "#ed7953"
            ],
            [
             0.7777777777777778,
             "#fb9f3a"
            ],
            [
             0.8888888888888888,
             "#fdca26"
            ],
            [
             1,
             "#f0f921"
            ]
           ]
          },
          "colorway": [
           "#636efa",
           "#EF553B",
           "#00cc96",
           "#ab63fa",
           "#FFA15A",
           "#19d3f3",
           "#FF6692",
           "#B6E880",
           "#FF97FF",
           "#FECB52"
          ],
          "font": {
           "color": "#2a3f5f"
          },
          "geo": {
           "bgcolor": "white",
           "lakecolor": "white",
           "landcolor": "#E5ECF6",
           "showlakes": true,
           "showland": true,
           "subunitcolor": "white"
          },
          "hoverlabel": {
           "align": "left"
          },
          "hovermode": "closest",
          "mapbox": {
           "style": "light"
          },
          "paper_bgcolor": "white",
          "plot_bgcolor": "#E5ECF6",
          "polar": {
           "angularaxis": {
            "gridcolor": "white",
            "linecolor": "white",
            "ticks": ""
           },
           "bgcolor": "#E5ECF6",
           "radialaxis": {
            "gridcolor": "white",
            "linecolor": "white",
            "ticks": ""
           }
          },
          "scene": {
           "xaxis": {
            "backgroundcolor": "#E5ECF6",
            "gridcolor": "white",
            "gridwidth": 2,
            "linecolor": "white",
            "showbackground": true,
            "ticks": "",
            "zerolinecolor": "white"
           },
           "yaxis": {
            "backgroundcolor": "#E5ECF6",
            "gridcolor": "white",
            "gridwidth": 2,
            "linecolor": "white",
            "showbackground": true,
            "ticks": "",
            "zerolinecolor": "white"
           },
           "zaxis": {
            "backgroundcolor": "#E5ECF6",
            "gridcolor": "white",
            "gridwidth": 2,
            "linecolor": "white",
            "showbackground": true,
            "ticks": "",
            "zerolinecolor": "white"
           }
          },
          "shapedefaults": {
           "line": {
            "color": "#2a3f5f"
           }
          },
          "ternary": {
           "aaxis": {
            "gridcolor": "white",
            "linecolor": "white",
            "ticks": ""
           },
           "baxis": {
            "gridcolor": "white",
            "linecolor": "white",
            "ticks": ""
           },
           "bgcolor": "#E5ECF6",
           "caxis": {
            "gridcolor": "white",
            "linecolor": "white",
            "ticks": ""
           }
          },
          "title": {
           "x": 0.05
          },
          "xaxis": {
           "automargin": true,
           "gridcolor": "white",
           "linecolor": "white",
           "ticks": "",
           "title": {
            "standoff": 15
           },
           "zerolinecolor": "white",
           "zerolinewidth": 2
          },
          "yaxis": {
           "automargin": true,
           "gridcolor": "white",
           "linecolor": "white",
           "ticks": "",
           "title": {
            "standoff": 15
           },
           "zerolinecolor": "white",
           "zerolinewidth": 2
          }
         }
        },
        "title": {
         "text": "Normalized Logit Difference After Patching Residual Stream on the IOI Task"
        },
        "xaxis": {
         "anchor": "y",
         "autorange": true,
         "constrain": "domain",
         "domain": [
          0,
          1
         ],
         "range": [
          -0.5,
          15.5
         ],
         "scaleanchor": "y",
         "title": {
          "text": "Position"
         },
         "type": "category"
        },
        "yaxis": {
         "anchor": "x",
         "autorange": true,
         "constrain": "domain",
         "domain": [
          0,
          1
         ],
         "range": [
          11.5,
          -0.5
         ],
         "title": {
          "text": "Layer"
         }
        }
       }
      },
      "image/png": "[encoded data removed]",
      "text/html": [
       "<div>                            <div id=\"ff393753-8bb1-4673-a068-e41f54fce2f4\" class=\"plotly-graph-div\" style=\"height:525px; width:100%;\"></div>            <script type=\"text/javascript\">                require([\"plotly\"], function(Plotly) {                    window.PLOTLYENV=window.PLOTLYENV || {};                                    if (document.getElementById(\"ff393753-8bb1-4673-a068-e41f54fce2f4\")) {                    Plotly.newPlot(                        \"ff393753-8bb1-4673-a068-e41f54fce2f4\",                        [{\"coloraxis\":\"coloraxis\",\"name\":\"0\",\"x\":[\"After_0\",\" John_1\",\" and_2\",\" Mary_3\",\" went_4\",\" to_5\",\" the_6\",\" store_7\",\",_8\",\" Mary_9\",\" gave_10\",\" a_11\",\" bottle_12\",\" of_13\",\" milk_14\",\" to_15\"],\"z\":[[-1.1928419780815602e-06,-1.1928419780815602e-06,-1.1928419780815602e-06,-1.1928419780815602e-06,-1.1928419780815602e-06,-1.1928419780815602e-06,-1.1928419780815602e-06,-1.1928419780815602e-06,-1.1928419780815602e-06,0.9999988079071045,-1.1928419780815602e-06,-1.1928419780815602e-06,-1.1928419780815602e-06,-1.1928419780815602e-06,-1.1928419780815602e-06,-1.1928419780815602e-06],[-1.1928419780815602e-06,-2.3856839561631205e-06,-1.1928419780815602e-06,0.0,2.3856839561631205e-06,0.0,3.5785260479315184e-06,0.0,0.0,0.9974687695503235,0.0017737559974193573,-0.00018011913925874978,0.0008982100407592952,2.3856839106883854e-05,-0.001089064753614366,-0.00046759407268837094],[-2.3856839561631205e-06,3.5785260479315184e-06,0.0,-2.3856839561631205e-06,-1.1928419780815602e-06,-2.3856839561631205e-06,0.0,0.0,1.1928419780815602e-06,0.9971288442611694,0.0026111311744898558,-0.00048548670019954443,0.0006274348706938326,-6.322062836261466e-05,-0.0004377730074338615,-0.0009208740084432065],[0.0,0.0,0.0,-1.1928419780815602e-06,-1.1928419780815602e-06,-1.1928419780815602e-06,0.0,2.3856839561631205e-06,1.1928419780815602e-06,0.9950985908508301,0.004562620539218187,-0.00023856840562075377,0.0005892639164812863,6.083494008635171e-05,-0.0003292243927717209,-0.0021960220765322447],[0.0,-1.1928419780815602e-06,1.1928419780815602e-06,0.0,-1.1928419780815602e-06,-1.1928419780815602e-06,1.1928419780815602e-06,0.0,-1.1928419780815602e-06,0.9868704080581665,0.020100580528378487,0.0006405561580322683,0.0011236571008339524,0.00015149093815125525,0.0006286277202889323,-0.0019157042261213064],[-1.1928419780815602e-06,1.1928419780815602e-06,1.1928419780815602e-06,0.0,-1.1928419780815602e-06,-2.3856839561631205e-06,1.1928419780815602e-06,1.1928419780815602e-06,1.1928419780815602e-06,0.9520763754844666,0.07812518626451492,0.002582503017038107,0.0021328015718609095,0.00046282270341180265,0.000314910284942016,-0.001445724512450397],[0.0,1.1928419780815602e-06,0.0,-1.1928419780815602e-06,0.0,0.0,0.0,2.3856839561631205e-06,0.0,0.9528278708457947,0.0788850262761116,0.0019860819447785616,0.00023021850211080164,0.0002111330395564437,0.00024333976034540683,-0.004969379864633083],[-1.1928419780815602e-06,0.0,0.0,-2.3856839561631205e-06,0.0,-1.1928419780815602e-06,0.0,0.0,0.0,0.9087952971458435,0.10825876146554947,0.003998406231403351,-0.00037693805643357337,0.00021709724387619644,0.0005630214000120759,0.009814703837037086],[-1.1928419780815602e-06,-1.1928419780815602e-06,1.1928419780815602e-06,0.0,0.0,0.0,1.1928419780815602e-06,1.1928419780815602e-06,0.0,0.6858435869216919,0.035843707621097565,0.0005153077654540539,-0.0008075540536083281,5.487073212862015e-05,0.0013097404735162854,0.4153654873371124],[0.0,0.0,-1.1928419780815602e-06,-1.1928419780815602e-06,1.1928419780815602e-06,-1.1928419780815602e-06,-1.1928419780815602e-06,0.0,1.1928419780815602e-06,0.10977605730295181,0.024682287126779556,0.0002982105070259422,-0.0003590454289223999,0.00028151070000603795,0.001402782159857452,0.8544625639915466],[0.0,-1.1928419780815602e-06,0.0,-2.3856839561631205e-06,0.0,-1.1928419780815602e-06,-1.1928419780815602e-06,2.3856839561631205e-06,0.0,0.01987036131322384,0.015400783158838749,-0.00018369767349213362,-9.423451410839334e-05,2.3856839106883854e-05,0.0006548702367581427,0.9079328775405884],[-1.1928419780815602e-06,0.0,0.0,0.0,1.1928419780815602e-06,0.0,0.0,1.1928419780815602e-06,1.1928419780815602e-06,0.019981296733021736,0.0062970127910375595,0.000209940189961344,-0.0007371763349510729,-4.174947025603615e-05,0.0005689856479875743,0.9069046378135681]],\"type\":\"heatmap\",\"xaxis\":\"x\",\"yaxis\":\"y\",\"hovertemplate\":\"Position: %{x}\\u003cbr\\u003eLayer: %{y}\\u003cbr\\u003ecolor: %{z}\\u003cextra\\u003e\\u003c\\u002fextra\\u003e\"}],                        {\"template\":{\"data\":{\"histogram2dcontour\":[{\"type\":\"histogram2dcontour\",\"colorbar\":{\"outlinewidth\":0,\"ticks\":\"\"},\"colorscale\":[[0.0,\"#0d0887\"],[0.1111111111111111,\"#46039f\"],[0.2222222222222222,\"#7201a8\"],[0.3333333333333333,\"#9c179e\"],[0.4444444444444444,\"#bd3786\"],[0.5555555555555556,\"#d8576b\"],[0.6666666666666666,\"#ed7953\"],[0.7777777777777778,\"#fb9f3a\"],[0.8888888888888888,\"#fdca26\"],[1.0,\"#f0f921\"]]}],\"choropleth\":[{\"type\":\"choropleth\",\"colorbar\":{\"outlinewidth\":0,\"ticks\":\"\"}}],\"histogram2d\":[{\"type\":\"histogram2d\",\"colorbar\":{\"outlinewidth\":0,\"ticks\":\"\"},\"colorscale\":[[0.0,\"#0d0887\"],[0.1111111111111111,\"#46039f\"],[0.2222222222222222,\"#7201a8\"],[0.3333333333333333,\"#9c179e\"],[0.4444444444444444,\"#bd3786\"],[0.5555555555555556,\"#d8576b\"],[0.6666666666666666,\"#ed7953\"],[0.7777777777777778,\"#fb9f3a\"],[0.8888888888888888,\"#fdca26\"],[1.0,\"#f0f921\"]]}],\"heatmap\":[{\"type\":\"heatmap\",\"colorbar\":{\"outlinewidth\":0,\"ticks\":\"\"},\"colorscale\":[[0.0,\"#0d0887\"],[0.1111111111111111,\"#46039f\"],[0.2222222222222222,\"#7201a8\"],[0.3333333333333333,\"#9c179e\"],[0.4444444444444444,\"#bd3786\"],[0.5555555555555556,\"#d8576b\"],[0.6666666666666666,\"#ed7953\"],[0.7777777777777778,\"#fb9f3a\"],[0.8888888888888888,\"#fdca26\"],[1.0,\"#f0f921\"]]}],\"heatmapgl\":[{\"type\":\"heatmapgl\",\"colorbar\":{\"outlinewidth\":0,\"ticks\":\"\"},\"colorscale\":[[0.0,\"#0d0887\"],[0.1111111111111111,\"#46039f\"],[0.2222222222222222,\"#7201a8\"],[0.3333333333333333,\"#9c179e\"],[0.4444444444444444,\"#bd3786\"],[0.5555555555555556,\"#d8576b\"],[0.6666666666666666,\"#ed7953\"],[0.7777777777777778,\"#fb9f3a\"],[0.8888888888888888,\"#fdca26\"],[1.0,\"#f0f921\"]]}],\"contourcarpet\":[{\"type\":\"contourcarpet\",\"colorbar\":{\"outlinewidth\":0,\"ticks\":\"\"}}],\"contour\":[{\"type\":\"contour\",\"colorbar\":{\"outlinewidth\":0,\"ticks\":\"\"},\"colorscale\":[[0.0,\"#0d0887\"],[0.1111111111111111,\"#46039f\"],[0.2222222222222222,\"#7201a8\"],[0.3333333333333333,\"#9c179e\"],[0.4444444444444444,\"#bd3786\"],[0.5555555555555556,\"#d8576b\"],[0.6666666666666666,\"#ed7953\"],[0.7777777777777778,\"#fb9f3a\"],[0.8888888888888888,\"#fdca26\"],[1.0,\"#f0f921\"]]}],\"surface\":[{\"type\":\"surface\",\"colorbar\":{\"outlinewidth\":0,\"ticks\":\"\"},\"colorscale\":[[0.0,\"#0d0887\"],[0.1111111111111111,\"#46039f\"],[0.2222222222222222,\"#7201a8\"],[0.3333333333333333,\"#9c179e\"],[0.4444444444444444,\"#bd3786\"],[0.5555555555555556,\"#d8576b\"],[0.6666666666666666,\"#ed7953\"],[0.7777777777777778,\"#fb9f3a\"],[0.8888888888888888,\"#fdca26\"],[1.0,\"#f0f921\"]]}],\"mesh3d\":[{\"type\":\"mesh3d\",\"colorbar\":{\"outlinewidth\":0,\"ticks\":\"\"}}],\"scatter\":[{\"fillpattern\":{\"fillmode\":\"overlay\",\"size\":10,\"solidity\":0.2},\"type\":\"scatter\"}],\"parcoords\":[{\"type\":\"parcoords\",\"line\":{\"colorbar\":{\"outlinewidth\":0,\"ticks\":\"\"}}}],\"scatterpolargl\":[{\"type\":\"scatterpolargl\",\"marker\":{\"colorbar\":{\"outlinewidth\":0,\"ticks\":\"\"}}}],\"bar\":[{\"error_x\":{\"color\":\"#2a3f5f\"},\"error_y\":{\"color\":\"#2a3f5f\"},\"marker\":{\"line\":{\"color\":\"#E5ECF6\",\"width\":0.5},\"pattern\":{\"fillmode\":\"overlay\",\"size\":10,\"solidity\":0.2}},\"type\":\"bar\"}],\"scattergeo\":[{\"type\":\"scattergeo\",\"marker\":{\"colorbar\":{\"outlinewidth\":0,\"ticks\":\"\"}}}],\"scatterpolar\":[{\"type\":\"scatterpolar\",\"marker\":{\"colorbar\":{\"outlinewidth\":0,\"ticks\":\"\"}}}],\"histogram\":[{\"marker\":{\"pattern\":{\"fillmode\":\"overlay\",\"size\":10,\"solidity\":0.2}},\"type\":\"histogram\"}],\"scattergl\":[{\"type\":\"scattergl\",\"marker\":{\"colorbar\":{\"outlinewidth\":0,\"ticks\":\"\"}}}],\"scatter3d\":[{\"type\":\"scatter3d\",\"line\":{\"colorbar\":{\"outlinewidth\":0,\"ticks\":\"\"}},\"marker\":{\"colorbar\":{\"outlinewidth\":0,\"ticks\":\"\"}}}],\"scattermapbox\":[{\"type\":\"scattermapbox\",\"marker\":{\"colorbar\":{\"outlinewidth\":0,\"ticks\":\"\"}}}],\"scatterternary\":[{\"type\":\"scatterternary\",\"marker\":{\"colorbar\":{\"outlinewidth\":0,\"ticks\":\"\"}}}],\"scattercarpet\":[{\"type\":\"scattercarpet\",\"marker\":{\"colorbar\":{\"outlinewidth\":0,\"ticks\":\"\"}}}],\"carpet\":[{\"aaxis\":{\"endlinecolor\":\"#2a3f5f\",\"gridcolor\":\"white\",\"linecolor\":\"white\",\"minorgridcolor\":\"white\",\"startlinecolor\":\"#2a3f5f\"},\"baxis\":{\"endlinecolor\":\"#2a3f5f\",\"gridcolor\":\"white\",\"linecolor\":\"white\",\"minorgridcolor\":\"white\",\"startlinecolor\":\"#2a3f5f\"},\"type\":\"carpet\"}],\"table\":[{\"cells\":{\"fill\":{\"color\":\"#EBF0F8\"},\"line\":{\"color\":\"white\"}},\"header\":{\"fill\":{\"color\":\"#C8D4E3\"},\"line\":{\"color\":\"white\"}},\"type\":\"table\"}],\"barpolar\":[{\"marker\":{\"line\":{\"color\":\"#E5ECF6\",\"width\":0.5},\"pattern\":{\"fillmode\":\"overlay\",\"size\":10,\"solidity\":0.2}},\"type\":\"barpolar\"}],\"pie\":[{\"automargin\":true,\"type\":\"pie\"}]},\"layout\":{\"autotypenumbers\":\"strict\",\"colorway\":[\"#636efa\",\"#EF553B\",\"#00cc96\",\"#ab63fa\",\"#FFA15A\",\"#19d3f3\",\"#FF6692\",\"#B6E880\",\"#FF97FF\",\"#FECB52\"],\"font\":{\"color\":\"#2a3f5f\"},\"hovermode\":\"closest\",\"hoverlabel\":{\"align\":\"left\"},\"paper_bgcolor\":\"white\",\"plot_bgcolor\":\"#E5ECF6\",\"polar\":{\"bgcolor\":\"#E5ECF6\",\"angularaxis\":{\"gridcolor\":\"white\",\"linecolor\":\"white\",\"ticks\":\"\"},\"radialaxis\":{\"gridcolor\":\"white\",\"linecolor\":\"white\",\"ticks\":\"\"}},\"ternary\":{\"bgcolor\":\"#E5ECF6\",\"aaxis\":{\"gridcolor\":\"white\",\"linecolor\":\"white\",\"ticks\":\"\"},\"baxis\":{\"gridcolor\":\"white\",\"linecolor\":\"white\",\"ticks\":\"\"},\"caxis\":{\"gridcolor\":\"white\",\"linecolor\":\"white\",\"ticks\":\"\"}},\"coloraxis\":{\"colorbar\":{\"outlinewidth\":0,\"ticks\":\"\"}},\"colorscale\":{\"sequential\":[[0.0,\"#0d0887\"],[0.1111111111111111,\"#46039f\"],[0.2222222222222222,\"#7201a8\"],[0.3333333333333333,\"#9c179e\"],[0.4444444444444444,\"#bd3786\"],[0.5555555555555556,\"#d8576b\"],[0.6666666666666666,\"#ed7953\"],[0.7777777777777778,\"#fb9f3a\"],[0.8888888888888888,\"#fdca26\"],[1.0,\"#f0f921\"]],\"sequentialminus\":[[0.0,\"#0d0887\"],[0.1111111111111111,\"#46039f\"],[0.2222222222222222,\"#7201a8\"],[0.3333333333333333,\"#9c179e\"],[0.4444444444444444,\"#bd3786\"],[0.5555555555555556,\"#d8576b\"],[0.6666666666666666,\"#ed7953\"],[0.7777777777777778,\"#fb9f3a\"],[0.8888888888888888,\"#fdca26\"],[1.0,\"#f0f921\"]],\"diverging\":[[0,\"#8e0152\"],[0.1,\"#c51b7d\"],[0.2,\"#de77ae\"],[0.3,\"#f1b6da\"],[0.4,\"#fde0ef\"],[0.5,\"#f7f7f7\"],[0.6,\"#e6f5d0\"],[0.7,\"#b8e186\"],[0.8,\"#7fbc41\"],[0.9,\"#4d9221\"],[1,\"#276419\"]]},\"xaxis\":{\"gridcolor\":\"white\",\"linecolor\":\"white\",\"ticks\":\"\",\"title\":{\"standoff\":15},\"zerolinecolor\":\"white\",\"automargin\":true,\"zerolinewidth\":2},\"yaxis\":{\"gridcolor\":\"white\",\"linecolor\":\"white\",\"ticks\":\"\",\"title\":{\"standoff\":15},\"zerolinecolor\":\"white\",\"automargin\":true,\"zerolinewidth\":2},\"scene\":{\"xaxis\":{\"backgroundcolor\":\"#E5ECF6\",\"gridcolor\":\"white\",\"linecolor\":\"white\",\"showbackground\":true,\"ticks\":\"\",\"zerolinecolor\":\"white\",\"gridwidth\":2},\"yaxis\":{\"backgroundcolor\":\"#E5ECF6\",\"gridcolor\":\"white\",\"linecolor\":\"white\",\"showbackground\":true,\"ticks\":\"\",\"zerolinecolor\":\"white\",\"gridwidth\":2},\"zaxis\":{\"backgroundcolor\":\"#E5ECF6\",\"gridcolor\":\"white\",\"linecolor\":\"white\",\"showbackground\":true,\"ticks\":\"\",\"zerolinecolor\":\"white\",\"gridwidth\":2}},\"shapedefaults\":{\"line\":{\"color\":\"#2a3f5f\"}},\"annotationdefaults\":{\"arrowcolor\":\"#2a3f5f\",\"arrowhead\":0,\"arrowwidth\":1},\"geo\":{\"bgcolor\":\"white\",\"landcolor\":\"#E5ECF6\",\"subunitcolor\":\"white\",\"showland\":true,\"showlakes\":true,\"lakecolor\":\"white\"},\"title\":{\"x\":0.05},\"mapbox\":{\"style\":\"light\"}}},\"xaxis\":{\"anchor\":\"y\",\"domain\":[0.0,1.0],\"scaleanchor\":\"y\",\"constrain\":\"domain\",\"title\":{\"text\":\"Position\"}},\"yaxis\":{\"anchor\":\"x\",\"domain\":[0.0,1.0],\"autorange\":\"reversed\",\"constrain\":\"domain\",\"title\":{\"text\":\"Layer\"}},\"coloraxis\":{\"colorscale\":[[0.0,\"rgb(103,0,31)\"],[0.1,\"rgb(178,24,43)\"],[0.2,\"rgb(214,96,77)\"],[0.3,\"rgb(244,165,130)\"],[0.4,\"rgb(253,219,199)\"],[0.5,\"rgb(247,247,247)\"],[0.6,\"rgb(209,229,240)\"],[0.7,\"rgb(146,197,222)\"],[0.8,\"rgb(67,147,195)\"],[0.9,\"rgb(33,102,172)\"],[1.0,\"rgb(5,48,97)\"]],\"cmid\":0.0},\"title\":{\"text\":\"Normalized Logit Difference After Patching Residual Stream on the IOI Task\"}},                        {\"responsive\": true}                    ).then(function(){\n",
       "                            \n",
       "var gd = document.getElementById('ff393753-8bb1-4673-a068-e41f54fce2f4');\n",
       "var x = new MutationObserver(function (mutations, observer) {{\n",
       "        var display = window.getComputedStyle(gd).display;\n",
       "        if (!display || display === 'none') {{\n",
       "            console.log([gd, 'removed!']);\n",
       "            Plotly.purge(gd);\n",
       "            observer.disconnect();\n",
       "        }}\n",
       "}});\n",
       "\n",
       "// Listen for the removal of the full notebook cells\n",
       "var notebookContainer = gd.closest('#notebook-container');\n",
       "if (notebookContainer) {{\n",
       "    x.observe(notebookContainer, {childList: true});\n",
       "}}\n",
       "\n",
       "// Listen for the clearing of the current output cell\n",
       "var outputEl = gd.closest('.output');\n",
       "if (outputEl) {{\n",
       "    x.observe(outputEl, {childList: true});\n",
       "}}\n",
       "\n",
       "                        })                };                });            </script>        </div>"
      ]
     },
     "metadata": {},
     "output_type": "display_data"
    }
   ],
   "source": [
    "patched_results = np.zeros((12,16))\n",
    "\n",
    "def patching_result(patched_logit_diff):\n",
    "    return (patched_logit_diff - corrupted_logit_diff)/(clean_logit_diff - corrupted_logit_diff)\n",
    "\n",
    "for layer in range(12):\n",
    "    for pos in range(16):\n",
    "        patched_results[layer, pos] = patching_result(logits_to_logit_diff(results[layer].value[pos].unsqueeze(0)))\n",
    "\n",
    "# Add the index to the end of the label, because plotly doesn't like duplicate labels\n",
    "token_labels = [f\"{token}_{index}\" for index, token in enumerate([model.tokenizer.decode(t) for t in clean_tokens])]\n",
    "imshow(patched_results, x=token_labels, xaxis=\"Position\", yaxis=\"Layer\", title=\"Normalized Logit Difference After Patching Residual Stream on the IOI Task\")"
   ]
  },
  {
   "cell_type": "markdown",
   "id": "272e04ae-1012-488b-9875-b295e3acd505",
   "metadata": {},
   "source": [
    "### Searching for Induction Heads"
   ]
  },
  {
   "cell_type": "markdown",
   "id": "791c1496-4bf3-406f-9c3e-bc926f688def",
   "metadata": {},
   "source": [
    "Let's look for **[induction heads](https://transformer-circuits.pub/2022/in-context-learning-and-induction-heads/index.html)** in GPT-2 Small. \n",
    "\n",
    "Induction circuits are a very important circuit in generative language models, which are used to detect and continue repeated subsequences. They consist of two heads in separate layers that compose together, a **previous token head** which always attends to the previous token, and an **induction head** which attends to the token *after* an earlier copy of the current token. \n",
    "\n",
    "To see why this is important, let's say that the model is trying to predict the next token in a news article about Michael Jordan. The token \" Michael\", in general, could be followed by many surnames. But an induction head will look from that occurence of \" Michael\" to the token after previous occurences of \" Michael\", ie \" Jordan\" and can confidently predict that that will come next."
   ]
  },
  {
   "cell_type": "markdown",
   "id": "b9fefebf-908f-40c6-9ad1-45cfffa59e43",
   "metadata": {},
   "source": [
    "An interesting fact about induction heads is that they generalise to arbitrary sequences of repeated tokens. We can see this by generating sequences of 50 random tokens, repeated twice, and plotting the average loss at predicting the next token, by position. We see that the model goes from terrible to very good at the halfway point."
   ]
  },
  {
   "cell_type": "code",
   "execution_count": 61,
   "id": "18786d95-3b9e-43c7-879b-743955cab606",
   "metadata": {},
   "outputs": [
    {
     "name": "stderr",
     "output_type": "stream",
     "text": [
      "Setting `pad_token_id` to `eos_token_id`:50256 for open-end generation.\n"
     ]
    },
    {
     "data": {
      "application/vnd.plotly.v1+json": {
       "config": {
        "plotlyServerURL": "https://plot.ly"
       },
       "data": [
        {
         "hovertemplate": "variable=0<br>index=%{x}<br>value=%{y}<extra></extra>",
         "legendgroup": "0",
         "line": {
          "color": "#636efa",
          "dash": "solid"
         },
         "marker": {
          "symbol": "circle"
         },
         "mode": "lines",
         "name": "0",
         "orientation": "v",
         "showlegend": true,
         "type": "scatter",
         "x": [
          0,
          1,
          2,
          3,
          4,
          5,
          6,
          7,
          8,
          9,
          10,
          11,
          12,
          13,
          14,
          15,
          16,
          17,
          18,
          19,
          20,
          21,
          22,
          23,
          24,
          25,
          26,
          27,
          28,
          29,
          30,
          31,
          32,
          33,
          34,
          35,
          36,
          37,
          38,
          39,
          40,
          41,
          42,
          43,
          44,
          45,
          46,
          47,
          48,
          49,
          50,
          51,
          52,
          53,
          54,
          55,
          56,
          57,
          58,
          59,
          60,
          61,
          62,
          63,
          64,
          65,
          66,
          67,
          68,
          69,
          70,
          71,
          72,
          73,
          74,
          75,
          76,
          77,
          78,
          79,
          80,
          81,
          82,
          83,
          84,
          85,
          86,
          87,
          88,
          89,
          90,
          91,
          92,
          93,
          94,
          95,
          96,
          97,
          98,
          99,
          100
         ],
         "xaxis": "x",
         "y": [
          7.520276069641113,
          18.171361923217773,
          13.497304916381836,
          12.424068450927734,
          14.4744234085083,
          11.20516586303711,
          12.073960304260254,
          13.631689071655273,
          12.755325317382812,
          12.772019386291504,
          12.27999210357666,
          10.548490524291992,
          12.451101303100586,
          12.391267776489258,
          12.072280883789062,
          11.7648344039917,
          11.128229141235352,
          12.440829277038574,
          12.477807998657227,
          12.22075080871582,
          12.16342830657959,
          11.417108535766602,
          11.838510513305664,
          12.00836181640625,
          11.610468864440918,
          11.170648574829102,
          10.958261489868164,
          11.86220932006836,
          11.440221786499023,
          11.48244571685791,
          10.987344741821289,
          11.759045600891113,
          11.324456214904785,
          11.010339736938477,
          10.53256607055664,
          11.971522331237793,
          13.003642082214355,
          12.047137260437012,
          11.03085708618164,
          11.42070198059082,
          11.732573509216309,
          11.865031242370605,
          11.633569717407227,
          10.66132926940918,
          11.54334545135498,
          11.325876235961914,
          11.100842475891113,
          11.377335548400879,
          11.204431533813477,
          11.250231742858887,
          11.776954650878906,
          7.943837642669678,
          2.497581958770752,
          1.7766525745391846,
          0.8851200342178345,
          0.9898490905761719,
          0.8093792796134949,
          0.18946364521980286,
          0.20531268417835236,
          0.27353984117507935,
          0.1551700085401535,
          0.3222545087337494,
          0.03904508799314499,
          0.10637213289737701,
          0.032644130289554596,
          0.18943068385124207,
          0.12810160219669342,
          0.09384835511445999,
          0.039203137159347534,
          0.10905058681964874,
          0.048400841653347015,
          0.016000082716345787,
          0.06296615302562714,
          0.07671858370304108,
          0.07507941871881485,
          0.04325161874294281,
          0.01774655096232891,
          0.11770166456699371,
          0.02988606132566929,
          0.12243975698947906,
          0.01721971482038498,
          0.27892208099365234,
          0.027614016085863113,
          0.014507567510008812,
          0.02487746998667717,
          0.02107144147157669,
          0.04246126487851143,
          0.07800663262605667,
          0.058286815881729126,
          0.019737401977181435,
          0.06984195113182068,
          0.04817856103181839,
          0.0576949343085289,
          0.02779814973473549,
          0.0260610431432724,
          0.017605649307370186,
          0.4278249740600586,
          0.031065478920936584,
          0.07703830301761627,
          0.06418139487504959,
          0.02032032608985901
         ],
         "yaxis": "y"
        }
       ],
       "layout": {
        "autosize": true,
        "legend": {
         "title": {
          "text": "variable"
         },
         "tracegroupgap": 0
        },
        "template": {
         "data": {
          "bar": [
           {
            "error_x": {
             "color": "#2a3f5f"
            },
            "error_y": {
             "color": "#2a3f5f"
            },
            "marker": {
             "line": {
              "color": "#E5ECF6",
              "width": 0.5
             },
             "pattern": {
              "fillmode": "overlay",
              "size": 10,
              "solidity": 0.2
             }
            },
            "type": "bar"
           }
          ],
          "barpolar": [
           {
            "marker": {
             "line": {
              "color": "#E5ECF6",
              "width": 0.5
             },
             "pattern": {
              "fillmode": "overlay",
              "size": 10,
              "solidity": 0.2
             }
            },
            "type": "barpolar"
           }
          ],
          "carpet": [
           {
            "aaxis": {
             "endlinecolor": "#2a3f5f",
             "gridcolor": "white",
             "linecolor": "white",
             "minorgridcolor": "white",
             "startlinecolor": "#2a3f5f"
            },
            "baxis": {
             "endlinecolor": "#2a3f5f",
             "gridcolor": "white",
             "linecolor": "white",
             "minorgridcolor": "white",
             "startlinecolor": "#2a3f5f"
            },
            "type": "carpet"
           }
          ],
          "choropleth": [
           {
            "colorbar": {
             "outlinewidth": 0,
             "ticks": ""
            },
            "type": "choropleth"
           }
          ],
          "contour": [
           {
            "colorbar": {
             "outlinewidth": 0,
             "ticks": ""
            },
            "colorscale": [
             [
              0,
              "#0d0887"
             ],
             [
              0.1111111111111111,
              "#46039f"
             ],
             [
              0.2222222222222222,
              "#7201a8"
             ],
             [
              0.3333333333333333,
              "#9c179e"
             ],
             [
              0.4444444444444444,
              "#bd3786"
             ],
             [
              0.5555555555555556,
              "#d8576b"
             ],
             [
              0.6666666666666666,
              "#ed7953"
             ],
             [
              0.7777777777777778,
              "#fb9f3a"
             ],
             [
              0.8888888888888888,
              "#fdca26"
             ],
             [
              1,
              "#f0f921"
             ]
            ],
            "type": "contour"
           }
          ],
          "contourcarpet": [
           {
            "colorbar": {
             "outlinewidth": 0,
             "ticks": ""
            },
            "type": "contourcarpet"
           }
          ],
          "heatmap": [
           {
            "colorbar": {
             "outlinewidth": 0,
             "ticks": ""
            },
            "colorscale": [
             [
              0,
              "#0d0887"
             ],
             [
              0.1111111111111111,
              "#46039f"
             ],
             [
              0.2222222222222222,
              "#7201a8"
             ],
             [
              0.3333333333333333,
              "#9c179e"
             ],
             [
              0.4444444444444444,
              "#bd3786"
             ],
             [
              0.5555555555555556,
              "#d8576b"
             ],
             [
              0.6666666666666666,
              "#ed7953"
             ],
             [
              0.7777777777777778,
              "#fb9f3a"
             ],
             [
              0.8888888888888888,
              "#fdca26"
             ],
             [
              1,
              "#f0f921"
             ]
            ],
            "type": "heatmap"
           }
          ],
          "heatmapgl": [
           {
            "colorbar": {
             "outlinewidth": 0,
             "ticks": ""
            },
            "colorscale": [
             [
              0,
              "#0d0887"
             ],
             [
              0.1111111111111111,
              "#46039f"
             ],
             [
              0.2222222222222222,
              "#7201a8"
             ],
             [
              0.3333333333333333,
              "#9c179e"
             ],
             [
              0.4444444444444444,
              "#bd3786"
             ],
             [
              0.5555555555555556,
              "#d8576b"
             ],
             [
              0.6666666666666666,
              "#ed7953"
             ],
             [
              0.7777777777777778,
              "#fb9f3a"
             ],
             [
              0.8888888888888888,
              "#fdca26"
             ],
             [
              1,
              "#f0f921"
             ]
            ],
            "type": "heatmapgl"
           }
          ],
          "histogram": [
           {
            "marker": {
             "pattern": {
              "fillmode": "overlay",
              "size": 10,
              "solidity": 0.2
             }
            },
            "type": "histogram"
           }
          ],
          "histogram2d": [
           {
            "colorbar": {
             "outlinewidth": 0,
             "ticks": ""
            },
            "colorscale": [
             [
              0,
              "#0d0887"
             ],
             [
              0.1111111111111111,
              "#46039f"
             ],
             [
              0.2222222222222222,
              "#7201a8"
             ],
             [
              0.3333333333333333,
              "#9c179e"
             ],
             [
              0.4444444444444444,
              "#bd3786"
             ],
             [
              0.5555555555555556,
              "#d8576b"
             ],
             [
              0.6666666666666666,
              "#ed7953"
             ],
             [
              0.7777777777777778,
              "#fb9f3a"
             ],
             [
              0.8888888888888888,
              "#fdca26"
             ],
             [
              1,
              "#f0f921"
             ]
            ],
            "type": "histogram2d"
           }
          ],
          "histogram2dcontour": [
           {
            "colorbar": {
             "outlinewidth": 0,
             "ticks": ""
            },
            "colorscale": [
             [
              0,
              "#0d0887"
             ],
             [
              0.1111111111111111,
              "#46039f"
             ],
             [
              0.2222222222222222,
              "#7201a8"
             ],
             [
              0.3333333333333333,
              "#9c179e"
             ],
             [
              0.4444444444444444,
              "#bd3786"
             ],
             [
              0.5555555555555556,
              "#d8576b"
             ],
             [
              0.6666666666666666,
              "#ed7953"
             ],
             [
              0.7777777777777778,
              "#fb9f3a"
             ],
             [
              0.8888888888888888,
              "#fdca26"
             ],
             [
              1,
              "#f0f921"
             ]
            ],
            "type": "histogram2dcontour"
           }
          ],
          "mesh3d": [
           {
            "colorbar": {
             "outlinewidth": 0,
             "ticks": ""
            },
            "type": "mesh3d"
           }
          ],
          "parcoords": [
           {
            "line": {
             "colorbar": {
              "outlinewidth": 0,
              "ticks": ""
             }
            },
            "type": "parcoords"
           }
          ],
          "pie": [
           {
            "automargin": true,
            "type": "pie"
           }
          ],
          "scatter": [
           {
            "fillpattern": {
             "fillmode": "overlay",
             "size": 10,
             "solidity": 0.2
            },
            "type": "scatter"
           }
          ],
          "scatter3d": [
           {
            "line": {
             "colorbar": {
              "outlinewidth": 0,
              "ticks": ""
             }
            },
            "marker": {
             "colorbar": {
              "outlinewidth": 0,
              "ticks": ""
             }
            },
            "type": "scatter3d"
           }
          ],
          "scattercarpet": [
           {
            "marker": {
             "colorbar": {
              "outlinewidth": 0,
              "ticks": ""
             }
            },
            "type": "scattercarpet"
           }
          ],
          "scattergeo": [
           {
            "marker": {
             "colorbar": {
              "outlinewidth": 0,
              "ticks": ""
             }
            },
            "type": "scattergeo"
           }
          ],
          "scattergl": [
           {
            "marker": {
             "colorbar": {
              "outlinewidth": 0,
              "ticks": ""
             }
            },
            "type": "scattergl"
           }
          ],
          "scattermapbox": [
           {
            "marker": {
             "colorbar": {
              "outlinewidth": 0,
              "ticks": ""
             }
            },
            "type": "scattermapbox"
           }
          ],
          "scatterpolar": [
           {
            "marker": {
             "colorbar": {
              "outlinewidth": 0,
              "ticks": ""
             }
            },
            "type": "scatterpolar"
           }
          ],
          "scatterpolargl": [
           {
            "marker": {
             "colorbar": {
              "outlinewidth": 0,
              "ticks": ""
             }
            },
            "type": "scatterpolargl"
           }
          ],
          "scatterternary": [
           {
            "marker": {
             "colorbar": {
              "outlinewidth": 0,
              "ticks": ""
             }
            },
            "type": "scatterternary"
           }
          ],
          "surface": [
           {
            "colorbar": {
             "outlinewidth": 0,
             "ticks": ""
            },
            "colorscale": [
             [
              0,
              "#0d0887"
             ],
             [
              0.1111111111111111,
              "#46039f"
             ],
             [
              0.2222222222222222,
              "#7201a8"
             ],
             [
              0.3333333333333333,
              "#9c179e"
             ],
             [
              0.4444444444444444,
              "#bd3786"
             ],
             [
              0.5555555555555556,
              "#d8576b"
             ],
             [
              0.6666666666666666,
              "#ed7953"
             ],
             [
              0.7777777777777778,
              "#fb9f3a"
             ],
             [
              0.8888888888888888,
              "#fdca26"
             ],
             [
              1,
              "#f0f921"
             ]
            ],
            "type": "surface"
           }
          ],
          "table": [
           {
            "cells": {
             "fill": {
              "color": "#EBF0F8"
             },
             "line": {
              "color": "white"
             }
            },
            "header": {
             "fill": {
              "color": "#C8D4E3"
             },
             "line": {
              "color": "white"
             }
            },
            "type": "table"
           }
          ]
         },
         "layout": {
          "annotationdefaults": {
           "arrowcolor": "#2a3f5f",
           "arrowhead": 0,
           "arrowwidth": 1
          },
          "autotypenumbers": "strict",
          "coloraxis": {
           "colorbar": {
            "outlinewidth": 0,
            "ticks": ""
           }
          },
          "colorscale": {
           "diverging": [
            [
             0,
             "#8e0152"
            ],
            [
             0.1,
             "#c51b7d"
            ],
            [
             0.2,
             "#de77ae"
            ],
            [
             0.3,
             "#f1b6da"
            ],
            [
             0.4,
             "#fde0ef"
            ],
            [
             0.5,
             "#f7f7f7"
            ],
            [
             0.6,
             "#e6f5d0"
            ],
            [
             0.7,
             "#b8e186"
            ],
            [
             0.8,
             "#7fbc41"
            ],
            [
             0.9,
             "#4d9221"
            ],
            [
             1,
             "#276419"
            ]
           ],
           "sequential": [
            [
             0,
             "#0d0887"
            ],
            [
             0.1111111111111111,
             "#46039f"
            ],
            [
             0.2222222222222222,
             "#7201a8"
            ],
            [
             0.3333333333333333,
             "#9c179e"
            ],
            [
             0.4444444444444444,
             "#bd3786"
            ],
            [
             0.5555555555555556,
             "#d8576b"
            ],
            [
             0.6666666666666666,
             "#ed7953"
            ],
            [
             0.7777777777777778,
             "#fb9f3a"
            ],
            [
             0.8888888888888888,
             "#fdca26"
            ],
            [
             1,
             "#f0f921"
            ]
           ],
           "sequentialminus": [
            [
             0,
             "#0d0887"
            ],
            [
             0.1111111111111111,
             "#46039f"
            ],
            [
             0.2222222222222222,
             "#7201a8"
            ],
            [
             0.3333333333333333,
             "#9c179e"
            ],
            [
             0.4444444444444444,
             "#bd3786"
            ],
            [
             0.5555555555555556,
             "#d8576b"
            ],
            [
             0.6666666666666666,
             "#ed7953"
            ],
            [
             0.7777777777777778,
             "#fb9f3a"
            ],
            [
             0.8888888888888888,
             "#fdca26"
            ],
            [
             1,
             "#f0f921"
            ]
           ]
          },
          "colorway": [
           "#636efa",
           "#EF553B",
           "#00cc96",
           "#ab63fa",
           "#FFA15A",
           "#19d3f3",
           "#FF6692",
           "#B6E880",
           "#FF97FF",
           "#FECB52"
          ],
          "font": {
           "color": "#2a3f5f"
          },
          "geo": {
           "bgcolor": "white",
           "lakecolor": "white",
           "landcolor": "#E5ECF6",
           "showlakes": true,
           "showland": true,
           "subunitcolor": "white"
          },
          "hoverlabel": {
           "align": "left"
          },
          "hovermode": "closest",
          "mapbox": {
           "style": "light"
          },
          "paper_bgcolor": "white",
          "plot_bgcolor": "#E5ECF6",
          "polar": {
           "angularaxis": {
            "gridcolor": "white",
            "linecolor": "white",
            "ticks": ""
           },
           "bgcolor": "#E5ECF6",
           "radialaxis": {
            "gridcolor": "white",
            "linecolor": "white",
            "ticks": ""
           }
          },
          "scene": {
           "xaxis": {
            "backgroundcolor": "#E5ECF6",
            "gridcolor": "white",
            "gridwidth": 2,
            "linecolor": "white",
            "showbackground": true,
            "ticks": "",
            "zerolinecolor": "white"
           },
           "yaxis": {
            "backgroundcolor": "#E5ECF6",
            "gridcolor": "white",
            "gridwidth": 2,
            "linecolor": "white",
            "showbackground": true,
            "ticks": "",
            "zerolinecolor": "white"
           },
           "zaxis": {
            "backgroundcolor": "#E5ECF6",
            "gridcolor": "white",
            "gridwidth": 2,
            "linecolor": "white",
            "showbackground": true,
            "ticks": "",
            "zerolinecolor": "white"
           }
          },
          "shapedefaults": {
           "line": {
            "color": "#2a3f5f"
           }
          },
          "ternary": {
           "aaxis": {
            "gridcolor": "white",
            "linecolor": "white",
            "ticks": ""
           },
           "baxis": {
            "gridcolor": "white",
            "linecolor": "white",
            "ticks": ""
           },
           "bgcolor": "#E5ECF6",
           "caxis": {
            "gridcolor": "white",
            "linecolor": "white",
            "ticks": ""
           }
          },
          "title": {
           "x": 0.05
          },
          "xaxis": {
           "automargin": true,
           "gridcolor": "white",
           "linecolor": "white",
           "ticks": "",
           "title": {
            "standoff": 15
           },
           "zerolinecolor": "white",
           "zerolinewidth": 2
          },
          "yaxis": {
           "automargin": true,
           "gridcolor": "white",
           "linecolor": "white",
           "ticks": "",
           "title": {
            "standoff": 15
           },
           "zerolinecolor": "white",
           "zerolinewidth": 2
          }
         }
        },
        "title": {
         "text": "Loss by position on random repeated tokens"
        },
        "xaxis": {
         "anchor": "y",
         "autorange": true,
         "domain": [
          0,
          1
         ],
         "range": [
          0,
          100
         ],
         "title": {
          "text": "index"
         },
         "type": "linear"
        },
        "yaxis": {
         "anchor": "x",
         "autorange": true,
         "domain": [
          0,
          1
         ],
         "range": [
          -0.9942065633626449,
          19.180076054090428
         ],
         "title": {
          "text": "value"
         },
         "type": "linear"
        }
       }
      },
      "image/png": "[encoded data removed]",
      "text/html": [
       "<div>                            <div id=\"c37451d7-98c9-4417-a97d-511543bdb0f4\" class=\"plotly-graph-div\" style=\"height:525px; width:100%;\"></div>            <script type=\"text/javascript\">                require([\"plotly\"], function(Plotly) {                    window.PLOTLYENV=window.PLOTLYENV || {};                                    if (document.getElementById(\"c37451d7-98c9-4417-a97d-511543bdb0f4\")) {                    Plotly.newPlot(                        \"c37451d7-98c9-4417-a97d-511543bdb0f4\",                        [{\"hovertemplate\":\"variable=0\\u003cbr\\u003eindex=%{x}\\u003cbr\\u003evalue=%{y}\\u003cextra\\u003e\\u003c\\u002fextra\\u003e\",\"legendgroup\":\"0\",\"line\":{\"color\":\"#636efa\",\"dash\":\"solid\"},\"marker\":{\"symbol\":\"circle\"},\"mode\":\"lines\",\"name\":\"0\",\"orientation\":\"v\",\"showlegend\":true,\"x\":[0,1,2,3,4,5,6,7,8,9,10,11,12,13,14,15,16,17,18,19,20,21,22,23,24,25,26,27,28,29,30,31,32,33,34,35,36,37,38,39,40,41,42,43,44,45,46,47,48,49,50,51,52,53,54,55,56,57,58,59,60,61,62,63,64,65,66,67,68,69,70,71,72,73,74,75,76,77,78,79,80,81,82,83,84,85,86,87,88,89,90,91,92,93,94,95,96,97,98,99,100],\"xaxis\":\"x\",\"y\":[7.520276069641113,18.171361923217773,13.497304916381836,12.424068450927734,14.4744234085083,11.20516586303711,12.073960304260254,13.631689071655273,12.755325317382812,12.772019386291504,12.27999210357666,10.548490524291992,12.451101303100586,12.391267776489258,12.072280883789062,11.7648344039917,11.128229141235352,12.440829277038574,12.477807998657227,12.22075080871582,12.16342830657959,11.417108535766602,11.838510513305664,12.00836181640625,11.610468864440918,11.170648574829102,10.958261489868164,11.86220932006836,11.440221786499023,11.48244571685791,10.987344741821289,11.759045600891113,11.324456214904785,11.010339736938477,10.53256607055664,11.971522331237793,13.003642082214355,12.047137260437012,11.03085708618164,11.42070198059082,11.732573509216309,11.865031242370605,11.633569717407227,10.66132926940918,11.54334545135498,11.325876235961914,11.100842475891113,11.377335548400879,11.204431533813477,11.250231742858887,11.776954650878906,7.943837642669678,2.497581958770752,1.7766525745391846,0.8851200342178345,0.9898490905761719,0.8093792796134949,0.18946364521980286,0.20531268417835236,0.27353984117507935,0.1551700085401535,0.3222545087337494,0.03904508799314499,0.10637213289737701,0.032644130289554596,0.18943068385124207,0.12810160219669342,0.09384835511445999,0.039203137159347534,0.10905058681964874,0.048400841653347015,0.016000082716345787,0.06296615302562714,0.07671858370304108,0.07507941871881485,0.04325161874294281,0.01774655096232891,0.11770166456699371,0.02988606132566929,0.12243975698947906,0.01721971482038498,0.27892208099365234,0.027614016085863113,0.014507567510008812,0.02487746998667717,0.02107144147157669,0.04246126487851143,0.07800663262605667,0.058286815881729126,0.019737401977181435,0.06984195113182068,0.04817856103181839,0.0576949343085289,0.02779814973473549,0.0260610431432724,0.017605649307370186,0.4278249740600586,0.031065478920936584,0.07703830301761627,0.06418139487504959,0.02032032608985901],\"yaxis\":\"y\",\"type\":\"scatter\"}],                        {\"template\":{\"data\":{\"histogram2dcontour\":[{\"type\":\"histogram2dcontour\",\"colorbar\":{\"outlinewidth\":0,\"ticks\":\"\"},\"colorscale\":[[0.0,\"#0d0887\"],[0.1111111111111111,\"#46039f\"],[0.2222222222222222,\"#7201a8\"],[0.3333333333333333,\"#9c179e\"],[0.4444444444444444,\"#bd3786\"],[0.5555555555555556,\"#d8576b\"],[0.6666666666666666,\"#ed7953\"],[0.7777777777777778,\"#fb9f3a\"],[0.8888888888888888,\"#fdca26\"],[1.0,\"#f0f921\"]]}],\"choropleth\":[{\"type\":\"choropleth\",\"colorbar\":{\"outlinewidth\":0,\"ticks\":\"\"}}],\"histogram2d\":[{\"type\":\"histogram2d\",\"colorbar\":{\"outlinewidth\":0,\"ticks\":\"\"},\"colorscale\":[[0.0,\"#0d0887\"],[0.1111111111111111,\"#46039f\"],[0.2222222222222222,\"#7201a8\"],[0.3333333333333333,\"#9c179e\"],[0.4444444444444444,\"#bd3786\"],[0.5555555555555556,\"#d8576b\"],[0.6666666666666666,\"#ed7953\"],[0.7777777777777778,\"#fb9f3a\"],[0.8888888888888888,\"#fdca26\"],[1.0,\"#f0f921\"]]}],\"heatmap\":[{\"type\":\"heatmap\",\"colorbar\":{\"outlinewidth\":0,\"ticks\":\"\"},\"colorscale\":[[0.0,\"#0d0887\"],[0.1111111111111111,\"#46039f\"],[0.2222222222222222,\"#7201a8\"],[0.3333333333333333,\"#9c179e\"],[0.4444444444444444,\"#bd3786\"],[0.5555555555555556,\"#d8576b\"],[0.6666666666666666,\"#ed7953\"],[0.7777777777777778,\"#fb9f3a\"],[0.8888888888888888,\"#fdca26\"],[1.0,\"#f0f921\"]]}],\"heatmapgl\":[{\"type\":\"heatmapgl\",\"colorbar\":{\"outlinewidth\":0,\"ticks\":\"\"},\"colorscale\":[[0.0,\"#0d0887\"],[0.1111111111111111,\"#46039f\"],[0.2222222222222222,\"#7201a8\"],[0.3333333333333333,\"#9c179e\"],[0.4444444444444444,\"#bd3786\"],[0.5555555555555556,\"#d8576b\"],[0.6666666666666666,\"#ed7953\"],[0.7777777777777778,\"#fb9f3a\"],[0.8888888888888888,\"#fdca26\"],[1.0,\"#f0f921\"]]}],\"contourcarpet\":[{\"type\":\"contourcarpet\",\"colorbar\":{\"outlinewidth\":0,\"ticks\":\"\"}}],\"contour\":[{\"type\":\"contour\",\"colorbar\":{\"outlinewidth\":0,\"ticks\":\"\"},\"colorscale\":[[0.0,\"#0d0887\"],[0.1111111111111111,\"#46039f\"],[0.2222222222222222,\"#7201a8\"],[0.3333333333333333,\"#9c179e\"],[0.4444444444444444,\"#bd3786\"],[0.5555555555555556,\"#d8576b\"],[0.6666666666666666,\"#ed7953\"],[0.7777777777777778,\"#fb9f3a\"],[0.8888888888888888,\"#fdca26\"],[1.0,\"#f0f921\"]]}],\"surface\":[{\"type\":\"surface\",\"colorbar\":{\"outlinewidth\":0,\"ticks\":\"\"},\"colorscale\":[[0.0,\"#0d0887\"],[0.1111111111111111,\"#46039f\"],[0.2222222222222222,\"#7201a8\"],[0.3333333333333333,\"#9c179e\"],[0.4444444444444444,\"#bd3786\"],[0.5555555555555556,\"#d8576b\"],[0.6666666666666666,\"#ed7953\"],[0.7777777777777778,\"#fb9f3a\"],[0.8888888888888888,\"#fdca26\"],[1.0,\"#f0f921\"]]}],\"mesh3d\":[{\"type\":\"mesh3d\",\"colorbar\":{\"outlinewidth\":0,\"ticks\":\"\"}}],\"scatter\":[{\"fillpattern\":{\"fillmode\":\"overlay\",\"size\":10,\"solidity\":0.2},\"type\":\"scatter\"}],\"parcoords\":[{\"type\":\"parcoords\",\"line\":{\"colorbar\":{\"outlinewidth\":0,\"ticks\":\"\"}}}],\"scatterpolargl\":[{\"type\":\"scatterpolargl\",\"marker\":{\"colorbar\":{\"outlinewidth\":0,\"ticks\":\"\"}}}],\"bar\":[{\"error_x\":{\"color\":\"#2a3f5f\"},\"error_y\":{\"color\":\"#2a3f5f\"},\"marker\":{\"line\":{\"color\":\"#E5ECF6\",\"width\":0.5},\"pattern\":{\"fillmode\":\"overlay\",\"size\":10,\"solidity\":0.2}},\"type\":\"bar\"}],\"scattergeo\":[{\"type\":\"scattergeo\",\"marker\":{\"colorbar\":{\"outlinewidth\":0,\"ticks\":\"\"}}}],\"scatterpolar\":[{\"type\":\"scatterpolar\",\"marker\":{\"colorbar\":{\"outlinewidth\":0,\"ticks\":\"\"}}}],\"histogram\":[{\"marker\":{\"pattern\":{\"fillmode\":\"overlay\",\"size\":10,\"solidity\":0.2}},\"type\":\"histogram\"}],\"scattergl\":[{\"type\":\"scattergl\",\"marker\":{\"colorbar\":{\"outlinewidth\":0,\"ticks\":\"\"}}}],\"scatter3d\":[{\"type\":\"scatter3d\",\"line\":{\"colorbar\":{\"outlinewidth\":0,\"ticks\":\"\"}},\"marker\":{\"colorbar\":{\"outlinewidth\":0,\"ticks\":\"\"}}}],\"scattermapbox\":[{\"type\":\"scattermapbox\",\"marker\":{\"colorbar\":{\"outlinewidth\":0,\"ticks\":\"\"}}}],\"scatterternary\":[{\"type\":\"scatterternary\",\"marker\":{\"colorbar\":{\"outlinewidth\":0,\"ticks\":\"\"}}}],\"scattercarpet\":[{\"type\":\"scattercarpet\",\"marker\":{\"colorbar\":{\"outlinewidth\":0,\"ticks\":\"\"}}}],\"carpet\":[{\"aaxis\":{\"endlinecolor\":\"#2a3f5f\",\"gridcolor\":\"white\",\"linecolor\":\"white\",\"minorgridcolor\":\"white\",\"startlinecolor\":\"#2a3f5f\"},\"baxis\":{\"endlinecolor\":\"#2a3f5f\",\"gridcolor\":\"white\",\"linecolor\":\"white\",\"minorgridcolor\":\"white\",\"startlinecolor\":\"#2a3f5f\"},\"type\":\"carpet\"}],\"table\":[{\"cells\":{\"fill\":{\"color\":\"#EBF0F8\"},\"line\":{\"color\":\"white\"}},\"header\":{\"fill\":{\"color\":\"#C8D4E3\"},\"line\":{\"color\":\"white\"}},\"type\":\"table\"}],\"barpolar\":[{\"marker\":{\"line\":{\"color\":\"#E5ECF6\",\"width\":0.5},\"pattern\":{\"fillmode\":\"overlay\",\"size\":10,\"solidity\":0.2}},\"type\":\"barpolar\"}],\"pie\":[{\"automargin\":true,\"type\":\"pie\"}]},\"layout\":{\"autotypenumbers\":\"strict\",\"colorway\":[\"#636efa\",\"#EF553B\",\"#00cc96\",\"#ab63fa\",\"#FFA15A\",\"#19d3f3\",\"#FF6692\",\"#B6E880\",\"#FF97FF\",\"#FECB52\"],\"font\":{\"color\":\"#2a3f5f\"},\"hovermode\":\"closest\",\"hoverlabel\":{\"align\":\"left\"},\"paper_bgcolor\":\"white\",\"plot_bgcolor\":\"#E5ECF6\",\"polar\":{\"bgcolor\":\"#E5ECF6\",\"angularaxis\":{\"gridcolor\":\"white\",\"linecolor\":\"white\",\"ticks\":\"\"},\"radialaxis\":{\"gridcolor\":\"white\",\"linecolor\":\"white\",\"ticks\":\"\"}},\"ternary\":{\"bgcolor\":\"#E5ECF6\",\"aaxis\":{\"gridcolor\":\"white\",\"linecolor\":\"white\",\"ticks\":\"\"},\"baxis\":{\"gridcolor\":\"white\",\"linecolor\":\"white\",\"ticks\":\"\"},\"caxis\":{\"gridcolor\":\"white\",\"linecolor\":\"white\",\"ticks\":\"\"}},\"coloraxis\":{\"colorbar\":{\"outlinewidth\":0,\"ticks\":\"\"}},\"colorscale\":{\"sequential\":[[0.0,\"#0d0887\"],[0.1111111111111111,\"#46039f\"],[0.2222222222222222,\"#7201a8\"],[0.3333333333333333,\"#9c179e\"],[0.4444444444444444,\"#bd3786\"],[0.5555555555555556,\"#d8576b\"],[0.6666666666666666,\"#ed7953\"],[0.7777777777777778,\"#fb9f3a\"],[0.8888888888888888,\"#fdca26\"],[1.0,\"#f0f921\"]],\"sequentialminus\":[[0.0,\"#0d0887\"],[0.1111111111111111,\"#46039f\"],[0.2222222222222222,\"#7201a8\"],[0.3333333333333333,\"#9c179e\"],[0.4444444444444444,\"#bd3786\"],[0.5555555555555556,\"#d8576b\"],[0.6666666666666666,\"#ed7953\"],[0.7777777777777778,\"#fb9f3a\"],[0.8888888888888888,\"#fdca26\"],[1.0,\"#f0f921\"]],\"diverging\":[[0,\"#8e0152\"],[0.1,\"#c51b7d\"],[0.2,\"#de77ae\"],[0.3,\"#f1b6da\"],[0.4,\"#fde0ef\"],[0.5,\"#f7f7f7\"],[0.6,\"#e6f5d0\"],[0.7,\"#b8e186\"],[0.8,\"#7fbc41\"],[0.9,\"#4d9221\"],[1,\"#276419\"]]},\"xaxis\":{\"gridcolor\":\"white\",\"linecolor\":\"white\",\"ticks\":\"\",\"title\":{\"standoff\":15},\"zerolinecolor\":\"white\",\"automargin\":true,\"zerolinewidth\":2},\"yaxis\":{\"gridcolor\":\"white\",\"linecolor\":\"white\",\"ticks\":\"\",\"title\":{\"standoff\":15},\"zerolinecolor\":\"white\",\"automargin\":true,\"zerolinewidth\":2},\"scene\":{\"xaxis\":{\"backgroundcolor\":\"#E5ECF6\",\"gridcolor\":\"white\",\"linecolor\":\"white\",\"showbackground\":true,\"ticks\":\"\",\"zerolinecolor\":\"white\",\"gridwidth\":2},\"yaxis\":{\"backgroundcolor\":\"#E5ECF6\",\"gridcolor\":\"white\",\"linecolor\":\"white\",\"showbackground\":true,\"ticks\":\"\",\"zerolinecolor\":\"white\",\"gridwidth\":2},\"zaxis\":{\"backgroundcolor\":\"#E5ECF6\",\"gridcolor\":\"white\",\"linecolor\":\"white\",\"showbackground\":true,\"ticks\":\"\",\"zerolinecolor\":\"white\",\"gridwidth\":2}},\"shapedefaults\":{\"line\":{\"color\":\"#2a3f5f\"}},\"annotationdefaults\":{\"arrowcolor\":\"#2a3f5f\",\"arrowhead\":0,\"arrowwidth\":1},\"geo\":{\"bgcolor\":\"white\",\"landcolor\":\"#E5ECF6\",\"subunitcolor\":\"white\",\"showland\":true,\"showlakes\":true,\"lakecolor\":\"white\"},\"title\":{\"x\":0.05},\"mapbox\":{\"style\":\"light\"}}},\"xaxis\":{\"anchor\":\"y\",\"domain\":[0.0,1.0],\"title\":{\"text\":\"index\"}},\"yaxis\":{\"anchor\":\"x\",\"domain\":[0.0,1.0],\"title\":{\"text\":\"value\"}},\"legend\":{\"title\":{\"text\":\"variable\"},\"tracegroupgap\":0},\"title\":{\"text\":\"Loss by position on random repeated tokens\"}},                        {\"responsive\": true}                    ).then(function(){\n",
       "                            \n",
       "var gd = document.getElementById('c37451d7-98c9-4417-a97d-511543bdb0f4');\n",
       "var x = new MutationObserver(function (mutations, observer) {{\n",
       "        var display = window.getComputedStyle(gd).display;\n",
       "        if (!display || display === 'none') {{\n",
       "            console.log([gd, 'removed!']);\n",
       "            Plotly.purge(gd);\n",
       "            observer.disconnect();\n",
       "        }}\n",
       "}});\n",
       "\n",
       "// Listen for the removal of the full notebook cells\n",
       "var notebookContainer = gd.closest('#notebook-container');\n",
       "if (notebookContainer) {{\n",
       "    x.observe(notebookContainer, {childList: true});\n",
       "}}\n",
       "\n",
       "// Listen for the clearing of the current output cell\n",
       "var outputEl = gd.closest('.output');\n",
       "if (outputEl) {{\n",
       "    x.observe(outputEl, {childList: true});\n",
       "}}\n",
       "\n",
       "                        })                };                });            </script>        </div>"
      ]
     },
     "metadata": {},
     "output_type": "display_data"
    }
   ],
   "source": [
    "batch_size = 10\n",
    "seq_len = 50\n",
    "random_tokens = torch.randint(1000, 10000, (batch_size, seq_len))\n",
    "repeated_tokens = einops.repeat(random_tokens, \"batch seq_len -> batch (2 seq_len)\")\n",
    "\n",
    "with model.generate(max_new_tokens=1) as generator:\n",
    "    with generator.invoke(repeated_tokens) as invoker:\n",
    "        token_ids = invoker.ids\n",
    "        logits = model.lm_head.output.save()\n",
    "\n",
    "loss = cross_entropy_loss(logits.value, token_ids, shift=True, avg_token=False)\n",
    "line(loss, xaxis=\"Position\", yaxis=\"Loss\", title=\"Loss by position on random repeated tokens\")"
   ]
  },
  {
   "cell_type": "markdown",
   "id": "25335569-0e2d-4ca1-8881-0e5efd7ff5ab",
   "metadata": {},
   "source": [
    "The induction heads will be attending from the second occurence of each token to the token *after* its first occurence, ie the token `50-1==49` places back. So by looking at the average attention paid 49 tokens back, we can identify induction heads!"
   ]
  },
  {
   "cell_type": "code",
   "execution_count": 62,
   "id": "7773efc1-d155-48b8-a670-e6cf3f08c518",
   "metadata": {},
   "outputs": [
    {
     "name": "stderr",
     "output_type": "stream",
     "text": [
      "Setting `pad_token_id` to `eos_token_id`:50256 for open-end generation.\n"
     ]
    },
    {
     "data": {
      "application/vnd.plotly.v1+json": {
       "config": {
        "plotlyServerURL": "https://plot.ly"
       },
       "data": [
        {
         "coloraxis": "coloraxis",
         "hovertemplate": "Head: %{x}<br>Layer: %{y}<br>color: %{z}<extra></extra>",
         "name": "0",
         "type": "heatmap",
         "xaxis": "x",
         "yaxis": "y",
         "z": [
          [
           0.010644598864018917,
           7.506298425141722e-05,
           0.012874113395810127,
           6.228273150554742e-07,
           0.00015672080917283893,
           6.097018558648415e-05,
           0.009578149765729904,
           0.0008032007026486099,
           0.01016517449170351,
           0.010066043585538864,
           0.0071393754333257675,
           0.0153835853561759
          ],
          [
           0.0006817409885115921,
           0.0007190994219854474,
           0.002236858708783984,
           0.013800212182104588,
           0.005181352142244577,
           0.011266229674220085,
           0.015674423426389694,
           0.013989025726914406,
           0.013131012208759785,
           0.01567750610411167,
           0.006619187071919441,
           0.0007196832448244095
          ],
          [
           0.004441557917743921,
           0.01721891388297081,
           0.0012511799577623606,
           0.0012029166100546718,
           0.011060471646487713,
           0.0019191341707482934,
           0.004099661950021982,
           0.00834808312356472,
           0.003943333867937326,
           0.0012783696874976158,
           0.0007451969431713223,
           0.010547594167292118
          ],
          [
           0.014649874530732632,
           0.006425673607736826,
           0.0026696056593209505,
           0.010707917623221874,
           0.021759558469057083,
           0.011406095698475838,
           0.0018457218538969755,
           0.0018812407506629825,
           0.005898785777390003,
           0.011317204684019089,
           0.009286010637879372,
           0.005125267896801233
          ],
          [
           0.01456155814230442,
           0.013617308810353279,
           0.013357553631067276,
           0.008947165682911873,
           0.017522113397717476,
           0.012877476401627064,
           0.00933864526450634,
           0.0026665888726711273,
           0.018157511949539185,
           0.013997276313602924,
           0.018676962703466415,
           5.9180451650320265e-09
          ],
          [
           0.3385971784591675,
           0.6183175444602966,
           0.01563093438744545,
           0.008072872646152973,
           0.012700242921710014,
           0.6307479739189148,
           0.010789074935019016,
           0.01765800267457962,
           0.024814898148179054,
           0.027116015553474426,
           0.0186204444617033,
           0.016887687146663666
          ],
          [
           0.00749125424772501,
           0.016641436144709587,
           0.01819198951125145,
           0.013856582343578339,
           0.02242836356163025,
           0.011539880186319351,
           0.027765139937400818,
           0.0105219054967165,
           0.009623119607567787,
           0.6151376366615295,
           0.035217106342315674,
           0.013523183763027191
          ],
          [
           0.010239115916192532,
           0.16933543980121613,
           0.5668875575065613,
           0.015996338799595833,
           0.017235513776540756,
           0.015828268602490425,
           0.03377757593989372,
           0.11489279568195343,
           0.01658252440392971,
           0.017929233610630035,
           0.6166030764579773,
           0.043612126260995865
          ],
          [
           0.01569136418402195,
           0.27201226353645325,
           0.012561526149511337,
           0.036962930113077164,
           0.015745574608445168,
           0.011386202648282051,
           0.1020636036992073,
           0.012961916625499725,
           0.021630970761179924,
           0.023959187790751457,
           0.05041565001010895,
           0.014719687402248383
          ],
          [
           0.17083311080932617,
           0.1252754032611847,
           0.07405753433704376,
           0.011275727301836014,
           0.05739440768957138,
           0.024041583761572838,
           0.32096466422080994,
           0.026014983654022217,
           0.03963588550686836,
           0.31207987666130066,
           0.015971548855304718,
           0.034567397087812424
          ],
          [
           0.2540520131587982,
           0.3496832847595215,
           0.030659904703497887,
           0.10230519622564316,
           0.04432953521609306,
           0.014066246338188648,
           0.20998789370059967,
           0.3005432188510895,
           0.040769122540950775,
           0.015660947188735008,
           0.11073452979326248,
           0.1828637570142746
          ],
          [
           0.015462205745279789,
           0.040037114173173904,
           0.02905525453388691,
           0.007521818391978741,
           0.025698918849229813,
           0.07117996364831924,
           0.03966881334781647,
           0.04910675063729286,
           0.00873611681163311,
           0.2155551016330719,
           0.2636629045009613,
           0.015266265720129013
          ]
         ]
        }
       ],
       "layout": {
        "autosize": true,
        "coloraxis": {
         "cmid": 0,
         "colorscale": [
          [
           0,
           "rgb(103,0,31)"
          ],
          [
           0.1,
           "rgb(178,24,43)"
          ],
          [
           0.2,
           "rgb(214,96,77)"
          ],
          [
           0.3,
           "rgb(244,165,130)"
          ],
          [
           0.4,
           "rgb(253,219,199)"
          ],
          [
           0.5,
           "rgb(247,247,247)"
          ],
          [
           0.6,
           "rgb(209,229,240)"
          ],
          [
           0.7,
           "rgb(146,197,222)"
          ],
          [
           0.8,
           "rgb(67,147,195)"
          ],
          [
           0.9,
           "rgb(33,102,172)"
          ],
          [
           1,
           "rgb(5,48,97)"
          ]
         ]
        },
        "template": {
         "data": {
          "bar": [
           {
            "error_x": {
             "color": "#2a3f5f"
            },
            "error_y": {
             "color": "#2a3f5f"
            },
            "marker": {
             "line": {
              "color": "#E5ECF6",
              "width": 0.5
             },
             "pattern": {
              "fillmode": "overlay",
              "size": 10,
              "solidity": 0.2
             }
            },
            "type": "bar"
           }
          ],
          "barpolar": [
           {
            "marker": {
             "line": {
              "color": "#E5ECF6",
              "width": 0.5
             },
             "pattern": {
              "fillmode": "overlay",
              "size": 10,
              "solidity": 0.2
             }
            },
            "type": "barpolar"
           }
          ],
          "carpet": [
           {
            "aaxis": {
             "endlinecolor": "#2a3f5f",
             "gridcolor": "white",
             "linecolor": "white",
             "minorgridcolor": "white",
             "startlinecolor": "#2a3f5f"
            },
            "baxis": {
             "endlinecolor": "#2a3f5f",
             "gridcolor": "white",
             "linecolor": "white",
             "minorgridcolor": "white",
             "startlinecolor": "#2a3f5f"
            },
            "type": "carpet"
           }
          ],
          "choropleth": [
           {
            "colorbar": {
             "outlinewidth": 0,
             "ticks": ""
            },
            "type": "choropleth"
           }
          ],
          "contour": [
           {
            "colorbar": {
             "outlinewidth": 0,
             "ticks": ""
            },
            "colorscale": [
             [
              0,
              "#0d0887"
             ],
             [
              0.1111111111111111,
              "#46039f"
             ],
             [
              0.2222222222222222,
              "#7201a8"
             ],
             [
              0.3333333333333333,
              "#9c179e"
             ],
             [
              0.4444444444444444,
              "#bd3786"
             ],
             [
              0.5555555555555556,
              "#d8576b"
             ],
             [
              0.6666666666666666,
              "#ed7953"
             ],
             [
              0.7777777777777778,
              "#fb9f3a"
             ],
             [
              0.8888888888888888,
              "#fdca26"
             ],
             [
              1,
              "#f0f921"
             ]
            ],
            "type": "contour"
           }
          ],
          "contourcarpet": [
           {
            "colorbar": {
             "outlinewidth": 0,
             "ticks": ""
            },
            "type": "contourcarpet"
           }
          ],
          "heatmap": [
           {
            "colorbar": {
             "outlinewidth": 0,
             "ticks": ""
            },
            "colorscale": [
             [
              0,
              "#0d0887"
             ],
             [
              0.1111111111111111,
              "#46039f"
             ],
             [
              0.2222222222222222,
              "#7201a8"
             ],
             [
              0.3333333333333333,
              "#9c179e"
             ],
             [
              0.4444444444444444,
              "#bd3786"
             ],
             [
              0.5555555555555556,
              "#d8576b"
             ],
             [
              0.6666666666666666,
              "#ed7953"
             ],
             [
              0.7777777777777778,
              "#fb9f3a"
             ],
             [
              0.8888888888888888,
              "#fdca26"
             ],
             [
              1,
              "#f0f921"
             ]
            ],
            "type": "heatmap"
           }
          ],
          "heatmapgl": [
           {
            "colorbar": {
             "outlinewidth": 0,
             "ticks": ""
            },
            "colorscale": [
             [
              0,
              "#0d0887"
             ],
             [
              0.1111111111111111,
              "#46039f"
             ],
             [
              0.2222222222222222,
              "#7201a8"
             ],
             [
              0.3333333333333333,
              "#9c179e"
             ],
             [
              0.4444444444444444,
              "#bd3786"
             ],
             [
              0.5555555555555556,
              "#d8576b"
             ],
             [
              0.6666666666666666,
              "#ed7953"
             ],
             [
              0.7777777777777778,
              "#fb9f3a"
             ],
             [
              0.8888888888888888,
              "#fdca26"
             ],
             [
              1,
              "#f0f921"
             ]
            ],
            "type": "heatmapgl"
           }
          ],
          "histogram": [
           {
            "marker": {
             "pattern": {
              "fillmode": "overlay",
              "size": 10,
              "solidity": 0.2
             }
            },
            "type": "histogram"
           }
          ],
          "histogram2d": [
           {
            "colorbar": {
             "outlinewidth": 0,
             "ticks": ""
            },
            "colorscale": [
             [
              0,
              "#0d0887"
             ],
             [
              0.1111111111111111,
              "#46039f"
             ],
             [
              0.2222222222222222,
              "#7201a8"
             ],
             [
              0.3333333333333333,
              "#9c179e"
             ],
             [
              0.4444444444444444,
              "#bd3786"
             ],
             [
              0.5555555555555556,
              "#d8576b"
             ],
             [
              0.6666666666666666,
              "#ed7953"
             ],
             [
              0.7777777777777778,
              "#fb9f3a"
             ],
             [
              0.8888888888888888,
              "#fdca26"
             ],
             [
              1,
              "#f0f921"
             ]
            ],
            "type": "histogram2d"
           }
          ],
          "histogram2dcontour": [
           {
            "colorbar": {
             "outlinewidth": 0,
             "ticks": ""
            },
            "colorscale": [
             [
              0,
              "#0d0887"
             ],
             [
              0.1111111111111111,
              "#46039f"
             ],
             [
              0.2222222222222222,
              "#7201a8"
             ],
             [
              0.3333333333333333,
              "#9c179e"
             ],
             [
              0.4444444444444444,
              "#bd3786"
             ],
             [
              0.5555555555555556,
              "#d8576b"
             ],
             [
              0.6666666666666666,
              "#ed7953"
             ],
             [
              0.7777777777777778,
              "#fb9f3a"
             ],
             [
              0.8888888888888888,
              "#fdca26"
             ],
             [
              1,
              "#f0f921"
             ]
            ],
            "type": "histogram2dcontour"
           }
          ],
          "mesh3d": [
           {
            "colorbar": {
             "outlinewidth": 0,
             "ticks": ""
            },
            "type": "mesh3d"
           }
          ],
          "parcoords": [
           {
            "line": {
             "colorbar": {
              "outlinewidth": 0,
              "ticks": ""
             }
            },
            "type": "parcoords"
           }
          ],
          "pie": [
           {
            "automargin": true,
            "type": "pie"
           }
          ],
          "scatter": [
           {
            "fillpattern": {
             "fillmode": "overlay",
             "size": 10,
             "solidity": 0.2
            },
            "type": "scatter"
           }
          ],
          "scatter3d": [
           {
            "line": {
             "colorbar": {
              "outlinewidth": 0,
              "ticks": ""
             }
            },
            "marker": {
             "colorbar": {
              "outlinewidth": 0,
              "ticks": ""
             }
            },
            "type": "scatter3d"
           }
          ],
          "scattercarpet": [
           {
            "marker": {
             "colorbar": {
              "outlinewidth": 0,
              "ticks": ""
             }
            },
            "type": "scattercarpet"
           }
          ],
          "scattergeo": [
           {
            "marker": {
             "colorbar": {
              "outlinewidth": 0,
              "ticks": ""
             }
            },
            "type": "scattergeo"
           }
          ],
          "scattergl": [
           {
            "marker": {
             "colorbar": {
              "outlinewidth": 0,
              "ticks": ""
             }
            },
            "type": "scattergl"
           }
          ],
          "scattermapbox": [
           {
            "marker": {
             "colorbar": {
              "outlinewidth": 0,
              "ticks": ""
             }
            },
            "type": "scattermapbox"
           }
          ],
          "scatterpolar": [
           {
            "marker": {
             "colorbar": {
              "outlinewidth": 0,
              "ticks": ""
             }
            },
            "type": "scatterpolar"
           }
          ],
          "scatterpolargl": [
           {
            "marker": {
             "colorbar": {
              "outlinewidth": 0,
              "ticks": ""
             }
            },
            "type": "scatterpolargl"
           }
          ],
          "scatterternary": [
           {
            "marker": {
             "colorbar": {
              "outlinewidth": 0,
              "ticks": ""
             }
            },
            "type": "scatterternary"
           }
          ],
          "surface": [
           {
            "colorbar": {
             "outlinewidth": 0,
             "ticks": ""
            },
            "colorscale": [
             [
              0,
              "#0d0887"
             ],
             [
              0.1111111111111111,
              "#46039f"
             ],
             [
              0.2222222222222222,
              "#7201a8"
             ],
             [
              0.3333333333333333,
              "#9c179e"
             ],
             [
              0.4444444444444444,
              "#bd3786"
             ],
             [
              0.5555555555555556,
              "#d8576b"
             ],
             [
              0.6666666666666666,
              "#ed7953"
             ],
             [
              0.7777777777777778,
              "#fb9f3a"
             ],
             [
              0.8888888888888888,
              "#fdca26"
             ],
             [
              1,
              "#f0f921"
             ]
            ],
            "type": "surface"
           }
          ],
          "table": [
           {
            "cells": {
             "fill": {
              "color": "#EBF0F8"
             },
             "line": {
              "color": "white"
             }
            },
            "header": {
             "fill": {
              "color": "#C8D4E3"
             },
             "line": {
              "color": "white"
             }
            },
            "type": "table"
           }
          ]
         },
         "layout": {
          "annotationdefaults": {
           "arrowcolor": "#2a3f5f",
           "arrowhead": 0,
           "arrowwidth": 1
          },
          "autotypenumbers": "strict",
          "coloraxis": {
           "colorbar": {
            "outlinewidth": 0,
            "ticks": ""
           }
          },
          "colorscale": {
           "diverging": [
            [
             0,
             "#8e0152"
            ],
            [
             0.1,
             "#c51b7d"
            ],
            [
             0.2,
             "#de77ae"
            ],
            [
             0.3,
             "#f1b6da"
            ],
            [
             0.4,
             "#fde0ef"
            ],
            [
             0.5,
             "#f7f7f7"
            ],
            [
             0.6,
             "#e6f5d0"
            ],
            [
             0.7,
             "#b8e186"
            ],
            [
             0.8,
             "#7fbc41"
            ],
            [
             0.9,
             "#4d9221"
            ],
            [
             1,
             "#276419"
            ]
           ],
           "sequential": [
            [
             0,
             "#0d0887"
            ],
            [
             0.1111111111111111,
             "#46039f"
            ],
            [
             0.2222222222222222,
             "#7201a8"
            ],
            [
             0.3333333333333333,
             "#9c179e"
            ],
            [
             0.4444444444444444,
             "#bd3786"
            ],
            [
             0.5555555555555556,
             "#d8576b"
            ],
            [
             0.6666666666666666,
             "#ed7953"
            ],
            [
             0.7777777777777778,
             "#fb9f3a"
            ],
            [
             0.8888888888888888,
             "#fdca26"
            ],
            [
             1,
             "#f0f921"
            ]
           ],
           "sequentialminus": [
            [
             0,
             "#0d0887"
            ],
            [
             0.1111111111111111,
             "#46039f"
            ],
            [
             0.2222222222222222,
             "#7201a8"
            ],
            [
             0.3333333333333333,
             "#9c179e"
            ],
            [
             0.4444444444444444,
             "#bd3786"
            ],
            [
             0.5555555555555556,
             "#d8576b"
            ],
            [
             0.6666666666666666,
             "#ed7953"
            ],
            [
             0.7777777777777778,
             "#fb9f3a"
            ],
            [
             0.8888888888888888,
             "#fdca26"
            ],
            [
             1,
             "#f0f921"
            ]
           ]
          },
          "colorway": [
           "#636efa",
           "#EF553B",
           "#00cc96",
           "#ab63fa",
           "#FFA15A",
           "#19d3f3",
           "#FF6692",
           "#B6E880",
           "#FF97FF",
           "#FECB52"
          ],
          "font": {
           "color": "#2a3f5f"
          },
          "geo": {
           "bgcolor": "white",
           "lakecolor": "white",
           "landcolor": "#E5ECF6",
           "showlakes": true,
           "showland": true,
           "subunitcolor": "white"
          },
          "hoverlabel": {
           "align": "left"
          },
          "hovermode": "closest",
          "mapbox": {
           "style": "light"
          },
          "paper_bgcolor": "white",
          "plot_bgcolor": "#E5ECF6",
          "polar": {
           "angularaxis": {
            "gridcolor": "white",
            "linecolor": "white",
            "ticks": ""
           },
           "bgcolor": "#E5ECF6",
           "radialaxis": {
            "gridcolor": "white",
            "linecolor": "white",
            "ticks": ""
           }
          },
          "scene": {
           "xaxis": {
            "backgroundcolor": "#E5ECF6",
            "gridcolor": "white",
            "gridwidth": 2,
            "linecolor": "white",
            "showbackground": true,
            "ticks": "",
            "zerolinecolor": "white"
           },
           "yaxis": {
            "backgroundcolor": "#E5ECF6",
            "gridcolor": "white",
            "gridwidth": 2,
            "linecolor": "white",
            "showbackground": true,
            "ticks": "",
            "zerolinecolor": "white"
           },
           "zaxis": {
            "backgroundcolor": "#E5ECF6",
            "gridcolor": "white",
            "gridwidth": 2,
            "linecolor": "white",
            "showbackground": true,
            "ticks": "",
            "zerolinecolor": "white"
           }
          },
          "shapedefaults": {
           "line": {
            "color": "#2a3f5f"
           }
          },
          "ternary": {
           "aaxis": {
            "gridcolor": "white",
            "linecolor": "white",
            "ticks": ""
           },
           "baxis": {
            "gridcolor": "white",
            "linecolor": "white",
            "ticks": ""
           },
           "bgcolor": "#E5ECF6",
           "caxis": {
            "gridcolor": "white",
            "linecolor": "white",
            "ticks": ""
           }
          },
          "title": {
           "x": 0.05
          },
          "xaxis": {
           "automargin": true,
           "gridcolor": "white",
           "linecolor": "white",
           "ticks": "",
           "title": {
            "standoff": 15
           },
           "zerolinecolor": "white",
           "zerolinewidth": 2
          },
          "yaxis": {
           "automargin": true,
           "gridcolor": "white",
           "linecolor": "white",
           "ticks": "",
           "title": {
            "standoff": 15
           },
           "zerolinecolor": "white",
           "zerolinewidth": 2
          }
         }
        },
        "title": {
         "text": "Induction Score by Head"
        },
        "xaxis": {
         "anchor": "y",
         "autorange": true,
         "constrain": "domain",
         "domain": [
          0.43044822256568777,
          0.5695517774343122
         ],
         "range": [
          -0.5,
          11.5
         ],
         "scaleanchor": "y",
         "title": {
          "text": "Head"
         }
        },
        "yaxis": {
         "anchor": "x",
         "autorange": true,
         "constrain": "domain",
         "domain": [
          0,
          1
         ],
         "range": [
          11.5,
          -0.5
         ],
         "title": {
          "text": "Layer"
         }
        }
       }
      },
      "image/png": "[encoded data removed]",
      "text/html": [
       "<div>                            <div id=\"d949a289-e1df-4331-9632-2685fdb6304c\" class=\"plotly-graph-div\" style=\"height:525px; width:100%;\"></div>            <script type=\"text/javascript\">                require([\"plotly\"], function(Plotly) {                    window.PLOTLYENV=window.PLOTLYENV || {};                                    if (document.getElementById(\"d949a289-e1df-4331-9632-2685fdb6304c\")) {                    Plotly.newPlot(                        \"d949a289-e1df-4331-9632-2685fdb6304c\",                        [{\"coloraxis\":\"coloraxis\",\"name\":\"0\",\"z\":[[0.010644598864018917,7.506298425141722e-05,0.012874113395810127,6.228273150554742e-07,0.00015672080917283893,6.097018558648415e-05,0.009578149765729904,0.0008032007026486099,0.01016517449170351,0.010066043585538864,0.0071393754333257675,0.0153835853561759],[0.0006817409885115921,0.0007190994219854474,0.002236858708783984,0.013800212182104588,0.005181352142244577,0.011266229674220085,0.015674423426389694,0.013989025726914406,0.013131012208759785,0.01567750610411167,0.006619187071919441,0.0007196832448244095],[0.004441557917743921,0.01721891388297081,0.0012511799577623606,0.0012029166100546718,0.011060471646487713,0.0019191341707482934,0.004099661950021982,0.00834808312356472,0.003943333867937326,0.0012783696874976158,0.0007451969431713223,0.010547594167292118],[0.014649874530732632,0.006425673607736826,0.0026696056593209505,0.010707917623221874,0.021759558469057083,0.011406095698475838,0.0018457218538969755,0.0018812407506629825,0.005898785777390003,0.011317204684019089,0.009286010637879372,0.005125267896801233],[0.01456155814230442,0.013617308810353279,0.013357553631067276,0.008947165682911873,0.017522113397717476,0.012877476401627064,0.00933864526450634,0.0026665888726711273,0.018157511949539185,0.013997276313602924,0.018676962703466415,5.9180451650320265e-09],[0.3385971784591675,0.6183175444602966,0.01563093438744545,0.008072872646152973,0.012700242921710014,0.6307479739189148,0.010789074935019016,0.01765800267457962,0.024814898148179054,0.027116015553474426,0.0186204444617033,0.016887687146663666],[0.00749125424772501,0.016641436144709587,0.01819198951125145,0.013856582343578339,0.02242836356163025,0.011539880186319351,0.027765139937400818,0.0105219054967165,0.009623119607567787,0.6151376366615295,0.035217106342315674,0.013523183763027191],[0.010239115916192532,0.16933543980121613,0.5668875575065613,0.015996338799595833,0.017235513776540756,0.015828268602490425,0.03377757593989372,0.11489279568195343,0.01658252440392971,0.017929233610630035,0.6166030764579773,0.043612126260995865],[0.01569136418402195,0.27201226353645325,0.012561526149511337,0.036962930113077164,0.015745574608445168,0.011386202648282051,0.1020636036992073,0.012961916625499725,0.021630970761179924,0.023959187790751457,0.05041565001010895,0.014719687402248383],[0.17083311080932617,0.1252754032611847,0.07405753433704376,0.011275727301836014,0.05739440768957138,0.024041583761572838,0.32096466422080994,0.026014983654022217,0.03963588550686836,0.31207987666130066,0.015971548855304718,0.034567397087812424],[0.2540520131587982,0.3496832847595215,0.030659904703497887,0.10230519622564316,0.04432953521609306,0.014066246338188648,0.20998789370059967,0.3005432188510895,0.040769122540950775,0.015660947188735008,0.11073452979326248,0.1828637570142746],[0.015462205745279789,0.040037114173173904,0.02905525453388691,0.007521818391978741,0.025698918849229813,0.07117996364831924,0.03966881334781647,0.04910675063729286,0.00873611681163311,0.2155551016330719,0.2636629045009613,0.015266265720129013]],\"type\":\"heatmap\",\"xaxis\":\"x\",\"yaxis\":\"y\",\"hovertemplate\":\"Head: %{x}\\u003cbr\\u003eLayer: %{y}\\u003cbr\\u003ecolor: %{z}\\u003cextra\\u003e\\u003c\\u002fextra\\u003e\"}],                        {\"template\":{\"data\":{\"histogram2dcontour\":[{\"type\":\"histogram2dcontour\",\"colorbar\":{\"outlinewidth\":0,\"ticks\":\"\"},\"colorscale\":[[0.0,\"#0d0887\"],[0.1111111111111111,\"#46039f\"],[0.2222222222222222,\"#7201a8\"],[0.3333333333333333,\"#9c179e\"],[0.4444444444444444,\"#bd3786\"],[0.5555555555555556,\"#d8576b\"],[0.6666666666666666,\"#ed7953\"],[0.7777777777777778,\"#fb9f3a\"],[0.8888888888888888,\"#fdca26\"],[1.0,\"#f0f921\"]]}],\"choropleth\":[{\"type\":\"choropleth\",\"colorbar\":{\"outlinewidth\":0,\"ticks\":\"\"}}],\"histogram2d\":[{\"type\":\"histogram2d\",\"colorbar\":{\"outlinewidth\":0,\"ticks\":\"\"},\"colorscale\":[[0.0,\"#0d0887\"],[0.1111111111111111,\"#46039f\"],[0.2222222222222222,\"#7201a8\"],[0.3333333333333333,\"#9c179e\"],[0.4444444444444444,\"#bd3786\"],[0.5555555555555556,\"#d8576b\"],[0.6666666666666666,\"#ed7953\"],[0.7777777777777778,\"#fb9f3a\"],[0.8888888888888888,\"#fdca26\"],[1.0,\"#f0f921\"]]}],\"heatmap\":[{\"type\":\"heatmap\",\"colorbar\":{\"outlinewidth\":0,\"ticks\":\"\"},\"colorscale\":[[0.0,\"#0d0887\"],[0.1111111111111111,\"#46039f\"],[0.2222222222222222,\"#7201a8\"],[0.3333333333333333,\"#9c179e\"],[0.4444444444444444,\"#bd3786\"],[0.5555555555555556,\"#d8576b\"],[0.6666666666666666,\"#ed7953\"],[0.7777777777777778,\"#fb9f3a\"],[0.8888888888888888,\"#fdca26\"],[1.0,\"#f0f921\"]]}],\"heatmapgl\":[{\"type\":\"heatmapgl\",\"colorbar\":{\"outlinewidth\":0,\"ticks\":\"\"},\"colorscale\":[[0.0,\"#0d0887\"],[0.1111111111111111,\"#46039f\"],[0.2222222222222222,\"#7201a8\"],[0.3333333333333333,\"#9c179e\"],[0.4444444444444444,\"#bd3786\"],[0.5555555555555556,\"#d8576b\"],[0.6666666666666666,\"#ed7953\"],[0.7777777777777778,\"#fb9f3a\"],[0.8888888888888888,\"#fdca26\"],[1.0,\"#f0f921\"]]}],\"contourcarpet\":[{\"type\":\"contourcarpet\",\"colorbar\":{\"outlinewidth\":0,\"ticks\":\"\"}}],\"contour\":[{\"type\":\"contour\",\"colorbar\":{\"outlinewidth\":0,\"ticks\":\"\"},\"colorscale\":[[0.0,\"#0d0887\"],[0.1111111111111111,\"#46039f\"],[0.2222222222222222,\"#7201a8\"],[0.3333333333333333,\"#9c179e\"],[0.4444444444444444,\"#bd3786\"],[0.5555555555555556,\"#d8576b\"],[0.6666666666666666,\"#ed7953\"],[0.7777777777777778,\"#fb9f3a\"],[0.8888888888888888,\"#fdca26\"],[1.0,\"#f0f921\"]]}],\"surface\":[{\"type\":\"surface\",\"colorbar\":{\"outlinewidth\":0,\"ticks\":\"\"},\"colorscale\":[[0.0,\"#0d0887\"],[0.1111111111111111,\"#46039f\"],[0.2222222222222222,\"#7201a8\"],[0.3333333333333333,\"#9c179e\"],[0.4444444444444444,\"#bd3786\"],[0.5555555555555556,\"#d8576b\"],[0.6666666666666666,\"#ed7953\"],[0.7777777777777778,\"#fb9f3a\"],[0.8888888888888888,\"#fdca26\"],[1.0,\"#f0f921\"]]}],\"mesh3d\":[{\"type\":\"mesh3d\",\"colorbar\":{\"outlinewidth\":0,\"ticks\":\"\"}}],\"scatter\":[{\"fillpattern\":{\"fillmode\":\"overlay\",\"size\":10,\"solidity\":0.2},\"type\":\"scatter\"}],\"parcoords\":[{\"type\":\"parcoords\",\"line\":{\"colorbar\":{\"outlinewidth\":0,\"ticks\":\"\"}}}],\"scatterpolargl\":[{\"type\":\"scatterpolargl\",\"marker\":{\"colorbar\":{\"outlinewidth\":0,\"ticks\":\"\"}}}],\"bar\":[{\"error_x\":{\"color\":\"#2a3f5f\"},\"error_y\":{\"color\":\"#2a3f5f\"},\"marker\":{\"line\":{\"color\":\"#E5ECF6\",\"width\":0.5},\"pattern\":{\"fillmode\":\"overlay\",\"size\":10,\"solidity\":0.2}},\"type\":\"bar\"}],\"scattergeo\":[{\"type\":\"scattergeo\",\"marker\":{\"colorbar\":{\"outlinewidth\":0,\"ticks\":\"\"}}}],\"scatterpolar\":[{\"type\":\"scatterpolar\",\"marker\":{\"colorbar\":{\"outlinewidth\":0,\"ticks\":\"\"}}}],\"histogram\":[{\"marker\":{\"pattern\":{\"fillmode\":\"overlay\",\"size\":10,\"solidity\":0.2}},\"type\":\"histogram\"}],\"scattergl\":[{\"type\":\"scattergl\",\"marker\":{\"colorbar\":{\"outlinewidth\":0,\"ticks\":\"\"}}}],\"scatter3d\":[{\"type\":\"scatter3d\",\"line\":{\"colorbar\":{\"outlinewidth\":0,\"ticks\":\"\"}},\"marker\":{\"colorbar\":{\"outlinewidth\":0,\"ticks\":\"\"}}}],\"scattermapbox\":[{\"type\":\"scattermapbox\",\"marker\":{\"colorbar\":{\"outlinewidth\":0,\"ticks\":\"\"}}}],\"scatterternary\":[{\"type\":\"scatterternary\",\"marker\":{\"colorbar\":{\"outlinewidth\":0,\"ticks\":\"\"}}}],\"scattercarpet\":[{\"type\":\"scattercarpet\",\"marker\":{\"colorbar\":{\"outlinewidth\":0,\"ticks\":\"\"}}}],\"carpet\":[{\"aaxis\":{\"endlinecolor\":\"#2a3f5f\",\"gridcolor\":\"white\",\"linecolor\":\"white\",\"minorgridcolor\":\"white\",\"startlinecolor\":\"#2a3f5f\"},\"baxis\":{\"endlinecolor\":\"#2a3f5f\",\"gridcolor\":\"white\",\"linecolor\":\"white\",\"minorgridcolor\":\"white\",\"startlinecolor\":\"#2a3f5f\"},\"type\":\"carpet\"}],\"table\":[{\"cells\":{\"fill\":{\"color\":\"#EBF0F8\"},\"line\":{\"color\":\"white\"}},\"header\":{\"fill\":{\"color\":\"#C8D4E3\"},\"line\":{\"color\":\"white\"}},\"type\":\"table\"}],\"barpolar\":[{\"marker\":{\"line\":{\"color\":\"#E5ECF6\",\"width\":0.5},\"pattern\":{\"fillmode\":\"overlay\",\"size\":10,\"solidity\":0.2}},\"type\":\"barpolar\"}],\"pie\":[{\"automargin\":true,\"type\":\"pie\"}]},\"layout\":{\"autotypenumbers\":\"strict\",\"colorway\":[\"#636efa\",\"#EF553B\",\"#00cc96\",\"#ab63fa\",\"#FFA15A\",\"#19d3f3\",\"#FF6692\",\"#B6E880\",\"#FF97FF\",\"#FECB52\"],\"font\":{\"color\":\"#2a3f5f\"},\"hovermode\":\"closest\",\"hoverlabel\":{\"align\":\"left\"},\"paper_bgcolor\":\"white\",\"plot_bgcolor\":\"#E5ECF6\",\"polar\":{\"bgcolor\":\"#E5ECF6\",\"angularaxis\":{\"gridcolor\":\"white\",\"linecolor\":\"white\",\"ticks\":\"\"},\"radialaxis\":{\"gridcolor\":\"white\",\"linecolor\":\"white\",\"ticks\":\"\"}},\"ternary\":{\"bgcolor\":\"#E5ECF6\",\"aaxis\":{\"gridcolor\":\"white\",\"linecolor\":\"white\",\"ticks\":\"\"},\"baxis\":{\"gridcolor\":\"white\",\"linecolor\":\"white\",\"ticks\":\"\"},\"caxis\":{\"gridcolor\":\"white\",\"linecolor\":\"white\",\"ticks\":\"\"}},\"coloraxis\":{\"colorbar\":{\"outlinewidth\":0,\"ticks\":\"\"}},\"colorscale\":{\"sequential\":[[0.0,\"#0d0887\"],[0.1111111111111111,\"#46039f\"],[0.2222222222222222,\"#7201a8\"],[0.3333333333333333,\"#9c179e\"],[0.4444444444444444,\"#bd3786\"],[0.5555555555555556,\"#d8576b\"],[0.6666666666666666,\"#ed7953\"],[0.7777777777777778,\"#fb9f3a\"],[0.8888888888888888,\"#fdca26\"],[1.0,\"#f0f921\"]],\"sequentialminus\":[[0.0,\"#0d0887\"],[0.1111111111111111,\"#46039f\"],[0.2222222222222222,\"#7201a8\"],[0.3333333333333333,\"#9c179e\"],[0.4444444444444444,\"#bd3786\"],[0.5555555555555556,\"#d8576b\"],[0.6666666666666666,\"#ed7953\"],[0.7777777777777778,\"#fb9f3a\"],[0.8888888888888888,\"#fdca26\"],[1.0,\"#f0f921\"]],\"diverging\":[[0,\"#8e0152\"],[0.1,\"#c51b7d\"],[0.2,\"#de77ae\"],[0.3,\"#f1b6da\"],[0.4,\"#fde0ef\"],[0.5,\"#f7f7f7\"],[0.6,\"#e6f5d0\"],[0.7,\"#b8e186\"],[0.8,\"#7fbc41\"],[0.9,\"#4d9221\"],[1,\"#276419\"]]},\"xaxis\":{\"gridcolor\":\"white\",\"linecolor\":\"white\",\"ticks\":\"\",\"title\":{\"standoff\":15},\"zerolinecolor\":\"white\",\"automargin\":true,\"zerolinewidth\":2},\"yaxis\":{\"gridcolor\":\"white\",\"linecolor\":\"white\",\"ticks\":\"\",\"title\":{\"standoff\":15},\"zerolinecolor\":\"white\",\"automargin\":true,\"zerolinewidth\":2},\"scene\":{\"xaxis\":{\"backgroundcolor\":\"#E5ECF6\",\"gridcolor\":\"white\",\"linecolor\":\"white\",\"showbackground\":true,\"ticks\":\"\",\"zerolinecolor\":\"white\",\"gridwidth\":2},\"yaxis\":{\"backgroundcolor\":\"#E5ECF6\",\"gridcolor\":\"white\",\"linecolor\":\"white\",\"showbackground\":true,\"ticks\":\"\",\"zerolinecolor\":\"white\",\"gridwidth\":2},\"zaxis\":{\"backgroundcolor\":\"#E5ECF6\",\"gridcolor\":\"white\",\"linecolor\":\"white\",\"showbackground\":true,\"ticks\":\"\",\"zerolinecolor\":\"white\",\"gridwidth\":2}},\"shapedefaults\":{\"line\":{\"color\":\"#2a3f5f\"}},\"annotationdefaults\":{\"arrowcolor\":\"#2a3f5f\",\"arrowhead\":0,\"arrowwidth\":1},\"geo\":{\"bgcolor\":\"white\",\"landcolor\":\"#E5ECF6\",\"subunitcolor\":\"white\",\"showland\":true,\"showlakes\":true,\"lakecolor\":\"white\"},\"title\":{\"x\":0.05},\"mapbox\":{\"style\":\"light\"}}},\"xaxis\":{\"anchor\":\"y\",\"domain\":[0.0,1.0],\"scaleanchor\":\"y\",\"constrain\":\"domain\",\"title\":{\"text\":\"Head\"}},\"yaxis\":{\"anchor\":\"x\",\"domain\":[0.0,1.0],\"autorange\":\"reversed\",\"constrain\":\"domain\",\"title\":{\"text\":\"Layer\"}},\"coloraxis\":{\"colorscale\":[[0.0,\"rgb(103,0,31)\"],[0.1,\"rgb(178,24,43)\"],[0.2,\"rgb(214,96,77)\"],[0.3,\"rgb(244,165,130)\"],[0.4,\"rgb(253,219,199)\"],[0.5,\"rgb(247,247,247)\"],[0.6,\"rgb(209,229,240)\"],[0.7,\"rgb(146,197,222)\"],[0.8,\"rgb(67,147,195)\"],[0.9,\"rgb(33,102,172)\"],[1.0,\"rgb(5,48,97)\"]],\"cmid\":0.0},\"title\":{\"text\":\"Induction Score by Head\"}},                        {\"responsive\": true}                    ).then(function(){\n",
       "                            \n",
       "var gd = document.getElementById('d949a289-e1df-4331-9632-2685fdb6304c');\n",
       "var x = new MutationObserver(function (mutations, observer) {{\n",
       "        var display = window.getComputedStyle(gd).display;\n",
       "        if (!display || display === 'none') {{\n",
       "            console.log([gd, 'removed!']);\n",
       "            Plotly.purge(gd);\n",
       "            observer.disconnect();\n",
       "        }}\n",
       "}});\n",
       "\n",
       "// Listen for the removal of the full notebook cells\n",
       "var notebookContainer = gd.closest('#notebook-container');\n",
       "if (notebookContainer) {{\n",
       "    x.observe(notebookContainer, {childList: true});\n",
       "}}\n",
       "\n",
       "// Listen for the clearing of the current output cell\n",
       "var outputEl = gd.closest('.output');\n",
       "if (outputEl) {{\n",
       "    x.observe(outputEl, {childList: true});\n",
       "}}\n",
       "\n",
       "                        })                };                });            </script>        </div>"
      ]
     },
     "metadata": {},
     "output_type": "display_data"
    }
   ],
   "source": [
    "with model.generate(max_new_tokens=1, output_attentions=True) as generator:\n",
    "\n",
    "    with generator.invoke(repeated_tokens, output_attentions=True) as invoker:\n",
    "\n",
    "        attn_hidden_states = [model.transformer.h[layer_idx].attn.output[2].save() for layer_idx in range(len(model.transformer.h))]\n",
    "\n",
    "attn_hidden_states = torch.stack([hs.value for hs in attn_hidden_states]).diagonal(dim1=-2, dim2=-1, offset=1-seq_len)\n",
    "induction_score = attn_hidden_states.mean(1).mean(-1).cpu()\n",
    "\n",
    "imshow(induction_score, xaxis=\"Head\", yaxis=\"Layer\", title=\"Induction Score by Head\")"
   ]
  },
  {
   "cell_type": "markdown",
   "id": "e2a2fe17-c0c9-46d2-b409-8aba885477dd",
   "metadata": {},
   "source": [
    "Head 5 in Layer 5 scores extremely highly on this score, and we can feed in a shorter repeated random sequence, visualize the attention pattern for it and see this directly - including the \"induction stripe\" at `seq_len-1` tokens back."
   ]
  },
  {
   "cell_type": "code",
   "execution_count": 64,
   "id": "41f604bc-f58a-488f-9230-053d0239bad7",
   "metadata": {},
   "outputs": [
    {
     "name": "stderr",
     "output_type": "stream",
     "text": [
      "Setting `pad_token_id` to `eos_token_id`:50256 for open-end generation.\n"
     ]
    },
    {
     "data": {
      "text/html": [
       "<div id=\"circuits-vis-acd0e658-b3d6\" style=\"margin: 15px 0;\"/>\n",
       "    <script crossorigin type=\"module\">\n",
       "    import { render, AttentionPatterns } from \"https://unpkg.com/circuitsvis@1.41.0/dist/cdn/esm.js\";\n",
       "    render(\n",
       "      \"circuits-vis-acd0e658-b3d6\",\n",
       "      AttentionPatterns,\n",
       "      {\"tokens\": [\" bar\", \"PC\", \"erm\", \"And\", \" highlight\", \" rose\", \"abet\", \" warrant\", \"aps\", \" reserv\", \" prom\", \"in\", \"enty\", \"es\", \" vehicles\", \"ultane\", \" Chris\", \" voting\", \"ribed\", \" trigger\", \" suggesting\", \" bre\", \" bar\", \"PC\", \"erm\", \"And\", \" highlight\", \" rose\", \"abet\", \" warrant\", \"aps\", \" reserv\", \" prom\", \"in\", \"enty\", \"es\", \" vehicles\", \"ultane\", \" Chris\", \" voting\", \"ribed\", \" trigger\", \" suggesting\", \" bre\"], \"attention\": [[[1.0, 0.0, 0.0, 0.0, 0.0, 0.0, 0.0, 0.0, 0.0, 0.0, 0.0, 0.0, 0.0, 0.0, 0.0, 0.0, 0.0, 0.0, 0.0, 0.0, 0.0, 0.0, 0.0, 0.0, 0.0, 0.0, 0.0, 0.0, 0.0, 0.0, 0.0, 0.0, 0.0, 0.0, 0.0, 0.0, 0.0, 0.0, 0.0, 0.0, 0.0, 0.0, 0.0, 0.0], [0.9880428314208984, 0.011957194656133652, 0.0, 0.0, 0.0, 0.0, 0.0, 0.0, 0.0, 0.0, 0.0, 0.0, 0.0, 0.0, 0.0, 0.0, 0.0, 0.0, 0.0, 0.0, 0.0, 0.0, 0.0, 0.0, 0.0, 0.0, 0.0, 0.0, 0.0, 0.0, 0.0, 0.0, 0.0, 0.0, 0.0, 0.0, 0.0, 0.0, 0.0, 0.0, 0.0, 0.0, 0.0, 0.0], [0.9960256814956665, 0.001212610979564488, 0.0027617276646196842, 0.0, 0.0, 0.0, 0.0, 0.0, 0.0, 0.0, 0.0, 0.0, 0.0, 0.0, 0.0, 0.0, 0.0, 0.0, 0.0, 0.0, 0.0, 0.0, 0.0, 0.0, 0.0, 0.0, 0.0, 0.0, 0.0, 0.0, 0.0, 0.0, 0.0, 0.0, 0.0, 0.0, 0.0, 0.0, 0.0, 0.0, 0.0, 0.0, 0.0, 0.0], [0.990676999092102, 0.0016618086956441402, 0.00017512295744381845, 0.00748601695522666, 0.0, 0.0, 0.0, 0.0, 0.0, 0.0, 0.0, 0.0, 0.0, 0.0, 0.0, 0.0, 0.0, 0.0, 0.0, 0.0, 0.0, 0.0, 0.0, 0.0, 0.0, 0.0, 0.0, 0.0, 0.0, 0.0, 0.0, 0.0, 0.0, 0.0, 0.0, 0.0, 0.0, 0.0, 0.0, 0.0, 0.0, 0.0, 0.0, 0.0], [0.9908953905105591, 0.00030381689430214465, 1.0403583772244929e-08, 1.6778543795226142e-05, 0.008784092031419277, 0.0, 0.0, 0.0, 0.0, 0.0, 0.0, 0.0, 0.0, 0.0, 0.0, 0.0, 0.0, 0.0, 0.0, 0.0, 0.0, 0.0, 0.0, 0.0, 0.0, 0.0, 0.0, 0.0, 0.0, 0.0, 0.0, 0.0, 0.0, 0.0, 0.0, 0.0, 0.0, 0.0, 0.0, 0.0, 0.0, 0.0, 0.0, 0.0], [0.9949786067008972, 0.0015774723142385483, 2.052609886504797e-07, 3.1800358556210995e-05, 0.0014504208229482174, 0.0019615564960986376, 0.0, 0.0, 0.0, 0.0, 0.0, 0.0, 0.0, 0.0, 0.0, 0.0, 0.0, 0.0, 0.0, 0.0, 0.0, 0.0, 0.0, 0.0, 0.0, 0.0, 0.0, 0.0, 0.0, 0.0, 0.0, 0.0, 0.0, 0.0, 0.0, 0.0, 0.0, 0.0, 0.0, 0.0, 0.0, 0.0, 0.0, 0.0], [0.9902985692024231, 0.0019214387284591794, 1.0143411600438412e-05, 0.0021886546164751053, 0.001171559444628656, 0.0032631701324135065, 0.0011465619318187237, 0.0, 0.0, 0.0, 0.0, 0.0, 0.0, 0.0, 0.0, 0.0, 0.0, 0.0, 0.0, 0.0, 0.0, 0.0, 0.0, 0.0, 0.0, 0.0, 0.0, 0.0, 0.0, 0.0, 0.0, 0.0, 0.0, 0.0, 0.0, 0.0, 0.0, 0.0, 0.0, 0.0, 0.0, 0.0, 0.0, 0.0], [0.9801961779594421, 0.0022630845196545124, 4.92128356199828e-06, 0.003142470261082053, 0.011647663079202175, 0.0020732602570205927, 1.1084187008236768e-06, 0.0006712892791256309, 0.0, 0.0, 0.0, 0.0, 0.0, 0.0, 0.0, 0.0, 0.0, 0.0, 0.0, 0.0, 0.0, 0.0, 0.0, 0.0, 0.0, 0.0, 0.0, 0.0, 0.0, 0.0, 0.0, 0.0, 0.0, 0.0, 0.0, 0.0, 0.0, 0.0, 0.0, 0.0, 0.0, 0.0, 0.0, 0.0], [0.9287450313568115, 0.0031656778883188963, 0.0007288649212568998, 0.009191554971039295, 0.006231378298252821, 0.016687242314219475, 3.290214954176918e-05, 0.03494061529636383, 0.00027683685766533017, 0.0, 0.0, 0.0, 0.0, 0.0, 0.0, 0.0, 0.0, 0.0, 0.0, 0.0, 0.0, 0.0, 0.0, 0.0, 0.0, 0.0, 0.0, 0.0, 0.0, 0.0, 0.0, 0.0, 0.0, 0.0, 0.0, 0.0, 0.0, 0.0, 0.0, 0.0, 0.0, 0.0, 0.0, 0.0], [0.9657261371612549, 0.006325689610093832, 4.012387216789648e-05, 0.0013745902106165886, 0.015341220423579216, 0.0014978233957663178, 4.4535954657476395e-05, 0.0009288018336519599, 0.0015454755630344152, 0.007175715174525976, 0.0, 0.0, 0.0, 0.0, 0.0, 0.0, 0.0, 0.0, 0.0, 0.0, 0.0, 0.0, 0.0, 0.0, 0.0, 0.0, 0.0, 0.0, 0.0, 0.0, 0.0, 0.0, 0.0, 0.0, 0.0, 0.0, 0.0, 0.0, 0.0, 0.0, 0.0, 0.0, 0.0, 0.0], [0.8932042121887207, 0.004216993227601051, 0.000396552961319685, 0.018226640298962593, 0.0017786428797990084, 0.0010718997800722718, 2.2020478240847297e-07, 0.005413942039012909, 0.027772724628448486, 0.037965793162584305, 0.009952409192919731, 0.0, 0.0, 0.0, 0.0, 0.0, 0.0, 0.0, 0.0, 0.0, 0.0, 0.0, 0.0, 0.0, 0.0, 0.0, 0.0, 0.0, 0.0, 0.0, 0.0, 0.0, 0.0, 0.0, 0.0, 0.0, 0.0, 0.0, 0.0, 0.0, 0.0, 0.0, 0.0, 0.0], [0.9591602087020874, 0.0015592160634696484, 1.2154474688941264e-06, 0.0022282677236944437, 0.0016954451566562057, 0.001102290116250515, 1.4268182439991506e-06, 0.0034018477890640497, 0.01894437149167061, 0.004910199902951717, 0.004669747781008482, 0.0023257534485310316, 0.0, 0.0, 0.0, 0.0, 0.0, 0.0, 0.0, 0.0, 0.0, 0.0, 0.0, 0.0, 0.0, 0.0, 0.0, 0.0, 0.0, 0.0, 0.0, 0.0, 0.0, 0.0, 0.0, 0.0, 0.0, 0.0, 0.0, 0.0, 0.0, 0.0, 0.0, 0.0], [0.8842415809631348, 0.0001787503424566239, 2.056917082882137e-06, 0.0015605646185576916, 0.02804180048406124, 0.018663626164197922, 0.0002368064015172422, 0.02026759646832943, 0.0009848526678979397, 0.012190483510494232, 0.031725477427244186, 2.4348477722924144e-07, 0.0019062032224610448, 0.0, 0.0, 0.0, 0.0, 0.0, 0.0, 0.0, 0.0, 0.0, 0.0, 0.0, 0.0, 0.0, 0.0, 0.0, 0.0, 0.0, 0.0, 0.0, 0.0, 0.0, 0.0, 0.0, 0.0, 0.0, 0.0, 0.0, 0.0, 0.0, 0.0, 0.0], [0.9457961916923523, 1.8810736946761608e-05, 1.4493120659153647e-07, 0.0003899502626154572, 0.007839721627533436, 0.004488212522119284, 0.00025734814698807895, 0.0054913898929953575, 3.737887891475111e-05, 0.022587746381759644, 0.009556754492223263, 3.0802993489231767e-09, 5.672473707818426e-05, 0.0034795606043189764, 0.0, 0.0, 0.0, 0.0, 0.0, 0.0, 0.0, 0.0, 0.0, 0.0, 0.0, 0.0, 0.0, 0.0, 0.0, 0.0, 0.0, 0.0, 0.0, 0.0, 0.0, 0.0, 0.0, 0.0, 0.0, 0.0, 0.0, 0.0, 0.0, 0.0], [0.9398760199546814, 0.005484201014041901, 0.001087426207959652, 0.014072692021727562, 0.014614518731832504, 0.0005459659150801599, 1.4057734006200917e-05, 0.0009099318413063884, 5.702326961909421e-05, 0.004375049844384193, 0.017358336597681046, 6.104305043663771e-07, 7.91103157098405e-05, 8.094120130408555e-05, 0.0014440928352996707, 0.0, 0.0, 0.0, 0.0, 0.0, 0.0, 0.0, 0.0, 0.0, 0.0, 0.0, 0.0, 0.0, 0.0, 0.0, 0.0, 0.0, 0.0, 0.0, 0.0, 0.0, 0.0, 0.0, 0.0, 0.0, 0.0, 0.0, 0.0, 0.0], [0.8970195055007935, 6.553564890054986e-05, 5.834066905663349e-05, 0.002340875333175063, 0.06857851892709732, 0.0012812946224585176, 8.314777915074956e-06, 0.002313273726031184, 2.933185214715195e-06, 0.00048451547627337277, 0.0035525693092495203, 7.75448716012761e-05, 0.0032602541614323854, 0.00010453867434989661, 0.001502959174104035, 0.01934904046356678, 0.0, 0.0, 0.0, 0.0, 0.0, 0.0, 0.0, 0.0, 0.0, 0.0, 0.0, 0.0, 0.0, 0.0, 0.0, 0.0, 0.0, 0.0, 0.0, 0.0, 0.0, 0.0, 0.0, 0.0, 0.0, 0.0, 0.0, 0.0], [0.9753071665763855, 6.070902600185946e-06, 1.0922930187007296e-06, 1.6877253301572637e-06, 0.004706001374870539, 0.0007056057220324874, 0.0003900186566170305, 0.013468045741319656, 1.3295523615397542e-07, 0.0016539774369448423, 5.475658326759003e-05, 7.709045846127083e-09, 1.3349675100471359e-05, 3.200215132892481e-06, 0.0004201707779429853, 0.0011825828114524484, 0.0020861178636550903, 0.0, 0.0, 0.0, 0.0, 0.0, 0.0, 0.0, 0.0, 0.0, 0.0, 0.0, 0.0, 0.0, 0.0, 0.0, 0.0, 0.0, 0.0, 0.0, 0.0, 0.0, 0.0, 0.0, 0.0, 0.0, 0.0, 0.0], [0.9414879679679871, 0.0011045943247154355, 4.3966017983620986e-05, 6.831491191405803e-05, 0.02832755446434021, 0.0010441301856189966, 3.646656114142388e-05, 0.0011359056225046515, 0.00022175040794536471, 0.00017041120736394078, 0.010301358066499233, 1.8223720417154254e-06, 8.755026647122577e-05, 0.00029041519155725837, 0.0012082449393346906, 0.004675358533859253, 0.004237366374582052, 0.005556752439588308, 0.0, 0.0, 0.0, 0.0, 0.0, 0.0, 0.0, 0.0, 0.0, 0.0, 0.0, 0.0, 0.0, 0.0, 0.0, 0.0, 0.0, 0.0, 0.0, 0.0, 0.0, 0.0, 0.0, 0.0, 0.0, 0.0], [0.9270630478858948, 0.00010922825458692387, 2.7533665161172394e-06, 0.0003033846151083708, 0.004406243562698364, 0.0155186103656888, 2.4389216832787497e-06, 0.000656129966955632, 0.001205482636578381, 0.0015082262689247727, 0.0029472806490957737, 5.3510311772697605e-06, 0.001882595126517117, 0.0025161700323224068, 0.007056789938360453, 0.000615305791143328, 0.00805263128131628, 0.0008432238828390837, 0.02530512586236, 0.0, 0.0, 0.0, 0.0, 0.0, 0.0, 0.0, 0.0, 0.0, 0.0, 0.0, 0.0, 0.0, 0.0, 0.0, 0.0, 0.0, 0.0, 0.0, 0.0, 0.0, 0.0, 0.0, 0.0, 0.0], [0.8821443319320679, 0.000839616172015667, 2.3810287075320957e-06, 0.00030999744194559753, 0.0018687705742195249, 0.026170097291469574, 9.861511352937669e-05, 0.003041354939341545, 0.0008868223521858454, 0.012730474583804607, 0.007210688665509224, 1.9105893443338573e-05, 0.008288772776722908, 0.0012893632519990206, 0.006803284864872694, 0.003128915559500456, 0.032084833830595016, 0.00022686894226353616, 0.0009302201797254384, 0.01192543376237154, 0.0, 0.0, 0.0, 0.0, 0.0, 0.0, 0.0, 0.0, 0.0, 0.0, 0.0, 0.0, 0.0, 0.0, 0.0, 0.0, 0.0, 0.0, 0.0, 0.0, 0.0, 0.0, 0.0, 0.0], [0.706392228603363, 7.163162081269547e-05, 1.8595915207697544e-07, 5.8948822697857395e-05, 0.010128230787813663, 0.05434869974851608, 7.345965968852397e-07, 0.0020665964111685753, 4.496734982240014e-05, 0.010681421495974064, 0.0015294994227588177, 5.7243905757786706e-05, 0.001431681914255023, 8.533808431820944e-05, 0.004654808901250362, 0.0016567115671932697, 0.03370313718914986, 5.927419988438487e-05, 0.0005848756991326809, 0.1326880156993866, 0.039755843579769135, 0.0, 0.0, 0.0, 0.0, 0.0, 0.0, 0.0, 0.0, 0.0, 0.0, 0.0, 0.0, 0.0, 0.0, 0.0, 0.0, 0.0, 0.0, 0.0, 0.0, 0.0, 0.0, 0.0], [0.908496618270874, 0.0027564624324440956, 0.0008009853190742433, 0.0019468278624117374, 0.0051210601814091206, 5.49351389054209e-05, 0.0007219993858598173, 0.005830708891153336, 0.004994865972548723, 0.0008599564898759127, 0.004111853428184986, 0.0002791880688164383, 0.0164163950830698, 0.014766105450689793, 0.01378447562456131, 0.0001702412700979039, 0.0035196600947529078, 0.003930147271603346, 0.0005079919355921447, 0.010733701288700104, 6.13825541222468e-05, 0.00013445633521769196, 0.0, 0.0, 0.0, 0.0, 0.0, 0.0, 0.0, 0.0, 0.0, 0.0, 0.0, 0.0, 0.0, 0.0, 0.0, 0.0, 0.0, 0.0, 0.0, 0.0, 0.0, 0.0], [0.03806077316403389, 0.9475052356719971, 0.0003189277776982635, 0.0005050821928307414, 0.004710549023002386, 1.4333429135149345e-05, 2.6716232241597027e-05, 0.0002741244970820844, 0.001602480304427445, 0.0011378121562302113, 0.000808161566965282, 6.240081518171792e-08, 7.12766486685723e-05, 3.048483449674677e-05, 0.0001821233017835766, 0.000163024160428904, 0.00012728376896120608, 1.92648312804522e-05, 5.910186155233532e-05, 0.0001858200557762757, 5.599655560217798e-05, 8.46773855300853e-06, 0.00413276394829154, 0.0, 0.0, 0.0, 0.0, 0.0, 0.0, 0.0, 0.0, 0.0, 0.0, 0.0, 0.0, 0.0, 0.0, 0.0, 0.0, 0.0, 0.0, 0.0, 0.0, 0.0], [0.26045385003089905, 0.014803927391767502, 0.5849796533584595, 0.09430815279483795, 0.02360587753355503, 1.9541268557077274e-05, 1.1576813818692244e-07, 0.0004047585534863174, 7.209940667962655e-05, 0.0017513358034193516, 0.000535065308213234, 6.179619958857074e-06, 0.0015249127754941583, 2.9192895453888923e-05, 0.00029345147777348757, 0.0011147966142743826, 0.005814094562083483, 6.57907803542912e-05, 0.00019727929611690342, 0.0012459591962397099, 0.00020975132065359503, 0.0001091396261472255, 0.0021813816856592894, 0.006273704115301371, 0.0, 0.0, 0.0, 0.0, 0.0, 0.0, 0.0, 0.0, 0.0, 0.0, 0.0, 0.0, 0.0, 0.0, 0.0, 0.0, 0.0, 0.0, 0.0, 0.0], [0.03698267415165901, 0.0027712939772754908, 6.83016623952426e-05, 0.9204599261283875, 0.030955612659454346, 4.728371277451515e-05, 1.0578565934338258e-06, 0.00024977707653306425, 0.0005894845817238092, 0.0004824745992664248, 0.000266446266323328, 1.5929315395624144e-06, 0.0006492368411272764, 2.778229463729076e-05, 0.00045206467621028423, 0.0002932158822659403, 0.0010197581723332405, 2.9856505534553435e-06, 5.044163117418066e-06, 0.0001043048469000496, 0.0001389353274134919, 6.175068119773641e-05, 5.2633513405453414e-05, 0.0006029101205058396, 0.0037133381702005863, 0.0, 0.0, 0.0, 0.0, 0.0, 0.0, 0.0, 0.0, 0.0, 0.0, 0.0, 0.0, 0.0, 0.0, 0.0, 0.0, 0.0, 0.0, 0.0], [0.051650963723659515, 0.0014978711260482669, 1.1946255654038396e-05, 0.0011033550836145878, 0.8862685561180115, 0.0025340598076581955, 6.265578122111037e-05, 0.004321130458265543, 0.00021863011352252215, 0.0035791699774563313, 0.0018422250868752599, 4.389443404306803e-07, 0.0017550584161654115, 0.0026589601766318083, 0.00502005172893405, 0.0013389408122748137, 0.01590832509100437, 0.0025094947777688503, 0.0005826056585647166, 0.00433695875108242, 0.0015885691391304135, 0.0035385095980018377, 0.0012408893089741468, 0.0003301355754956603, 0.0010223477147519588, 0.005078139714896679, 0.0, 0.0, 0.0, 0.0, 0.0, 0.0, 0.0, 0.0, 0.0, 0.0, 0.0, 0.0, 0.0, 0.0, 0.0, 0.0, 0.0, 0.0], [0.09822280704975128, 0.0002268208481837064, 3.650802715693402e-10, 1.3805523622067994e-06, 0.01029046718031168, 0.8365803360939026, 0.0008295036968775094, 0.016389399766921997, 8.774441084824502e-06, 0.001671438105404377, 0.00012805985170416534, 6.893028370313914e-09, 5.2258379582781345e-05, 0.0006546750664710999, 0.008495304733514786, 3.0988059734227136e-05, 0.0030402247793972492, 0.0009667100384831429, 0.00014861322415526956, 0.003755734534934163, 0.006263453979045153, 0.0023269623052328825, 5.815069926029537e-06, 2.160077428925433e-06, 2.0557203939119972e-08, 1.1109331126135658e-06, 0.009906920604407787, 0.0, 0.0, 0.0, 0.0, 0.0, 0.0, 0.0, 0.0, 0.0, 0.0, 0.0, 0.0, 0.0, 0.0, 0.0, 0.0, 0.0], [0.01096328068524599, 1.6144858818734065e-05, 4.9282598835187486e-11, 1.4381055457590719e-08, 0.00010456317977514118, 0.00011235153942834586, 0.9847292304039001, 0.0033403784036636353, 6.25320026870213e-08, 2.5062561689992435e-05, 1.1604442988755181e-05, 6.905305862704714e-13, 1.2061983056810277e-07, 4.901845841231989e-06, 0.00018839041877072304, 5.099771897221217e-06, 2.7252805011812598e-05, 0.00018560684111434966, 4.8766573854663875e-06, 7.479028226953233e-06, 9.346761544293258e-06, 5.316948090694495e-07, 1.8640126654645428e-05, 1.0777459920063848e-06, 1.8677741575601203e-09, 5.9125420115435645e-09, 8.676722063682973e-05, 0.00015714016626589, 0.0, 0.0, 0.0, 0.0, 0.0, 0.0, 0.0, 0.0, 0.0, 0.0, 0.0, 0.0, 0.0, 0.0, 0.0, 0.0], [0.0659765899181366, 0.001644728472456336, 2.3599112353167584e-07, 5.82323336857371e-05, 0.0016830235254019499, 0.0015461223665624857, 0.00032416475005447865, 0.8990569710731506, 0.00011044433631468564, 0.010360420681536198, 0.0002156182163162157, 3.4947078120239894e-07, 0.00016525860701221973, 0.0005896606016904116, 0.011824092827737331, 0.00012230566062498838, 0.0015723127871751785, 0.0009145218646153808, 4.104625986656174e-05, 0.0003982255875598639, 9.89822146948427e-05, 7.85592055763118e-05, 7.189314055722207e-05, 0.00010911952995229512, 3.836935775325401e-06, 0.00011431289021857083, 0.001501845894381404, 0.0005763110239058733, 0.0008408250869251788, 0.0, 0.0, 0.0, 0.0, 0.0, 0.0, 0.0, 0.0, 0.0, 0.0, 0.0, 0.0, 0.0, 0.0, 0.0], [0.0067062536254525185, 0.0009985282085835934, 7.797121526209594e-08, 3.9222642953973264e-05, 0.0010671407217159867, 0.0001287267223233357, 7.77364519422008e-08, 0.00010652388300513849, 0.985114574432373, 0.0012998898746445775, 0.0016498418990522623, 4.69638871436473e-06, 0.0008305668015964329, 0.0002740273193921894, 0.0004420388431753963, 2.6446516130818054e-05, 1.8511005691834725e-05, 3.4329164577684423e-07, 7.411852038785582e-06, 0.0002894125645980239, 0.000288579729385674, 0.0002047757589025423, 2.6356179660069756e-05, 0.00014293799176812172, 1.8918678961199475e-06, 4.945480031892657e-05, 0.00022992839512880892, 2.7347266950528137e-05, 1.0168744069005697e-07, 2.4328846848220564e-05, 0.0, 0.0, 0.0, 0.0, 0.0, 0.0, 0.0, 0.0, 0.0, 0.0, 0.0, 0.0, 0.0, 0.0], [0.012530270032584667, 0.00012975453864783049, 4.026892383990344e-06, 4.3809221097035334e-05, 0.0008161082514561713, 0.0021973573602735996, 2.7356777536624577e-06, 0.0020595265086740255, 5.406170657806797e-06, 0.976093053817749, 0.0010962615488097072, 4.576061840566581e-08, 1.4632032616646029e-05, 8.660334970045369e-06, 0.0009062746539711952, 0.0004059718339703977, 0.000336779048666358, 3.600326454034075e-05, 5.532901923288591e-06, 7.918796472949907e-05, 0.00044206646271049976, 0.0005034407950006425, 1.9252696858984564e-07, 2.8182448659208603e-05, 6.369145012286026e-06, 2.1755391571787186e-05, 0.00013690859486814588, 0.0004448040563147515, 5.151765435584821e-06, 0.0015742580872029066, 6.536387809319422e-05, 0.0, 0.0, 0.0, 0.0, 0.0, 0.0, 0.0, 0.0, 0.0, 0.0, 0.0, 0.0, 0.0], [0.013024598360061646, 0.0003650157304946333, 1.154118436375029e-07, 1.049991260515526e-05, 0.0011935173533856869, 6.15077733527869e-05, 1.0271292012475897e-06, 4.749789513880387e-05, 1.5313356925616972e-05, 0.000408265448641032, 0.9774754047393799, 1.274668548489899e-08, 0.0007387073710560799, 0.0004081114602740854, 0.002863664645701647, 0.0012824719306081533, 0.0011281986953690648, 5.13292548021127e-07, 5.1696435548365116e-05, 0.00032265810295939445, 0.00017400355136487633, 2.66250081040198e-05, 6.797412424930371e-06, 1.7670065062702633e-05, 8.65677122874331e-07, 3.583440275178873e-06, 0.0002493836509529501, 4.128040473005967e-06, 2.928626372522558e-06, 9.879110621113796e-06, 6.392131035681814e-05, 4.14003552577924e-05, 0.0, 0.0, 0.0, 0.0, 0.0, 0.0, 0.0, 0.0, 0.0, 0.0, 0.0, 0.0], [0.0034961742348968983, 0.0001768768997862935, 8.12755388324149e-07, 8.707153028808534e-05, 9.003601007862017e-05, 1.086212978407275e-05, 2.4191479930379955e-09, 3.823028600891121e-05, 0.00010264643060509115, 0.00033480252022854984, 0.00011849228030769154, 0.9766031503677368, 0.01677827723324299, 1.51587175878376e-06, 7.338209979934618e-05, 5.788841735920869e-05, 0.0010605535935610533, 9.496057487012877e-07, 9.646910257288255e-06, 2.2962696675676852e-05, 2.2784433895139955e-05, 0.00013324299652595073, 1.9533512386260554e-05, 2.293230636496446e-06, 8.946796697273385e-06, 9.343389683635905e-05, 2.6847956178244203e-05, 1.010593678074656e-06, 5.685890425155549e-09, 9.73423448158428e-06, 0.0004926464171148837, 3.240489604650065e-05, 9.274110925616696e-05, 0.0, 0.0, 0.0, 0.0, 0.0, 0.0, 0.0, 0.0, 0.0, 0.0, 0.0], [0.011977488175034523, 0.00015336067008320242, 6.603861635312569e-08, 3.466511407168582e-05, 0.00022178575454745442, 7.365395140368491e-05, 8.899579029275628e-08, 0.00011495465878397226, 0.00036539064603857696, 0.00040390517096966505, 0.0003266163694206625, 3.2881926017580554e-05, 0.9836664199829102, 2.374550240347162e-05, 0.0006511876126751304, 9.755101928021759e-06, 0.00016916861932259053, 1.0830673318196204e-06, 6.737179205629218e-07, 8.603467722423375e-05, 0.00020429892174433917, 0.00021509869839064777, 0.00010459865006851032, 1.9958166376454756e-05, 4.163855919614434e-06, 3.814784940914251e-05, 0.00016679990221746266, 1.0696170647861436e-05, 6.396057727897642e-08, 3.139979889965616e-05, 0.0005264483625069261, 3.552577618393116e-05, 9.275229240301996e-05, 0.00023695066920481622, 0.0, 0.0, 0.0, 0.0, 0.0, 0.0, 0.0, 0.0, 0.0, 0.0], [0.0222272090613842, 7.90270059951581e-05, 4.170783185486471e-08, 5.6199842219939455e-05, 0.005205054301768541, 0.001330828876234591, 1.4973729776102118e-05, 0.004561037290841341, 0.0001366939104627818, 0.001542567741125822, 0.002691729459911585, 2.189501202565225e-08, 0.0002970194327645004, 0.676986038684845, 0.2715940773487091, 1.3808557923766784e-05, 6.449134525610134e-05, 9.526804933557287e-05, 8.245780918514356e-06, 0.000965845538303256, 6.991028931224719e-05, 4.663851723307744e-05, 0.00017890874005388469, 3.439564534346573e-05, 1.7905909999171854e-06, 0.00016792483802419156, 0.004035480786114931, 0.001311532687395811, 2.805714393616654e-05, 0.00216339947655797, 0.0009199206251651049, 0.00020456156926229596, 0.0014325008960440755, 5.908065645598981e-07, 0.0015341935213655233, 0.0, 0.0, 0.0, 0.0, 0.0, 0.0, 0.0, 0.0, 0.0], [0.3265993595123291, 2.0386143660289235e-05, 3.83871068265762e-08, 0.00019369936489965767, 0.021263903006911278, 0.002280493499711156, 0.00015673968300689012, 0.007033713161945343, 1.3499678061634768e-05, 0.02230025641620159, 0.005748939234763384, 2.7384663425777944e-09, 3.888783976435661e-05, 0.0006264802650548518, 0.5610219836235046, 0.01204470731317997, 0.002680786419659853, 0.007453489117324352, 2.5817482310230844e-05, 0.0033000600524246693, 0.0002527989854570478, 0.0005889142630621791, 3.343051139381714e-05, 1.0763995987872477e-06, 2.149721609612243e-07, 6.898280116729438e-05, 0.00821923278272152, 0.00029697484569624066, 5.651552419294603e-05, 0.003263090969994664, 4.189656101516448e-05, 0.007138602901250124, 0.0030013651121407747, 8.632709835865171e-08, 0.00011602271843003109, 0.004117617383599281, 0.0, 0.0, 0.0, 0.0, 0.0, 0.0, 0.0, 0.0], [0.050713080912828445, 0.0002871704054996371, 4.000185072072782e-06, 0.00020016891357954592, 0.005453513935208321, 6.765645957784727e-05, 1.1127464176752255e-06, 0.00011684170021908358, 4.983476742381754e-07, 0.0004001753986813128, 0.0008292080019600689, 1.5950020193500336e-09, 6.570841151187778e-07, 5.968611276330194e-07, 7.098333298927173e-05, 0.9236648678779602, 0.013557882979512215, 7.511131843784824e-05, 0.00016057449101936072, 0.00022560651996172965, 0.0001874025329016149, 7.903733785497025e-05, 8.19715012312372e-07, 1.2537662996692234e-06, 2.2381602775567444e-06, 2.0385921743582003e-05, 0.0025992661248892546, 3.6169485611026175e-06, 4.2927899812639225e-07, 2.6028874344774522e-05, 1.4756390100956196e-06, 0.00019559914653655142, 0.0010081384098157287, 5.6915119728273567e-08, 3.12830565007971e-07, 8.149850714289641e-07, 4.34303619840648e-05, 0.0, 0.0, 0.0, 0.0, 0.0, 0.0, 0.0], [0.019088564440608025, 4.695233201346127e-06, 1.0724100008019377e-07, 2.8753178412443958e-05, 0.0036834559869021177, 2.8700083930743858e-05, 4.865208893534145e-07, 0.00012636386964004487, 2.328632930925778e-08, 8.014526429178659e-06, 9.248134301742539e-05, 5.210085873841308e-08, 4.834484570892528e-05, 1.9572269138734555e-06, 4.224678559694439e-05, 0.0018321910174563527, 0.9712615013122559, 0.0007423165952786803, 0.00024009234039112926, 0.00017028313595801592, 0.0001218440302181989, 0.00013422312622424215, 3.6406327126314864e-05, 1.3745692228894768e-07, 1.438474896531261e-06, 1.2630908713617828e-05, 0.001829440239816904, 5.068238351668697e-06, 9.804598448681645e-07, 4.2092633520951495e-05, 1.2289662265629886e-07, 2.155369656975381e-06, 1.839848846429959e-05, 8.473811021758593e-07, 1.1648518920992501e-05, 7.775575454616046e-07, 4.5131228034733795e-06, 0.00037664221599698067, 0.0, 0.0, 0.0, 0.0, 0.0, 0.0], [0.012732087634503841, 1.0982596165831637e-07, 3.1276570222615874e-09, 9.37425514990764e-09, 0.00015409426123369485, 6.161465989862336e-06, 2.8539618597278604e-06, 0.00010112304153153673, 4.6258055719228253e-10, 9.107020559895318e-06, 7.258925052155973e-07, 1.3908001486595545e-11, 4.1047258036996936e-08, 1.1762727680775242e-08, 3.019004907400813e-06, 4.873263605986722e-05, 5.441596294986084e-05, 0.9863753914833069, 0.00012547273945529014, 1.5569885363220237e-05, 7.826218393347517e-07, 5.032478384237038e-06, 3.4351382055319846e-05, 4.0529268829914145e-09, 4.480548554397501e-08, 5.320942353392866e-09, 0.00017887624562717974, 1.9040804772885167e-06, 3.0688468086736975e-06, 2.1575146092800424e-05, 2.90420820725501e-09, 3.7486724977497943e-06, 1.871483732429624e-07, 2.0584131621426138e-10, 3.8107966560119166e-08, 8.422383501738295e-08, 6.638716513407417e-06, 3.4203625546069816e-05, 8.053732017287984e-05, 0.0, 0.0, 0.0, 0.0, 0.0], [0.022629650309681892, 1.0390598617959768e-05, 5.317860640730032e-08, 9.388771360363535e-08, 0.0004202070995233953, 1.5207539945549797e-05, 5.819335910928203e-07, 1.344831889582565e-05, 1.5118287421955756e-07, 1.0931314591289265e-06, 5.0415641453582793e-05, 4.930469366115631e-10, 2.404485996976291e-07, 4.865790401709091e-07, 6.401859081961447e-06, 0.00017072740592993796, 7.455953891621903e-05, 0.00018879967683460563, 0.9729165434837341, 0.0029668326023966074, 2.419430347799789e-05, 3.4424909244989976e-05, 1.3797020073980093e-05, 7.006323698988126e-07, 8.566907467866258e-07, 3.225457589906e-08, 0.000318720267387107, 5.080725259176688e-06, 1.5970083495631116e-06, 3.355631633894518e-06, 5.421600803856563e-07, 1.4114013424659788e-07, 1.5794845239724964e-05, 7.453605732621327e-09, 1.910995877096866e-07, 1.791077124835283e-06, 3.778578047786141e-06, 3.740346073755063e-05, 4.185878060525283e-05, 2.9808470571879297e-05, 0.0, 0.0, 0.0, 0.0], [0.07968340814113617, 2.5453377020312473e-05, 5.16690228380412e-08, 9.221133950632066e-06, 0.0016943328082561493, 0.0014822531957179308, 2.753320984538732e-07, 0.0001612361375009641, 2.249633143946994e-05, 0.00011238206207053736, 0.0004505436809267849, 8.502804682564147e-09, 0.0001116815983550623, 0.00030796456849202514, 0.0011157647240906954, 8.688636444276199e-05, 0.0007161381072364748, 0.0003363671712577343, 0.010614240542054176, 0.8799796104431152, 0.006326846778392792, 0.009506226517260075, 0.00012672260345425457, 7.729822186774982e-07, 2.878462510125246e-06, 8.694840289535932e-06, 0.0013449389953166246, 0.00047687298501841724, 8.561733011447359e-07, 0.00015633445582352579, 0.0001375429710606113, 3.348598693264648e-05, 0.00022827174689155072, 1.681053447555314e-07, 0.00010006921365857124, 0.0004726721381302923, 0.00038611944182775915, 1.8003469449467957e-05, 0.0002757968904916197, 2.1632140487781726e-05, 0.0034647618886083364, 0.0, 0.0, 0.0], [0.05885184183716774, 0.0001108667129301466, 3.2410920169922974e-08, 7.947150152176619e-06, 0.00040140224155038595, 0.0031088916584849358, 2.317809048690833e-06, 0.00016820724704302847, 4.3408905185060576e-05, 0.0006025382317602634, 0.0008565812022425234, 3.933243064579983e-08, 0.000713277084287256, 5.035972208133899e-05, 0.0004198513342998922, 0.0002991811197716743, 0.00587425846606493, 8.515955414623022e-06, 0.00022203571279533207, 0.0038531748577952385, 0.9038052558898926, 0.012234742753207684, 8.5455440057558e-06, 3.44729619428108e-06, 8.160924949152104e-07, 2.9104514851496788e-06, 0.0001892493019113317, 0.0012235090835019946, 4.626116151484894e-06, 5.2340561524033546e-05, 0.0003521792823448777, 0.0004329608054831624, 0.0011323674116283655, 1.5037804814710398e-06, 0.0010313420789316297, 4.695322786574252e-05, 8.635213453089818e-05, 2.2073250875109807e-05, 0.0016026044031605124, 2.697806849027984e-07, 3.1498504540650174e-05, 0.0021397077944129705, 0.0, 0.0], [0.03015497326850891, 7.203638688224601e-06, 7.196386819785516e-10, 5.267337996883725e-07, 0.0005222393665462732, 0.004940197337418795, 1.0893026036740139e-08, 8.409840665990487e-05, 8.645615707791876e-07, 0.0004328092618379742, 5.7126108004013076e-05, 2.183682994427727e-07, 0.00014652020763605833, 3.391606696823146e-06, 0.00017650937661528587, 0.00021793587075080723, 0.003269568085670471, 9.622239304007962e-06, 0.00015182459901552647, 0.022916186600923538, 0.009759614244103432, 0.910903811454773, 3.332908420361491e-07, 1.9705469256336983e-08, 1.1009307243625699e-08, 1.4524700020501768e-07, 0.00010845490760402754, 0.0008381033549085259, 3.854428953786737e-08, 2.3151622372097336e-05, 3.5636869597510668e-06, 0.0001851177221396938, 1.0237477908958681e-05, 1.8689406715566292e-06, 0.00010533064050832763, 1.5886290611888398e-06, 1.19140931928996e-05, 1.887797043309547e-05, 0.00025529341655783355, 1.2589994469180965e-07, 1.1003938197973184e-05, 0.0048421029932796955, 0.009827356785535812, 0.0], [0.04250411316752434, 0.00037136199534870684, 5.064963715994963e-06, 8.871563295542728e-06, 0.0003151155251543969, 5.372588475438533e-06, 1.4987441318226047e-05, 0.00021519570145756006, 5.446813884191215e-05, 3.2174502848647535e-05, 4.674456795328297e-05, 9.251593837689143e-07, 0.00031851668609306216, 6.44010360701941e-05, 0.00017428175488021225, 1.0145690794161055e-05, 0.00014998744882177562, 0.00035482546081766486, 2.0233421309967525e-05, 0.0006426680483855307, 8.386516128666699e-06, 1.2038291060889605e-05, 0.9520154595375061, 0.0005592789384536445, 0.00023914885241538286, 1.305015575780999e-05, 0.0005070630577392876, 2.377838654865627e-06, 3.1143998057814315e-05, 8.755750604905188e-05, 9.756406507221982e-05, 1.1245920177316293e-06, 3.4109270927729085e-06, 4.368933332443703e-06, 0.0002125389437424019, 0.0002450866741128266, 4.3747688323492184e-05, 1.1111393405371928e-06, 0.00011659041774692014, 2.8891085094073787e-05, 1.4703474334964994e-05, 0.00044384156353771687, 8.21157414065965e-07, 1.3289505886859843e-06]]]}\n",
       "    )\n",
       "    </script>"
      ],
      "text/plain": [
       "<circuitsvis.utils.render.RenderedHTML at 0x2b110f4bd100>"
      ]
     },
     "execution_count": 64,
     "metadata": {},
     "output_type": "execute_result"
    }
   ],
   "source": [
    "induction_head_layer = 5\n",
    "induction_head_index = 5\n",
    "single_random_sequence = torch.randint(1000, 10000, (1, 20))\n",
    "repeated_random_sequence = einops.repeat(single_random_sequence, \"batch seq_len -> batch (2 seq_len)\")\n",
    "\n",
    "with model.generate(max_new_tokens=1, output_attentions=True) as generator:\n",
    "    with generator.invoke(repeated_random_sequence, output_attentions=True) as invoker:\n",
    "        attn_hidden_states = model.transformer.h[induction_head_layer].attn.output[2][:, induction_head_index].save()\n",
    "\n",
    "cv.attention.attention_patterns(\n",
    "            tokens=invoker.tokens, \n",
    "            attention=attn_hidden_states.value\n",
    "        )"
   ]
  },
  {
   "cell_type": "markdown",
   "id": "99242817-4ef3-4919-a11b-ed5c1853ea6a",
   "metadata": {},
   "source": [
    "# Features"
   ]
  },
  {
   "cell_type": "markdown",
   "id": "62bde87c-04ef-4f52-b5ac-5ce2722b0945",
   "metadata": {},
   "source": [
    "An overview of some other important features of the library."
   ]
  },
  {
   "cell_type": "markdown",
   "id": "272c7dec-7d36-4ffd-be2c-9e39bf0080d0",
   "metadata": {},
   "source": [
    "## Multiple Token Generation"
   ]
  },
  {
   "cell_type": "markdown",
   "id": "aef1168a-ed23-48f5-8024-6d7c99b55e3d",
   "metadata": {},
   "source": [
    "When generating more than one token, use `invoker.next()` to denote following interventions should be applied to the subsequent generations.\n",
    "\n",
    "Here we again generate using gpt2, but generate three tokens and save the hidden states of the last layer for each one:"
   ]
  },
  {
   "cell_type": "code",
   "execution_count": 213,
   "id": "1d9c94d4-2ae5-4cb1-af9c-b236cafdc24b",
   "metadata": {},
   "outputs": [
    {
     "name": "stderr",
     "output_type": "stream",
     "text": [
      "Setting `pad_token_id` to `eos_token_id`:50256 for open-end generation.\n"
     ]
    }
   ],
   "source": [
    "with model.generate(max_new_tokens=3) as generator:\n",
    "    with generator.invoke('The Eiffel Tower is in the city of') as invoker:\n",
    "\n",
    "        hidden_states1 = model.transformer.h[-1].output[0].save()\n",
    "\n",
    "        invoker.next()\n",
    "        \n",
    "        hidden_states2 = model.transformer.h[-1].output[0].save()\n",
    "\n",
    "        invoker.next()\n",
    "        \n",
    "        hidden_states3 = model.transformer.h[-1].output[0].save()\n",
    "\n",
    "\n",
    "output = generator.output\n",
    "hidden_states1 = hidden_states1.value\n",
    "hidden_states2 = hidden_states2.value\n",
    "hidden_states3 = hidden_states3.value"
   ]
  },
  {
   "cell_type": "markdown",
   "id": "4ee9f0c8-8cac-426b-a44e-0041038fcc7d",
   "metadata": {},
   "source": [
    "## Token Based Indexing"
   ]
  },
  {
   "cell_type": "markdown",
   "id": "249544f1-81a3-4056-af7c-4caa97297c89",
   "metadata": {},
   "source": [
    "When indexing hidden states for specific tokens, use `.token[<idx>]` or `.t[<idx>]`. This is because if there are multiple invocations, padding is performed on the left side so these helper functions index from the back.\n",
    "\n",
    "Here we just get the hidden states of the first token:"
   ]
  },
  {
   "cell_type": "code",
   "execution_count": 212,
   "id": "c58ce470-3a22-44a7-b38a-e1e1ea5c363b",
   "metadata": {},
   "outputs": [
    {
     "name": "stderr",
     "output_type": "stream",
     "text": [
      "Setting `pad_token_id` to `eos_token_id`:50256 for open-end generation.\n"
     ]
    }
   ],
   "source": [
    "with model.generate(max_new_tokens=1) as generator:\n",
    "    with generator.invoke('The Eiffel Tower is in the city of') as invoker:\n",
    "\n",
    "        hidden_states = model.transformer.h[-1].output[0].t[0].save()\n",
    "\n",
    "output = generator.output\n",
    "hidden_states = hidden_states.value"
   ]
  },
  {
   "cell_type": "markdown",
   "id": "b18d8a62-7ad5-476b-89d7-67f5fec83d3b",
   "metadata": {},
   "source": [
    "## Cross Prompt Intervention"
   ]
  },
  {
   "cell_type": "markdown",
   "id": "e5b64d54-d4d9-4234-8a8a-c8055efda74b",
   "metadata": {},
   "source": [
    "Intervention operations work cross prompt! Use two invocations within the same generation block and operations can work between them.\n",
    "\n",
    "In this case, we grab the token embeddings coming from the first prompt, `\"Madison square garden is located in the city of New\"` and replace the embeddings of the second prompt with them."
   ]
  },
  {
   "cell_type": "code",
   "execution_count": 209,
   "id": "bf92215b-fa27-4fc6-b09b-17fd52de3fd0",
   "metadata": {},
   "outputs": [
    {
     "name": "stderr",
     "output_type": "stream",
     "text": [
      "Setting `pad_token_id` to `eos_token_id`:50256 for open-end generation.\n"
     ]
    },
    {
     "name": "stdout",
     "output_type": "stream",
     "text": [
      "Madison square garden is located in the city of New York City.\n",
      "_ _ _ _ _ _ _ _ _ _ York City.\n"
     ]
    }
   ],
   "source": [
    "with model.generate(max_new_tokens=3) as generator:\n",
    "    \n",
    "    with generator.invoke(\"Madison square garden is located in the city of New\") as invoker:\n",
    "\n",
    "        embeddings = model.transformer.wte.output\n",
    "\n",
    "    with generator.invoke(\"_ _ _ _ _ _ _ _ _ _\") as invoker:\n",
    "\n",
    "        model.transformer.wte.output = embeddings\n",
    "\n",
    "print(model.tokenizer.decode(generator.output[0]))\n",
    "print(model.tokenizer.decode(generator.output[1]))"
   ]
  },
  {
   "cell_type": "markdown",
   "id": "035f34ba-8885-46eb-a6f7-ed6ab8347532",
   "metadata": {},
   "source": [
    "We also could have entered a pre-saved embedding tensor as shown here:"
   ]
  },
  {
   "cell_type": "code",
   "execution_count": 210,
   "id": "9f123200-3756-4056-953a-192cfe9a9dc4",
   "metadata": {},
   "outputs": [
    {
     "name": "stderr",
     "output_type": "stream",
     "text": [
      "Setting `pad_token_id` to `eos_token_id`:50256 for open-end generation.\n"
     ]
    },
    {
     "name": "stdout",
     "output_type": "stream",
     "text": [
      "Madison square garden is located in the city of New York City.\n",
      "tensor([[[-0.0063, -0.1795,  0.2060,  ...,  0.1978,  0.1870, -0.1588],\n",
      "         [-0.1256, -0.0201,  0.0853,  ...,  0.0117, -0.1322, -0.0054],\n",
      "         [ 0.1283, -0.1087,  0.1027,  ..., -0.0407, -0.1525, -0.1283],\n",
      "         ...,\n",
      "         [ 0.0030,  0.0874,  0.1263,  ..., -0.0033,  0.1747, -0.0309],\n",
      "         [-0.0572,  0.0183,  0.0333,  ..., -0.0689, -0.0931, -0.0714],\n",
      "         [-0.1341, -0.0436,  0.2236,  ..., -0.1965,  0.0693, -0.1080]]],\n",
      "       device='cuda:0')\n"
     ]
    },
    {
     "name": "stderr",
     "output_type": "stream",
     "text": [
      "Setting `pad_token_id` to `eos_token_id`:50256 for open-end generation.\n"
     ]
    },
    {
     "name": "stdout",
     "output_type": "stream",
     "text": [
      "_ _ _ _ _ _ _ _ _ _ York City.\n"
     ]
    }
   ],
   "source": [
    "with model.generate(max_new_tokens=3) as generator:\n",
    "    \n",
    "    with generator.invoke(\"Madison square garden is located in the city of New\") as invoker:\n",
    "\n",
    "        embeddings = model.transformer.wte.output.save()\n",
    "\n",
    "print(model.tokenizer.decode(generator.output[0]))\n",
    "print(embeddings.value)\n",
    "\n",
    "with model.generate(max_new_tokens=3) as generator:\n",
    "\n",
    "    with generator.invoke(\"_ _ _ _ _ _ _ _ _ _\") as invoker:\n",
    "\n",
    "        model.transformer.wte.output = embeddings.value\n",
    "\n",
    "print(model.tokenizer.decode(generator.output[0]))"
   ]
  },
  {
   "cell_type": "markdown",
   "id": "34e06a1e-2cbf-41f8-989d-f51327463da2",
   "metadata": {},
   "source": [
    "## Ad-Hoc Module"
   ]
  },
  {
   "cell_type": "markdown",
   "id": "38a8a6a6-d424-4336-a65a-c28488999ea6",
   "metadata": {},
   "source": [
    "Another thing we can do is apply modules in the model's module tree at any point during computation, even if it's out of order.\n",
    "\n",
    "Here we get the hidden states of the last layer like usual. We also chain apply `model.transformer.ln_f` and `model.lm_head` in order to \"decode\" the hidden states into vocabularly space. Applying softmax and then argmax allows us to then transform the vocabulary space hidden states into actually tokens which we can then use the tokenizer to decode."
   ]
  },
  {
   "cell_type": "code",
   "execution_count": 211,
   "id": "5bcdf448-f43f-44b2-b1c0-633808ac35a9",
   "metadata": {},
   "outputs": [
    {
     "name": "stderr",
     "output_type": "stream",
     "text": [
      "Setting `pad_token_id` to `eos_token_id`:50256 for open-end generation.\n"
     ]
    },
    {
     "name": "stdout",
     "output_type": "stream",
     "text": [
      "tensor([[[ -36.2874,  -35.0114,  -38.0793,  ...,  -40.5163,  -41.3759,\n",
      "           -34.9193],\n",
      "         [ -68.8886,  -70.1562,  -71.8408,  ...,  -80.4195,  -78.2552,\n",
      "           -71.1206],\n",
      "         [ -82.2950,  -81.6519,  -83.9941,  ...,  -94.4878,  -94.5194,\n",
      "           -85.6998],\n",
      "         ...,\n",
      "         [-113.8675, -111.8628, -113.6634,  ..., -116.7652, -114.8267,\n",
      "          -112.3621],\n",
      "         [ -81.8531,  -83.3006,  -91.8192,  ...,  -92.9943,  -89.8382,\n",
      "           -85.6898],\n",
      "         [-103.9307, -102.5054, -105.1563,  ..., -109.3099, -110.4195,\n",
      "          -103.1395]]], device='cuda:0')\n",
      "tensor([[ 198,   12,  417, 8765,  318,  257,  262, 3504, 7372, 6342]],\n",
      "       device='cuda:0')\n",
      "\n",
      "-el Tower is a the middle centre Paris\n"
     ]
    },
    {
     "name": "stderr",
     "output_type": "stream",
     "text": [
      "/home/juang.c/miniconda3/envs/interp/lib/python3.8/site-packages/transformers/generation/utils.py:1260: UserWarning:\n",
      "\n",
      "Using the model-agnostic default `max_length` (=20) to control thegeneration length. We recommend setting `max_new_tokens` to control the maximum length of the generation.\n",
      "\n"
     ]
    }
   ],
   "source": [
    "with model.generate() as generator:\n",
    "    with generator.invoke('The Eiffel Tower is in the city of') as invoker:\n",
    "        \n",
    "        hidden_states = model.transformer.h[-1].output[0]\n",
    "        hidden_states = model.lm_head(model.transformer.ln_f(hidden_states)).save()\n",
    "        tokens = torch.softmax(hidden_states, dim=2).argmax(dim=2).save()\n",
    "        \n",
    "print(hidden_states.value)\n",
    "print(tokens.value)\n",
    "print(model.tokenizer.decode(tokens.value[0]))\n"
   ]
  }
 ],
 "metadata": {
  "kernelspec": {
   "display_name": "Python 3 (ipykernel)",
   "language": "python",
   "name": "python3"
  },
  "language_info": {
   "codemirror_mode": {
    "name": "ipython",
    "version": 3
   },
   "file_extension": ".py",
   "mimetype": "text/x-python",
   "name": "python",
   "nbconvert_exporter": "python",
   "pygments_lexer": "ipython3",
   "version": "3.8.18"
  }
 },
 "nbformat": 4,
 "nbformat_minor": 5
}
