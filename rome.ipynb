{
 "cells": [
  {
   "cell_type": "code",
   "execution_count": 132,
   "id": "e92fe721-b4b5-41c4-a675-8fa287291b98",
   "metadata": {},
   "outputs": [],
   "source": [
    "from nnsight import LanguageModel\n",
    "import torch as t\n",
    "import einops\n",
    "from tqdm import tqdm\n",
    "import plotly.express as px\n",
    "import numpy as np\n",
    "import plotly.graph_objects as go\n",
    "import torch.nn.functional as F\n",
    "\n",
    "from jaxtyping import Int, Float\n",
    "from typing import List, Optional, Tuple\n",
    "\n",
    "from torch import Tensor\n",
    "\n",
    "import pandas as pd\n",
    "import requests\n",
    "\n",
    "from rich import print\n",
    "\n",
    "import time\n",
    "\n",
    "device = t.device(\"cuda\" if t.cuda.is_available() else \"cpu\")"
   ]
  },
  {
   "cell_type": "code",
   "execution_count": 3,
   "id": "0693180b-b6b3-4d8b-959c-693086f94bbf",
   "metadata": {},
   "outputs": [],
   "source": [
    "response = requests.get(\"https://rome.baulab.info/data/dsets/known_1000.json\")\n",
    "data = response.json()"
   ]
  },
  {
   "cell_type": "code",
   "execution_count": 17,
   "id": "97ec8a1c-924f-4341-b71a-4a5968b36640",
   "metadata": {},
   "outputs": [
    {
     "data": {
      "text/html": [
       "<div>\n",
       "<style scoped>\n",
       "    .dataframe tbody tr th:only-of-type {\n",
       "        vertical-align: middle;\n",
       "    }\n",
       "\n",
       "    .dataframe tbody tr th {\n",
       "        vertical-align: top;\n",
       "    }\n",
       "\n",
       "    .dataframe thead th {\n",
       "        text-align: right;\n",
       "    }\n",
       "</style>\n",
       "<table border=\"1\" class=\"dataframe\">\n",
       "  <thead>\n",
       "    <tr style=\"text-align: right;\">\n",
       "      <th></th>\n",
       "      <th>known_id</th>\n",
       "      <th>subject</th>\n",
       "      <th>attribute</th>\n",
       "      <th>template</th>\n",
       "      <th>prediction</th>\n",
       "      <th>prompt</th>\n",
       "      <th>relation_id</th>\n",
       "    </tr>\n",
       "  </thead>\n",
       "  <tbody>\n",
       "    <tr>\n",
       "      <th>0</th>\n",
       "      <td>0</td>\n",
       "      <td>Vinson Massif</td>\n",
       "      <td>Antarctica</td>\n",
       "      <td>{} is located in the continent</td>\n",
       "      <td>of Antarctica. It is the largest of the three</td>\n",
       "      <td>Vinson Massif is located in the continent of</td>\n",
       "      <td>P30</td>\n",
       "    </tr>\n",
       "    <tr>\n",
       "      <th>1</th>\n",
       "      <td>1</td>\n",
       "      <td>Beats Music</td>\n",
       "      <td>Apple</td>\n",
       "      <td>{} is owned by</td>\n",
       "      <td>Apple, which is also the owner of Beats Elect...</td>\n",
       "      <td>Beats Music is owned by</td>\n",
       "      <td>P127</td>\n",
       "    </tr>\n",
       "    <tr>\n",
       "      <th>2</th>\n",
       "      <td>2</td>\n",
       "      <td>Audible.com</td>\n",
       "      <td>Amazon</td>\n",
       "      <td>{} is owned by</td>\n",
       "      <td>Amazon.com, Inc. or its affiliates.</td>\n",
       "      <td>Audible.com is owned by</td>\n",
       "      <td>P127</td>\n",
       "    </tr>\n",
       "    <tr>\n",
       "      <th>3</th>\n",
       "      <td>3</td>\n",
       "      <td>The Big Bang Theory</td>\n",
       "      <td>CBS</td>\n",
       "      <td>{} premieres on</td>\n",
       "      <td>CBS on September 22.&lt;|endoftext|&gt;</td>\n",
       "      <td>The Big Bang Theory premieres on</td>\n",
       "      <td>P449</td>\n",
       "    </tr>\n",
       "    <tr>\n",
       "      <th>4</th>\n",
       "      <td>4</td>\n",
       "      <td>MacApp</td>\n",
       "      <td>Apple</td>\n",
       "      <td>{}, a product created by</td>\n",
       "      <td>Apple to help developers create apps for the ...</td>\n",
       "      <td>MacApp, a product created by</td>\n",
       "      <td>P178</td>\n",
       "    </tr>\n",
       "  </tbody>\n",
       "</table>\n",
       "</div>"
      ],
      "text/plain": [
       "   known_id              subject   attribute                        template  \\\n",
       "0         0        Vinson Massif  Antarctica  {} is located in the continent   \n",
       "1         1          Beats Music       Apple                  {} is owned by   \n",
       "2         2          Audible.com      Amazon                  {} is owned by   \n",
       "3         3  The Big Bang Theory         CBS                 {} premieres on   \n",
       "4         4               MacApp       Apple        {}, a product created by   \n",
       "\n",
       "                                          prediction  \\\n",
       "0      of Antarctica. It is the largest of the three   \n",
       "1   Apple, which is also the owner of Beats Elect...   \n",
       "2                Amazon.com, Inc. or its affiliates.   \n",
       "3                  CBS on September 22.<|endoftext|>   \n",
       "4   Apple to help developers create apps for the ...   \n",
       "\n",
       "                                         prompt relation_id  \n",
       "0  Vinson Massif is located in the continent of         P30  \n",
       "1                       Beats Music is owned by        P127  \n",
       "2                       Audible.com is owned by        P127  \n",
       "3              The Big Bang Theory premieres on        P449  \n",
       "4                  MacApp, a product created by        P178  "
      ]
     },
     "execution_count": 17,
     "metadata": {},
     "output_type": "execute_result"
    }
   ],
   "source": [
    "df = pd.DataFrame.from_dict(data)\n",
    "df.head()"
   ]
  },
  {
   "cell_type": "code",
   "execution_count": 22,
   "id": "f4ddfa45-d79c-4b74-ab59-8acbcfc7e3a1",
   "metadata": {},
   "outputs": [
    {
     "data": {
      "text/plain": [
       "0            Vinson Massif is located in the continent of\n",
       "1                                 Beats Music is owned by\n",
       "2                                 Audible.com is owned by\n",
       "3                        The Big Bang Theory premieres on\n",
       "4                            MacApp, a product created by\n",
       "                              ...                        \n",
       "1204         Kyle Farnsworth plays in the position of the\n",
       "1205    Gregory XVI, whose position is that of a \"supe...\n",
       "1206                My Sister Sam was originally aired on\n",
       "1207    Devonshire Arms is located in the heart of the...\n",
       "1208                                 Ballers premieres on\n",
       "Name: prompt, Length: 1209, dtype: object"
      ]
     },
     "execution_count": 22,
     "metadata": {},
     "output_type": "execute_result"
    }
   ],
   "source": [
    "df.prompt"
   ]
  },
  {
   "cell_type": "code",
   "execution_count": 70,
   "id": "30c92e3d-0af1-471c-9c8b-24dcebc49701",
   "metadata": {},
   "outputs": [],
   "source": [
    "def aggregate_prompts(frame: pd.DataFrame, number: Int):\n",
    "    intermediate_frame = df.sample(n=number, random_state=1)\n",
    "    intermediate_frame = intermediate_frame[[\"subject\", \"attribute\", \"prompt\"]]\n",
    "\n",
    "    prompts = list(intermediate_frame.prompt)\n",
    "    answers = list(intermediate_frame.attribute)\n",
    "\n",
    "    return prompts, answers"
   ]
  },
  {
   "cell_type": "code",
   "execution_count": 80,
   "id": "60fd23b8-0dc2-41a1-8e55-8f892ab1c1b6",
   "metadata": {},
   "outputs": [
    {
     "data": {
      "application/vnd.jupyter.widget-view+json": {
       "model_id": "8550a4bd5afb4bf7a94c5d9fe20867bc",
       "version_major": 2,
       "version_minor": 0
      },
      "text/plain": [
       "Downloading (…)lve/main/config.json:   0%|          | 0.00/689 [00:00<?, ?B/s]"
      ]
     },
     "metadata": {},
     "output_type": "display_data"
    },
    {
     "data": {
      "application/vnd.jupyter.widget-view+json": {
       "model_id": "83c594c5e3ef448a8e12b50412b58b2e",
       "version_major": 2,
       "version_minor": 0
      },
      "text/plain": [
       "Downloading (…)olve/main/vocab.json:   0%|          | 0.00/1.04M [00:00<?, ?B/s]"
      ]
     },
     "metadata": {},
     "output_type": "display_data"
    },
    {
     "data": {
      "application/vnd.jupyter.widget-view+json": {
       "model_id": "fa5797354fa64f6f888bf50283fb4482",
       "version_major": 2,
       "version_minor": 0
      },
      "text/plain": [
       "Downloading (…)olve/main/merges.txt:   0%|          | 0.00/456k [00:00<?, ?B/s]"
      ]
     },
     "metadata": {},
     "output_type": "display_data"
    },
    {
     "data": {
      "application/vnd.jupyter.widget-view+json": {
       "model_id": "5d760d7c935d453ea158a08908477dbd",
       "version_major": 2,
       "version_minor": 0
      },
      "text/plain": [
       "Downloading (…)/main/tokenizer.json:   0%|          | 0.00/1.36M [00:00<?, ?B/s]"
      ]
     },
     "metadata": {},
     "output_type": "display_data"
    }
   ],
   "source": [
    "model = LanguageModel(\"gpt2-xl\", device_map=device)"
   ]
  },
  {
   "cell_type": "markdown",
   "id": "4c769325-3c33-4ad0-9e16-6c0dda278cf3",
   "metadata": {},
   "source": [
    "Lets try generating a couple facts."
   ]
  },
  {
   "cell_type": "code",
   "execution_count": 165,
   "id": "863e1c28-c789-4937-9ae3-0d2e2be6c06f",
   "metadata": {},
   "outputs": [],
   "source": [
    "prompts, answers = aggregate_prompts(df, 1)\n"
   ]
  },
  {
   "cell_type": "code",
   "execution_count": 88,
   "id": "675f0120-2b50-4a84-b794-78f8df013ad4",
   "metadata": {},
   "outputs": [],
   "source": [
    "with model.forward(prompts) as invoker:\n",
    "    pass\n",
    "logits = invoker.output[0]"
   ]
  },
  {
   "cell_type": "code",
   "execution_count": 83,
   "id": "d17a598b-3d74-48af-962e-11e78658882f",
   "metadata": {},
   "outputs": [
    {
     "data": {
      "text/plain": [
       "['Matias Kupiainen was born in']"
      ]
     },
     "execution_count": 83,
     "metadata": {},
     "output_type": "execute_result"
    }
   ],
   "source": [
    "prompts"
   ]
  },
  {
   "cell_type": "code",
   "execution_count": 173,
   "id": "04367cfc-a1d9-47e4-a257-12a8619adaea",
   "metadata": {},
   "outputs": [],
   "source": [
    "def test_prompt(prompt: str, answer: str, model):\n",
    "    \n",
    "    with model.forward(prompt) as invoker:\n",
    "        pass\n",
    "\n",
    "    logits = invoker.output[0]\n",
    "    logits = logits[0,-1,:] # only over the final token\n",
    "    probs = logits.softmax(dim=-1)\n",
    "    \n",
    "    sorted_indices = t.argsort(probs, descending=True)\n",
    "    val = model.tokenizer(answer).input_ids[0]\n",
    "    rank = (sorted_indices == val).nonzero(as_tuple=True)[0]\n",
    "    \n",
    "    print(f\"[bold]Rank: {rank.item()}        Logit: {logits[val]:.3f} Prob: {probs[val]:.3f} Token: |{model.tokenizer.decode(val)}|[/]\")\n",
    "    \n",
    "    for i, (tok, prob) in enumerate(zip(probs.topk(10).indices, probs.topk(10).values)):\n",
    "        ind = model.tokenizer(model.tokenizer.decode(tok)).input_ids[0]\n",
    "        print(f\"Top {i}th token. Logit: {logits[ind]:.3f} Prob: {prob:.3f} Token: |{model.tokenizer.decode(tok)}|\")\n"
   ]
  },
  {
   "cell_type": "code",
   "execution_count": 131,
   "id": "4c3e07ad-3e5d-453f-9b20-091bcf57bb26",
   "metadata": {},
   "outputs": [
    {
     "data": {
      "text/plain": [
       "torch.return_types.topk(\n",
       "values=tensor([0.2054, 0.0836, 0.0288, 0.0198, 0.0098, 0.0076, 0.0072, 0.0062, 0.0059,\n",
       "        0.0059], device='cuda:0'),\n",
       "indices=tensor([47688, 17837,   262, 29679,   509,   350,   309, 30912,   440,   406],\n",
       "       device='cuda:0'))"
      ]
     },
     "execution_count": 131,
     "metadata": {},
     "output_type": "execute_result"
    }
   ],
   "source": [
    "probs.topk(10)"
   ]
  },
  {
   "cell_type": "code",
   "execution_count": 164,
   "id": "431a9122-8a3a-464e-9b1e-b64594a05d1a",
   "metadata": {},
   "outputs": [
    {
     "data": {
      "text/plain": [
       "'  '"
      ]
     },
     "execution_count": 164,
     "metadata": {},
     "output_type": "execute_result"
    }
   ],
   "source": [
    "answers"
   ]
  },
  {
   "cell_type": "code",
   "execution_count": 166,
   "id": "caae9e0b-2829-4d55-8de2-709a717220f2",
   "metadata": {},
   "outputs": [
    {
     "data": {
      "text/plain": [
       "' Helsinki'"
      ]
     },
     "execution_count": 166,
     "metadata": {},
     "output_type": "execute_result"
    }
   ],
   "source": [
    "answers = \" \" + answers[0]\n",
    "answers"
   ]
  },
  {
   "cell_type": "code",
   "execution_count": 174,
   "id": "c801ac32-5df1-46cb-8024-8067d9c29b84",
   "metadata": {},
   "outputs": [
    {
     "data": {
      "text/html": [
       "<pre style=\"white-space:pre;overflow-x:auto;line-height:normal;font-family:Menlo,'DejaVu Sans Mono',consolas,'Courier New',monospace\"><span style=\"font-weight: bold\">Rank: </span><span style=\"color: #008080; text-decoration-color: #008080; font-weight: bold\">2</span><span style=\"font-weight: bold\">        Logit: </span><span style=\"color: #008080; text-decoration-color: #008080; font-weight: bold\">8.577</span><span style=\"font-weight: bold\"> Prob: </span><span style=\"color: #008080; text-decoration-color: #008080; font-weight: bold\">0.029</span><span style=\"font-weight: bold\"> Token: | the|</span>\n",
       "</pre>\n"
      ],
      "text/plain": [
       "\u001b[1mRank: \u001b[0m\u001b[1;36m2\u001b[0m\u001b[1m        Logit: \u001b[0m\u001b[1;36m8.577\u001b[0m\u001b[1m Prob: \u001b[0m\u001b[1;36m0.029\u001b[0m\u001b[1m Token: | the|\u001b[0m\n"
      ]
     },
     "metadata": {},
     "output_type": "display_data"
    },
    {
     "data": {
      "text/html": [
       "<pre style=\"white-space:pre;overflow-x:auto;line-height:normal;font-family:Menlo,'DejaVu Sans Mono',consolas,'Courier New',monospace\">Top 0th token. Logit: <span style=\"color: #008080; text-decoration-color: #008080; font-weight: bold\">10.540</span> Prob: <span style=\"color: #008080; text-decoration-color: #008080; font-weight: bold\">0.205</span> Token: | Helsinki|\n",
       "</pre>\n"
      ],
      "text/plain": [
       "Top 0th token. Logit: \u001b[1;36m10.540\u001b[0m Prob: \u001b[1;36m0.205\u001b[0m Token: | Helsinki|\n"
      ]
     },
     "metadata": {},
     "output_type": "display_data"
    },
    {
     "data": {
      "text/html": [
       "<pre style=\"white-space:pre;overflow-x:auto;line-height:normal;font-family:Menlo,'DejaVu Sans Mono',consolas,'Courier New',monospace\">Top 1th token. Logit: <span style=\"color: #008080; text-decoration-color: #008080; font-weight: bold\">9.641</span> Prob: <span style=\"color: #008080; text-decoration-color: #008080; font-weight: bold\">0.084</span> Token: | Finland|\n",
       "</pre>\n"
      ],
      "text/plain": [
       "Top 1th token. Logit: \u001b[1;36m9.641\u001b[0m Prob: \u001b[1;36m0.084\u001b[0m Token: | Finland|\n"
      ]
     },
     "metadata": {},
     "output_type": "display_data"
    },
    {
     "data": {
      "text/html": [
       "<pre style=\"white-space:pre;overflow-x:auto;line-height:normal;font-family:Menlo,'DejaVu Sans Mono',consolas,'Courier New',monospace\">Top 2th token. Logit: <span style=\"color: #008080; text-decoration-color: #008080; font-weight: bold\">8.577</span> Prob: <span style=\"color: #008080; text-decoration-color: #008080; font-weight: bold\">0.029</span> Token: | the|\n",
       "</pre>\n"
      ],
      "text/plain": [
       "Top 2th token. Logit: \u001b[1;36m8.577\u001b[0m Prob: \u001b[1;36m0.029\u001b[0m Token: | the|\n"
      ]
     },
     "metadata": {},
     "output_type": "display_data"
    },
    {
     "data": {
      "text/html": [
       "<pre style=\"white-space:pre;overflow-x:auto;line-height:normal;font-family:Menlo,'DejaVu Sans Mono',consolas,'Courier New',monospace\">Top 3th token. Logit: <span style=\"color: #008080; text-decoration-color: #008080; font-weight: bold\">8.202</span> Prob: <span style=\"color: #008080; text-decoration-color: #008080; font-weight: bold\">0.020</span> Token: | Stockholm|\n",
       "</pre>\n"
      ],
      "text/plain": [
       "Top 3th token. Logit: \u001b[1;36m8.202\u001b[0m Prob: \u001b[1;36m0.020\u001b[0m Token: | Stockholm|\n"
      ]
     },
     "metadata": {},
     "output_type": "display_data"
    },
    {
     "data": {
      "text/html": [
       "<pre style=\"white-space:pre;overflow-x:auto;line-height:normal;font-family:Menlo,'DejaVu Sans Mono',consolas,'Courier New',monospace\">Top 4th token. Logit: <span style=\"color: #008080; text-decoration-color: #008080; font-weight: bold\">7.498</span> Prob: <span style=\"color: #008080; text-decoration-color: #008080; font-weight: bold\">0.010</span> Token: | K|\n",
       "</pre>\n"
      ],
      "text/plain": [
       "Top 4th token. Logit: \u001b[1;36m7.498\u001b[0m Prob: \u001b[1;36m0.010\u001b[0m Token: | K|\n"
      ]
     },
     "metadata": {},
     "output_type": "display_data"
    },
    {
     "data": {
      "text/html": [
       "<pre style=\"white-space:pre;overflow-x:auto;line-height:normal;font-family:Menlo,'DejaVu Sans Mono',consolas,'Courier New',monospace\">Top 5th token. Logit: <span style=\"color: #008080; text-decoration-color: #008080; font-weight: bold\">7.245</span> Prob: <span style=\"color: #008080; text-decoration-color: #008080; font-weight: bold\">0.008</span> Token: | P|\n",
       "</pre>\n"
      ],
      "text/plain": [
       "Top 5th token. Logit: \u001b[1;36m7.245\u001b[0m Prob: \u001b[1;36m0.008\u001b[0m Token: | P|\n"
      ]
     },
     "metadata": {},
     "output_type": "display_data"
    },
    {
     "data": {
      "text/html": [
       "<pre style=\"white-space:pre;overflow-x:auto;line-height:normal;font-family:Menlo,'DejaVu Sans Mono',consolas,'Courier New',monospace\">Top 6th token. Logit: <span style=\"color: #008080; text-decoration-color: #008080; font-weight: bold\">7.183</span> Prob: <span style=\"color: #008080; text-decoration-color: #008080; font-weight: bold\">0.007</span> Token: | T|\n",
       "</pre>\n"
      ],
      "text/plain": [
       "Top 6th token. Logit: \u001b[1;36m7.183\u001b[0m Prob: \u001b[1;36m0.007\u001b[0m Token: | T|\n"
      ]
     },
     "metadata": {},
     "output_type": "display_data"
    },
    {
     "data": {
      "text/html": [
       "<pre style=\"white-space:pre;overflow-x:auto;line-height:normal;font-family:Menlo,'DejaVu Sans Mono',consolas,'Courier New',monospace\">Top 7th token. Logit: <span style=\"color: #008080; text-decoration-color: #008080; font-weight: bold\">7.047</span> Prob: <span style=\"color: #008080; text-decoration-color: #008080; font-weight: bold\">0.006</span> Token: | Estonia|\n",
       "</pre>\n"
      ],
      "text/plain": [
       "Top 7th token. Logit: \u001b[1;36m7.047\u001b[0m Prob: \u001b[1;36m0.006\u001b[0m Token: | Estonia|\n"
      ]
     },
     "metadata": {},
     "output_type": "display_data"
    },
    {
     "data": {
      "text/html": [
       "<pre style=\"white-space:pre;overflow-x:auto;line-height:normal;font-family:Menlo,'DejaVu Sans Mono',consolas,'Courier New',monospace\">Top 8th token. Logit: <span style=\"color: #008080; text-decoration-color: #008080; font-weight: bold\">6.997</span> Prob: <span style=\"color: #008080; text-decoration-color: #008080; font-weight: bold\">0.006</span> Token: | O|\n",
       "</pre>\n"
      ],
      "text/plain": [
       "Top 8th token. Logit: \u001b[1;36m6.997\u001b[0m Prob: \u001b[1;36m0.006\u001b[0m Token: | O|\n"
      ]
     },
     "metadata": {},
     "output_type": "display_data"
    },
    {
     "data": {
      "text/html": [
       "<pre style=\"white-space:pre;overflow-x:auto;line-height:normal;font-family:Menlo,'DejaVu Sans Mono',consolas,'Courier New',monospace\">Top 9th token. Logit: <span style=\"color: #008080; text-decoration-color: #008080; font-weight: bold\">6.984</span> Prob: <span style=\"color: #008080; text-decoration-color: #008080; font-weight: bold\">0.006</span> Token: | L|\n",
       "</pre>\n"
      ],
      "text/plain": [
       "Top 9th token. Logit: \u001b[1;36m6.984\u001b[0m Prob: \u001b[1;36m0.006\u001b[0m Token: | L|\n"
      ]
     },
     "metadata": {},
     "output_type": "display_data"
    }
   ],
   "source": [
    "test_prompt(prompts, \" the\", model)"
   ]
  },
  {
   "cell_type": "code",
   "execution_count": 112,
   "id": "3803246c-eca5-417c-a27e-0b89c48a9d80",
   "metadata": {},
   "outputs": [
    {
     "data": {
      "text/plain": [
       "':'"
      ]
     },
     "execution_count": 112,
     "metadata": {},
     "output_type": "execute_result"
    }
   ],
   "source": [
    "model.tokenizer.decode(25)"
   ]
  },
  {
   "cell_type": "code",
   "execution_count": 91,
   "id": "db7599ac-1d43-4535-9580-53215ff4f4f3",
   "metadata": {},
   "outputs": [
    {
     "data": {
      "text/plain": [
       "tensor([5.3600e-06, 1.6766e-06, 5.3754e-08,  ..., 1.2029e-08, 5.5420e-09,\n",
       "        1.5986e-05], device='cuda:0')"
      ]
     },
     "execution_count": 91,
     "metadata": {},
     "output_type": "execute_result"
    }
   ],
   "source": [
    "probs"
   ]
  },
  {
   "cell_type": "code",
   "execution_count": 96,
   "id": "d6393e86-416b-413f-a086-96a4837bb0a1",
   "metadata": {},
   "outputs": [],
   "source": [
    "answers = \" \" + answers[0]"
   ]
  },
  {
   "cell_type": "code",
   "execution_count": 102,
   "id": "ecde5e68-6c98-4006-a2a5-7485978c84e7",
   "metadata": {},
   "outputs": [
    {
     "data": {
      "text/plain": [
       "tensor(10.5400, device='cuda:0')"
      ]
     },
     "execution_count": 102,
     "metadata": {},
     "output_type": "execute_result"
    }
   ],
   "source": [
    "temp = logits[enc_ind]\n",
    "temp"
   ]
  },
  {
   "cell_type": "code",
   "execution_count": 135,
   "id": "ee9739f5-279d-4b05-82a7-70df78d46397",
   "metadata": {},
   "outputs": [
    {
     "data": {
      "text/plain": [
       "47688"
      ]
     },
     "execution_count": 135,
     "metadata": {},
     "output_type": "execute_result"
    }
   ],
   "source": [
    "enc_ind = model.tokenizer(answers).input_ids[0]\n",
    "enc_ind"
   ]
  },
  {
   "cell_type": "code",
   "execution_count": 89,
   "id": "9a68cd5b-9ae0-4096-b2b2-ea9288398ddb",
   "metadata": {},
   "outputs": [
    {
     "name": "stdout",
     "output_type": "stream",
     "text": [
      "p( Helsinki) = 0.205\n",
      "p( Finland) = 0.084\n",
      "p( the) = 0.029\n",
      "p( Stockholm) = 0.020\n",
      "p( K) = 0.010\n",
      "p( P) = 0.008\n",
      "p( T) = 0.007\n",
      "p( Estonia) = 0.006\n",
      "p( O) = 0.006\n",
      "p( L) = 0.006\n"
     ]
    }
   ],
   "source": [
    "logits = logits[0,-1,:] # only over the final token\n",
    "probs = logits.softmax(dim=-1)\n",
    "\n",
    "\n",
    "for tok, prob in zip(probs.topk(10).indices, probs.topk(10).values):\n",
    "    print(f\"p({model.tokenizer.decode(tok)}) = {prob:.3f}\")\n",
    "    "
   ]
  }
 ],
 "metadata": {
  "kernelspec": {
   "display_name": "Python 3 (ipykernel)",
   "language": "python",
   "name": "python3"
  },
  "language_info": {
   "codemirror_mode": {
    "name": "ipython",
    "version": 3
   },
   "file_extension": ".py",
   "mimetype": "text/x-python",
   "name": "python",
   "nbconvert_exporter": "python",
   "pygments_lexer": "ipython3",
   "version": "3.8.18"
  }
 },
 "nbformat": 4,
 "nbformat_minor": 5
}
