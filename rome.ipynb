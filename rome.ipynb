{
 "cells": [
  {
   "cell_type": "code",
   "execution_count": 1,
   "id": "e92fe721-b4b5-41c4-a675-8fa287291b98",
   "metadata": {},
   "outputs": [],
   "source": [
    "from nnsight import LanguageModel\n",
    "import torch as t\n",
    "import einops\n",
    "from tqdm import tqdm\n",
    "import plotly.express as px\n",
    "import numpy as np\n",
    "import plotly.graph_objects as go\n",
    "import torch.nn.functional as F\n",
    "\n",
    "from jaxtyping import Int, Float\n",
    "from typing import List, Optional, Tuple\n",
    "\n",
    "from torch import Tensor\n",
    "\n",
    "import pandas as pd\n",
    "import requests\n",
    "\n",
    "from rich import print\n",
    "\n",
    "import time\n",
    "\n",
    "device = t.device(\"cuda\" if t.cuda.is_available() else \"cpu\")"
   ]
  },
  {
   "cell_type": "markdown",
   "id": "8cff01d7-a029-4d03-9601-cff28b6b7807",
   "metadata": {},
   "source": [
    "## Load the Data\n",
    "\n",
    "Load in the dataset of factual prompts and answers."
   ]
  },
  {
   "cell_type": "code",
   "execution_count": 2,
   "id": "0693180b-b6b3-4d8b-959c-693086f94bbf",
   "metadata": {},
   "outputs": [],
   "source": [
    "response = requests.get(\"https://rome.baulab.info/data/dsets/known_1000.json\")\n",
    "data = response.json()"
   ]
  },
  {
   "cell_type": "code",
   "execution_count": 3,
   "id": "97ec8a1c-924f-4341-b71a-4a5968b36640",
   "metadata": {},
   "outputs": [
    {
     "data": {
      "text/html": [
       "<div>\n",
       "<style scoped>\n",
       "    .dataframe tbody tr th:only-of-type {\n",
       "        vertical-align: middle;\n",
       "    }\n",
       "\n",
       "    .dataframe tbody tr th {\n",
       "        vertical-align: top;\n",
       "    }\n",
       "\n",
       "    .dataframe thead th {\n",
       "        text-align: right;\n",
       "    }\n",
       "</style>\n",
       "<table border=\"1\" class=\"dataframe\">\n",
       "  <thead>\n",
       "    <tr style=\"text-align: right;\">\n",
       "      <th></th>\n",
       "      <th>known_id</th>\n",
       "      <th>subject</th>\n",
       "      <th>attribute</th>\n",
       "      <th>template</th>\n",
       "      <th>prediction</th>\n",
       "      <th>prompt</th>\n",
       "      <th>relation_id</th>\n",
       "    </tr>\n",
       "  </thead>\n",
       "  <tbody>\n",
       "    <tr>\n",
       "      <th>0</th>\n",
       "      <td>0</td>\n",
       "      <td>Vinson Massif</td>\n",
       "      <td>Antarctica</td>\n",
       "      <td>{} is located in the continent</td>\n",
       "      <td>of Antarctica. It is the largest of the three</td>\n",
       "      <td>Vinson Massif is located in the continent of</td>\n",
       "      <td>P30</td>\n",
       "    </tr>\n",
       "    <tr>\n",
       "      <th>1</th>\n",
       "      <td>1</td>\n",
       "      <td>Beats Music</td>\n",
       "      <td>Apple</td>\n",
       "      <td>{} is owned by</td>\n",
       "      <td>Apple, which is also the owner of Beats Elect...</td>\n",
       "      <td>Beats Music is owned by</td>\n",
       "      <td>P127</td>\n",
       "    </tr>\n",
       "    <tr>\n",
       "      <th>2</th>\n",
       "      <td>2</td>\n",
       "      <td>Audible.com</td>\n",
       "      <td>Amazon</td>\n",
       "      <td>{} is owned by</td>\n",
       "      <td>Amazon.com, Inc. or its affiliates.</td>\n",
       "      <td>Audible.com is owned by</td>\n",
       "      <td>P127</td>\n",
       "    </tr>\n",
       "    <tr>\n",
       "      <th>3</th>\n",
       "      <td>3</td>\n",
       "      <td>The Big Bang Theory</td>\n",
       "      <td>CBS</td>\n",
       "      <td>{} premieres on</td>\n",
       "      <td>CBS on September 22.&lt;|endoftext|&gt;</td>\n",
       "      <td>The Big Bang Theory premieres on</td>\n",
       "      <td>P449</td>\n",
       "    </tr>\n",
       "    <tr>\n",
       "      <th>4</th>\n",
       "      <td>4</td>\n",
       "      <td>MacApp</td>\n",
       "      <td>Apple</td>\n",
       "      <td>{}, a product created by</td>\n",
       "      <td>Apple to help developers create apps for the ...</td>\n",
       "      <td>MacApp, a product created by</td>\n",
       "      <td>P178</td>\n",
       "    </tr>\n",
       "  </tbody>\n",
       "</table>\n",
       "</div>"
      ],
      "text/plain": [
       "   known_id              subject   attribute                        template  \\\n",
       "0         0        Vinson Massif  Antarctica  {} is located in the continent   \n",
       "1         1          Beats Music       Apple                  {} is owned by   \n",
       "2         2          Audible.com      Amazon                  {} is owned by   \n",
       "3         3  The Big Bang Theory         CBS                 {} premieres on   \n",
       "4         4               MacApp       Apple        {}, a product created by   \n",
       "\n",
       "                                          prediction  \\\n",
       "0      of Antarctica. It is the largest of the three   \n",
       "1   Apple, which is also the owner of Beats Elect...   \n",
       "2                Amazon.com, Inc. or its affiliates.   \n",
       "3                  CBS on September 22.<|endoftext|>   \n",
       "4   Apple to help developers create apps for the ...   \n",
       "\n",
       "                                         prompt relation_id  \n",
       "0  Vinson Massif is located in the continent of         P30  \n",
       "1                       Beats Music is owned by        P127  \n",
       "2                       Audible.com is owned by        P127  \n",
       "3              The Big Bang Theory premieres on        P449  \n",
       "4                  MacApp, a product created by        P178  "
      ]
     },
     "execution_count": 3,
     "metadata": {},
     "output_type": "execute_result"
    }
   ],
   "source": [
    "df = pd.DataFrame.from_dict(data)\n",
    "df.head()"
   ]
  },
  {
   "cell_type": "markdown",
   "id": "07e71ad0-47a5-485f-b3c5-2ef3b3dd503a",
   "metadata": {},
   "source": [
    "Write a function to sample random prompts and their answers from the dataset."
   ]
  },
  {
   "cell_type": "code",
   "execution_count": 4,
   "id": "30c92e3d-0af1-471c-9c8b-24dcebc49701",
   "metadata": {},
   "outputs": [],
   "source": [
    "def aggregate_prompts(frame: pd.DataFrame, number: Int, prepend_space=False):\n",
    "    intermediate_frame = df.sample(n=number, random_state=2)\n",
    "    intermediate_frame = intermediate_frame[[\"subject\", \"attribute\", \"prompt\"]]\n",
    "\n",
    "    prompts = list(intermediate_frame.prompt)\n",
    "    answers = list(intermediate_frame.attribute)\n",
    "\n",
    "    if prepend_space:\n",
    "        answers = [\" \" + a for a in answers]\n",
    "\n",
    "    return prompts, answers"
   ]
  },
  {
   "cell_type": "code",
   "execution_count": 5,
   "id": "60fd23b8-0dc2-41a1-8e55-8f892ab1c1b6",
   "metadata": {},
   "outputs": [],
   "source": [
    "# Load the model\n",
    "model = LanguageModel(\"gpt2\", device_map=device)"
   ]
  },
  {
   "cell_type": "markdown",
   "id": "4c769325-3c33-4ad0-9e16-6c0dda278cf3",
   "metadata": {},
   "source": [
    "## Running the Dataset\n",
    "\n",
    "Run a single prompt through the model. And observe its outputs."
   ]
  },
  {
   "cell_type": "code",
   "execution_count": 6,
   "id": "675f0120-2b50-4a84-b794-78f8df013ad4",
   "metadata": {},
   "outputs": [],
   "source": [
    "prompts, answers = aggregate_prompts(df, 1, prepend_space=True)\n",
    "\n",
    "with model.forward(prompts) as invoker:\n",
    "    pass\n",
    "logits = invoker.output[0]"
   ]
  },
  {
   "cell_type": "code",
   "execution_count": 7,
   "id": "04367cfc-a1d9-47e4-a257-12a8619adaea",
   "metadata": {},
   "outputs": [],
   "source": [
    "# function to test a prompt on a model and generate a textual representaiton of outputs\n",
    "def test_prompt(prompt: str, answer: str, model):\n",
    "    \n",
    "    with model.forward(prompt) as invoker:\n",
    "        pass\n",
    "\n",
    "    logits = invoker.output[0]\n",
    "    logits = logits[0,-1,:] # only over the final token\n",
    "    probs = logits.softmax(dim=-1)\n",
    "    \n",
    "    sorted_indices = t.argsort(probs, descending=True)\n",
    "    val = model.tokenizer(answer).input_ids[0]\n",
    "    rank = (sorted_indices == val[0]).nonzero(as_tuple=True)[0]\n",
    "    \n",
    "    print(f\"[bold]Rank: {rank.item()}        Logit: {logits[val].item():.3f} Prob: {probs[val].item():.3f} Token: |{model.tokenizer.decode(val)}|[/]\")\n",
    "    \n",
    "    for i, (tok, prob) in enumerate(zip(probs.topk(10).indices, probs.topk(10).values)):\n",
    "        print(f\"Top {i}th token. Logit: {logits[tok]:.3f} Prob: {prob:.3f} Token: |{model.tokenizer.decode(tok)}|\")"
   ]
  },
  {
   "cell_type": "code",
   "execution_count": 8,
   "id": "c801ac32-5df1-46cb-8024-8067d9c29b84",
   "metadata": {},
   "outputs": [
    {
     "data": {
      "text/html": [
       "<pre style=\"white-space:pre;overflow-x:auto;line-height:normal;font-family:Menlo,'DejaVu Sans Mono',consolas,'Courier New',monospace\"><span style=\"font-weight: bold\">Rank: </span><span style=\"color: #008080; text-decoration-color: #008080; font-weight: bold\">0</span><span style=\"font-weight: bold\">        Logit: </span><span style=\"color: #008080; text-decoration-color: #008080; font-weight: bold\">-96.798</span><span style=\"font-weight: bold\"> Prob: </span><span style=\"color: #008080; text-decoration-color: #008080; font-weight: bold\">0.153</span><span style=\"font-weight: bold\"> Token: | France|</span>\n",
       "</pre>\n"
      ],
      "text/plain": [
       "\u001b[1mRank: \u001b[0m\u001b[1;36m0\u001b[0m\u001b[1m        Logit: \u001b[0m\u001b[1;36m-96.798\u001b[0m\u001b[1m Prob: \u001b[0m\u001b[1;36m0.153\u001b[0m\u001b[1m Token: | France|\u001b[0m\n"
      ]
     },
     "metadata": {},
     "output_type": "display_data"
    },
    {
     "data": {
      "text/html": [
       "<pre style=\"white-space:pre;overflow-x:auto;line-height:normal;font-family:Menlo,'DejaVu Sans Mono',consolas,'Courier New',monospace\">Top 0th token. Logit: <span style=\"color: #008080; text-decoration-color: #008080; font-weight: bold\">-96.798</span> Prob: <span style=\"color: #008080; text-decoration-color: #008080; font-weight: bold\">0.153</span> Token: | France|\n",
       "</pre>\n"
      ],
      "text/plain": [
       "Top 0th token. Logit: \u001b[1;36m-96.798\u001b[0m Prob: \u001b[1;36m0.153\u001b[0m Token: | France|\n"
      ]
     },
     "metadata": {},
     "output_type": "display_data"
    },
    {
     "data": {
      "text/html": [
       "<pre style=\"white-space:pre;overflow-x:auto;line-height:normal;font-family:Menlo,'DejaVu Sans Mono',consolas,'Courier New',monospace\">Top 1th token. Logit: <span style=\"color: #008080; text-decoration-color: #008080; font-weight: bold\">-97.523</span> Prob: <span style=\"color: #008080; text-decoration-color: #008080; font-weight: bold\">0.074</span> Token: | his|\n",
       "</pre>\n"
      ],
      "text/plain": [
       "Top 1th token. Logit: \u001b[1;36m-97.523\u001b[0m Prob: \u001b[1;36m0.074\u001b[0m Token: | his|\n"
      ]
     },
     "metadata": {},
     "output_type": "display_data"
    },
    {
     "data": {
      "text/html": [
       "<pre style=\"white-space:pre;overflow-x:auto;line-height:normal;font-family:Menlo,'DejaVu Sans Mono',consolas,'Courier New',monospace\">Top 2th token. Logit: <span style=\"color: #008080; text-decoration-color: #008080; font-weight: bold\">-97.697</span> Prob: <span style=\"color: #008080; text-decoration-color: #008080; font-weight: bold\">0.062</span> Token: | the|\n",
       "</pre>\n"
      ],
      "text/plain": [
       "Top 2th token. Logit: \u001b[1;36m-97.697\u001b[0m Prob: \u001b[1;36m0.062\u001b[0m Token: | the|\n"
      ]
     },
     "metadata": {},
     "output_type": "display_data"
    },
    {
     "data": {
      "text/html": [
       "<pre style=\"white-space:pre;overflow-x:auto;line-height:normal;font-family:Menlo,'DejaVu Sans Mono',consolas,'Courier New',monospace\">Top 3th token. Logit: <span style=\"color: #008080; text-decoration-color: #008080; font-weight: bold\">-99.467</span> Prob: <span style=\"color: #008080; text-decoration-color: #008080; font-weight: bold\">0.011</span> Token: | Italy|\n",
       "</pre>\n"
      ],
      "text/plain": [
       "Top 3th token. Logit: \u001b[1;36m-99.467\u001b[0m Prob: \u001b[1;36m0.011\u001b[0m Token: | Italy|\n"
      ]
     },
     "metadata": {},
     "output_type": "display_data"
    },
    {
     "data": {
      "text/html": [
       "<pre style=\"white-space:pre;overflow-x:auto;line-height:normal;font-family:Menlo,'DejaVu Sans Mono',consolas,'Courier New',monospace\">Top 4th token. Logit: <span style=\"color: #008080; text-decoration-color: #008080; font-weight: bold\">-99.475</span> Prob: <span style=\"color: #008080; text-decoration-color: #008080; font-weight: bold\">0.011</span> Token: | Saint|\n",
       "</pre>\n"
      ],
      "text/plain": [
       "Top 4th token. Logit: \u001b[1;36m-99.475\u001b[0m Prob: \u001b[1;36m0.011\u001b[0m Token: | Saint|\n"
      ]
     },
     "metadata": {},
     "output_type": "display_data"
    },
    {
     "data": {
      "text/html": [
       "<pre style=\"white-space:pre;overflow-x:auto;line-height:normal;font-family:Menlo,'DejaVu Sans Mono',consolas,'Courier New',monospace\">Top 5th token. Logit: <span style=\"color: #008080; text-decoration-color: #008080; font-weight: bold\">-99.568</span> Prob: <span style=\"color: #008080; text-decoration-color: #008080; font-weight: bold\">0.010</span> Token: | French|\n",
       "</pre>\n"
      ],
      "text/plain": [
       "Top 5th token. Logit: \u001b[1;36m-99.568\u001b[0m Prob: \u001b[1;36m0.010\u001b[0m Token: | French|\n"
      ]
     },
     "metadata": {},
     "output_type": "display_data"
    },
    {
     "data": {
      "text/html": [
       "<pre style=\"white-space:pre;overflow-x:auto;line-height:normal;font-family:Menlo,'DejaVu Sans Mono',consolas,'Courier New',monospace\">Top 6th token. Logit: <span style=\"color: #008080; text-decoration-color: #008080; font-weight: bold\">-99.593</span> Prob: <span style=\"color: #008080; text-decoration-color: #008080; font-weight: bold\">0.009</span> Token: | Belgium|\n",
       "</pre>\n"
      ],
      "text/plain": [
       "Top 6th token. Logit: \u001b[1;36m-99.593\u001b[0m Prob: \u001b[1;36m0.009\u001b[0m Token: | Belgium|\n"
      ]
     },
     "metadata": {},
     "output_type": "display_data"
    },
    {
     "data": {
      "text/html": [
       "<pre style=\"white-space:pre;overflow-x:auto;line-height:normal;font-family:Menlo,'DejaVu Sans Mono',consolas,'Courier New',monospace\">Top 7th token. Logit: <span style=\"color: #008080; text-decoration-color: #008080; font-weight: bold\">-99.796</span> Prob: <span style=\"color: #008080; text-decoration-color: #008080; font-weight: bold\">0.008</span> Token: | Gren|\n",
       "</pre>\n"
      ],
      "text/plain": [
       "Top 7th token. Logit: \u001b[1;36m-99.796\u001b[0m Prob: \u001b[1;36m0.008\u001b[0m Token: | Gren|\n"
      ]
     },
     "metadata": {},
     "output_type": "display_data"
    },
    {
     "data": {
      "text/html": [
       "<pre style=\"white-space:pre;overflow-x:auto;line-height:normal;font-family:Menlo,'DejaVu Sans Mono',consolas,'Courier New',monospace\">Top 8th token. Logit: <span style=\"color: #008080; text-decoration-color: #008080; font-weight: bold\">-99.951</span> Prob: <span style=\"color: #008080; text-decoration-color: #008080; font-weight: bold\">0.007</span> Token: | Portugal|\n",
       "</pre>\n"
      ],
      "text/plain": [
       "Top 8th token. Logit: \u001b[1;36m-99.951\u001b[0m Prob: \u001b[1;36m0.007\u001b[0m Token: | Portugal|\n"
      ]
     },
     "metadata": {},
     "output_type": "display_data"
    },
    {
     "data": {
      "text/html": [
       "<pre style=\"white-space:pre;overflow-x:auto;line-height:normal;font-family:Menlo,'DejaVu Sans Mono',consolas,'Courier New',monospace\">Top 9th token. Logit: <span style=\"color: #008080; text-decoration-color: #008080; font-weight: bold\">-99.974</span> Prob: <span style=\"color: #008080; text-decoration-color: #008080; font-weight: bold\">0.006</span> Token: | Algeria|\n",
       "</pre>\n"
      ],
      "text/plain": [
       "Top 9th token. Logit: \u001b[1;36m-99.974\u001b[0m Prob: \u001b[1;36m0.006\u001b[0m Token: | Algeria|\n"
      ]
     },
     "metadata": {},
     "output_type": "display_data"
    }
   ],
   "source": [
    "# model.tokenizer(answers).input_ids[0]\n",
    "test_prompt(prompts, answers, model)"
   ]
  },
  {
   "cell_type": "markdown",
   "id": "1cefefe5-63b0-426d-b53c-5ec562f39f7a",
   "metadata": {},
   "source": [
    "### Exercise: Calculate probabilities across a batch of tokens"
   ]
  },
  {
   "cell_type": "code",
   "execution_count": 9,
   "id": "4fa531bc-37c4-4ad1-baf3-dc60ee235c2b",
   "metadata": {},
   "outputs": [
    {
     "name": "stderr",
     "output_type": "stream",
     "text": [
      "You're using a GPT2TokenizerFast tokenizer. Please note that with a fast tokenizer, using the `__call__` method is faster than using a method to encode the text followed by a call to the `pad` method to get a padded encoding.\n"
     ]
    }
   ],
   "source": [
    "prompts, answers = aggregate_prompts(df, 200, prepend_space=True)\n",
    "\n",
    "with model.generate(max_new_tokens=1) as generator:\n",
    "    with generator.invoke(prompts) as invoker:\n",
    "        out = model.lm_head.output.t[-1].save()\n",
    "\n",
    "out = out.value"
   ]
  },
  {
   "cell_type": "code",
   "execution_count": 10,
   "id": "0256e37f-c70b-4d4e-9594-b058f0e40b78",
   "metadata": {},
   "outputs": [
    {
     "data": {
      "text/plain": [
       "tensor(0.0915, device='cuda:0')"
      ]
     },
     "execution_count": 10,
     "metadata": {},
     "output_type": "execute_result"
    }
   ],
   "source": [
    "probs = out.softmax(dim=-1)\n",
    "indices_tensor = t.tensor([model.tokenizer.encode(a) for a in answers]).to(device)\n",
    "top_probs = t.gather(probs, 1, indices_tensor)\n",
    "top_probs.mean()"
   ]
  },
  {
   "cell_type": "markdown",
   "id": "12e4c84a-741e-451c-a97f-aa1daa084edd",
   "metadata": {},
   "source": [
    "Broken runs with forward pass."
   ]
  },
  {
   "cell_type": "code",
   "execution_count": 11,
   "id": "075b372f-fd2e-4fbf-89c9-318fbbda097d",
   "metadata": {
    "collapsed": true,
    "jupyter": {
     "outputs_hidden": true,
     "source_hidden": true
    }
   },
   "outputs": [
    {
     "data": {
      "text/html": [
       "<pre style=\"white-space:pre;overflow-x:auto;line-height:normal;font-family:Menlo,'DejaVu Sans Mono',consolas,'Courier New',monospace\"><span style=\"font-weight: bold\">[</span>\n",
       "    <span style=\"color: #008000; text-decoration-color: #008000\">'Saint-Marcellin was created in the country of'</span>,\n",
       "    <span style=\"color: #008000; text-decoration-color: #008000\">'Law &amp; Order was released on'</span>,\n",
       "    <span style=\"color: #008000; text-decoration-color: #008000\">'Knowledge Graph is owned by'</span>,\n",
       "    <span style=\"color: #008000; text-decoration-color: #008000\">'Saint Valentine holds the position of the first'</span>,\n",
       "    <span style=\"color: #008000; text-decoration-color: #008000\">'Francis Blanche speaks during a news conference at the'</span>\n",
       "<span style=\"font-weight: bold\">]</span>\n",
       "</pre>\n"
      ],
      "text/plain": [
       "\u001b[1m[\u001b[0m\n",
       "    \u001b[32m'Saint-Marcellin was created in the country of'\u001b[0m,\n",
       "    \u001b[32m'Law & Order was released on'\u001b[0m,\n",
       "    \u001b[32m'Knowledge Graph is owned by'\u001b[0m,\n",
       "    \u001b[32m'Saint Valentine holds the position of the first'\u001b[0m,\n",
       "    \u001b[32m'Francis Blanche speaks during a news conference at the'\u001b[0m\n",
       "\u001b[1m]\u001b[0m\n"
      ]
     },
     "metadata": {},
     "output_type": "display_data"
    },
    {
     "data": {
      "text/html": [
       "<pre style=\"white-space:pre;overflow-x:auto;line-height:normal;font-family:Menlo,'DejaVu Sans Mono',consolas,'Courier New',monospace\">Saint-Marcellin was created in the country of\n",
       "</pre>\n"
      ],
      "text/plain": [
       "Saint-Marcellin was created in the country of\n"
      ]
     },
     "metadata": {},
     "output_type": "display_data"
    },
    {
     "ename": "NameError",
     "evalue": "name 'new_out' is not defined",
     "output_type": "error",
     "traceback": [
      "\u001b[0;31m---------------------------------------------------------------------------\u001b[0m",
      "\u001b[0;31mNameError\u001b[0m                                 Traceback (most recent call last)",
      "Cell \u001b[0;32mIn[11], line 12\u001b[0m\n\u001b[1;32m      9\u001b[0m out_a \u001b[38;5;241m=\u001b[39m out_a\u001b[38;5;241m.\u001b[39mvalue\n\u001b[1;32m     10\u001b[0m out_b \u001b[38;5;241m=\u001b[39m invoker\u001b[38;5;241m.\u001b[39moutput[\u001b[38;5;241m0\u001b[39m]\n\u001b[0;32m---> 12\u001b[0m \u001b[38;5;28mprint\u001b[39m(\u001b[43mnew_out\u001b[49m[\u001b[38;5;241m0\u001b[39m]\u001b[38;5;241m.\u001b[39margmax())\n\u001b[1;32m     13\u001b[0m \u001b[38;5;28mprint\u001b[39m(out_b[\u001b[38;5;241m0\u001b[39m,\u001b[38;5;241m-\u001b[39m\u001b[38;5;241m1\u001b[39m,:]\u001b[38;5;241m.\u001b[39margmax())\n\u001b[1;32m     15\u001b[0m \u001b[38;5;28;01mwith\u001b[39;00m model\u001b[38;5;241m.\u001b[39mforward(prompts[\u001b[38;5;241m0\u001b[39m]) \u001b[38;5;28;01mas\u001b[39;00m invoker:\n",
      "\u001b[0;31mNameError\u001b[0m: name 'new_out' is not defined"
     ]
    }
   ],
   "source": [
    "prompts, answers = aggregate_prompts(df, 100, prepend_space=True)\n",
    "\n",
    "print(prompts[0:5])\n",
    "print(prompts[0])\n",
    "\n",
    "with model.forward(prompts) as invoker:\n",
    "    out_a = model.lm_head.output.t[-1].save()\n",
    "\n",
    "out_a = out_a.value\n",
    "out_b = invoker.output[0]\n",
    "\n",
    "print(new_out[0].argmax())\n",
    "print(out_b[0,-1,:].argmax())\n",
    "\n",
    "with model.forward(prompts[0]) as invoker:\n",
    "    out_c = model.lm_head.output.t[-1].save()\n",
    "\n",
    "out_c = out_c.value\n",
    "out_d = invoker.output[0]\n",
    "\n",
    "print(out_c[0].argmax())\n",
    "print(out_d[0,-1,:].argmax())\n",
    "\n"
   ]
  },
  {
   "cell_type": "markdown",
   "id": "d43ed2fb-fc42-436a-9a09-58496e743729",
   "metadata": {},
   "source": [
    "# Module 2 (Activation Patching)"
   ]
  },
  {
   "cell_type": "code",
   "execution_count": 11,
   "id": "5c25bb28-896c-4f21-b7db-5b12949e78a4",
   "metadata": {},
   "outputs": [
    {
     "data": {
      "text/plain": [
       "GPT2LMHeadModel(\n",
       "  (transformer): GPT2Model(\n",
       "    (wte): Embedding(50257, 768)\n",
       "    (wpe): Embedding(1024, 768)\n",
       "    (drop): Dropout(p=0.1, inplace=False)\n",
       "    (h): ModuleList(\n",
       "      (0-11): 12 x GPT2Block(\n",
       "        (ln_1): LayerNorm((768,), eps=1e-05, elementwise_affine=True)\n",
       "        (attn): GPT2AttentionAltered(\n",
       "          (c_attn): Conv1D()\n",
       "          (c_proj): Conv1D()\n",
       "          (attn_dropout): Dropout(p=0.1, inplace=False)\n",
       "          (resid_dropout): Dropout(p=0.1, inplace=False)\n",
       "          (query): WrapperModule()\n",
       "          (key): WrapperModule()\n",
       "          (value): WrapperModule()\n",
       "        )\n",
       "        (ln_2): LayerNorm((768,), eps=1e-05, elementwise_affine=True)\n",
       "        (mlp): GPT2MLP(\n",
       "          (c_fc): Conv1D()\n",
       "          (c_proj): Conv1D()\n",
       "          (act): NewGELUActivation()\n",
       "          (dropout): Dropout(p=0.1, inplace=False)\n",
       "        )\n",
       "      )\n",
       "    )\n",
       "    (ln_f): LayerNorm((768,), eps=1e-05, elementwise_affine=True)\n",
       "  )\n",
       "  (lm_head): Linear(in_features=768, out_features=50257, bias=False)\n",
       ")"
      ]
     },
     "execution_count": 11,
     "metadata": {},
     "output_type": "execute_result"
    }
   ],
   "source": [
    "model"
   ]
  },
  {
   "cell_type": "code",
   "execution_count": null,
   "id": "01ef4b7f-81fc-4f93-92ea-b998e0e694b2",
   "metadata": {},
   "outputs": [],
   "source": [
    "clean_run = t.zeros((12, ))"
   ]
  },
  {
   "cell_type": "code",
   "execution_count": 12,
   "id": "ee8bbe11-e299-47c3-8f1f-7fe40ea107b0",
   "metadata": {},
   "outputs": [],
   "source": [
    "prompts, answers = aggregate_prompts(df, 10, prepend_space=True)\n",
    "\n",
    "with model.generate(max_new_tokens=1) as generator:\n",
    "    with generator.invoke(prompts) as invoker:\n",
    "        out = model.lm_head.output.t[-1].save()\n",
    "\n",
    "out = out.value"
   ]
  },
  {
   "cell_type": "code",
   "execution_count": 14,
   "id": "233ee713-1bf7-4a64-8072-544007af7809",
   "metadata": {},
   "outputs": [
    {
     "data": {
      "text/plain": [
       "tensor([[-0.5354, -0.6534, -3.6208,  ..., -5.4662, -6.7906,  0.6084],\n",
       "        [ 1.3311,  0.7088, -4.7778,  ..., -7.7284, -8.6475,  1.0048],\n",
       "        [ 0.5023, -0.4923, -3.0727,  ..., -4.8837, -5.9296,  2.4507],\n",
       "        ...,\n",
       "        [ 0.2967,  0.0909, -4.2231,  ..., -6.5604, -8.5986,  0.8769],\n",
       "        [-0.2706,  0.0806, -3.7333,  ..., -6.6863, -9.6483,  0.6361],\n",
       "        [ 0.7759,  0.3987, -4.9502,  ..., -7.4262, -8.2131,  1.0130]],\n",
       "       device='cuda:0')"
      ]
     },
     "execution_count": 14,
     "metadata": {},
     "output_type": "execute_result"
    }
   ],
   "source": [
    "out"
   ]
  },
  {
   "cell_type": "code",
   "execution_count": 22,
   "id": "94db0ff0-c373-4243-8194-39563435260a",
   "metadata": {},
   "outputs": [
    {
     "data": {
      "text/plain": [
       "[[53, 7899, 5674, 361],\n",
       " [3856, 1381, 7849],\n",
       " [16353, 856, 13, 785],\n",
       " [464, 4403, 9801, 17003],\n",
       " [14155, 4677],\n",
       " [33704, 1904, 27768, 3905, 72],\n",
       " [39075, 11339],\n",
       " [41984, 439, 12010],\n",
       " [35882, 14485, 6869, 1158],\n",
       " [5005, 957, 26333, 5351, 19220, 2123, 6428, 19220]]"
      ]
     },
     "execution_count": 22,
     "metadata": {},
     "output_type": "execute_result"
    }
   ],
   "source": [
    "temp = list(df.subject[0:10])\n",
    "[model.tokenizer.encode(t) for t in temp]"
   ]
  },
  {
   "cell_type": "code",
   "execution_count": 28,
   "id": "0d639078-6c04-4931-b0d2-08c55b32ed44",
   "metadata": {},
   "outputs": [
    {
     "data": {
      "text/plain": [
       "'The original language of {} is'"
      ]
     },
     "execution_count": 28,
     "metadata": {},
     "output_type": "execute_result"
    }
   ],
   "source": [
    "df.iloc[9].template"
   ]
  },
  {
   "cell_type": "code",
   "execution_count": 32,
   "id": "cb8bf3ea-7985-407d-89cc-143405acdaf4",
   "metadata": {},
   "outputs": [
    {
     "data": {
      "text/plain": [
       "' {}'"
      ]
     },
     "execution_count": 32,
     "metadata": {},
     "output_type": "execute_result"
    }
   ],
   "source": [
    "model.tokenizer.decode(23884)"
   ]
  },
  {
   "cell_type": "code",
   "execution_count": 31,
   "id": "e49d1212-0f33-4ef6-a52f-0e66b9d71d51",
   "metadata": {},
   "outputs": [
    {
     "data": {
      "text/html": [
       "<pre style=\"white-space:pre;overflow-x:auto;line-height:normal;font-family:Menlo,'DejaVu Sans Mono',consolas,'Courier New',monospace\"><span style=\"font-weight: bold\">[</span><span style=\"color: #008080; text-decoration-color: #008080; font-weight: bold\">464</span>, <span style=\"color: #008080; text-decoration-color: #008080; font-weight: bold\">2656</span>, <span style=\"color: #008080; text-decoration-color: #008080; font-weight: bold\">3303</span>, <span style=\"color: #008080; text-decoration-color: #008080; font-weight: bold\">286</span>, <span style=\"color: #008080; text-decoration-color: #008080; font-weight: bold\">23884</span>, <span style=\"color: #008080; text-decoration-color: #008080; font-weight: bold\">318</span><span style=\"font-weight: bold\">]</span>\n",
       "</pre>\n"
      ],
      "text/plain": [
       "\u001b[1m[\u001b[0m\u001b[1;36m464\u001b[0m, \u001b[1;36m2656\u001b[0m, \u001b[1;36m3303\u001b[0m, \u001b[1;36m286\u001b[0m, \u001b[1;36m23884\u001b[0m, \u001b[1;36m318\u001b[0m\u001b[1m]\u001b[0m\n"
      ]
     },
     "metadata": {},
     "output_type": "display_data"
    },
    {
     "data": {
      "text/plain": [
       "['The', ' original', ' language', ' of', ' {}', ' is']"
      ]
     },
     "execution_count": 31,
     "metadata": {},
     "output_type": "execute_result"
    }
   ],
   "source": [
    "temp = model.tokenizer.encode(df.iloc[9].template)\n",
    "print(temp)\n",
    "[model.tokenizer.decode(t) for t in temp]"
   ]
  },
  {
   "cell_type": "code",
   "execution_count": null,
   "id": "6e4aec1b-d3fa-442d-83f3-f7a405942a00",
   "metadata": {},
   "outputs": [],
   "source": [
    "templates = mdf"
   ]
  },
  {
   "cell_type": "code",
   "execution_count": null,
   "id": "df9509d0-5fed-4488-92cc-8e1ea23d3d05",
   "metadata": {},
   "outputs": [],
   "source": [
    "# split the information "
   ]
  },
  {
   "cell_type": "code",
   "execution_count": 35,
   "id": "2777fb29-1f93-4714-8f7f-af4a546a6a33",
   "metadata": {},
   "outputs": [],
   "source": [
    "with model.generate(max_new_tokens=1) as generator:\n",
    "    with generator.invoke(df.iloc[9].prompt):\n",
    "        out = model.lm_head.output.save()\n",
    "\n",
    "out = out.value"
   ]
  },
  {
   "cell_type": "code",
   "execution_count": 36,
   "id": "daa08552-4e32-491f-8c1e-73f80893d550",
   "metadata": {},
   "outputs": [
    {
     "data": {
      "text/plain": [
       "torch.Size([1, 17, 50257])"
      ]
     },
     "execution_count": 36,
     "metadata": {},
     "output_type": "execute_result"
    }
   ],
   "source": [
    "out"
   ]
  },
  {
   "cell_type": "code",
   "execution_count": 14,
   "id": "9acb6752-69e3-42d1-8437-2cab4ea6b069",
   "metadata": {},
   "outputs": [
    {
     "data": {
      "text/plain": [
       "[383, 4403, 9801, 17003]"
      ]
     },
     "execution_count": 14,
     "metadata": {},
     "output_type": "execute_result"
    }
   ],
   "source": [
    "model.tokenizer.encode(\" The Big Bang Theory\")"
   ]
  },
  {
   "cell_type": "code",
   "execution_count": null,
   "id": "cd27deb5-37e6-4487-b27c-07592cea0a55",
   "metadata": {},
   "outputs": [],
   "source": [
    "# First subject token\n",
    "# middle subject token\n",
    "# last subject token\n",
    "# first subsequent token\n",
    "# further tokens\n",
    "# last token"
   ]
  }
 ],
 "metadata": {
  "kernelspec": {
   "display_name": "Python 3 (ipykernel)",
   "language": "python",
   "name": "python3"
  },
  "language_info": {
   "codemirror_mode": {
    "name": "ipython",
    "version": 3
   },
   "file_extension": ".py",
   "mimetype": "text/x-python",
   "name": "python",
   "nbconvert_exporter": "python",
   "pygments_lexer": "ipython3",
   "version": "3.8.18"
  }
 },
 "nbformat": 4,
 "nbformat_minor": 5
}
