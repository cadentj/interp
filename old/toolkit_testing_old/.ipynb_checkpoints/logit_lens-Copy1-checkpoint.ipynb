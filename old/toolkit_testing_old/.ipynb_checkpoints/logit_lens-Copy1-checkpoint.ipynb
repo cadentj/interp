{
 "cells": [
  {
   "cell_type": "code",
   "execution_count": 1,
   "id": "8d66d5e6-d3ba-42c8-9b07-04e6c635ef64",
   "metadata": {},
   "outputs": [],
   "source": [
    "from lens import LogitLens\n",
    "from nnsight import LanguageModel"
   ]
  },
  {
   "cell_type": "code",
   "execution_count": 2,
   "id": "e4141eea-916f-4f67-9f26-0303636c0617",
   "metadata": {},
   "outputs": [],
   "source": [
    "model = LanguageModel('EleutherAI/pythia-1B', device_map=\"cuda\")"
   ]
  },
  {
   "cell_type": "code",
   "execution_count": 3,
   "id": "7f6bad60-ebb1-4cf2-9d65-b4a76bbcc921",
   "metadata": {},
   "outputs": [],
   "source": [
    "layers = model.gpt_neox.layers\n",
    "out = [model.gpt_neox.final_layer_norm, model.embed_out]\n",
    "\n",
    "lens = LogitLens(layers, out)"
   ]
  },
  {
   "cell_type": "code",
   "execution_count": 5,
   "id": "ee021f9c-fec1-46b7-ba6c-9a20b15dce78",
   "metadata": {},
   "outputs": [],
   "source": [
    "prompt = \"John and Mary went to the store. John handed the milk to\"\n",
    "\n",
    "with model.forward() as runner:\n",
    "    with runner.invoke(prompt) as invoker:\n",
    "        # should i call save here? rather than in the class.\n",
    "        lens()\n",
    "        probs = lens.all_probs"
   ]
  },
  {
   "cell_type": "code",
   "execution_count": null,
   "id": "ae51870e-7dba-47c3-8809-3f3a882553d2",
   "metadata": {},
   "outputs": [],
   "source": [
    "import plotly.express as px\n",
    "\n",
    "mary_token = model.tokenizer(\" Mary\").input_ids[0] # token id for Mary\n",
    "\n",
    "px.line(\n",
    "    [layer_probs.value[mary_token].item() for layer_probs in probs],\n",
    "    title=\"Probability of Mary after each layer, according to logit lens\",\n",
    "    labels={\"value\":\"Layer\", \"index\":\"Probability\"}\n",
    ")"
   ]
  }
 ],
 "metadata": {
  "kernelspec": {
   "display_name": "Python 3 (ipykernel)",
   "language": "python",
   "name": "python3"
  },
  "language_info": {
   "codemirror_mode": {
    "name": "ipython",
    "version": 3
   },
   "file_extension": ".py",
   "mimetype": "text/x-python",
   "name": "python",
   "nbconvert_exporter": "python",
   "pygments_lexer": "ipython3",
   "version": "3.8.18"
  }
 },
 "nbformat": 4,
 "nbformat_minor": 5
}
