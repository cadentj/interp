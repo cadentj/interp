{
 "cells": [
  {
   "cell_type": "code",
   "execution_count": 1,
   "id": "827779ec-948e-4f01-a127-8c58b287c126",
   "metadata": {},
   "outputs": [],
   "source": [
    "from nnsight import LanguageModel\n",
    "import torch"
   ]
  },
  {
   "cell_type": "code",
   "execution_count": 2,
   "id": "1c0fc34a-c3db-4f02-a72a-93220cf1790f",
   "metadata": {},
   "outputs": [],
   "source": [
    "device = torch.device(\"cuda\" if torch.cuda.is_available() else \"cpu\")"
   ]
  },
  {
   "cell_type": "code",
   "execution_count": 3,
   "id": "195b0e7e-6c17-41d1-992a-ed2d95176dce",
   "metadata": {},
   "outputs": [
    {
     "name": "stdout",
     "output_type": "stream",
     "text": [
      "loaded meta\n",
      "loading custom\n",
      "<class 'transformers.models.gpt2.tokenization_gpt2_fast.GPT2TokenizerFast'>\n"
     ]
    }
   ],
   "source": [
    "model = LanguageModel(\"gpt2\", device_map=device)"
   ]
  },
  {
   "cell_type": "code",
   "execution_count": 9,
   "id": "3eecb344-2f66-468c-9f69-7f576824a377",
   "metadata": {},
   "outputs": [
    {
     "name": "stdout",
     "output_type": "stream",
     "text": [
      "hello\n"
     ]
    }
   ],
   "source": [
    "def temp(te: str):\n",
    "    print(te)\n",
    "\n",
    "temp('hello')"
   ]
  },
  {
   "cell_type": "code",
   "execution_count": 4,
   "id": "d358d047-143b-4aa9-80a2-8621b090970b",
   "metadata": {},
   "outputs": [
    {
     "ename": "AttributeError",
     "evalue": "'GPT2TokenizerFast' object has no attribute 'to_str_tok'",
     "output_type": "error",
     "traceback": [
      "\u001b[0;31m---------------------------------------------------------------------------\u001b[0m",
      "\u001b[0;31mAttributeError\u001b[0m                            Traceback (most recent call last)",
      "Cell \u001b[0;32mIn[4], line 1\u001b[0m\n\u001b[0;32m----> 1\u001b[0m \u001b[43mmodel\u001b[49m\u001b[38;5;241;43m.\u001b[39;49m\u001b[43mtokenizer\u001b[49m\u001b[38;5;241;43m.\u001b[39;49m\u001b[43mto_str_tok\u001b[49m(\u001b[38;5;124m\"\u001b[39m\u001b[38;5;124mhello\u001b[39m\u001b[38;5;124m\"\u001b[39m)\n",
      "\u001b[0;31mAttributeError\u001b[0m: 'GPT2TokenizerFast' object has no attribute 'to_str_tok'"
     ]
    }
   ],
   "source": [
    "model.tokenizer.to_str_tok(\"hello\")"
   ]
  },
  {
   "cell_type": "code",
   "execution_count": 4,
   "id": "59726776-834b-45d4-9c43-61a0e800e981",
   "metadata": {},
   "outputs": [
    {
     "data": {
      "text/plain": [
       "GPT2LMHeadModel(\n",
       "  (transformer): GPT2Model(\n",
       "    (wte): Embedding(50257, 768)\n",
       "    (wpe): Embedding(1024, 768)\n",
       "    (drop): Dropout(p=0.1, inplace=False)\n",
       "    (h): ModuleList(\n",
       "      (0-11): 12 x GPT2Block(\n",
       "        (ln_1): LayerNorm((768,), eps=1e-05, elementwise_affine=True)\n",
       "        (attn): GPT2AttentionAltered(\n",
       "          (c_attn): Conv1D()\n",
       "          (c_proj): Conv1D()\n",
       "          (attn_dropout): Dropout(p=0.1, inplace=False)\n",
       "          (resid_dropout): Dropout(p=0.1, inplace=False)\n",
       "          (query): WrapperModule()\n",
       "          (key): WrapperModule()\n",
       "          (value): WrapperModule()\n",
       "        )\n",
       "        (ln_2): LayerNorm((768,), eps=1e-05, elementwise_affine=True)\n",
       "        (mlp): GPT2MLP(\n",
       "          (c_fc): Conv1D()\n",
       "          (c_proj): Conv1D()\n",
       "          (act): NewGELUActivation()\n",
       "          (dropout): Dropout(p=0.1, inplace=False)\n",
       "        )\n",
       "      )\n",
       "    )\n",
       "    (ln_f): LayerNorm((768,), eps=1e-05, elementwise_affine=True)\n",
       "  )\n",
       "  (lm_head): Linear(in_features=768, out_features=50257, bias=False)\n",
       ")"
      ]
     },
     "execution_count": 4,
     "metadata": {},
     "output_type": "execute_result"
    }
   ],
   "source": [
    "model"
   ]
  },
  {
   "cell_type": "code",
   "execution_count": 17,
   "id": "e53056fb-ccdd-4980-9a3e-188e2ed51c12",
   "metadata": {},
   "outputs": [
    {
     "data": {
      "text/plain": [
       "Parameter containing:\n",
       "tensor(..., device='meta', size=(768, 768), requires_grad=True)"
      ]
     },
     "execution_count": 17,
     "metadata": {},
     "output_type": "execute_result"
    }
   ],
   "source": [
    "model.transformer.h[0].attn.c_proj.weight"
   ]
  },
  {
   "cell_type": "code",
   "execution_count": null,
   "id": "0e295e6a-35c5-475e-ad7f-a48dd29ead22",
   "metadata": {},
   "outputs": [],
   "source": [
    "model."
   ]
  },
  {
   "cell_type": "code",
   "execution_count": 23,
   "id": "6249b4df-a1e8-436b-b68d-c3a299490bab",
   "metadata": {},
   "outputs": [],
   "source": [
    "with model.forward(\"The city of Paris is located in\") as invoker:\n",
    "    attention = model.transformer.h[0].attn.attn_dropout.input.save()"
   ]
  },
  {
   "cell_type": "code",
   "execution_count": 12,
   "id": "0b74a7e4-9ec6-4ca1-954a-eb6bf70fa6c7",
   "metadata": {},
   "outputs": [
    {
     "data": {
      "text/plain": [
       "7"
      ]
     },
     "execution_count": 12,
     "metadata": {},
     "output_type": "execute_result"
    }
   ],
   "source": [
    "len(model.tokenizer.encode('The city of Paris is located in'))"
   ]
  },
  {
   "cell_type": "code",
   "execution_count": 20,
   "id": "3064f65b-a6d5-4f08-b346-6a65aa0c190b",
   "metadata": {},
   "outputs": [],
   "source": [
    "import circuitsvis as cv"
   ]
  },
  {
   "cell_type": "code",
   "execution_count": 21,
   "id": "509fb6b3-2ed3-4e7f-bf84-930f7c9bad55",
   "metadata": {},
   "outputs": [
    {
     "data": {
      "text/plain": [
       "(torch.Size([1, 12, 7, 64]),)"
      ]
     },
     "execution_count": 21,
     "metadata": {},
     "output_type": "execute_result"
    }
   ],
   "source": [
    "attention.shape"
   ]
  },
  {
   "cell_type": "code",
   "execution_count": 29,
   "id": "180636fd-9cb7-4592-ba19-76c206146bc7",
   "metadata": {},
   "outputs": [
    {
     "data": {
      "text/plain": [
       "{'input_ids': [31373, 11, 995], 'attention_mask': [1, 1, 1]}"
      ]
     },
     "execution_count": 29,
     "metadata": {},
     "output_type": "execute_result"
    }
   ],
   "source": [
    "model.tokenizer(\"hello, world\")"
   ]
  },
  {
   "cell_type": "code",
   "execution_count": 37,
   "id": "11eb5508-0a0c-4f0d-807d-a3510fc3cbef",
   "metadata": {},
   "outputs": [
    {
     "data": {
      "text/plain": [
       "[13909, 3069, 11, 995]"
      ]
     },
     "execution_count": 37,
     "metadata": {},
     "output_type": "execute_result"
    }
   ],
   "source": [
    "model.tokenizer.encode(\"HELL, world\")"
   ]
  },
  {
   "cell_type": "code",
   "execution_count": 39,
   "id": "14246dad-217d-4215-926d-ebed2156b104",
   "metadata": {},
   "outputs": [
    {
     "data": {
      "text/plain": [
       "GPT2LMHeadModel(\n",
       "  (transformer): GPT2Model(\n",
       "    (wte): Embedding(50257, 768)\n",
       "    (wpe): Embedding(1024, 768)\n",
       "    (drop): Dropout(p=0.1, inplace=False)\n",
       "    (h): ModuleList(\n",
       "      (0-11): 12 x GPT2Block(\n",
       "        (ln_1): LayerNorm((768,), eps=1e-05, elementwise_affine=True)\n",
       "        (attn): GPT2AttentionAltered(\n",
       "          (c_attn): Conv1D()\n",
       "          (c_proj): Conv1D()\n",
       "          (attn_dropout): Dropout(p=0.1, inplace=False)\n",
       "          (resid_dropout): Dropout(p=0.1, inplace=False)\n",
       "          (query): WrapperModule()\n",
       "          (key): WrapperModule()\n",
       "          (value): WrapperModule()\n",
       "        )\n",
       "        (ln_2): LayerNorm((768,), eps=1e-05, elementwise_affine=True)\n",
       "        (mlp): GPT2MLP(\n",
       "          (c_fc): Conv1D()\n",
       "          (c_proj): Conv1D()\n",
       "          (act): NewGELUActivation()\n",
       "          (dropout): Dropout(p=0.1, inplace=False)\n",
       "        )\n",
       "      )\n",
       "    )\n",
       "    (ln_f): LayerNorm((768,), eps=1e-05, elementwise_affine=True)\n",
       "  )\n",
       "  (lm_head): Linear(in_features=768, out_features=50257, bias=False)\n",
       ")"
      ]
     },
     "execution_count": 39,
     "metadata": {},
     "output_type": "execute_result"
    }
   ],
   "source": [
    "model"
   ]
  },
  {
   "cell_type": "code",
   "execution_count": 38,
   "id": "a9407a0d-6f02-46c2-8773-664f942a1727",
   "metadata": {},
   "outputs": [
    {
     "ename": "TypeError",
     "evalue": "argument 'skip_special_tokens': 'int' object cannot be converted to 'PyBool'",
     "output_type": "error",
     "traceback": [
      "\u001b[0;31m---------------------------------------------------------------------------\u001b[0m",
      "\u001b[0;31mTypeError\u001b[0m                                 Traceback (most recent call last)",
      "Cell \u001b[0;32mIn[38], line 1\u001b[0m\n\u001b[0;32m----> 1\u001b[0m \u001b[43mmodel\u001b[49m\u001b[38;5;241;43m.\u001b[39;49m\u001b[43mtokenizer\u001b[49m\u001b[38;5;241;43m.\u001b[39;49m\u001b[43mdecode\u001b[49m\u001b[43m(\u001b[49m\u001b[38;5;241;43m13909\u001b[39;49m\u001b[43m,\u001b[49m\u001b[43m \u001b[49m\u001b[38;5;241;43m3069\u001b[39;49m\u001b[43m)\u001b[49m\n",
      "File \u001b[0;32m~/miniconda3/envs/interp/lib/python3.8/site-packages/transformers/tokenization_utils_base.py:3550\u001b[0m, in \u001b[0;36mPreTrainedTokenizerBase.decode\u001b[0;34m(self, token_ids, skip_special_tokens, clean_up_tokenization_spaces, **kwargs)\u001b[0m\n\u001b[1;32m   3547\u001b[0m \u001b[38;5;66;03m# Convert inputs to python lists\u001b[39;00m\n\u001b[1;32m   3548\u001b[0m token_ids \u001b[38;5;241m=\u001b[39m to_py_obj(token_ids)\n\u001b[0;32m-> 3550\u001b[0m \u001b[38;5;28;01mreturn\u001b[39;00m \u001b[38;5;28;43mself\u001b[39;49m\u001b[38;5;241;43m.\u001b[39;49m\u001b[43m_decode\u001b[49m\u001b[43m(\u001b[49m\n\u001b[1;32m   3551\u001b[0m \u001b[43m    \u001b[49m\u001b[43mtoken_ids\u001b[49m\u001b[38;5;241;43m=\u001b[39;49m\u001b[43mtoken_ids\u001b[49m\u001b[43m,\u001b[49m\n\u001b[1;32m   3552\u001b[0m \u001b[43m    \u001b[49m\u001b[43mskip_special_tokens\u001b[49m\u001b[38;5;241;43m=\u001b[39;49m\u001b[43mskip_special_tokens\u001b[49m\u001b[43m,\u001b[49m\n\u001b[1;32m   3553\u001b[0m \u001b[43m    \u001b[49m\u001b[43mclean_up_tokenization_spaces\u001b[49m\u001b[38;5;241;43m=\u001b[39;49m\u001b[43mclean_up_tokenization_spaces\u001b[49m\u001b[43m,\u001b[49m\n\u001b[1;32m   3554\u001b[0m \u001b[43m    \u001b[49m\u001b[38;5;241;43m*\u001b[39;49m\u001b[38;5;241;43m*\u001b[39;49m\u001b[43mkwargs\u001b[49m\u001b[43m,\u001b[49m\n\u001b[1;32m   3555\u001b[0m \u001b[43m\u001b[49m\u001b[43m)\u001b[49m\n",
      "File \u001b[0;32m~/miniconda3/envs/interp/lib/python3.8/site-packages/transformers/tokenization_utils_fast.py:573\u001b[0m, in \u001b[0;36mPreTrainedTokenizerFast._decode\u001b[0;34m(self, token_ids, skip_special_tokens, clean_up_tokenization_spaces, **kwargs)\u001b[0m\n\u001b[1;32m    571\u001b[0m \u001b[38;5;28;01mif\u001b[39;00m \u001b[38;5;28misinstance\u001b[39m(token_ids, \u001b[38;5;28mint\u001b[39m):\n\u001b[1;32m    572\u001b[0m     token_ids \u001b[38;5;241m=\u001b[39m [token_ids]\n\u001b[0;32m--> 573\u001b[0m text \u001b[38;5;241m=\u001b[39m \u001b[38;5;28;43mself\u001b[39;49m\u001b[38;5;241;43m.\u001b[39;49m\u001b[43m_tokenizer\u001b[49m\u001b[38;5;241;43m.\u001b[39;49m\u001b[43mdecode\u001b[49m\u001b[43m(\u001b[49m\u001b[43mtoken_ids\u001b[49m\u001b[43m,\u001b[49m\u001b[43m \u001b[49m\u001b[43mskip_special_tokens\u001b[49m\u001b[38;5;241;43m=\u001b[39;49m\u001b[43mskip_special_tokens\u001b[49m\u001b[43m)\u001b[49m\n\u001b[1;32m    575\u001b[0m clean_up_tokenization_spaces \u001b[38;5;241m=\u001b[39m (\n\u001b[1;32m    576\u001b[0m     clean_up_tokenization_spaces\n\u001b[1;32m    577\u001b[0m     \u001b[38;5;28;01mif\u001b[39;00m clean_up_tokenization_spaces \u001b[38;5;129;01mis\u001b[39;00m \u001b[38;5;129;01mnot\u001b[39;00m \u001b[38;5;28;01mNone\u001b[39;00m\n\u001b[1;32m    578\u001b[0m     \u001b[38;5;28;01melse\u001b[39;00m \u001b[38;5;28mself\u001b[39m\u001b[38;5;241m.\u001b[39mclean_up_tokenization_spaces\n\u001b[1;32m    579\u001b[0m )\n\u001b[1;32m    580\u001b[0m \u001b[38;5;28;01mif\u001b[39;00m clean_up_tokenization_spaces:\n",
      "\u001b[0;31mTypeError\u001b[0m: argument 'skip_special_tokens': 'int' object cannot be converted to 'PyBool'"
     ]
    }
   ],
   "source": [
    "model.tokenizer.decode(13909, 3069)"
   ]
  },
  {
   "cell_type": "code",
   "execution_count": 26,
   "id": "457279c8-4b68-4b12-9887-5685f0ee0b05",
   "metadata": {},
   "outputs": [
    {
     "data": {
      "text/html": [
       "<div id=\"circuits-vis-931484f1-2063\" style=\"margin: 15px 0;\"/>\n",
       "    <script crossorigin type=\"module\">\n",
       "    import { render, AttentionPatterns } from \"https://unpkg.com/circuitsvis@1.41.0/dist/cdn/esm.js\";\n",
       "    render(\n",
       "      \"circuits-vis-931484f1-2063\",\n",
       "      AttentionPatterns,\n",
       "      {\"tokens\": [464, 1748, 286, 6342, 318, 5140, 287], \"attention\": [[[[1.0, 0.0, 0.0, 0.0, 0.0, 0.0, 0.0], [0.9127835631370544, 0.08721640706062317, 0.0, 0.0, 0.0, 0.0, 0.0], [0.7686979174613953, 0.14918898046016693, 0.0821131020784378, 0.0, 0.0, 0.0, 0.0], [0.5448101758956909, 0.10285701602697372, 0.1141398698091507, 0.23819296061992645, 0.0, 0.0, 0.0], [0.5973354578018188, 0.09639871120452881, 0.06127096340060234, 0.16550301015377045, 0.07949192076921463, 0.0, 0.0], [0.4142840802669525, 0.11020609736442566, 0.11889304965734482, 0.07417402416467667, 0.17073683440685272, 0.11170598119497299, 0.0], [0.41507667303085327, 0.09046868979930878, 0.05354154482483864, 0.14547796547412872, 0.09457656741142273, 0.1704670637845993, 0.030391434207558632]], [[1.0, 0.0, 0.0, 0.0, 0.0, 0.0, 0.0], [0.0010569500736892223, 0.998943030834198, 0.0, 0.0, 0.0, 0.0, 0.0], [0.0027308270800858736, 0.0008800653158687055, 0.9963891506195068, 0.0, 0.0, 0.0, 0.0], [4.942463056067936e-05, 0.001606342033483088, 8.767256804276258e-05, 0.998256504535675, 0.0, 0.0, 0.0], [0.003236172953620553, 0.0013911366695538163, 0.015261502005159855, 0.0013143689138814807, 0.9787968397140503, 0.0, 0.0], [0.000444071542005986, 0.0031888694502413273, 0.0015724729746580124, 0.0003675520420074463, 0.0005935291410423815, 0.9938335418701172, 0.0], [0.002814340637996793, 0.00029813899891451, 0.029003508388996124, 0.00038726849015802145, 0.0010315489489585161, 0.0007108205463737249, 0.9657543301582336]], [[1.0, 0.0, 0.0, 0.0, 0.0, 0.0, 0.0], [0.8683891296386719, 0.13161079585552216, 0.0, 0.0, 0.0, 0.0, 0.0], [0.7253559231758118, 0.07500729709863663, 0.199636772274971, 0.0, 0.0, 0.0, 0.0], [0.5454000234603882, 0.11762736737728119, 0.1401505470275879, 0.19682200253009796, 0.0, 0.0, 0.0], [0.4723702073097229, 0.06469137221574783, 0.2098526805639267, 0.07130218297243118, 0.18178357183933258, 0.0, 0.0], [0.4028722047805786, 0.18974369764328003, 0.1587744653224945, 0.058461401611566544, 0.1348818838596344, 0.05526641756296158, 0.0], [0.25818103551864624, 0.07186923921108246, 0.17896069586277008, 0.054034966975450516, 0.11967423558235168, 0.09927891939878464, 0.21800090372562408]], [[1.0, 0.0, 0.0, 0.0, 0.0, 0.0, 0.0], [0.10085217654705048, 0.8991478681564331, 0.0, 0.0, 0.0, 0.0, 0.0], [0.11257454752922058, 0.23791806399822235, 0.6495074033737183, 0.0, 0.0, 0.0, 0.0], [0.011593447998166084, 0.008779164403676987, 0.0008598334970884025, 0.9787675142288208, 0.0, 0.0, 0.0], [0.1032610833644867, 0.009112291969358921, 0.06602435559034348, 0.040423374623060226, 0.781178891658783, 0.0, 0.0], [0.018781591206789017, 0.000893938762601465, 0.00032478151842951775, 0.0011179798748344183, 0.0007439901819452643, 0.9781376123428345, 0.0], [0.011339560151100159, 0.0014666190836578608, 0.02000078186392784, 0.004183588549494743, 0.018216164782643318, 0.381243497133255, 0.5635497570037842]], [[1.0, 0.0, 0.0, 0.0, 0.0, 0.0, 0.0], [0.5855808258056641, 0.41441914439201355, 0.0, 0.0, 0.0, 0.0, 0.0], [0.46982836723327637, 0.4498851001262665, 0.08028647303581238, 0.0, 0.0, 0.0, 0.0], [0.05816035717725754, 0.029591938480734825, 0.012941903434693813, 0.8993057608604431, 0.0, 0.0, 0.0], [0.27875301241874695, 0.10300743579864502, 0.140374556183815, 0.19619934260845184, 0.28166571259498596, 0.0, 0.0], [0.08704893290996552, 0.029024414718151093, 0.007120355032384396, 0.01984052173793316, 0.0236529354006052, 0.8333129286766052, 0.0], [0.13836021721363068, 0.05012170225381851, 0.030692320317029953, 0.042543575167655945, 0.10610096156597137, 0.44603297114372253, 0.1861482858657837]], [[1.0, 0.0, 0.0, 0.0, 0.0, 0.0, 0.0], [0.015654997900128365, 0.984345018863678, 0.0, 0.0, 0.0, 0.0, 0.0], [0.2946454584598541, 0.0166802778840065, 0.68867427110672, 0.0, 0.0, 0.0, 0.0], [0.005388735793530941, 0.0002658957673702389, 3.2057034786703298e-06, 0.9943422079086304, 0.0, 0.0, 0.0], [0.06279320269823074, 0.0025286816526204348, 0.008256391622126102, 0.0017990494379773736, 0.9246227145195007, 0.0, 0.0], [0.012676320038735867, 0.00042538493289612234, 1.5866311514400877e-05, 1.6943969967542216e-05, 1.0554998880252242e-05, 0.9868549108505249, 0.0], [0.1354674994945526, 0.018466901034116745, 0.08034001290798187, 0.00909569300711155, 0.05447082594037056, 0.0100331399589777, 0.6921259164810181]], [[1.0, 0.0, 0.0, 0.0, 0.0, 0.0, 0.0], [0.8322588801383972, 0.1677410751581192, 0.0, 0.0, 0.0, 0.0, 0.0], [0.5581791400909424, 0.3989485800266266, 0.04287227243185043, 0.0, 0.0, 0.0, 0.0], [0.5991179943084717, 0.1900632232427597, 0.048218488693237305, 0.1626003086566925, 0.0, 0.0, 0.0], [0.23341059684753418, 0.31514519453048706, 0.03621315956115723, 0.36174482107162476, 0.05348622798919678, 0.0, 0.0], [0.23561318218708038, 0.3011317849159241, 0.06786010414361954, 0.14909358322620392, 0.05075807869434357, 0.19554321467876434, 0.0], [0.1320974975824356, 0.2150317132472992, 0.018463345244526863, 0.253653883934021, 0.050404999405145645, 0.31537970900535583, 0.014968816190958023]], [[1.0, 0.0, 0.0, 0.0, 0.0, 0.0, 0.0], [0.9682105183601379, 0.031789518892765045, 0.0, 0.0, 0.0, 0.0, 0.0], [0.44455087184906006, 0.4264022409915924, 0.12904688715934753, 0.0, 0.0, 0.0, 0.0], [0.4413532018661499, 0.1595708131790161, 0.320163756608963, 0.07891228049993515, 0.0, 0.0, 0.0], [0.22315382957458496, 0.10116855055093765, 0.15036524832248688, 0.2117251753807068, 0.3135871887207031, 0.0, 0.0], [0.2963557541370392, 0.06637290865182877, 0.14774954319000244, 0.044150855392217636, 0.2999880909919739, 0.14538289606571198, 0.0], [0.10849881917238235, 0.04476942494511604, 0.04730891436338425, 0.054846446961164474, 0.15085643529891968, 0.3145523965358734, 0.2791675627231598]], [[1.0, 0.0, 0.0, 0.0, 0.0, 0.0, 0.0], [0.9338104724884033, 0.06618951261043549, 0.0, 0.0, 0.0, 0.0, 0.0], [0.4898861050605774, 0.09544641524553299, 0.41466742753982544, 0.0, 0.0, 0.0, 0.0], [0.6063954830169678, 0.18167109787464142, 0.1604110598564148, 0.051522403955459595, 0.0, 0.0, 0.0], [0.2391057312488556, 0.043889403343200684, 0.21523116528987885, 0.02422989532351494, 0.4775438606739044, 0.0, 0.0], [0.3375810980796814, 0.15179693698883057, 0.2341744601726532, 0.06144622713327408, 0.18373620510101318, 0.03126506507396698, 0.0], [0.10227254033088684, 0.03923497721552849, 0.17055866122245789, 0.021894365549087524, 0.403022825717926, 0.02426043525338173, 0.23875625431537628]], [[1.0, 0.0, 0.0, 0.0, 0.0, 0.0, 0.0], [0.9522227048873901, 0.04777722433209419, 0.0, 0.0, 0.0, 0.0, 0.0], [0.6257582902908325, 0.1336679309606552, 0.24057376384735107, 0.0, 0.0, 0.0, 0.0], [0.6387471556663513, 0.1450461745262146, 0.19584250450134277, 0.020364075899124146, 0.0, 0.0, 0.0], [0.4161107838153839, 0.12823829054832458, 0.2118610143661499, 0.08162795752286911, 0.1621619611978531, 0.0, 0.0], [0.36565619707107544, 0.14471106231212616, 0.16890248656272888, 0.1256074458360672, 0.12854725122451782, 0.06657551229000092, 0.0], [0.31970900297164917, 0.09321216493844986, 0.15993453562259674, 0.0609622448682785, 0.12025731056928635, 0.0884510949254036, 0.15747366845607758]], [[1.0, 0.0, 0.0, 0.0, 0.0, 0.0, 0.0], [0.68226158618927, 0.31773841381073, 0.0, 0.0, 0.0, 0.0, 0.0], [0.5921040773391724, 0.086817666888237, 0.3210783004760742, 0.0, 0.0, 0.0, 0.0], [0.45075106620788574, 0.16472044587135315, 0.13464173674583435, 0.24988675117492676, 0.0, 0.0, 0.0], [0.40408188104629517, 0.07933679223060608, 0.19883346557617188, 0.04614774137735367, 0.27160006761550903, 0.0, 0.0], [0.2518935203552246, 0.18990550935268402, 0.15053190290927887, 0.061913225799798965, 0.08241689950227737, 0.2633388638496399, 0.0], [0.3019081652164459, 0.08568517118692398, 0.1686490774154663, 0.045591261237859726, 0.11051391810178757, 0.05337246134877205, 0.23427999019622803]], [[1.0, 0.0, 0.0, 0.0, 0.0, 0.0, 0.0], [0.7853988409042358, 0.21460118889808655, 0.0, 0.0, 0.0, 0.0, 0.0], [0.6743685007095337, 0.17268520593643188, 0.15294630825519562, 0.0, 0.0, 0.0, 0.0], [0.4248519241809845, 0.20742054283618927, 0.17825834453105927, 0.1894691288471222, 0.0, 0.0, 0.0], [0.4965234696865082, 0.09631599485874176, 0.10707885771989822, 0.09983670711517334, 0.20024490356445312, 0.0, 0.0], [0.4166928231716156, 0.060228459537029266, 0.15080295503139496, 0.08082076907157898, 0.09960409253835678, 0.191850945353508, 0.0], [0.29663926362991333, 0.06432903558015823, 0.08499143272638321, 0.07861700654029846, 0.10363154113292694, 0.18792814016342163, 0.183863565325737]]]]}\n",
       "    )\n",
       "    </script>"
      ],
      "text/plain": [
       "<circuitsvis.utils.render.RenderedHTML at 0x2b496a454490>"
      ]
     },
     "execution_count": 26,
     "metadata": {},
     "output_type": "execute_result"
    }
   ],
   "source": [
    "cv.attention.attention_patterns(\n",
    "    attention=attention.value[0],\n",
    "    tokens=[model.tokenizer.model.tokenizer.encode('The city of Paris is located in')]\n",
    ")"
   ]
  },
  {
   "cell_type": "code",
   "execution_count": 16,
   "id": "bb88127b-c4ab-4973-9d69-77e0fa0f7126",
   "metadata": {},
   "outputs": [
    {
     "data": {
      "text/plain": [
       "(torch.Size([1, 12, 7, 64]),)"
      ]
     },
     "execution_count": 16,
     "metadata": {},
     "output_type": "execute_result"
    }
   ],
   "source": [
    "attention.shape"
   ]
  },
  {
   "cell_type": "code",
   "execution_count": 11,
   "id": "12767c74-2520-4f13-bb3d-7f0fcfc9931f",
   "metadata": {},
   "outputs": [
    {
     "data": {
      "text/plain": [
       "(torch.Size([1, 12, 7, 7]),)"
      ]
     },
     "execution_count": 11,
     "metadata": {},
     "output_type": "execute_result"
    }
   ],
   "source": [
    "# attention = attention.value\n",
    "attention.shape"
   ]
  },
  {
   "cell_type": "code",
   "execution_count": null,
   "id": "02127237-6b63-4f37-9b6c-46ed50ac8f40",
   "metadata": {},
   "outputs": [],
   "source": []
  }
 ],
 "metadata": {
  "kernelspec": {
   "display_name": "Python 3 (ipykernel)",
   "language": "python",
   "name": "python3"
  },
  "language_info": {
   "codemirror_mode": {
    "name": "ipython",
    "version": 3
   },
   "file_extension": ".py",
   "mimetype": "text/x-python",
   "name": "python",
   "nbconvert_exporter": "python",
   "pygments_lexer": "ipython3",
   "version": "3.8.18"
  }
 },
 "nbformat": 4,
 "nbformat_minor": 5
}
