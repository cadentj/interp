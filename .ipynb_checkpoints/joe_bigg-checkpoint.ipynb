{
 "cells": [
  {
   "cell_type": "code",
   "execution_count": 1,
   "id": "cf2deb28-cb21-467e-81c2-fbbd71cfead5",
   "metadata": {},
   "outputs": [],
   "source": [
    "from nnsight import LanguageModel\n",
    "import torch as t\n",
    "from transformer_lens import FactoredMatrix\n",
    "import einops\n",
    "from tqdm import tqdm\n",
    "import plotly.express as px\n",
    "import numpy as np\n",
    "import plotly.graph_objects as go\n",
    "import torch.nn.functional as F\n",
    "from plotly_utils import imshow, hist, plot_comp_scores, plot_logit_attribution, plot_loss_difference\n",
    "from jaxtyping import Float\n",
    "from torch import Tensor"
   ]
  },
  {
   "cell_type": "code",
   "execution_count": 2,
   "id": "0f64a08e-cd16-4869-9f06-71532d59730d",
   "metadata": {},
   "outputs": [],
   "source": [
    "prompt = \"The best basketball player of all time is Michael Jordan. Michael Jordan plays the sport of \"\n",
    "\n",
    "device = t.device(\"cuda\" if t.cuda.is_available() else \"cpu\")"
   ]
  },
  {
   "cell_type": "code",
   "execution_count": 5,
   "id": "ecd9d972-c902-478c-8501-79fb9df1f391",
   "metadata": {},
   "outputs": [],
   "source": [
    "model = LanguageModel('EleutherAI/pythia-1B', device_map='cuda:0')"
   ]
  },
  {
   "cell_type": "code",
   "execution_count": 6,
   "id": "1049ad14-3614-4cb6-aabc-e5783d7b5b77",
   "metadata": {},
   "outputs": [
    {
     "name": "stdout",
     "output_type": "stream",
     "text": [
      "p( in) = 0.116\n",
      "p( basketball) = 0.097\n",
      "p( the) = 0.094\n",
      "p( for) = 0.090\n",
      "p( with) = 0.058\n",
      "p( a) = 0.056\n",
      "p( on) = 0.033\n",
      "p( his) = 0.028\n",
      "p( at) = 0.021\n",
      "p( defense) = 0.018\n"
     ]
    }
   ],
   "source": [
    "with model.forward(prompt) as invoker:\n",
    "    pass # no changes to make in the forward pass\n",
    "logits = invoker.output[0]\n",
    "logits = logits[0,-1,:] # only over the final token\n",
    "probs = logits.softmax(dim=-1)\n",
    "\n",
    "\n",
    "for tok, prob in zip(probs.topk(10).indices, probs.topk(10).values):\n",
    "    print(f\"p({model.tokenizer.decode(tok)}) = {prob:.3f}\")"
   ]
  }
 ],
 "metadata": {
  "kernelspec": {
   "display_name": "Python 3 (ipykernel)",
   "language": "python",
   "name": "python3"
  },
  "language_info": {
   "codemirror_mode": {
    "name": "ipython",
    "version": 3
   },
   "file_extension": ".py",
   "mimetype": "text/x-python",
   "name": "python",
   "nbconvert_exporter": "python",
   "pygments_lexer": "ipython3",
   "version": "3.8.18"
  }
 },
 "nbformat": 4,
 "nbformat_minor": 5
}
